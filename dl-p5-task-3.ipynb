{
 "cells": [
  {
   "cell_type": "markdown",
   "id": "9486df13",
   "metadata": {},
   "source": [
    "### Rishu Raj Singh (2023AIB2080)"
   ]
  },
  {
   "cell_type": "markdown",
   "id": "61036b2f",
   "metadata": {},
   "source": [
    "## Configuration 3"
   ]
  },
  {
   "cell_type": "code",
   "execution_count": 1,
   "id": "6d150eb5",
   "metadata": {
    "execution": {
     "iopub.execute_input": "2024-04-22T05:45:08.737477Z",
     "iopub.status.busy": "2024-04-22T05:45:08.737089Z",
     "iopub.status.idle": "2024-04-22T05:45:22.727055Z",
     "shell.execute_reply": "2024-04-22T05:45:22.725697Z"
    },
    "papermill": {
     "duration": 14.001264,
     "end_time": "2024-04-22T05:45:22.731056",
     "exception": false,
     "start_time": "2024-04-22T05:45:08.729792",
     "status": "completed"
    },
    "tags": []
   },
   "outputs": [
    {
     "name": "stdout",
     "output_type": "stream",
     "text": [
      "Collecting sacrebleu\r\n",
      "  Downloading sacrebleu-2.4.2-py3-none-any.whl.metadata (58 kB)\r\n",
      "\u001b[2K     \u001b[90m━━━━━━━━━━━━━━━━━━━━━━━━━━━━━━━━━━━━━━━━\u001b[0m \u001b[32m58.0/58.0 kB\u001b[0m \u001b[31m2.6 MB/s\u001b[0m eta \u001b[36m0:00:00\u001b[0m\r\n",
      "\u001b[?25hCollecting portalocker (from sacrebleu)\r\n",
      "  Downloading portalocker-2.8.2-py3-none-any.whl.metadata (8.5 kB)\r\n",
      "Requirement already satisfied: regex in /opt/conda/lib/python3.10/site-packages (from sacrebleu) (2023.12.25)\r\n",
      "Requirement already satisfied: tabulate>=0.8.9 in /opt/conda/lib/python3.10/site-packages (from sacrebleu) (0.9.0)\r\n",
      "Requirement already satisfied: numpy>=1.17 in /opt/conda/lib/python3.10/site-packages (from sacrebleu) (1.26.4)\r\n",
      "Requirement already satisfied: colorama in /opt/conda/lib/python3.10/site-packages (from sacrebleu) (0.4.6)\r\n",
      "Requirement already satisfied: lxml in /opt/conda/lib/python3.10/site-packages (from sacrebleu) (5.2.1)\r\n",
      "Downloading sacrebleu-2.4.2-py3-none-any.whl (106 kB)\r\n",
      "\u001b[2K   \u001b[90m━━━━━━━━━━━━━━━━━━━━━━━━━━━━━━━━━━━━━━━━\u001b[0m \u001b[32m106.7/106.7 kB\u001b[0m \u001b[31m5.2 MB/s\u001b[0m eta \u001b[36m0:00:00\u001b[0m\r\n",
      "\u001b[?25hDownloading portalocker-2.8.2-py3-none-any.whl (17 kB)\r\n",
      "Installing collected packages: portalocker, sacrebleu\r\n",
      "Successfully installed portalocker-2.8.2 sacrebleu-2.4.2\r\n"
     ]
    }
   ],
   "source": [
    "!pip install sacrebleu"
   ]
  },
  {
   "cell_type": "code",
   "execution_count": 2,
   "id": "651c0bca",
   "metadata": {
    "execution": {
     "iopub.execute_input": "2024-04-22T05:45:22.748838Z",
     "iopub.status.busy": "2024-04-22T05:45:22.748445Z",
     "iopub.status.idle": "2024-04-22T05:45:28.911645Z",
     "shell.execute_reply": "2024-04-22T05:45:28.910601Z"
    },
    "papermill": {
     "duration": 6.17508,
     "end_time": "2024-04-22T05:45:28.913652",
     "exception": false,
     "start_time": "2024-04-22T05:45:22.738572",
     "status": "completed"
    },
    "tags": []
   },
   "outputs": [
    {
     "name": "stdout",
     "output_type": "stream",
     "text": [
      "cuda\n"
     ]
    }
   ],
   "source": [
    "import math\n",
    "from dataclasses import dataclass\n",
    "import os\n",
    "import numpy as np\n",
    "import sacrebleu\n",
    "import torch\n",
    "import torch.nn as nn\n",
    "from torch.utils.data import Dataset\n",
    "from tqdm import tqdm\n",
    "import pandas\n",
    "torch.manual_seed(0)\n",
    "import random\n",
    "random.seed(0)\n",
    "import  pathlib\n",
    "import matplotlib.pyplot as plt\n",
    "from sklearn.model_selection import train_test_split\n",
    "from torchinfo import summary\n",
    "\n",
    "DEVICE = torch.device(\"cuda\" if torch.cuda.is_available() else \"cpu\")\n",
    "print(DEVICE)"
   ]
  },
  {
   "cell_type": "code",
   "execution_count": 3,
   "id": "f902ceaf",
   "metadata": {
    "execution": {
     "iopub.execute_input": "2024-04-22T05:45:28.927090Z",
     "iopub.status.busy": "2024-04-22T05:45:28.926644Z",
     "iopub.status.idle": "2024-04-22T05:45:28.931318Z",
     "shell.execute_reply": "2024-04-22T05:45:28.930496Z"
    },
    "papermill": {
     "duration": 0.013397,
     "end_time": "2024-04-22T05:45:28.933246",
     "exception": false,
     "start_time": "2024-04-22T05:45:28.919849",
     "status": "completed"
    },
    "tags": []
   },
   "outputs": [],
   "source": [
    "SRC = \"en\"\n",
    "TRG = \"fr\"\n",
    "en_vocab_size = 5000\n",
    "fr_vocab_size = 5000\n",
    "vocab_sizes = {\"en\": en_vocab_size, \"fr\": fr_vocab_size}\n",
    "max_seq_len = 70"
   ]
  },
  {
   "cell_type": "code",
   "execution_count": 4,
   "id": "94834c80",
   "metadata": {
    "execution": {
     "iopub.execute_input": "2024-04-22T05:45:28.946245Z",
     "iopub.status.busy": "2024-04-22T05:45:28.945971Z",
     "iopub.status.idle": "2024-04-22T05:45:29.477421Z",
     "shell.execute_reply": "2024-04-22T05:45:29.476598Z"
    },
    "papermill": {
     "duration": 0.540511,
     "end_time": "2024-04-22T05:45:29.479753",
     "exception": false,
     "start_time": "2024-04-22T05:45:28.939242",
     "status": "completed"
    },
    "tags": []
   },
   "outputs": [
    {
     "name": "stdout",
     "output_type": "stream",
     "text": [
      "110640 12294 52687\n"
     ]
    }
   ],
   "source": [
    "full_set = pandas.read_csv(\"/kaggle/input/dataset-2/eng_-french.csv\")\n",
    "\n",
    "temp_train_set, test_set = train_test_split(full_set, test_size=0.3, random_state=42)\n",
    "full_train_set, valid_set = train_test_split(temp_train_set, test_size=0.1, random_state=42)\n",
    "\n",
    "print(len(full_train_set), len(valid_set), len(test_set))"
   ]
  },
  {
   "cell_type": "code",
   "execution_count": 5,
   "id": "4f76d67f",
   "metadata": {
    "execution": {
     "iopub.execute_input": "2024-04-22T05:45:29.493421Z",
     "iopub.status.busy": "2024-04-22T05:45:29.493123Z",
     "iopub.status.idle": "2024-04-22T05:45:29.506971Z",
     "shell.execute_reply": "2024-04-22T05:45:29.506118Z"
    },
    "papermill": {
     "duration": 0.022856,
     "end_time": "2024-04-22T05:45:29.508918",
     "exception": false,
     "start_time": "2024-04-22T05:45:29.486062",
     "status": "completed"
    },
    "tags": []
   },
   "outputs": [
    {
     "data": {
      "text/html": [
       "<div>\n",
       "<style scoped>\n",
       "    .dataframe tbody tr th:only-of-type {\n",
       "        vertical-align: middle;\n",
       "    }\n",
       "\n",
       "    .dataframe tbody tr th {\n",
       "        vertical-align: top;\n",
       "    }\n",
       "\n",
       "    .dataframe thead th {\n",
       "        text-align: right;\n",
       "    }\n",
       "</style>\n",
       "<table border=\"1\" class=\"dataframe\">\n",
       "  <thead>\n",
       "    <tr style=\"text-align: right;\">\n",
       "      <th></th>\n",
       "      <th>English words/sentences</th>\n",
       "      <th>French words/sentences</th>\n",
       "    </tr>\n",
       "  </thead>\n",
       "  <tbody>\n",
       "    <tr>\n",
       "      <th>1660</th>\n",
       "      <td>That hurts.</td>\n",
       "      <td>Ça fait mal.</td>\n",
       "    </tr>\n",
       "    <tr>\n",
       "      <th>89279</th>\n",
       "      <td>I can't function without you.</td>\n",
       "      <td>Je n'arrive pas à fonctionner sans toi.</td>\n",
       "    </tr>\n",
       "    <tr>\n",
       "      <th>144858</th>\n",
       "      <td>Let's talk about what you did in Boston.</td>\n",
       "      <td>Parlons de ce que tu as fait à Boston.</td>\n",
       "    </tr>\n",
       "  </tbody>\n",
       "</table>\n",
       "</div>"
      ],
      "text/plain": [
       "                         English words/sentences  \\\n",
       "1660                                 That hurts.   \n",
       "89279              I can't function without you.   \n",
       "144858  Let's talk about what you did in Boston.   \n",
       "\n",
       "                         French words/sentences  \n",
       "1660                               Ça fait mal.  \n",
       "89279   Je n'arrive pas à fonctionner sans toi.  \n",
       "144858   Parlons de ce que tu as fait à Boston.  "
      ]
     },
     "execution_count": 5,
     "metadata": {},
     "output_type": "execute_result"
    }
   ],
   "source": [
    "full_train_set.head(3)"
   ]
  },
  {
   "cell_type": "code",
   "execution_count": 6,
   "id": "ac2bb3ea",
   "metadata": {
    "execution": {
     "iopub.execute_input": "2024-04-22T05:45:29.522625Z",
     "iopub.status.busy": "2024-04-22T05:45:29.522341Z",
     "iopub.status.idle": "2024-04-22T05:45:29.580738Z",
     "shell.execute_reply": "2024-04-22T05:45:29.580082Z"
    },
    "papermill": {
     "duration": 0.06752,
     "end_time": "2024-04-22T05:45:29.582696",
     "exception": false,
     "start_time": "2024-04-22T05:45:29.515176",
     "status": "completed"
    },
    "tags": []
   },
   "outputs": [],
   "source": [
    "from tokenizers import Tokenizer, models, pre_tokenizers, trainers, decoders\n",
    "\n",
    "# This library has been used only for tokenization purpose because French sentences contains \n",
    "# distinct type of character which is diificult to capture normally.\n",
    "\n",
    "def get_tokenizers(dataset, train_set_size):\n",
    "    en_sentences = dataset['English words/sentences'].iloc[:train_set_size].tolist()\n",
    "    fr_sentences = dataset['French words/sentences'].iloc[:train_set_size].tolist()\n",
    "\n",
    "    # Write English and French sentences to temporary files\n",
    "    en_file = 'temp_en_sentences.txt'\n",
    "    fr_file = 'temp_fr_sentences.txt'\n",
    "    with open(en_file, 'w', encoding='utf-8') as f_en, open(fr_file, 'w', encoding='utf-8') as f_fr:\n",
    "        for en_sent, fr_sent in zip(en_sentences, fr_sentences):\n",
    "            f_en.write(en_sent + '\\n')\n",
    "            f_fr.write(fr_sent + '\\n')\n",
    "\n",
    "    # Initialize a tokenizer\n",
    "    en_tokenizer = Tokenizer(models.BPE())\n",
    "    fr_tokenizer = Tokenizer(models.BPE())\n",
    "\n",
    "    # Customize pre-tokenization and decoding\n",
    "    en_tokenizer.pre_tokenizer = pre_tokenizers.Whitespace()\n",
    "    fr_tokenizer.pre_tokenizer = pre_tokenizers.Whitespace()\n",
    "    en_tokenizer.decoder = decoders.BPEDecoder()\n",
    "    fr_tokenizer.decoder = decoders.BPEDecoder()\n",
    "\n",
    "    en_tokenizer.train([en_file], trainer=trainers.BpeTrainer(vocab_size=en_vocab_size, special_tokens=[\"<pad>\"]))\n",
    "    fr_tokenizer.train([fr_file], trainer=trainers.BpeTrainer(vocab_size=fr_vocab_size, special_tokens=[\"<pad>\"]))\n",
    "\n",
    "    # Define the tokenization and detokenization functions\n",
    "    tokenizers = {\"en\": lambda sent: en_tokenizer.encode(sent).ids, \"fr\": lambda sent: fr_tokenizer.encode(sent).ids}\n",
    "    detokenizers = {\"en\": lambda ids: ' '.join([en_tokenizer.id_to_token(id) for id in ids]), \n",
    "                    \"fr\": lambda ids: ' '.join([fr_tokenizer.id_to_token(id) for id in ids])}\n",
    "    # Cleanup temporary files\n",
    "    os.remove(en_file)\n",
    "    os.remove(fr_file)\n",
    "\n",
    "    return tokenizers, detokenizers\n"
   ]
  },
  {
   "cell_type": "code",
   "execution_count": 7,
   "id": "5caf668d",
   "metadata": {
    "execution": {
     "iopub.execute_input": "2024-04-22T05:45:29.596582Z",
     "iopub.status.busy": "2024-04-22T05:45:29.596293Z",
     "iopub.status.idle": "2024-04-22T05:45:30.952766Z",
     "shell.execute_reply": "2024-04-22T05:45:30.951714Z"
    },
    "papermill": {
     "duration": 1.365676,
     "end_time": "2024-04-22T05:45:30.954860",
     "exception": false,
     "start_time": "2024-04-22T05:45:29.589184",
     "status": "completed"
    },
    "tags": []
   },
   "outputs": [
    {
     "name": "stdout",
     "output_type": "stream",
     "text": [
      "\n",
      "\n",
      "\n",
      "\n",
      "\n",
      "\n",
      "[645, 238, 106, 10, 167, 63, 6, 488, 25]\n",
      "[238, 114, 32, 274, 23]\n"
     ]
    }
   ],
   "source": [
    "tokenizers, detokenizers = get_tokenizers(full_train_set, len(full_set))\n",
    "print(tokenizers['fr'](\"De quoi ai-je l'air ?\"))\n",
    "print(tokenizers['en']('How do I look?'))\n",
    "\n",
    "# indexes of special symbols\n",
    "UNK, BOS, EOS, PAD = 0, 1, 2, 3"
   ]
  },
  {
   "cell_type": "code",
   "execution_count": 8,
   "id": "ae1671ff",
   "metadata": {
    "execution": {
     "iopub.execute_input": "2024-04-22T05:45:30.970535Z",
     "iopub.status.busy": "2024-04-22T05:45:30.970211Z",
     "iopub.status.idle": "2024-04-22T05:45:30.980713Z",
     "shell.execute_reply": "2024-04-22T05:45:30.979990Z"
    },
    "papermill": {
     "duration": 0.020554,
     "end_time": "2024-04-22T05:45:30.982605",
     "exception": false,
     "start_time": "2024-04-22T05:45:30.962051",
     "status": "completed"
    },
    "tags": []
   },
   "outputs": [],
   "source": [
    "def tokenize_dataset(dataset):\n",
    "    \"\"\"\n",
    "    Tokenize a dataset and add [BOS] and [EOS] to the beginning and end of the sentences.\n",
    "    \"\"\"\n",
    "    if SRC == \"en\":\n",
    "        return [(torch.tensor([BOS]+tokenizers[SRC](src_text)[0:max_seq_len-2]+[EOS]),\n",
    "                 torch.tensor([BOS]+tokenizers[TRG](trg_text)[0:max_seq_len-2]+[EOS]))\n",
    "                 for src_text, trg_text in dataset]\n",
    "    else:\n",
    "        return [(torch.tensor([BOS]+tokenizers[SRC](src_text)[0:max_seq_len-2]+[EOS]),\n",
    "                 torch.tensor([BOS]+tokenizers[TRG](trg_text)[0:max_seq_len-2]+[EOS]))\n",
    "                 for trg_text, src_text in dataset]\n",
    "    \n",
    "\n",
    "class TranslationDataset(Dataset):\n",
    "    'create a dataset for torch.utils.data.DataLoader() '\n",
    "    def __init__(self, data):\n",
    "        self.data = data\n",
    "\n",
    "    def __len__(self):\n",
    "        return len(self.data)\n",
    "\n",
    "    def __getitem__(self, idx):\n",
    "        return self.data[idx]\n",
    "\n",
    "\n",
    "def pad_sequence(batch):\n",
    "    'collate function for padding sentences such that all \\\n",
    "    the sentences in the batch have the same length'\n",
    "    src_seqs  = [src for src, trg in batch]\n",
    "    trg_seqs  = [trg for src, trg in batch]\n",
    "    src_padded = torch.nn.utils.rnn.pad_sequence(src_seqs,\n",
    "                                batch_first=True, padding_value = PAD)\n",
    "    trg_padded = torch.nn.utils.rnn.pad_sequence(trg_seqs,\n",
    "                                batch_first=True, padding_value = PAD)\n",
    "    return src_padded, trg_padded"
   ]
  },
  {
   "cell_type": "code",
   "execution_count": 9,
   "id": "383993c2",
   "metadata": {
    "execution": {
     "iopub.execute_input": "2024-04-22T05:45:30.997363Z",
     "iopub.status.busy": "2024-04-22T05:45:30.997078Z",
     "iopub.status.idle": "2024-04-22T05:45:31.005236Z",
     "shell.execute_reply": "2024-04-22T05:45:31.004456Z"
    },
    "papermill": {
     "duration": 0.01753,
     "end_time": "2024-04-22T05:45:31.007003",
     "exception": false,
     "start_time": "2024-04-22T05:45:30.989473",
     "status": "completed"
    },
    "tags": []
   },
   "outputs": [],
   "source": [
    "batch_size = 16\n",
    "\n",
    "class Dataloaders:\n",
    "    'Dataloaders contains train_loader, test_loader and valid_loader for training and evaluation '\n",
    "    def __init__(self):\n",
    "        # train_set = list(full_train_set)[0:train_set_size]\n",
    "        train_set_1 = [(row['English words/sentences'], row['French words/sentences']) for index, row in full_train_set.iterrows()]\n",
    "        valid_set_1 = [(row['English words/sentences'], row['French words/sentences']) for index, row in valid_set.iterrows()]\n",
    "        test_set_1 = [(row['English words/sentences'], row['French words/sentences']) for index, row in test_set.iterrows()]\n",
    "        # print(train_set)\n",
    "        train_dataset = TranslationDataset(tokenize_dataset(train_set_1))\n",
    "        valid_dataset = TranslationDataset(tokenize_dataset(valid_set_1))\n",
    "        test_dataset  = TranslationDataset(tokenize_dataset(test_set_1))\n",
    "\n",
    "        # each batch returned by dataloader will be padded such that all the texts in\n",
    "        # that batch have the same length as the longest text in that batch\n",
    "        self.train_loader = torch.utils.data.DataLoader(train_dataset, batch_size=batch_size,\n",
    "                                                shuffle=True, collate_fn = pad_sequence)\n",
    "\n",
    "        self.test_loader = torch.utils.data.DataLoader(test_dataset, batch_size=batch_size,\n",
    "                                                shuffle=True, collate_fn=pad_sequence)\n",
    "\n",
    "        self.valid_loader = torch.utils.data.DataLoader(valid_dataset, batch_size=batch_size,\n",
    "                                                shuffle=True, collate_fn=pad_sequence)"
   ]
  },
  {
   "cell_type": "code",
   "execution_count": 10,
   "id": "65838f82",
   "metadata": {
    "execution": {
     "iopub.execute_input": "2024-04-22T05:45:31.022670Z",
     "iopub.status.busy": "2024-04-22T05:45:31.022409Z",
     "iopub.status.idle": "2024-04-22T05:45:31.060526Z",
     "shell.execute_reply": "2024-04-22T05:45:31.059726Z"
    },
    "papermill": {
     "duration": 0.048443,
     "end_time": "2024-04-22T05:45:31.062420",
     "exception": false,
     "start_time": "2024-04-22T05:45:31.013977",
     "status": "completed"
    },
    "tags": []
   },
   "outputs": [],
   "source": [
    "class MultiHeadedAttention(nn.Module):\n",
    "    def __init__(self, h, d_embed, dropout=0.0):\n",
    "        super(MultiHeadedAttention, self).__init__()\n",
    "        assert d_embed % h == 0 # check the h number\n",
    "        self.d_k = d_embed//h\n",
    "        self.d_embed = d_embed\n",
    "        self.h = h\n",
    "        self.WQ = nn.Linear(d_embed, d_embed)\n",
    "        self.WK = nn.Linear(d_embed, d_embed)\n",
    "        self.WV = nn.Linear(d_embed, d_embed)\n",
    "        self.linear = nn.Linear(d_embed, d_embed)\n",
    "        self.dropout = nn.Dropout(dropout)\n",
    "\n",
    "    def forward(self, x_query, x_key, x_value, mask=None):\n",
    "        nbatch = x_query.size(0) # get batch size\n",
    "        # 1) Linear projections to get the multi-head query, key and value tensors\n",
    "        # x_query, x_key, x_value dimension: nbatch * seq_len * d_embed\n",
    "        # LHS query, key, value dimensions: nbatch * h * seq_len * d_k\n",
    "        query = self.WQ(x_query).view(nbatch, -1, self.h, self.d_k).transpose(1,2)\n",
    "        key   = self.WK(x_key).view(nbatch, -1, self.h, self.d_k).transpose(1,2)\n",
    "        value = self.WV(x_value).view(nbatch, -1, self.h, self.d_k).transpose(1,2)\n",
    "        # 2) Attention\n",
    "        # scores has dimensions: nbatch * h * seq_len * seq_len\n",
    "        scores = torch.matmul(query, key.transpose(-2, -1))/math.sqrt(self.d_k)\n",
    "        # 3) Mask out padding tokens and future tokens\n",
    "        if mask is not None:\n",
    "            scores = scores.masked_fill(mask, float('-inf'))\n",
    "        # p_atten dimensions: nbatch * h * seq_len * seq_len\n",
    "        p_atten = torch.nn.functional.softmax(scores, dim=-1)\n",
    "        p_atten = self.dropout(p_atten)\n",
    "        # x dimensions: nbatch * h * seq_len * d_k\n",
    "        x = torch.matmul(p_atten, value)\n",
    "        # x now has dimensions:nbtach * seq_len * d_embed\n",
    "        x = x.transpose(1, 2).contiguous().view(nbatch, -1, self.d_embed)\n",
    "        return self.linear(x) # final linear layer\n",
    "\n",
    "\n",
    "class ResidualConnection(nn.Module):\n",
    "    '''residual connection: x + dropout(sublayer(layernorm(x))) '''\n",
    "    def __init__(self, dim, dropout):\n",
    "        super().__init__()\n",
    "        self.drop = nn.Dropout(dropout)\n",
    "        self.norm = nn.LayerNorm(dim)\n",
    "\n",
    "    def forward(self, x, sublayer):\n",
    "        return x + self.drop(sublayer(self.norm(x)))\n",
    "\n",
    "\n",
    "class PositionalEncoding(nn.Module):\n",
    "    def __init__(self, d_embed, max_seq_len=5000):\n",
    "        super(PositionalEncoding, self).__init__()\n",
    "        self.d_embed = d_embed\n",
    "        # Compute the positional encodings in log space\n",
    "        pe = torch.zeros(max_seq_len, d_embed)\n",
    "        position = torch.arange(0, max_seq_len, dtype=torch.float).unsqueeze(1)\n",
    "        div_term = torch.exp(torch.arange(0, d_embed, 2).float() * (-math.log(10000.0) / d_embed))\n",
    "        pe[:, 0::2] = torch.sin(position * div_term)\n",
    "        pe[:, 1::2] = torch.cos(position * div_term)\n",
    "        pe = pe.unsqueeze(0)  # Add batch dimension\n",
    "        self.register_buffer('pe', pe)\n",
    "\n",
    "    def forward(self, x):\n",
    "        # Add positional encodings to the input embeddings\n",
    "        return x + self.pe[:, :x.size(1), :]\n",
    "\n",
    "\n",
    "class Encoder(nn.Module):\n",
    "    '''Encoder = token embedding + positional embedding -> a stack of N EncoderBlock -> layer norm'''\n",
    "    def __init__(self, config):\n",
    "        super().__init__()\n",
    "        self.d_embed = config.d_embed\n",
    "        self.tok_embed = nn.Embedding(config.encoder_vocab_size, config.d_embed) \n",
    "        self.pos_embed = PositionalEncoding(config.d_embed, config.max_seq_len)\n",
    "        # self.pos_embed = nn.Parameter(torch.zeros(1, config.max_seq_len, config.d_embed))\n",
    "        self.encoder_blocks = nn.ModuleList([EncoderBlock(config) for _ in range(config.N_encoder)])\n",
    "        self.dropout = nn.Dropout(config.dropout)\n",
    "        self.norm = nn.LayerNorm(config.d_embed)\n",
    "\n",
    "    def forward(self, input, mask=None):\n",
    "        x = self.tok_embed(input)\n",
    "        x = self.pos_embed(x)\n",
    "        x = self.dropout(x)\n",
    "        for layer in self.encoder_blocks:\n",
    "            x = layer(x, mask)\n",
    "        return self.norm(x)\n",
    "\n",
    "\n",
    "\n",
    "class EncoderBlock(nn.Module):\n",
    "    '''EncoderBlock: self-attention -> position-wise fully connected feed-forward layer'''\n",
    "    def __init__(self, config):\n",
    "        super(EncoderBlock, self).__init__()\n",
    "        self.atten = MultiHeadedAttention(config.h, config.d_embed, config.dropout)\n",
    "        self.feed_forward = nn.Sequential(\n",
    "            nn.Linear(config.d_embed, config.d_ff),\n",
    "            nn.ReLU(),\n",
    "            nn.Dropout(config.dropout),\n",
    "            nn.Linear(config.d_ff, config.d_embed)\n",
    "        )\n",
    "        self.residual1 = ResidualConnection(config.d_embed, config.dropout)\n",
    "        self.residual2 = ResidualConnection(config.d_embed, config.dropout)\n",
    "\n",
    "    def forward(self, x, mask=None):\n",
    "        # self-attention\n",
    "        x = self.residual1(x, lambda x: self.atten(x, x, x, mask=mask))\n",
    "        # position-wise fully connected feed-forward layer\n",
    "        return self.residual2(x, self.feed_forward)\n",
    "\n",
    "\n",
    "class Decoder(nn.Module):\n",
    "    '''Decoder = token embedding + positional embedding -> a stack of N DecoderBlock -> fully-connected layer'''\n",
    "    def __init__(self, config):\n",
    "        super().__init__()\n",
    "        self.d_embed = config.d_embed\n",
    "        self.tok_embed = nn.Embedding(config.decoder_vocab_size, config.d_embed)\n",
    "        self.pos_embed = PositionalEncoding(config.d_embed, config.max_seq_len)\n",
    "        # self.pos_embed = nn.Parameter(torch.zeros(1, config.max_seq_len, config.d_embed)) \n",
    "        self.dropout = nn.Dropout(config.dropout)\n",
    "        self.decoder_blocks = nn.ModuleList([DecoderBlock(config) for _ in range(config.N_decoder)])\n",
    "        self.norm = nn.LayerNorm(config.d_embed)\n",
    "        self.linear = nn.Linear(config.d_embed, config.decoder_vocab_size)\n",
    "    \n",
    "    def future_mask(self, seq_len):\n",
    "        '''mask out tokens at future positions'''\n",
    "        mask = (torch.triu(torch.ones(seq_len, seq_len, requires_grad=False), diagonal=1)!=0).to(DEVICE)\n",
    "        return mask.view(1, 1, seq_len, seq_len)\n",
    "\n",
    "    def forward(self, memory, src_mask, trg, trg_pad_mask):\n",
    "        seq_len = trg.size(1)\n",
    "        trg_mask = torch.logical_or(trg_pad_mask, self.future_mask(seq_len))\n",
    "        x = self.tok_embed(trg)\n",
    "        x = self.pos_embed(x)\n",
    "        x = self.dropout(x)\n",
    "        for layer in self.decoder_blocks:\n",
    "            x = layer(memory, src_mask, x, trg_mask)\n",
    "        x = self.norm(x)\n",
    "        logits = self.linear(x)\n",
    "        return logits\n",
    "\n",
    "\n",
    "class DecoderBlock(nn.Module):\n",
    "    ''' EncoderBlock: self-attention -> position-wise feed-forward (fully connected) layer'''\n",
    "    def __init__(self, config):\n",
    "        super().__init__()\n",
    "        self.atten1 = MultiHeadedAttention(config.h, config.d_embed)\n",
    "        self.atten2 = MultiHeadedAttention(config.h, config.d_embed)\n",
    "        self.feed_forward = nn.Sequential(\n",
    "            nn.Linear(config.d_embed, config.d_ff),\n",
    "            nn.ReLU(),\n",
    "            nn.Dropout(config.dropout),\n",
    "            nn.Linear(config.d_ff, config.d_embed)\n",
    "        )\n",
    "        self.residuals = nn.ModuleList([ResidualConnection(config.d_embed, config.dropout) \n",
    "                                       for i in range(3)])\n",
    "\n",
    "    def forward(self, memory, src_mask, decoder_layer_input, trg_mask):\n",
    "        x = memory\n",
    "        y = decoder_layer_input\n",
    "        y = self.residuals[0](y, lambda y: self.atten1(y, y, y, mask=trg_mask))\n",
    "        # keys and values are from the encoder output\n",
    "        y = self.residuals[1](y, lambda y: self.atten2(y, x, x, mask=src_mask))\n",
    "        return self.residuals[2](y, self.feed_forward)\n",
    "\n",
    "\n",
    "class Transformer(nn.Module):\n",
    "    def __init__(self, encoder, decoder):\n",
    "        super().__init__()\n",
    "        self.encoder = encoder\n",
    "        self.decoder = decoder\n",
    "\n",
    "    def forward(self, src, src_mask, trg, trg_pad_mask):\n",
    "        return self.decoder(self.encoder(src, src_mask), src_mask, trg, trg_pad_mask)\n"
   ]
  },
  {
   "cell_type": "code",
   "execution_count": 11,
   "id": "31df3e92",
   "metadata": {
    "execution": {
     "iopub.execute_input": "2024-04-22T05:45:31.078229Z",
     "iopub.status.busy": "2024-04-22T05:45:31.077951Z",
     "iopub.status.idle": "2024-04-22T05:45:31.087538Z",
     "shell.execute_reply": "2024-04-22T05:45:31.086715Z"
    },
    "papermill": {
     "duration": 0.019837,
     "end_time": "2024-04-22T05:45:31.089592",
     "exception": false,
     "start_time": "2024-04-22T05:45:31.069755",
     "status": "completed"
    },
    "tags": []
   },
   "outputs": [],
   "source": [
    "@dataclass\n",
    "class ModelConfig:\n",
    "    encoder_vocab_size: int\n",
    "    decoder_vocab_size: int\n",
    "    d_embed: int\n",
    "    # d_ff is the dimension of the fully-connected  feed-forward layer\n",
    "    d_ff: int\n",
    "    # h is the number of attention head\n",
    "    h: int\n",
    "    N_encoder: int\n",
    "    N_decoder: int\n",
    "    max_seq_len: int\n",
    "    dropout: float\n",
    "\n",
    "def make_model(config):\n",
    "    model = Transformer(Encoder(config), Decoder(config)).to(DEVICE)\n",
    "\n",
    "    # initialize model parameters\n",
    "    # it seems that this initialization is very important!\n",
    "    for p in model.parameters():\n",
    "            if p.dim() > 1:\n",
    "                nn.init.xavier_uniform_(p)\n",
    "    return model\n",
    "\n",
    "def make_batch_input(x, y):\n",
    "        src = x.to(DEVICE)\n",
    "        trg_in = y[:, :-1].to(DEVICE)\n",
    "        trg_out = y[:, 1:].contiguous().view(-1).to(DEVICE)\n",
    "        src_pad_mask = (src == PAD).view(src.size(0), 1, 1, src.size(-1))\n",
    "        trg_pad_mask = (trg_in == PAD).view(trg_in.size(0), 1, 1, trg_in.size(-1))\n",
    "        return src, trg_in, trg_out, src_pad_mask, trg_pad_mask"
   ]
  },
  {
   "cell_type": "code",
   "execution_count": 12,
   "id": "25b64666",
   "metadata": {
    "execution": {
     "iopub.execute_input": "2024-04-22T05:45:31.105299Z",
     "iopub.status.busy": "2024-04-22T05:45:31.105030Z",
     "iopub.status.idle": "2024-04-22T05:45:31.119769Z",
     "shell.execute_reply": "2024-04-22T05:45:31.118943Z"
    },
    "papermill": {
     "duration": 0.02463,
     "end_time": "2024-04-22T05:45:31.121855",
     "exception": false,
     "start_time": "2024-04-22T05:45:31.097225",
     "status": "completed"
    },
    "tags": []
   },
   "outputs": [],
   "source": [
    "def translate(model, x):\n",
    "    'translate source sentences into the target language, without looking at the answer'\n",
    "    with torch.no_grad():\n",
    "        dB = x.size(0)\n",
    "        y = torch.tensor([[BOS]*dB]).view(dB, 1).to(DEVICE)\n",
    "        x_pad_mask = (x == PAD).view(x.size(0), 1, 1, x.size(-1)).to(DEVICE)\n",
    "        memory = model.encoder(x, x_pad_mask)\n",
    "        for i in range(max_seq_len):\n",
    "            y_pad_mask = (y == PAD).view(y.size(0), 1, 1, y.size(-1)).to(DEVICE)\n",
    "            logits = model.decoder(memory, x_pad_mask, y, y_pad_mask)\n",
    "            last_output = logits.argmax(-1)[:, -1]\n",
    "            last_output = last_output.view(dB, 1)\n",
    "            y = torch.cat((y, last_output), 1).to(DEVICE)\n",
    "    return y\n",
    "\n",
    "def remove_pad(sent):\n",
    "    '''truncate the sentence if BOS is in it,\n",
    "     otherwise simply remove the padding tokens at the end'''\n",
    "    if sent.count(EOS)>0:\n",
    "      sent = sent[0:sent.index(EOS)+1]\n",
    "    while sent and sent[-1] == PAD:\n",
    "            sent = sent[:-1]\n",
    "    return sent\n",
    "\n",
    "def decode_sentence(detokenizer, sentence_ids):\n",
    "    'convert a tokenized sentence (a list of numbers) to a literal string'\n",
    "    if not isinstance(sentence_ids, list):\n",
    "        sentence_ids = sentence_ids.tolist()\n",
    "    sentence_ids = remove_pad(sentence_ids)\n",
    "    return detokenizer(sentence_ids).replace(\"<bos>\", \"\")\\\n",
    "           .replace(\"<eos>\", \"\").strip().replace(\" .\", \".\")\n",
    "\n",
    "def evaluate(model, dataloader, num_batch=None):\n",
    "    'evaluate the model, and compute the BLEU score'\n",
    "    model.eval()\n",
    "    refs, cans, bleus = [], [], []\n",
    "    with torch.no_grad():\n",
    "        for idx, (x, y) in enumerate(dataloader):\n",
    "            src, trg_in, trg_out, src_pad_mask, trg_pad_mask = make_batch_input(x,y)\n",
    "            translation = translate(model, src)\n",
    "            trg_out = trg_out.view(x.size(0), -1)\n",
    "            refs = refs + [decode_sentence(detokenizers[TRG], trg_out[i]) for i in range(len(src))]\n",
    "            cans = cans + [decode_sentence(detokenizers[TRG], translation[i]) for i in range(len(src))]\n",
    "            if num_batch and idx>=num_batch:\n",
    "                break\n",
    "        bleus.append(sacrebleu.corpus_bleu(cans, [refs]).score)\n",
    "        # print some examples\n",
    "        for i in range(3):\n",
    "            print(f'src:  {decode_sentence(detokenizers[SRC], src[i])}')\n",
    "            print(f'trg:  {decode_sentence(detokenizers[TRG], trg_out[i])}')\n",
    "            print(f'pred: {decode_sentence(detokenizers[TRG], translation[i])}')\n",
    "        return np.mean(bleus)"
   ]
  },
  {
   "cell_type": "code",
   "execution_count": 13,
   "id": "648b1530",
   "metadata": {
    "execution": {
     "iopub.execute_input": "2024-04-22T05:45:31.138005Z",
     "iopub.status.busy": "2024-04-22T05:45:31.137723Z",
     "iopub.status.idle": "2024-04-22T05:45:31.150726Z",
     "shell.execute_reply": "2024-04-22T05:45:31.149808Z"
    },
    "papermill": {
     "duration": 0.023649,
     "end_time": "2024-04-22T05:45:31.152579",
     "exception": false,
     "start_time": "2024-04-22T05:45:31.128930",
     "status": "completed"
    },
    "tags": []
   },
   "outputs": [],
   "source": [
    "def train_epoch(model, dataloaders):\n",
    "    model.train()\n",
    "    grad_norm_clip = 1.0\n",
    "    losses = []\n",
    "    num_batches = len(dataloaders.train_loader)\n",
    "    pbar = tqdm(enumerate(dataloaders.train_loader), total=num_batches)\n",
    "    for idx, (x, y) in pbar:\n",
    "        optimizer.zero_grad()\n",
    "        src, trg_in, trg_out, src_pad_mask, trg_pad_mask = make_batch_input(x, y)\n",
    "        pred = model(src, src_pad_mask, trg_in, trg_pad_mask).to(DEVICE)\n",
    "        pred = pred.view(-1, pred.size(-1))\n",
    "        loss = loss_fn(pred, trg_out).to(DEVICE)\n",
    "        loss.backward()\n",
    "        torch.nn.utils.clip_grad_norm_(model.parameters(), grad_norm_clip)\n",
    "        optimizer.step()\n",
    "        losses.append(loss.item())\n",
    "        # report progress\n",
    "        if idx > 0 and idx % 50 == 0:\n",
    "            pbar.set_description(f'train loss={loss.item():.3f}')\n",
    "    return np.mean(losses)\n",
    "\n",
    "\n",
    "def validate(model, dataloder):\n",
    "    'compute the validation loss'\n",
    "    model.eval()\n",
    "    losses = []\n",
    "    with torch.no_grad():\n",
    "        for i, (x, y) in enumerate(dataloder):\n",
    "            src, trg_in, trg_out, src_pad_mask, trg_pad_mask = make_batch_input(x,y)\n",
    "            pred = model(src, src_pad_mask, trg_in, trg_pad_mask).to(DEVICE)\n",
    "            pred = pred.view(-1, pred.size(-1))\n",
    "            losses.append(loss_fn(pred, trg_out).item())\n",
    "    return np.mean(losses)\n",
    "\n",
    "def compute_accuracy(model, dataloader):\n",
    "    'compute the validation accuracy'\n",
    "    model.eval()\n",
    "    total_correct = 0\n",
    "    total_samples = 0\n",
    "    with torch.no_grad():\n",
    "        for i, (x, y) in enumerate(dataloader):\n",
    "            src, trg_in, trg_out, src_pad_mask, trg_pad_mask = make_batch_input(x, y)\n",
    "            pred = model(src, src_pad_mask, trg_in, trg_pad_mask).to(DEVICE)\n",
    "            pred = torch.argmax(pred, dim=-1)  # Get the indices of the maximum value along the last dimension\n",
    "            # Flatten trg_out to match pred for comparison\n",
    "            trg_out_flat = trg_out.view(-1)\n",
    "            correct = (pred.view(-1) == trg_out_flat).sum().item()\n",
    "            total_correct += correct\n",
    "            total_samples += trg_out_flat.size(0)\n",
    "    accuracy = total_correct / total_samples\n",
    "    return accuracy"
   ]
  },
  {
   "cell_type": "code",
   "execution_count": 14,
   "id": "af9f66c1",
   "metadata": {
    "execution": {
     "iopub.execute_input": "2024-04-22T05:45:31.167932Z",
     "iopub.status.busy": "2024-04-22T05:45:31.167629Z",
     "iopub.status.idle": "2024-04-22T16:41:07.920042Z",
     "shell.execute_reply": "2024-04-22T16:41:07.918969Z"
    },
    "papermill": {
     "duration": 39345.712546,
     "end_time": "2024-04-22T16:41:16.872346",
     "exception": false,
     "start_time": "2024-04-22T05:45:31.159800",
     "status": "completed"
    },
    "tags": []
   },
   "outputs": [
    {
     "name": "stderr",
     "output_type": "stream",
     "text": [
      "train loss=2.388: 100%|██████████| 6915/6915 [03:04<00:00, 37.52it/s]\n"
     ]
    },
    {
     "name": "stdout",
     "output_type": "stream",
     "text": [
      "ep:1 train_loss=2.75641, valid_loss=2.19235, valid_accuracy=0.64278\n"
     ]
    },
    {
     "name": "stderr",
     "output_type": "stream",
     "text": [
      "train loss=2.350: 100%|██████████| 6915/6915 [03:03<00:00, 37.59it/s]\n"
     ]
    },
    {
     "name": "stdout",
     "output_type": "stream",
     "text": [
      "ep:2 train_loss=2.10771, valid_loss=1.91195, valid_accuracy=0.67886\n"
     ]
    },
    {
     "name": "stderr",
     "output_type": "stream",
     "text": [
      "train loss=1.785: 100%|██████████| 6915/6915 [03:03<00:00, 37.77it/s]\n"
     ]
    },
    {
     "name": "stdout",
     "output_type": "stream",
     "text": [
      "ep:3 train_loss=1.86602, valid_loss=1.69735, valid_accuracy=0.70197\n"
     ]
    },
    {
     "name": "stderr",
     "output_type": "stream",
     "text": [
      "train loss=1.569: 100%|██████████| 6915/6915 [03:06<00:00, 37.06it/s]\n"
     ]
    },
    {
     "name": "stdout",
     "output_type": "stream",
     "text": [
      "ep:4 train_loss=1.68124, valid_loss=1.53725, valid_accuracy=0.72086\n"
     ]
    },
    {
     "name": "stderr",
     "output_type": "stream",
     "text": [
      "train loss=1.252: 100%|██████████| 6915/6915 [03:04<00:00, 37.47it/s]\n"
     ]
    },
    {
     "name": "stdout",
     "output_type": "stream",
     "text": [
      "ep:5 train_loss=1.53136, valid_loss=1.39999, valid_accuracy=0.73981\n"
     ]
    },
    {
     "name": "stderr",
     "output_type": "stream",
     "text": [
      "train loss=1.191: 100%|██████████| 6915/6915 [03:04<00:00, 37.50it/s]\n"
     ]
    },
    {
     "name": "stdout",
     "output_type": "stream",
     "text": [
      "ep:6 train_loss=1.40258, valid_loss=1.28526, valid_accuracy=0.75699\n"
     ]
    },
    {
     "name": "stderr",
     "output_type": "stream",
     "text": [
      "train loss=0.903: 100%|██████████| 6915/6915 [03:04<00:00, 37.49it/s]\n"
     ]
    },
    {
     "name": "stdout",
     "output_type": "stream",
     "text": [
      "ep:7 train_loss=1.29455, valid_loss=1.19347, valid_accuracy=0.77174\n"
     ]
    },
    {
     "name": "stderr",
     "output_type": "stream",
     "text": [
      "train loss=1.401: 100%|██████████| 6915/6915 [03:03<00:00, 37.77it/s]\n"
     ]
    },
    {
     "name": "stdout",
     "output_type": "stream",
     "text": [
      "ep:8 train_loss=1.20570, valid_loss=1.11551, valid_accuracy=0.78264\n"
     ]
    },
    {
     "name": "stderr",
     "output_type": "stream",
     "text": [
      "train loss=0.983: 100%|██████████| 6915/6915 [03:02<00:00, 37.85it/s]\n"
     ]
    },
    {
     "name": "stdout",
     "output_type": "stream",
     "text": [
      "ep:9 train_loss=1.12924, valid_loss=1.06024, valid_accuracy=0.79306\n"
     ]
    },
    {
     "name": "stderr",
     "output_type": "stream",
     "text": [
      "train loss=0.756: 100%|██████████| 6915/6915 [03:02<00:00, 37.83it/s]\n"
     ]
    },
    {
     "name": "stdout",
     "output_type": "stream",
     "text": [
      "ep:10 train_loss=1.06352, valid_loss=1.00415, valid_accuracy=0.80052\n"
     ]
    },
    {
     "name": "stderr",
     "output_type": "stream",
     "text": [
      "train loss=0.866: 100%|██████████| 6915/6915 [03:08<00:00, 36.74it/s]\n"
     ]
    },
    {
     "name": "stdout",
     "output_type": "stream",
     "text": [
      "ep:11 train_loss=1.00805, valid_loss=0.96353, valid_accuracy=0.80773\n"
     ]
    },
    {
     "name": "stderr",
     "output_type": "stream",
     "text": [
      "train loss=0.987: 100%|██████████| 6915/6915 [03:03<00:00, 37.68it/s]\n"
     ]
    },
    {
     "name": "stdout",
     "output_type": "stream",
     "text": [
      "ep:12 train_loss=0.95983, valid_loss=0.92131, valid_accuracy=0.81512\n"
     ]
    },
    {
     "name": "stderr",
     "output_type": "stream",
     "text": [
      "train loss=1.007: 100%|██████████| 6915/6915 [03:02<00:00, 37.93it/s]\n"
     ]
    },
    {
     "name": "stdout",
     "output_type": "stream",
     "text": [
      "ep:13 train_loss=0.91732, valid_loss=0.89255, valid_accuracy=0.81951\n"
     ]
    },
    {
     "name": "stderr",
     "output_type": "stream",
     "text": [
      "train loss=0.995: 100%|██████████| 6915/6915 [03:03<00:00, 37.73it/s]\n"
     ]
    },
    {
     "name": "stdout",
     "output_type": "stream",
     "text": [
      "ep:14 train_loss=0.88000, valid_loss=0.87023, valid_accuracy=0.82289\n"
     ]
    },
    {
     "name": "stderr",
     "output_type": "stream",
     "text": [
      "train loss=0.659: 100%|██████████| 6915/6915 [03:03<00:00, 37.63it/s]\n"
     ]
    },
    {
     "name": "stdout",
     "output_type": "stream",
     "text": [
      "ep:15 train_loss=0.84918, valid_loss=0.84229, valid_accuracy=0.82661\n"
     ]
    },
    {
     "name": "stderr",
     "output_type": "stream",
     "text": [
      "train loss=0.809: 100%|██████████| 6915/6915 [03:03<00:00, 37.74it/s]\n"
     ]
    },
    {
     "name": "stdout",
     "output_type": "stream",
     "text": [
      "ep:16 train_loss=0.81765, valid_loss=0.81899, valid_accuracy=0.83333\n"
     ]
    },
    {
     "name": "stderr",
     "output_type": "stream",
     "text": [
      "train loss=0.960: 100%|██████████| 6915/6915 [03:01<00:00, 38.03it/s]\n"
     ]
    },
    {
     "name": "stdout",
     "output_type": "stream",
     "text": [
      "ep:17 train_loss=0.79103, valid_loss=0.79716, valid_accuracy=0.83649\n"
     ]
    },
    {
     "name": "stderr",
     "output_type": "stream",
     "text": [
      "train loss=0.897: 100%|██████████| 6915/6915 [03:01<00:00, 38.08it/s]\n"
     ]
    },
    {
     "name": "stdout",
     "output_type": "stream",
     "text": [
      "ep:18 train_loss=0.76683, valid_loss=0.78416, valid_accuracy=0.83969\n"
     ]
    },
    {
     "name": "stderr",
     "output_type": "stream",
     "text": [
      "train loss=0.763: 100%|██████████| 6915/6915 [03:01<00:00, 38.16it/s]\n"
     ]
    },
    {
     "name": "stdout",
     "output_type": "stream",
     "text": [
      "ep:19 train_loss=0.74487, valid_loss=0.76932, valid_accuracy=0.84158\n"
     ]
    },
    {
     "name": "stderr",
     "output_type": "stream",
     "text": [
      "train loss=0.706: 100%|██████████| 6915/6915 [03:04<00:00, 37.54it/s]\n"
     ]
    },
    {
     "name": "stdout",
     "output_type": "stream",
     "text": [
      "ep:20 train_loss=0.72307, valid_loss=0.75511, valid_accuracy=0.84465\n"
     ]
    },
    {
     "name": "stderr",
     "output_type": "stream",
     "text": [
      "train loss=0.935: 100%|██████████| 6915/6915 [03:06<00:00, 37.11it/s]\n"
     ]
    },
    {
     "name": "stdout",
     "output_type": "stream",
     "text": [
      "ep:21 train_loss=0.70604, valid_loss=0.74157, valid_accuracy=0.84622\n"
     ]
    },
    {
     "name": "stderr",
     "output_type": "stream",
     "text": [
      "train loss=0.906: 100%|██████████| 6915/6915 [03:08<00:00, 36.65it/s]\n"
     ]
    },
    {
     "name": "stdout",
     "output_type": "stream",
     "text": [
      "ep:22 train_loss=0.68743, valid_loss=0.72708, valid_accuracy=0.84814\n"
     ]
    },
    {
     "name": "stderr",
     "output_type": "stream",
     "text": [
      "train loss=0.543: 100%|██████████| 6915/6915 [03:11<00:00, 36.04it/s]\n"
     ]
    },
    {
     "name": "stdout",
     "output_type": "stream",
     "text": [
      "ep:23 train_loss=0.67185, valid_loss=0.72157, valid_accuracy=0.85021\n"
     ]
    },
    {
     "name": "stderr",
     "output_type": "stream",
     "text": [
      "train loss=0.756: 100%|██████████| 6915/6915 [03:07<00:00, 36.83it/s]\n"
     ]
    },
    {
     "name": "stdout",
     "output_type": "stream",
     "text": [
      "ep:24 train_loss=0.65479, valid_loss=0.71358, valid_accuracy=0.85243\n"
     ]
    },
    {
     "name": "stderr",
     "output_type": "stream",
     "text": [
      "train loss=0.547: 100%|██████████| 6915/6915 [03:04<00:00, 37.40it/s]\n"
     ]
    },
    {
     "name": "stdout",
     "output_type": "stream",
     "text": [
      "ep:25 train_loss=0.64277, valid_loss=0.70047, valid_accuracy=0.85277\n"
     ]
    },
    {
     "name": "stderr",
     "output_type": "stream",
     "text": [
      "train loss=0.574: 100%|██████████| 6915/6915 [03:03<00:00, 37.62it/s]\n"
     ]
    },
    {
     "name": "stdout",
     "output_type": "stream",
     "text": [
      "ep:26 train_loss=0.63076, valid_loss=0.69876, valid_accuracy=0.85542\n"
     ]
    },
    {
     "name": "stderr",
     "output_type": "stream",
     "text": [
      "train loss=0.446: 100%|██████████| 6915/6915 [03:04<00:00, 37.45it/s]\n"
     ]
    },
    {
     "name": "stdout",
     "output_type": "stream",
     "text": [
      "ep:27 train_loss=0.61533, valid_loss=0.69294, valid_accuracy=0.85506\n"
     ]
    },
    {
     "name": "stderr",
     "output_type": "stream",
     "text": [
      "train loss=0.789: 100%|██████████| 6915/6915 [03:05<00:00, 37.18it/s]\n"
     ]
    },
    {
     "name": "stdout",
     "output_type": "stream",
     "text": [
      "ep:28 train_loss=0.60484, valid_loss=0.68000, valid_accuracy=0.85797\n"
     ]
    },
    {
     "name": "stderr",
     "output_type": "stream",
     "text": [
      "train loss=0.547: 100%|██████████| 6915/6915 [03:03<00:00, 37.59it/s]\n"
     ]
    },
    {
     "name": "stdout",
     "output_type": "stream",
     "text": [
      "ep:29 train_loss=0.59381, valid_loss=0.68303, valid_accuracy=0.85842\n"
     ]
    },
    {
     "name": "stderr",
     "output_type": "stream",
     "text": [
      "train loss=0.473: 100%|██████████| 6915/6915 [03:04<00:00, 37.46it/s]\n"
     ]
    },
    {
     "name": "stdout",
     "output_type": "stream",
     "text": [
      "ep:30 train_loss=0.58160, valid_loss=0.66829, valid_accuracy=0.86012\n"
     ]
    },
    {
     "name": "stderr",
     "output_type": "stream",
     "text": [
      "train loss=0.671: 100%|██████████| 6915/6915 [03:03<00:00, 37.78it/s]\n"
     ]
    },
    {
     "name": "stdout",
     "output_type": "stream",
     "text": [
      "ep:31 train_loss=0.57390, valid_loss=0.67530, valid_accuracy=0.86014\n"
     ]
    },
    {
     "name": "stderr",
     "output_type": "stream",
     "text": [
      "train loss=0.468: 100%|██████████| 6915/6915 [03:06<00:00, 37.09it/s]\n"
     ]
    },
    {
     "name": "stdout",
     "output_type": "stream",
     "text": [
      "ep:32 train_loss=0.56365, valid_loss=0.66674, valid_accuracy=0.86094\n"
     ]
    },
    {
     "name": "stderr",
     "output_type": "stream",
     "text": [
      "train loss=0.488: 100%|██████████| 6915/6915 [03:04<00:00, 37.52it/s]\n"
     ]
    },
    {
     "name": "stdout",
     "output_type": "stream",
     "text": [
      "ep:33 train_loss=0.55351, valid_loss=0.65915, valid_accuracy=0.86174\n"
     ]
    },
    {
     "name": "stderr",
     "output_type": "stream",
     "text": [
      "train loss=0.553: 100%|██████████| 6915/6915 [03:07<00:00, 36.83it/s]\n"
     ]
    },
    {
     "name": "stdout",
     "output_type": "stream",
     "text": [
      "ep:34 train_loss=0.54495, valid_loss=0.65525, valid_accuracy=0.86436\n"
     ]
    },
    {
     "name": "stderr",
     "output_type": "stream",
     "text": [
      "train loss=0.283: 100%|██████████| 6915/6915 [03:05<00:00, 37.35it/s]\n"
     ]
    },
    {
     "name": "stdout",
     "output_type": "stream",
     "text": [
      "ep:35 train_loss=0.53645, valid_loss=0.65411, valid_accuracy=0.86391\n"
     ]
    },
    {
     "name": "stderr",
     "output_type": "stream",
     "text": [
      "train loss=0.282: 100%|██████████| 6915/6915 [03:09<00:00, 36.42it/s]\n"
     ]
    },
    {
     "name": "stdout",
     "output_type": "stream",
     "text": [
      "ep:36 train_loss=0.52930, valid_loss=0.64901, valid_accuracy=0.86583\n"
     ]
    },
    {
     "name": "stderr",
     "output_type": "stream",
     "text": [
      "train loss=0.429: 100%|██████████| 6915/6915 [03:08<00:00, 36.75it/s]\n"
     ]
    },
    {
     "name": "stdout",
     "output_type": "stream",
     "text": [
      "ep:37 train_loss=0.52041, valid_loss=0.64495, valid_accuracy=0.86488\n"
     ]
    },
    {
     "name": "stderr",
     "output_type": "stream",
     "text": [
      "train loss=0.522: 100%|██████████| 6915/6915 [03:10<00:00, 36.35it/s]\n"
     ]
    },
    {
     "name": "stdout",
     "output_type": "stream",
     "text": [
      "ep:38 train_loss=0.51363, valid_loss=0.64225, valid_accuracy=0.86631\n"
     ]
    },
    {
     "name": "stderr",
     "output_type": "stream",
     "text": [
      "train loss=0.672: 100%|██████████| 6915/6915 [03:08<00:00, 36.61it/s]\n"
     ]
    },
    {
     "name": "stdout",
     "output_type": "stream",
     "text": [
      "ep:39 train_loss=0.50632, valid_loss=0.63646, valid_accuracy=0.86666\n"
     ]
    },
    {
     "name": "stderr",
     "output_type": "stream",
     "text": [
      "train loss=0.594: 100%|██████████| 6915/6915 [03:09<00:00, 36.54it/s]\n"
     ]
    },
    {
     "name": "stdout",
     "output_type": "stream",
     "text": [
      "ep:40 train_loss=0.50014, valid_loss=0.63496, valid_accuracy=0.86846\n"
     ]
    },
    {
     "name": "stderr",
     "output_type": "stream",
     "text": [
      "train loss=0.430: 100%|██████████| 6915/6915 [03:05<00:00, 37.38it/s]\n"
     ]
    },
    {
     "name": "stdout",
     "output_type": "stream",
     "text": [
      "ep:41 train_loss=0.49364, valid_loss=0.63232, valid_accuracy=0.86781\n"
     ]
    },
    {
     "name": "stderr",
     "output_type": "stream",
     "text": [
      "train loss=0.549: 100%|██████████| 6915/6915 [03:07<00:00, 36.91it/s]\n"
     ]
    },
    {
     "name": "stdout",
     "output_type": "stream",
     "text": [
      "ep:42 train_loss=0.48768, valid_loss=0.63075, valid_accuracy=0.86867\n"
     ]
    },
    {
     "name": "stderr",
     "output_type": "stream",
     "text": [
      "train loss=0.371: 100%|██████████| 6915/6915 [03:07<00:00, 36.97it/s]\n"
     ]
    },
    {
     "name": "stdout",
     "output_type": "stream",
     "text": [
      "ep:43 train_loss=0.48196, valid_loss=0.62531, valid_accuracy=0.86915\n"
     ]
    },
    {
     "name": "stderr",
     "output_type": "stream",
     "text": [
      "train loss=0.292: 100%|██████████| 6915/6915 [03:03<00:00, 37.65it/s]\n"
     ]
    },
    {
     "name": "stdout",
     "output_type": "stream",
     "text": [
      "ep:44 train_loss=0.47709, valid_loss=0.62445, valid_accuracy=0.86965\n"
     ]
    },
    {
     "name": "stderr",
     "output_type": "stream",
     "text": [
      "train loss=0.353: 100%|██████████| 6915/6915 [03:07<00:00, 36.96it/s]\n"
     ]
    },
    {
     "name": "stdout",
     "output_type": "stream",
     "text": [
      "ep:45 train_loss=0.46900, valid_loss=0.62203, valid_accuracy=0.86992\n"
     ]
    },
    {
     "name": "stderr",
     "output_type": "stream",
     "text": [
      "train loss=0.573: 100%|██████████| 6915/6915 [03:05<00:00, 37.37it/s]\n"
     ]
    },
    {
     "name": "stdout",
     "output_type": "stream",
     "text": [
      "ep:46 train_loss=0.46361, valid_loss=0.62339, valid_accuracy=0.87032\n"
     ]
    },
    {
     "name": "stderr",
     "output_type": "stream",
     "text": [
      "train loss=0.505: 100%|██████████| 6915/6915 [03:07<00:00, 36.91it/s]\n"
     ]
    },
    {
     "name": "stdout",
     "output_type": "stream",
     "text": [
      "ep:47 train_loss=0.46042, valid_loss=0.62479, valid_accuracy=0.87079\n"
     ]
    },
    {
     "name": "stderr",
     "output_type": "stream",
     "text": [
      "train loss=0.471: 100%|██████████| 6915/6915 [03:07<00:00, 36.97it/s]\n"
     ]
    },
    {
     "name": "stdout",
     "output_type": "stream",
     "text": [
      "ep:48 train_loss=0.45432, valid_loss=0.61696, valid_accuracy=0.87070\n"
     ]
    },
    {
     "name": "stderr",
     "output_type": "stream",
     "text": [
      "train loss=0.458: 100%|██████████| 6915/6915 [03:09<00:00, 36.54it/s]\n"
     ]
    },
    {
     "name": "stdout",
     "output_type": "stream",
     "text": [
      "ep:49 train_loss=0.44986, valid_loss=0.61391, valid_accuracy=0.87186\n"
     ]
    },
    {
     "name": "stderr",
     "output_type": "stream",
     "text": [
      "train loss=0.349: 100%|██████████| 6915/6915 [03:07<00:00, 36.98it/s]\n"
     ]
    },
    {
     "name": "stdout",
     "output_type": "stream",
     "text": [
      "ep:50 train_loss=0.44406, valid_loss=0.61873, valid_accuracy=0.87314\n"
     ]
    },
    {
     "name": "stderr",
     "output_type": "stream",
     "text": [
      "train loss=0.510: 100%|██████████| 6915/6915 [03:06<00:00, 36.99it/s]\n"
     ]
    },
    {
     "name": "stdout",
     "output_type": "stream",
     "text": [
      "ep:51 train_loss=0.43971, valid_loss=0.61497, valid_accuracy=0.87318\n"
     ]
    },
    {
     "name": "stderr",
     "output_type": "stream",
     "text": [
      "train loss=0.285: 100%|██████████| 6915/6915 [03:03<00:00, 37.59it/s]\n"
     ]
    },
    {
     "name": "stdout",
     "output_type": "stream",
     "text": [
      "ep:52 train_loss=0.43576, valid_loss=0.61414, valid_accuracy=0.87271\n"
     ]
    },
    {
     "name": "stderr",
     "output_type": "stream",
     "text": [
      "train loss=0.538: 100%|██████████| 6915/6915 [03:05<00:00, 37.27it/s]\n"
     ]
    },
    {
     "name": "stdout",
     "output_type": "stream",
     "text": [
      "ep:53 train_loss=0.43086, valid_loss=0.61654, valid_accuracy=0.87301\n"
     ]
    },
    {
     "name": "stderr",
     "output_type": "stream",
     "text": [
      "train loss=0.469: 100%|██████████| 6915/6915 [03:05<00:00, 37.28it/s]\n"
     ]
    },
    {
     "name": "stdout",
     "output_type": "stream",
     "text": [
      "ep:54 train_loss=0.42722, valid_loss=0.61561, valid_accuracy=0.87253\n"
     ]
    },
    {
     "name": "stderr",
     "output_type": "stream",
     "text": [
      "train loss=0.579: 100%|██████████| 6915/6915 [03:05<00:00, 37.33it/s]\n"
     ]
    },
    {
     "name": "stdout",
     "output_type": "stream",
     "text": [
      "ep:55 train_loss=0.42248, valid_loss=0.61597, valid_accuracy=0.87388\n"
     ]
    },
    {
     "name": "stderr",
     "output_type": "stream",
     "text": [
      "train loss=0.431: 100%|██████████| 6915/6915 [03:04<00:00, 37.49it/s]\n"
     ]
    },
    {
     "name": "stdout",
     "output_type": "stream",
     "text": [
      "ep:56 train_loss=0.41802, valid_loss=0.61436, valid_accuracy=0.87445\n"
     ]
    },
    {
     "name": "stderr",
     "output_type": "stream",
     "text": [
      "train loss=0.408: 100%|██████████| 6915/6915 [03:05<00:00, 37.20it/s]\n"
     ]
    },
    {
     "name": "stdout",
     "output_type": "stream",
     "text": [
      "ep:57 train_loss=0.41398, valid_loss=0.60999, valid_accuracy=0.87434\n"
     ]
    },
    {
     "name": "stderr",
     "output_type": "stream",
     "text": [
      "train loss=0.430: 100%|██████████| 6915/6915 [03:04<00:00, 37.40it/s]\n"
     ]
    },
    {
     "name": "stdout",
     "output_type": "stream",
     "text": [
      "ep:58 train_loss=0.41103, valid_loss=0.60924, valid_accuracy=0.87554\n"
     ]
    },
    {
     "name": "stderr",
     "output_type": "stream",
     "text": [
      "train loss=0.339: 100%|██████████| 6915/6915 [03:05<00:00, 37.33it/s]\n"
     ]
    },
    {
     "name": "stdout",
     "output_type": "stream",
     "text": [
      "ep:59 train_loss=0.40832, valid_loss=0.61255, valid_accuracy=0.87459\n"
     ]
    },
    {
     "name": "stderr",
     "output_type": "stream",
     "text": [
      "train loss=0.206: 100%|██████████| 6915/6915 [03:05<00:00, 37.19it/s]\n"
     ]
    },
    {
     "name": "stdout",
     "output_type": "stream",
     "text": [
      "ep:60 train_loss=0.40345, valid_loss=0.60792, valid_accuracy=0.87443\n"
     ]
    },
    {
     "name": "stderr",
     "output_type": "stream",
     "text": [
      "train loss=0.441: 100%|██████████| 6915/6915 [03:05<00:00, 37.21it/s]\n"
     ]
    },
    {
     "name": "stdout",
     "output_type": "stream",
     "text": [
      "ep:61 train_loss=0.40001, valid_loss=0.60583, valid_accuracy=0.87589\n"
     ]
    },
    {
     "name": "stderr",
     "output_type": "stream",
     "text": [
      "train loss=0.381: 100%|██████████| 6915/6915 [03:04<00:00, 37.39it/s]\n"
     ]
    },
    {
     "name": "stdout",
     "output_type": "stream",
     "text": [
      "ep:62 train_loss=0.39626, valid_loss=0.61139, valid_accuracy=0.87582\n"
     ]
    },
    {
     "name": "stderr",
     "output_type": "stream",
     "text": [
      "train loss=0.614: 100%|██████████| 6915/6915 [03:04<00:00, 37.41it/s]\n"
     ]
    },
    {
     "name": "stdout",
     "output_type": "stream",
     "text": [
      "ep:63 train_loss=0.39426, valid_loss=0.60579, valid_accuracy=0.87550\n"
     ]
    },
    {
     "name": "stderr",
     "output_type": "stream",
     "text": [
      "train loss=0.398: 100%|██████████| 6915/6915 [03:07<00:00, 36.92it/s]\n"
     ]
    },
    {
     "name": "stdout",
     "output_type": "stream",
     "text": [
      "ep:64 train_loss=0.38901, valid_loss=0.60387, valid_accuracy=0.87648\n"
     ]
    },
    {
     "name": "stderr",
     "output_type": "stream",
     "text": [
      "train loss=0.328: 100%|██████████| 6915/6915 [03:09<00:00, 36.56it/s]\n"
     ]
    },
    {
     "name": "stdout",
     "output_type": "stream",
     "text": [
      "ep:65 train_loss=0.38758, valid_loss=0.60676, valid_accuracy=0.87663\n"
     ]
    },
    {
     "name": "stderr",
     "output_type": "stream",
     "text": [
      "train loss=0.392: 100%|██████████| 6915/6915 [03:07<00:00, 36.86it/s]\n"
     ]
    },
    {
     "name": "stdout",
     "output_type": "stream",
     "text": [
      "ep:66 train_loss=0.38413, valid_loss=0.60476, valid_accuracy=0.87695\n"
     ]
    },
    {
     "name": "stderr",
     "output_type": "stream",
     "text": [
      "train loss=0.317: 100%|██████████| 6915/6915 [03:07<00:00, 36.81it/s]\n"
     ]
    },
    {
     "name": "stdout",
     "output_type": "stream",
     "text": [
      "ep:67 train_loss=0.38035, valid_loss=0.60425, valid_accuracy=0.87692\n"
     ]
    },
    {
     "name": "stderr",
     "output_type": "stream",
     "text": [
      "train loss=0.315: 100%|██████████| 6915/6915 [03:09<00:00, 36.46it/s]\n"
     ]
    },
    {
     "name": "stdout",
     "output_type": "stream",
     "text": [
      "ep:68 train_loss=0.37821, valid_loss=0.60395, valid_accuracy=0.87702\n"
     ]
    },
    {
     "name": "stderr",
     "output_type": "stream",
     "text": [
      "train loss=0.416: 100%|██████████| 6915/6915 [03:13<00:00, 35.80it/s]\n"
     ]
    },
    {
     "name": "stdout",
     "output_type": "stream",
     "text": [
      "ep:69 train_loss=0.37553, valid_loss=0.60295, valid_accuracy=0.87743\n"
     ]
    },
    {
     "name": "stderr",
     "output_type": "stream",
     "text": [
      "train loss=0.406: 100%|██████████| 6915/6915 [03:14<00:00, 35.58it/s]\n"
     ]
    },
    {
     "name": "stdout",
     "output_type": "stream",
     "text": [
      "ep:70 train_loss=0.37165, valid_loss=0.60094, valid_accuracy=0.87768\n"
     ]
    },
    {
     "name": "stderr",
     "output_type": "stream",
     "text": [
      "train loss=0.227: 100%|██████████| 6915/6915 [03:10<00:00, 36.39it/s]\n"
     ]
    },
    {
     "name": "stdout",
     "output_type": "stream",
     "text": [
      "ep:71 train_loss=0.36922, valid_loss=0.60347, valid_accuracy=0.87765\n"
     ]
    },
    {
     "name": "stderr",
     "output_type": "stream",
     "text": [
      "train loss=0.414: 100%|██████████| 6915/6915 [03:10<00:00, 36.25it/s]\n"
     ]
    },
    {
     "name": "stdout",
     "output_type": "stream",
     "text": [
      "ep:72 train_loss=0.36681, valid_loss=0.60394, valid_accuracy=0.87806\n"
     ]
    },
    {
     "name": "stderr",
     "output_type": "stream",
     "text": [
      "train loss=0.378: 100%|██████████| 6915/6915 [03:11<00:00, 36.03it/s]\n"
     ]
    },
    {
     "name": "stdout",
     "output_type": "stream",
     "text": [
      "ep:73 train_loss=0.36473, valid_loss=0.60581, valid_accuracy=0.87758\n"
     ]
    },
    {
     "name": "stderr",
     "output_type": "stream",
     "text": [
      "train loss=0.392: 100%|██████████| 6915/6915 [03:10<00:00, 36.39it/s]\n"
     ]
    },
    {
     "name": "stdout",
     "output_type": "stream",
     "text": [
      "ep:74 train_loss=0.36163, valid_loss=0.60457, valid_accuracy=0.87811\n"
     ]
    },
    {
     "name": "stderr",
     "output_type": "stream",
     "text": [
      "train loss=0.437: 100%|██████████| 6915/6915 [03:10<00:00, 36.33it/s]\n"
     ]
    },
    {
     "name": "stdout",
     "output_type": "stream",
     "text": [
      "ep:75 train_loss=0.35884, valid_loss=0.60368, valid_accuracy=0.87938\n"
     ]
    },
    {
     "name": "stderr",
     "output_type": "stream",
     "text": [
      "train loss=0.357: 100%|██████████| 6915/6915 [03:08<00:00, 36.64it/s]\n"
     ]
    },
    {
     "name": "stdout",
     "output_type": "stream",
     "text": [
      "ep:76 train_loss=0.35614, valid_loss=0.60694, valid_accuracy=0.87829\n"
     ]
    },
    {
     "name": "stderr",
     "output_type": "stream",
     "text": [
      "train loss=0.170: 100%|██████████| 6915/6915 [03:10<00:00, 36.31it/s]\n"
     ]
    },
    {
     "name": "stdout",
     "output_type": "stream",
     "text": [
      "ep:77 train_loss=0.35392, valid_loss=0.60578, valid_accuracy=0.87964\n"
     ]
    },
    {
     "name": "stderr",
     "output_type": "stream",
     "text": [
      "train loss=0.384: 100%|██████████| 6915/6915 [03:12<00:00, 36.01it/s]\n"
     ]
    },
    {
     "name": "stdout",
     "output_type": "stream",
     "text": [
      "ep:78 train_loss=0.35234, valid_loss=0.60535, valid_accuracy=0.87960\n"
     ]
    },
    {
     "name": "stderr",
     "output_type": "stream",
     "text": [
      "train loss=0.395: 100%|██████████| 6915/6915 [03:10<00:00, 36.25it/s]\n"
     ]
    },
    {
     "name": "stdout",
     "output_type": "stream",
     "text": [
      "ep:79 train_loss=0.34933, valid_loss=0.60724, valid_accuracy=0.87963\n"
     ]
    },
    {
     "name": "stderr",
     "output_type": "stream",
     "text": [
      "train loss=0.358: 100%|██████████| 6915/6915 [03:09<00:00, 36.53it/s]\n"
     ]
    },
    {
     "name": "stdout",
     "output_type": "stream",
     "text": [
      "ep:80 train_loss=0.34649, valid_loss=0.60681, valid_accuracy=0.87911\n"
     ]
    },
    {
     "name": "stderr",
     "output_type": "stream",
     "text": [
      "train loss=0.541: 100%|██████████| 6915/6915 [03:08<00:00, 36.60it/s]\n"
     ]
    },
    {
     "name": "stdout",
     "output_type": "stream",
     "text": [
      "ep:81 train_loss=0.34534, valid_loss=0.60349, valid_accuracy=0.87977\n"
     ]
    },
    {
     "name": "stderr",
     "output_type": "stream",
     "text": [
      "train loss=0.249: 100%|██████████| 6915/6915 [03:03<00:00, 37.65it/s]\n"
     ]
    },
    {
     "name": "stdout",
     "output_type": "stream",
     "text": [
      "ep:82 train_loss=0.34219, valid_loss=0.60523, valid_accuracy=0.87954\n"
     ]
    },
    {
     "name": "stderr",
     "output_type": "stream",
     "text": [
      "train loss=0.527: 100%|██████████| 6915/6915 [03:03<00:00, 37.59it/s]\n"
     ]
    },
    {
     "name": "stdout",
     "output_type": "stream",
     "text": [
      "ep:83 train_loss=0.34056, valid_loss=0.60315, valid_accuracy=0.87881\n"
     ]
    },
    {
     "name": "stderr",
     "output_type": "stream",
     "text": [
      "train loss=0.323: 100%|██████████| 6915/6915 [03:04<00:00, 37.42it/s]\n"
     ]
    },
    {
     "name": "stdout",
     "output_type": "stream",
     "text": [
      "ep:84 train_loss=0.33831, valid_loss=0.60816, valid_accuracy=0.87993\n"
     ]
    },
    {
     "name": "stderr",
     "output_type": "stream",
     "text": [
      "train loss=0.309: 100%|██████████| 6915/6915 [03:02<00:00, 37.89it/s]\n"
     ]
    },
    {
     "name": "stdout",
     "output_type": "stream",
     "text": [
      "ep:85 train_loss=0.33602, valid_loss=0.60746, valid_accuracy=0.87898\n"
     ]
    },
    {
     "name": "stderr",
     "output_type": "stream",
     "text": [
      "train loss=0.402: 100%|██████████| 6915/6915 [03:04<00:00, 37.39it/s]\n"
     ]
    },
    {
     "name": "stdout",
     "output_type": "stream",
     "text": [
      "ep:86 train_loss=0.33358, valid_loss=0.60731, valid_accuracy=0.88040\n"
     ]
    },
    {
     "name": "stderr",
     "output_type": "stream",
     "text": [
      "train loss=0.609: 100%|██████████| 6915/6915 [03:04<00:00, 37.48it/s]\n"
     ]
    },
    {
     "name": "stdout",
     "output_type": "stream",
     "text": [
      "ep:87 train_loss=0.33205, valid_loss=0.60560, valid_accuracy=0.88000\n"
     ]
    },
    {
     "name": "stderr",
     "output_type": "stream",
     "text": [
      "train loss=0.324: 100%|██████████| 6915/6915 [03:04<00:00, 37.48it/s]\n"
     ]
    },
    {
     "name": "stdout",
     "output_type": "stream",
     "text": [
      "ep:88 train_loss=0.32981, valid_loss=0.60860, valid_accuracy=0.87977\n"
     ]
    },
    {
     "name": "stderr",
     "output_type": "stream",
     "text": [
      "train loss=0.425: 100%|██████████| 6915/6915 [03:03<00:00, 37.65it/s]\n"
     ]
    },
    {
     "name": "stdout",
     "output_type": "stream",
     "text": [
      "ep:89 train_loss=0.32868, valid_loss=0.60547, valid_accuracy=0.88002\n"
     ]
    },
    {
     "name": "stderr",
     "output_type": "stream",
     "text": [
      "train loss=0.259: 100%|██████████| 6915/6915 [03:07<00:00, 36.96it/s]\n"
     ]
    },
    {
     "name": "stdout",
     "output_type": "stream",
     "text": [
      "ep:90 train_loss=0.32586, valid_loss=0.60788, valid_accuracy=0.88074\n"
     ]
    },
    {
     "name": "stderr",
     "output_type": "stream",
     "text": [
      "train loss=0.270: 100%|██████████| 6915/6915 [03:03<00:00, 37.71it/s]\n"
     ]
    },
    {
     "name": "stdout",
     "output_type": "stream",
     "text": [
      "ep:91 train_loss=0.32408, valid_loss=0.60673, valid_accuracy=0.88111\n"
     ]
    },
    {
     "name": "stderr",
     "output_type": "stream",
     "text": [
      "train loss=0.261: 100%|██████████| 6915/6915 [03:04<00:00, 37.48it/s]\n"
     ]
    },
    {
     "name": "stdout",
     "output_type": "stream",
     "text": [
      "ep:92 train_loss=0.32239, valid_loss=0.60752, valid_accuracy=0.88001\n"
     ]
    },
    {
     "name": "stderr",
     "output_type": "stream",
     "text": [
      "train loss=0.354: 100%|██████████| 6915/6915 [03:02<00:00, 37.86it/s]\n"
     ]
    },
    {
     "name": "stdout",
     "output_type": "stream",
     "text": [
      "ep:93 train_loss=0.31949, valid_loss=0.60120, valid_accuracy=0.88043\n"
     ]
    },
    {
     "name": "stderr",
     "output_type": "stream",
     "text": [
      "train loss=0.265: 100%|██████████| 6915/6915 [03:03<00:00, 37.70it/s]\n"
     ]
    },
    {
     "name": "stdout",
     "output_type": "stream",
     "text": [
      "ep:94 train_loss=0.31911, valid_loss=0.61417, valid_accuracy=0.88080\n"
     ]
    },
    {
     "name": "stderr",
     "output_type": "stream",
     "text": [
      "train loss=0.341: 100%|██████████| 6915/6915 [03:02<00:00, 37.82it/s]\n"
     ]
    },
    {
     "name": "stdout",
     "output_type": "stream",
     "text": [
      "ep:95 train_loss=0.31644, valid_loss=0.60410, valid_accuracy=0.88063\n"
     ]
    },
    {
     "name": "stderr",
     "output_type": "stream",
     "text": [
      "train loss=0.304: 100%|██████████| 6915/6915 [03:00<00:00, 38.24it/s]\n"
     ]
    },
    {
     "name": "stdout",
     "output_type": "stream",
     "text": [
      "ep:96 train_loss=0.31543, valid_loss=0.60810, valid_accuracy=0.88139\n"
     ]
    },
    {
     "name": "stderr",
     "output_type": "stream",
     "text": [
      "train loss=0.373: 100%|██████████| 6915/6915 [03:04<00:00, 37.39it/s]\n"
     ]
    },
    {
     "name": "stdout",
     "output_type": "stream",
     "text": [
      "ep:97 train_loss=0.31296, valid_loss=0.60801, valid_accuracy=0.88112\n"
     ]
    },
    {
     "name": "stderr",
     "output_type": "stream",
     "text": [
      "train loss=0.309: 100%|██████████| 6915/6915 [03:02<00:00, 37.95it/s]\n"
     ]
    },
    {
     "name": "stdout",
     "output_type": "stream",
     "text": [
      "ep:98 train_loss=0.31118, valid_loss=0.60913, valid_accuracy=0.88034\n"
     ]
    },
    {
     "name": "stderr",
     "output_type": "stream",
     "text": [
      "train loss=0.368: 100%|██████████| 6915/6915 [03:01<00:00, 38.05it/s]\n"
     ]
    },
    {
     "name": "stdout",
     "output_type": "stream",
     "text": [
      "ep:99 train_loss=0.31049, valid_loss=0.61037, valid_accuracy=0.88145\n"
     ]
    },
    {
     "name": "stderr",
     "output_type": "stream",
     "text": [
      "train loss=0.292: 100%|██████████| 6915/6915 [03:06<00:00, 37.08it/s]\n"
     ]
    },
    {
     "name": "stdout",
     "output_type": "stream",
     "text": [
      "ep:100 train_loss=0.30833, valid_loss=0.60800, valid_accuracy=0.88039\n"
     ]
    },
    {
     "name": "stderr",
     "output_type": "stream",
     "text": [
      "train loss=0.438: 100%|██████████| 6915/6915 [03:02<00:00, 37.83it/s]\n"
     ]
    },
    {
     "name": "stdout",
     "output_type": "stream",
     "text": [
      "ep:101 train_loss=0.30734, valid_loss=0.60848, valid_accuracy=0.88123\n"
     ]
    },
    {
     "name": "stderr",
     "output_type": "stream",
     "text": [
      "train loss=0.417: 100%|██████████| 6915/6915 [03:03<00:00, 37.63it/s]\n"
     ]
    },
    {
     "name": "stdout",
     "output_type": "stream",
     "text": [
      "ep:102 train_loss=0.30508, valid_loss=0.60993, valid_accuracy=0.88203\n"
     ]
    },
    {
     "name": "stderr",
     "output_type": "stream",
     "text": [
      "train loss=0.303: 100%|██████████| 6915/6915 [03:02<00:00, 37.87it/s]\n"
     ]
    },
    {
     "name": "stdout",
     "output_type": "stream",
     "text": [
      "ep:103 train_loss=0.30355, valid_loss=0.61225, valid_accuracy=0.88156\n"
     ]
    },
    {
     "name": "stderr",
     "output_type": "stream",
     "text": [
      "train loss=0.468: 100%|██████████| 6915/6915 [03:00<00:00, 38.30it/s]\n"
     ]
    },
    {
     "name": "stdout",
     "output_type": "stream",
     "text": [
      "ep:104 train_loss=0.30255, valid_loss=0.61660, valid_accuracy=0.88175\n"
     ]
    },
    {
     "name": "stderr",
     "output_type": "stream",
     "text": [
      "train loss=0.383: 100%|██████████| 6915/6915 [03:03<00:00, 37.73it/s]\n"
     ]
    },
    {
     "name": "stdout",
     "output_type": "stream",
     "text": [
      "ep:105 train_loss=0.29908, valid_loss=0.61451, valid_accuracy=0.88153\n"
     ]
    },
    {
     "name": "stderr",
     "output_type": "stream",
     "text": [
      "train loss=0.214: 100%|██████████| 6915/6915 [03:02<00:00, 37.88it/s]\n"
     ]
    },
    {
     "name": "stdout",
     "output_type": "stream",
     "text": [
      "ep:106 train_loss=0.29887, valid_loss=0.61229, valid_accuracy=0.88151\n"
     ]
    },
    {
     "name": "stderr",
     "output_type": "stream",
     "text": [
      "train loss=0.246: 100%|██████████| 6915/6915 [03:02<00:00, 37.91it/s]\n"
     ]
    },
    {
     "name": "stdout",
     "output_type": "stream",
     "text": [
      "ep:107 train_loss=0.29682, valid_loss=0.61256, valid_accuracy=0.88146\n"
     ]
    },
    {
     "name": "stderr",
     "output_type": "stream",
     "text": [
      "train loss=0.298: 100%|██████████| 6915/6915 [03:01<00:00, 38.20it/s]\n"
     ]
    },
    {
     "name": "stdout",
     "output_type": "stream",
     "text": [
      "ep:108 train_loss=0.29526, valid_loss=0.61240, valid_accuracy=0.88172\n"
     ]
    },
    {
     "name": "stderr",
     "output_type": "stream",
     "text": [
      "train loss=0.406: 100%|██████████| 6915/6915 [03:01<00:00, 38.09it/s]\n"
     ]
    },
    {
     "name": "stdout",
     "output_type": "stream",
     "text": [
      "ep:109 train_loss=0.29377, valid_loss=0.61211, valid_accuracy=0.88093\n"
     ]
    },
    {
     "name": "stderr",
     "output_type": "stream",
     "text": [
      "train loss=0.325: 100%|██████████| 6915/6915 [03:06<00:00, 37.16it/s]\n"
     ]
    },
    {
     "name": "stdout",
     "output_type": "stream",
     "text": [
      "ep:110 train_loss=0.29330, valid_loss=0.61153, valid_accuracy=0.88168\n"
     ]
    },
    {
     "name": "stderr",
     "output_type": "stream",
     "text": [
      "train loss=0.257: 100%|██████████| 6915/6915 [03:22<00:00, 34.18it/s]\n"
     ]
    },
    {
     "name": "stdout",
     "output_type": "stream",
     "text": [
      "ep:111 train_loss=0.29230, valid_loss=0.60899, valid_accuracy=0.88262\n"
     ]
    },
    {
     "name": "stderr",
     "output_type": "stream",
     "text": [
      "train loss=0.372: 100%|██████████| 6915/6915 [03:22<00:00, 34.21it/s]\n"
     ]
    },
    {
     "name": "stdout",
     "output_type": "stream",
     "text": [
      "ep:112 train_loss=0.29046, valid_loss=0.61068, valid_accuracy=0.88188\n"
     ]
    },
    {
     "name": "stderr",
     "output_type": "stream",
     "text": [
      "train loss=0.192: 100%|██████████| 6915/6915 [03:02<00:00, 37.94it/s]\n"
     ]
    },
    {
     "name": "stdout",
     "output_type": "stream",
     "text": [
      "ep:113 train_loss=0.28849, valid_loss=0.61137, valid_accuracy=0.88257\n"
     ]
    },
    {
     "name": "stderr",
     "output_type": "stream",
     "text": [
      "train loss=0.243: 100%|██████████| 6915/6915 [03:01<00:00, 38.01it/s]\n"
     ]
    },
    {
     "name": "stdout",
     "output_type": "stream",
     "text": [
      "ep:114 train_loss=0.28763, valid_loss=0.61153, valid_accuracy=0.88221\n"
     ]
    },
    {
     "name": "stderr",
     "output_type": "stream",
     "text": [
      "train loss=0.281: 100%|██████████| 6915/6915 [03:02<00:00, 37.86it/s]\n"
     ]
    },
    {
     "name": "stdout",
     "output_type": "stream",
     "text": [
      "ep:115 train_loss=0.28604, valid_loss=0.61483, valid_accuracy=0.88316\n"
     ]
    },
    {
     "name": "stderr",
     "output_type": "stream",
     "text": [
      "train loss=0.185: 100%|██████████| 6915/6915 [02:59<00:00, 38.54it/s]\n"
     ]
    },
    {
     "name": "stdout",
     "output_type": "stream",
     "text": [
      "ep:116 train_loss=0.28518, valid_loss=0.60902, valid_accuracy=0.88279\n"
     ]
    },
    {
     "name": "stderr",
     "output_type": "stream",
     "text": [
      "train loss=0.144: 100%|██████████| 6915/6915 [03:03<00:00, 37.65it/s]\n"
     ]
    },
    {
     "name": "stdout",
     "output_type": "stream",
     "text": [
      "ep:117 train_loss=0.28391, valid_loss=0.61686, valid_accuracy=0.88267\n"
     ]
    },
    {
     "name": "stderr",
     "output_type": "stream",
     "text": [
      "train loss=0.329: 100%|██████████| 6915/6915 [03:02<00:00, 37.92it/s]\n"
     ]
    },
    {
     "name": "stdout",
     "output_type": "stream",
     "text": [
      "ep:118 train_loss=0.28252, valid_loss=0.61605, valid_accuracy=0.88307\n"
     ]
    },
    {
     "name": "stderr",
     "output_type": "stream",
     "text": [
      "train loss=0.281: 100%|██████████| 6915/6915 [03:01<00:00, 38.02it/s]\n"
     ]
    },
    {
     "name": "stdout",
     "output_type": "stream",
     "text": [
      "ep:119 train_loss=0.28021, valid_loss=0.61708, valid_accuracy=0.88222\n"
     ]
    },
    {
     "name": "stderr",
     "output_type": "stream",
     "text": [
      "train loss=0.198: 100%|██████████| 6915/6915 [03:02<00:00, 37.83it/s]\n"
     ]
    },
    {
     "name": "stdout",
     "output_type": "stream",
     "text": [
      "ep:120 train_loss=0.28009, valid_loss=0.61763, valid_accuracy=0.88308\n"
     ]
    },
    {
     "name": "stderr",
     "output_type": "stream",
     "text": [
      "train loss=0.328: 100%|██████████| 6915/6915 [03:02<00:00, 37.98it/s]\n"
     ]
    },
    {
     "name": "stdout",
     "output_type": "stream",
     "text": [
      "ep:121 train_loss=0.27816, valid_loss=0.61866, valid_accuracy=0.88226\n"
     ]
    },
    {
     "name": "stderr",
     "output_type": "stream",
     "text": [
      "train loss=0.301: 100%|██████████| 6915/6915 [03:00<00:00, 38.34it/s]\n"
     ]
    },
    {
     "name": "stdout",
     "output_type": "stream",
     "text": [
      "ep:122 train_loss=0.27676, valid_loss=0.61718, valid_accuracy=0.88220\n"
     ]
    },
    {
     "name": "stderr",
     "output_type": "stream",
     "text": [
      "train loss=0.255: 100%|██████████| 6915/6915 [03:02<00:00, 37.98it/s]\n"
     ]
    },
    {
     "name": "stdout",
     "output_type": "stream",
     "text": [
      "ep:123 train_loss=0.27729, valid_loss=0.61655, valid_accuracy=0.88332\n"
     ]
    },
    {
     "name": "stderr",
     "output_type": "stream",
     "text": [
      "train loss=0.306: 100%|██████████| 6915/6915 [03:00<00:00, 38.28it/s]\n"
     ]
    },
    {
     "name": "stdout",
     "output_type": "stream",
     "text": [
      "ep:124 train_loss=0.27540, valid_loss=0.61800, valid_accuracy=0.88281\n"
     ]
    },
    {
     "name": "stderr",
     "output_type": "stream",
     "text": [
      "train loss=0.228: 100%|██████████| 6915/6915 [03:03<00:00, 37.63it/s]\n"
     ]
    },
    {
     "name": "stdout",
     "output_type": "stream",
     "text": [
      "ep:125 train_loss=0.27449, valid_loss=0.61514, valid_accuracy=0.88282\n"
     ]
    },
    {
     "name": "stderr",
     "output_type": "stream",
     "text": [
      "train loss=0.306: 100%|██████████| 6915/6915 [03:03<00:00, 37.75it/s]\n"
     ]
    },
    {
     "name": "stdout",
     "output_type": "stream",
     "text": [
      "ep:126 train_loss=0.27260, valid_loss=0.62201, valid_accuracy=0.88323\n"
     ]
    },
    {
     "name": "stderr",
     "output_type": "stream",
     "text": [
      "train loss=0.286: 100%|██████████| 6915/6915 [03:03<00:00, 37.77it/s]\n"
     ]
    },
    {
     "name": "stdout",
     "output_type": "stream",
     "text": [
      "ep:127 train_loss=0.27128, valid_loss=0.61988, valid_accuracy=0.88244\n"
     ]
    },
    {
     "name": "stderr",
     "output_type": "stream",
     "text": [
      "train loss=0.225: 100%|██████████| 6915/6915 [03:03<00:00, 37.73it/s]\n"
     ]
    },
    {
     "name": "stdout",
     "output_type": "stream",
     "text": [
      "ep:128 train_loss=0.27028, valid_loss=0.62111, valid_accuracy=0.88399\n"
     ]
    },
    {
     "name": "stderr",
     "output_type": "stream",
     "text": [
      "train loss=0.233: 100%|██████████| 6915/6915 [03:02<00:00, 37.86it/s]\n"
     ]
    },
    {
     "name": "stdout",
     "output_type": "stream",
     "text": [
      "ep:129 train_loss=0.26873, valid_loss=0.62081, valid_accuracy=0.88340\n"
     ]
    },
    {
     "name": "stderr",
     "output_type": "stream",
     "text": [
      "train loss=0.159: 100%|██████████| 6915/6915 [03:00<00:00, 38.37it/s]\n"
     ]
    },
    {
     "name": "stdout",
     "output_type": "stream",
     "text": [
      "ep:130 train_loss=0.26807, valid_loss=0.62025, valid_accuracy=0.88379\n"
     ]
    },
    {
     "name": "stderr",
     "output_type": "stream",
     "text": [
      "train loss=0.298: 100%|██████████| 6915/6915 [03:05<00:00, 37.36it/s]\n"
     ]
    },
    {
     "name": "stdout",
     "output_type": "stream",
     "text": [
      "ep:131 train_loss=0.26777, valid_loss=0.62172, valid_accuracy=0.88380\n"
     ]
    },
    {
     "name": "stderr",
     "output_type": "stream",
     "text": [
      "train loss=0.267: 100%|██████████| 6915/6915 [03:00<00:00, 38.29it/s]\n"
     ]
    },
    {
     "name": "stdout",
     "output_type": "stream",
     "text": [
      "ep:132 train_loss=0.26557, valid_loss=0.61761, valid_accuracy=0.88305\n"
     ]
    },
    {
     "name": "stderr",
     "output_type": "stream",
     "text": [
      "train loss=0.192: 100%|██████████| 6915/6915 [03:04<00:00, 37.56it/s]\n"
     ]
    },
    {
     "name": "stdout",
     "output_type": "stream",
     "text": [
      "ep:133 train_loss=0.26501, valid_loss=0.61829, valid_accuracy=0.88387\n"
     ]
    },
    {
     "name": "stderr",
     "output_type": "stream",
     "text": [
      "train loss=0.291: 100%|██████████| 6915/6915 [03:04<00:00, 37.58it/s]\n"
     ]
    },
    {
     "name": "stdout",
     "output_type": "stream",
     "text": [
      "ep:134 train_loss=0.26358, valid_loss=0.62024, valid_accuracy=0.88364\n"
     ]
    },
    {
     "name": "stderr",
     "output_type": "stream",
     "text": [
      "train loss=0.175: 100%|██████████| 6915/6915 [03:00<00:00, 38.29it/s]\n"
     ]
    },
    {
     "name": "stdout",
     "output_type": "stream",
     "text": [
      "ep:135 train_loss=0.26281, valid_loss=0.62141, valid_accuracy=0.88430\n"
     ]
    },
    {
     "name": "stderr",
     "output_type": "stream",
     "text": [
      "train loss=0.210: 100%|██████████| 6915/6915 [03:02<00:00, 37.98it/s]\n"
     ]
    },
    {
     "name": "stdout",
     "output_type": "stream",
     "text": [
      "ep:136 train_loss=0.26295, valid_loss=0.62653, valid_accuracy=0.88344\n"
     ]
    },
    {
     "name": "stderr",
     "output_type": "stream",
     "text": [
      "train loss=0.315: 100%|██████████| 6915/6915 [03:02<00:00, 37.88it/s]\n"
     ]
    },
    {
     "name": "stdout",
     "output_type": "stream",
     "text": [
      "ep:137 train_loss=0.26021, valid_loss=0.63060, valid_accuracy=0.88330\n"
     ]
    },
    {
     "name": "stderr",
     "output_type": "stream",
     "text": [
      "train loss=0.207: 100%|██████████| 6915/6915 [03:00<00:00, 38.29it/s]\n"
     ]
    },
    {
     "name": "stdout",
     "output_type": "stream",
     "text": [
      "ep:138 train_loss=0.25934, valid_loss=0.62929, valid_accuracy=0.88334\n"
     ]
    },
    {
     "name": "stderr",
     "output_type": "stream",
     "text": [
      "train loss=0.499: 100%|██████████| 6915/6915 [03:02<00:00, 37.96it/s]\n"
     ]
    },
    {
     "name": "stdout",
     "output_type": "stream",
     "text": [
      "ep:139 train_loss=0.25811, valid_loss=0.62371, valid_accuracy=0.88356\n"
     ]
    },
    {
     "name": "stderr",
     "output_type": "stream",
     "text": [
      "train loss=0.215: 100%|██████████| 6915/6915 [03:04<00:00, 37.50it/s]\n"
     ]
    },
    {
     "name": "stdout",
     "output_type": "stream",
     "text": [
      "ep:140 train_loss=0.25720, valid_loss=0.62529, valid_accuracy=0.88322\n"
     ]
    },
    {
     "name": "stderr",
     "output_type": "stream",
     "text": [
      "train loss=0.232: 100%|██████████| 6915/6915 [03:02<00:00, 37.95it/s]\n"
     ]
    },
    {
     "name": "stdout",
     "output_type": "stream",
     "text": [
      "ep:141 train_loss=0.25650, valid_loss=0.62267, valid_accuracy=0.88295\n"
     ]
    },
    {
     "name": "stderr",
     "output_type": "stream",
     "text": [
      "train loss=0.205: 100%|██████████| 6915/6915 [03:03<00:00, 37.64it/s]\n"
     ]
    },
    {
     "name": "stdout",
     "output_type": "stream",
     "text": [
      "ep:142 train_loss=0.25573, valid_loss=0.62827, valid_accuracy=0.88335\n"
     ]
    },
    {
     "name": "stderr",
     "output_type": "stream",
     "text": [
      "train loss=0.199: 100%|██████████| 6915/6915 [03:04<00:00, 37.42it/s]\n"
     ]
    },
    {
     "name": "stdout",
     "output_type": "stream",
     "text": [
      "ep:143 train_loss=0.25562, valid_loss=0.62671, valid_accuracy=0.88244\n"
     ]
    },
    {
     "name": "stderr",
     "output_type": "stream",
     "text": [
      "train loss=0.274: 100%|██████████| 6915/6915 [03:04<00:00, 37.39it/s]\n"
     ]
    },
    {
     "name": "stdout",
     "output_type": "stream",
     "text": [
      "ep:144 train_loss=0.25360, valid_loss=0.62873, valid_accuracy=0.88315\n"
     ]
    },
    {
     "name": "stderr",
     "output_type": "stream",
     "text": [
      "train loss=0.284: 100%|██████████| 6915/6915 [03:03<00:00, 37.76it/s]\n"
     ]
    },
    {
     "name": "stdout",
     "output_type": "stream",
     "text": [
      "ep:145 train_loss=0.25297, valid_loss=0.63040, valid_accuracy=0.88373\n"
     ]
    },
    {
     "name": "stderr",
     "output_type": "stream",
     "text": [
      "train loss=0.330: 100%|██████████| 6915/6915 [03:05<00:00, 37.35it/s]\n"
     ]
    },
    {
     "name": "stdout",
     "output_type": "stream",
     "text": [
      "ep:146 train_loss=0.25206, valid_loss=0.62881, valid_accuracy=0.88433\n"
     ]
    },
    {
     "name": "stderr",
     "output_type": "stream",
     "text": [
      "train loss=0.308: 100%|██████████| 6915/6915 [03:00<00:00, 38.22it/s]\n"
     ]
    },
    {
     "name": "stdout",
     "output_type": "stream",
     "text": [
      "ep:147 train_loss=0.25138, valid_loss=0.62865, valid_accuracy=0.88391\n"
     ]
    },
    {
     "name": "stderr",
     "output_type": "stream",
     "text": [
      "train loss=0.225: 100%|██████████| 6915/6915 [03:03<00:00, 37.61it/s]\n"
     ]
    },
    {
     "name": "stdout",
     "output_type": "stream",
     "text": [
      "ep:148 train_loss=0.24952, valid_loss=0.62769, valid_accuracy=0.88446\n"
     ]
    },
    {
     "name": "stderr",
     "output_type": "stream",
     "text": [
      "train loss=0.262: 100%|██████████| 6915/6915 [03:05<00:00, 37.26it/s]\n"
     ]
    },
    {
     "name": "stdout",
     "output_type": "stream",
     "text": [
      "ep:149 train_loss=0.24955, valid_loss=0.62673, valid_accuracy=0.88379\n"
     ]
    },
    {
     "name": "stderr",
     "output_type": "stream",
     "text": [
      "train loss=0.307: 100%|██████████| 6915/6915 [03:06<00:00, 37.03it/s]\n"
     ]
    },
    {
     "name": "stdout",
     "output_type": "stream",
     "text": [
      "ep:150 train_loss=0.24856, valid_loss=0.63370, valid_accuracy=0.88424\n"
     ]
    },
    {
     "name": "stderr",
     "output_type": "stream",
     "text": [
      "train loss=0.192: 100%|██████████| 6915/6915 [03:03<00:00, 37.72it/s]\n"
     ]
    },
    {
     "name": "stdout",
     "output_type": "stream",
     "text": [
      "ep:151 train_loss=0.24763, valid_loss=0.63030, valid_accuracy=0.88382\n"
     ]
    },
    {
     "name": "stderr",
     "output_type": "stream",
     "text": [
      "train loss=0.177: 100%|██████████| 6915/6915 [03:08<00:00, 36.61it/s]\n"
     ]
    },
    {
     "name": "stdout",
     "output_type": "stream",
     "text": [
      "ep:152 train_loss=0.24662, valid_loss=0.63397, valid_accuracy=0.88430\n"
     ]
    },
    {
     "name": "stderr",
     "output_type": "stream",
     "text": [
      "train loss=0.276: 100%|██████████| 6915/6915 [03:07<00:00, 36.88it/s]\n"
     ]
    },
    {
     "name": "stdout",
     "output_type": "stream",
     "text": [
      "ep:153 train_loss=0.24625, valid_loss=0.62776, valid_accuracy=0.88376\n"
     ]
    },
    {
     "name": "stderr",
     "output_type": "stream",
     "text": [
      "train loss=0.230: 100%|██████████| 6915/6915 [03:05<00:00, 37.20it/s]\n"
     ]
    },
    {
     "name": "stdout",
     "output_type": "stream",
     "text": [
      "ep:154 train_loss=0.24430, valid_loss=0.62542, valid_accuracy=0.88488\n"
     ]
    },
    {
     "name": "stderr",
     "output_type": "stream",
     "text": [
      "train loss=0.240: 100%|██████████| 6915/6915 [03:06<00:00, 37.17it/s]\n"
     ]
    },
    {
     "name": "stdout",
     "output_type": "stream",
     "text": [
      "ep:155 train_loss=0.24337, valid_loss=0.63593, valid_accuracy=0.88338\n"
     ]
    },
    {
     "name": "stderr",
     "output_type": "stream",
     "text": [
      "train loss=0.319: 100%|██████████| 6915/6915 [03:05<00:00, 37.33it/s]\n"
     ]
    },
    {
     "name": "stdout",
     "output_type": "stream",
     "text": [
      "ep:156 train_loss=0.24345, valid_loss=0.63115, valid_accuracy=0.88452\n"
     ]
    },
    {
     "name": "stderr",
     "output_type": "stream",
     "text": [
      "train loss=0.213: 100%|██████████| 6915/6915 [03:04<00:00, 37.38it/s]\n"
     ]
    },
    {
     "name": "stdout",
     "output_type": "stream",
     "text": [
      "ep:157 train_loss=0.24271, valid_loss=0.63221, valid_accuracy=0.88435\n"
     ]
    },
    {
     "name": "stderr",
     "output_type": "stream",
     "text": [
      "train loss=0.218: 100%|██████████| 6915/6915 [03:09<00:00, 36.49it/s]\n"
     ]
    },
    {
     "name": "stdout",
     "output_type": "stream",
     "text": [
      "ep:158 train_loss=0.24189, valid_loss=0.63480, valid_accuracy=0.88384\n"
     ]
    },
    {
     "name": "stderr",
     "output_type": "stream",
     "text": [
      "train loss=0.272: 100%|██████████| 6915/6915 [03:07<00:00, 36.89it/s]\n"
     ]
    },
    {
     "name": "stdout",
     "output_type": "stream",
     "text": [
      "ep:159 train_loss=0.24068, valid_loss=0.63115, valid_accuracy=0.88531\n"
     ]
    },
    {
     "name": "stderr",
     "output_type": "stream",
     "text": [
      "train loss=0.297: 100%|██████████| 6915/6915 [03:14<00:00, 35.59it/s]\n"
     ]
    },
    {
     "name": "stdout",
     "output_type": "stream",
     "text": [
      "ep:160 train_loss=0.23936, valid_loss=0.63711, valid_accuracy=0.88472\n"
     ]
    },
    {
     "name": "stderr",
     "output_type": "stream",
     "text": [
      "train loss=0.270: 100%|██████████| 6915/6915 [03:08<00:00, 36.68it/s]\n"
     ]
    },
    {
     "name": "stdout",
     "output_type": "stream",
     "text": [
      "ep:161 train_loss=0.23936, valid_loss=0.63586, valid_accuracy=0.88397\n"
     ]
    },
    {
     "name": "stderr",
     "output_type": "stream",
     "text": [
      "train loss=0.365: 100%|██████████| 6915/6915 [03:07<00:00, 36.81it/s]\n"
     ]
    },
    {
     "name": "stdout",
     "output_type": "stream",
     "text": [
      "ep:162 train_loss=0.23914, valid_loss=0.63891, valid_accuracy=0.88434\n"
     ]
    },
    {
     "name": "stderr",
     "output_type": "stream",
     "text": [
      "train loss=0.158: 100%|██████████| 6915/6915 [03:06<00:00, 37.01it/s]\n"
     ]
    },
    {
     "name": "stdout",
     "output_type": "stream",
     "text": [
      "ep:163 train_loss=0.23807, valid_loss=0.63116, valid_accuracy=0.88490\n"
     ]
    },
    {
     "name": "stderr",
     "output_type": "stream",
     "text": [
      "train loss=0.344: 100%|██████████| 6915/6915 [03:09<00:00, 36.40it/s]\n"
     ]
    },
    {
     "name": "stdout",
     "output_type": "stream",
     "text": [
      "ep:164 train_loss=0.23679, valid_loss=0.63768, valid_accuracy=0.88506\n"
     ]
    },
    {
     "name": "stderr",
     "output_type": "stream",
     "text": [
      "train loss=0.199: 100%|██████████| 6915/6915 [03:07<00:00, 36.82it/s]\n"
     ]
    },
    {
     "name": "stdout",
     "output_type": "stream",
     "text": [
      "ep:165 train_loss=0.23619, valid_loss=0.63270, valid_accuracy=0.88474\n"
     ]
    },
    {
     "name": "stderr",
     "output_type": "stream",
     "text": [
      "train loss=0.314: 100%|██████████| 6915/6915 [03:07<00:00, 36.91it/s]\n"
     ]
    },
    {
     "name": "stdout",
     "output_type": "stream",
     "text": [
      "ep:166 train_loss=0.23612, valid_loss=0.63502, valid_accuracy=0.88451\n"
     ]
    },
    {
     "name": "stderr",
     "output_type": "stream",
     "text": [
      "train loss=0.282: 100%|██████████| 6915/6915 [03:08<00:00, 36.72it/s]\n"
     ]
    },
    {
     "name": "stdout",
     "output_type": "stream",
     "text": [
      "ep:167 train_loss=0.23456, valid_loss=0.63861, valid_accuracy=0.88391\n"
     ]
    },
    {
     "name": "stderr",
     "output_type": "stream",
     "text": [
      "train loss=0.224: 100%|██████████| 6915/6915 [03:05<00:00, 37.19it/s]\n"
     ]
    },
    {
     "name": "stdout",
     "output_type": "stream",
     "text": [
      "ep:168 train_loss=0.23380, valid_loss=0.63383, valid_accuracy=0.88374\n"
     ]
    },
    {
     "name": "stderr",
     "output_type": "stream",
     "text": [
      "train loss=0.282: 100%|██████████| 6915/6915 [03:06<00:00, 36.98it/s]\n"
     ]
    },
    {
     "name": "stdout",
     "output_type": "stream",
     "text": [
      "ep:169 train_loss=0.23279, valid_loss=0.63837, valid_accuracy=0.88341\n"
     ]
    },
    {
     "name": "stderr",
     "output_type": "stream",
     "text": [
      "train loss=0.283: 100%|██████████| 6915/6915 [03:10<00:00, 36.32it/s]\n"
     ]
    },
    {
     "name": "stdout",
     "output_type": "stream",
     "text": [
      "ep:170 train_loss=0.23291, valid_loss=0.64293, valid_accuracy=0.88464\n"
     ]
    },
    {
     "name": "stderr",
     "output_type": "stream",
     "text": [
      "train loss=0.235: 100%|██████████| 6915/6915 [03:06<00:00, 37.04it/s]\n"
     ]
    },
    {
     "name": "stdout",
     "output_type": "stream",
     "text": [
      "ep:171 train_loss=0.23176, valid_loss=0.64047, valid_accuracy=0.88458\n"
     ]
    },
    {
     "name": "stderr",
     "output_type": "stream",
     "text": [
      "train loss=0.234: 100%|██████████| 6915/6915 [03:04<00:00, 37.44it/s]\n"
     ]
    },
    {
     "name": "stdout",
     "output_type": "stream",
     "text": [
      "ep:172 train_loss=0.23151, valid_loss=0.63962, valid_accuracy=0.88447\n"
     ]
    },
    {
     "name": "stderr",
     "output_type": "stream",
     "text": [
      "train loss=0.403: 100%|██████████| 6915/6915 [03:06<00:00, 37.02it/s]\n"
     ]
    },
    {
     "name": "stdout",
     "output_type": "stream",
     "text": [
      "ep:173 train_loss=0.23035, valid_loss=0.64625, valid_accuracy=0.88451\n"
     ]
    },
    {
     "name": "stderr",
     "output_type": "stream",
     "text": [
      "train loss=0.168: 100%|██████████| 6915/6915 [03:08<00:00, 36.71it/s]\n"
     ]
    },
    {
     "name": "stdout",
     "output_type": "stream",
     "text": [
      "ep:174 train_loss=0.22951, valid_loss=0.64549, valid_accuracy=0.88396\n"
     ]
    },
    {
     "name": "stderr",
     "output_type": "stream",
     "text": [
      "train loss=0.164: 100%|██████████| 6915/6915 [03:05<00:00, 37.18it/s]\n"
     ]
    },
    {
     "name": "stdout",
     "output_type": "stream",
     "text": [
      "ep:175 train_loss=0.22906, valid_loss=0.64332, valid_accuracy=0.88452\n"
     ]
    },
    {
     "name": "stderr",
     "output_type": "stream",
     "text": [
      "train loss=0.372: 100%|██████████| 6915/6915 [03:03<00:00, 37.65it/s]\n"
     ]
    },
    {
     "name": "stdout",
     "output_type": "stream",
     "text": [
      "ep:176 train_loss=0.22839, valid_loss=0.64358, valid_accuracy=0.88397\n"
     ]
    },
    {
     "name": "stderr",
     "output_type": "stream",
     "text": [
      "train loss=0.208: 100%|██████████| 6915/6915 [03:05<00:00, 37.35it/s]\n"
     ]
    },
    {
     "name": "stdout",
     "output_type": "stream",
     "text": [
      "ep:177 train_loss=0.22715, valid_loss=0.64174, valid_accuracy=0.88496\n"
     ]
    },
    {
     "name": "stderr",
     "output_type": "stream",
     "text": [
      "train loss=0.168: 100%|██████████| 6915/6915 [03:07<00:00, 36.87it/s]\n"
     ]
    },
    {
     "name": "stdout",
     "output_type": "stream",
     "text": [
      "ep:178 train_loss=0.22673, valid_loss=0.63630, valid_accuracy=0.88476\n"
     ]
    },
    {
     "name": "stderr",
     "output_type": "stream",
     "text": [
      "train loss=0.284: 100%|██████████| 6915/6915 [03:04<00:00, 37.49it/s]\n"
     ]
    },
    {
     "name": "stdout",
     "output_type": "stream",
     "text": [
      "ep:179 train_loss=0.22695, valid_loss=0.64534, valid_accuracy=0.88535\n"
     ]
    },
    {
     "name": "stderr",
     "output_type": "stream",
     "text": [
      "train loss=0.208: 100%|██████████| 6915/6915 [03:06<00:00, 37.13it/s]\n"
     ]
    },
    {
     "name": "stdout",
     "output_type": "stream",
     "text": [
      "ep:180 train_loss=0.22564, valid_loss=0.64078, valid_accuracy=0.88474\n"
     ]
    },
    {
     "name": "stderr",
     "output_type": "stream",
     "text": [
      "train loss=0.215: 100%|██████████| 6915/6915 [03:08<00:00, 36.77it/s]\n"
     ]
    },
    {
     "name": "stdout",
     "output_type": "stream",
     "text": [
      "ep:181 train_loss=0.22472, valid_loss=0.64840, valid_accuracy=0.88419\n"
     ]
    },
    {
     "name": "stderr",
     "output_type": "stream",
     "text": [
      "train loss=0.322: 100%|██████████| 6915/6915 [03:05<00:00, 37.32it/s]\n"
     ]
    },
    {
     "name": "stdout",
     "output_type": "stream",
     "text": [
      "ep:182 train_loss=0.22453, valid_loss=0.64469, valid_accuracy=0.88557\n"
     ]
    },
    {
     "name": "stderr",
     "output_type": "stream",
     "text": [
      "train loss=0.256: 100%|██████████| 6915/6915 [03:05<00:00, 37.27it/s]\n"
     ]
    },
    {
     "name": "stdout",
     "output_type": "stream",
     "text": [
      "ep:183 train_loss=0.22336, valid_loss=0.65045, valid_accuracy=0.88442\n"
     ]
    },
    {
     "name": "stderr",
     "output_type": "stream",
     "text": [
      "train loss=0.156: 100%|██████████| 6915/6915 [03:08<00:00, 36.74it/s]\n"
     ]
    },
    {
     "name": "stdout",
     "output_type": "stream",
     "text": [
      "ep:184 train_loss=0.22302, valid_loss=0.64736, valid_accuracy=0.88404\n"
     ]
    },
    {
     "name": "stderr",
     "output_type": "stream",
     "text": [
      "train loss=0.149: 100%|██████████| 6915/6915 [03:09<00:00, 36.47it/s]\n"
     ]
    },
    {
     "name": "stdout",
     "output_type": "stream",
     "text": [
      "ep:185 train_loss=0.22153, valid_loss=0.64582, valid_accuracy=0.88399\n"
     ]
    },
    {
     "name": "stderr",
     "output_type": "stream",
     "text": [
      "train loss=0.170: 100%|██████████| 6915/6915 [03:07<00:00, 36.79it/s]\n"
     ]
    },
    {
     "name": "stdout",
     "output_type": "stream",
     "text": [
      "ep:186 train_loss=0.22125, valid_loss=0.65097, valid_accuracy=0.88441\n"
     ]
    },
    {
     "name": "stderr",
     "output_type": "stream",
     "text": [
      "train loss=0.282: 100%|██████████| 6915/6915 [03:04<00:00, 37.49it/s]\n"
     ]
    },
    {
     "name": "stdout",
     "output_type": "stream",
     "text": [
      "ep:187 train_loss=0.22126, valid_loss=0.64829, valid_accuracy=0.88431\n"
     ]
    },
    {
     "name": "stderr",
     "output_type": "stream",
     "text": [
      "train loss=0.261: 100%|██████████| 6915/6915 [03:07<00:00, 36.82it/s]\n"
     ]
    },
    {
     "name": "stdout",
     "output_type": "stream",
     "text": [
      "ep:188 train_loss=0.22069, valid_loss=0.64080, valid_accuracy=0.88451\n"
     ]
    },
    {
     "name": "stderr",
     "output_type": "stream",
     "text": [
      "train loss=0.164: 100%|██████████| 6915/6915 [03:05<00:00, 37.27it/s]\n"
     ]
    },
    {
     "name": "stdout",
     "output_type": "stream",
     "text": [
      "ep:189 train_loss=0.22054, valid_loss=0.64733, valid_accuracy=0.88521\n"
     ]
    },
    {
     "name": "stderr",
     "output_type": "stream",
     "text": [
      "train loss=0.206: 100%|██████████| 6915/6915 [03:07<00:00, 36.93it/s]\n"
     ]
    },
    {
     "name": "stdout",
     "output_type": "stream",
     "text": [
      "ep:190 train_loss=0.21951, valid_loss=0.64253, valid_accuracy=0.88505\n"
     ]
    },
    {
     "name": "stderr",
     "output_type": "stream",
     "text": [
      "train loss=0.264: 100%|██████████| 6915/6915 [03:10<00:00, 36.29it/s]\n"
     ]
    },
    {
     "name": "stdout",
     "output_type": "stream",
     "text": [
      "ep:191 train_loss=0.21888, valid_loss=0.65052, valid_accuracy=0.88506\n"
     ]
    },
    {
     "name": "stderr",
     "output_type": "stream",
     "text": [
      "train loss=0.213: 100%|██████████| 6915/6915 [03:03<00:00, 37.77it/s]\n"
     ]
    },
    {
     "name": "stdout",
     "output_type": "stream",
     "text": [
      "ep:192 train_loss=0.21878, valid_loss=0.64541, valid_accuracy=0.88507\n"
     ]
    },
    {
     "name": "stderr",
     "output_type": "stream",
     "text": [
      "train loss=0.240: 100%|██████████| 6915/6915 [03:03<00:00, 37.64it/s]\n"
     ]
    },
    {
     "name": "stdout",
     "output_type": "stream",
     "text": [
      "ep:193 train_loss=0.21810, valid_loss=0.64958, valid_accuracy=0.88472\n"
     ]
    },
    {
     "name": "stderr",
     "output_type": "stream",
     "text": [
      "train loss=0.201: 100%|██████████| 6915/6915 [03:01<00:00, 38.01it/s]\n"
     ]
    },
    {
     "name": "stdout",
     "output_type": "stream",
     "text": [
      "ep:194 train_loss=0.21727, valid_loss=0.64751, valid_accuracy=0.88551\n"
     ]
    },
    {
     "name": "stderr",
     "output_type": "stream",
     "text": [
      "train loss=0.380: 100%|██████████| 6915/6915 [03:04<00:00, 37.50it/s]\n"
     ]
    },
    {
     "name": "stdout",
     "output_type": "stream",
     "text": [
      "ep:195 train_loss=0.21661, valid_loss=0.65257, valid_accuracy=0.88517\n"
     ]
    },
    {
     "name": "stderr",
     "output_type": "stream",
     "text": [
      "train loss=0.230: 100%|██████████| 6915/6915 [03:05<00:00, 37.29it/s]\n"
     ]
    },
    {
     "name": "stdout",
     "output_type": "stream",
     "text": [
      "ep:196 train_loss=0.21614, valid_loss=0.64683, valid_accuracy=0.88501\n"
     ]
    },
    {
     "name": "stderr",
     "output_type": "stream",
     "text": [
      "train loss=0.225: 100%|██████████| 6915/6915 [03:03<00:00, 37.72it/s]\n"
     ]
    },
    {
     "name": "stdout",
     "output_type": "stream",
     "text": [
      "ep:197 train_loss=0.21522, valid_loss=0.65195, valid_accuracy=0.88436\n"
     ]
    },
    {
     "name": "stderr",
     "output_type": "stream",
     "text": [
      "train loss=0.190: 100%|██████████| 6915/6915 [03:05<00:00, 37.32it/s]\n"
     ]
    },
    {
     "name": "stdout",
     "output_type": "stream",
     "text": [
      "ep:198 train_loss=0.21472, valid_loss=0.64768, valid_accuracy=0.88530\n"
     ]
    },
    {
     "name": "stderr",
     "output_type": "stream",
     "text": [
      "train loss=0.167: 100%|██████████| 6915/6915 [03:07<00:00, 36.88it/s]\n"
     ]
    },
    {
     "name": "stdout",
     "output_type": "stream",
     "text": [
      "ep:199 train_loss=0.21477, valid_loss=0.64895, valid_accuracy=0.88557\n"
     ]
    },
    {
     "name": "stderr",
     "output_type": "stream",
     "text": [
      "train loss=0.278: 100%|██████████| 6915/6915 [03:04<00:00, 37.50it/s]\n"
     ]
    },
    {
     "name": "stdout",
     "output_type": "stream",
     "text": [
      "ep:200 train_loss=0.21347, valid_loss=0.64791, valid_accuracy=0.88553\n"
     ]
    }
   ],
   "source": [
    "config = ModelConfig(encoder_vocab_size = vocab_sizes[SRC],\n",
    "                     decoder_vocab_size=vocab_sizes[TRG],\n",
    "                     d_embed=128,\n",
    "                     d_ff=1024,\n",
    "                     h=32,\n",
    "                     N_encoder=3,\n",
    "                     N_decoder=3,\n",
    "                     max_seq_len=max_seq_len,\n",
    "                     dropout=0.1\n",
    "                     )\n",
    "\n",
    "\n",
    "# Initialize model\n",
    "model = make_model(config)\n",
    "\n",
    "# Define loss function\n",
    "loss_fn = nn.CrossEntropyLoss()\n",
    "\n",
    "# Initialize optimizer\n",
    "optimizer = torch.optim.Adam(model.parameters(), lr=0.0001)\n",
    "\n",
    "dataloaders = Dataloaders()\n",
    "\n",
    "# Set up training loop\n",
    "num_epochs = 200\n",
    "train_losses = []\n",
    "valid_losses = []\n",
    "valid_accuracies = []\n",
    "\n",
    "for epoch in range(num_epochs):\n",
    "\n",
    "    best_valid_loss = float('inf')\n",
    "    train_size = len(dataloaders.train_loader) * batch_size\n",
    "    train_loss = train_epoch(model, dataloaders)\n",
    "    train_losses.append(train_loss)\n",
    "    valid_loss = validate(model, dataloaders.valid_loader)\n",
    "    valid_losses.append(valid_loss)\n",
    "\n",
    "    # Calculate validation accuracy\n",
    "    valid_accuracy = compute_accuracy(model, dataloaders.valid_loader)\n",
    "    valid_accuracies.append(valid_accuracy)\n",
    "\n",
    "\n",
    "    print(f'ep:{epoch+1} train_loss={train_loss:.5f}, valid_loss={valid_loss:.5f}, valid_accuracy={valid_accuracy:.5f}')\n",
    "    if valid_loss < best_valid_loss:\n",
    "        best_valid_loss = valid_loss\n",
    "\n",
    "\n",
    "# print(\"train set examples:\")\n",
    "# train_bleu = evaluate(model, dataloaders.train_loader, 20)\n",
    "# print(\"validation set examples:\")\n",
    "# valid_bleu = evaluate(model, dataloaders.valid_loader)\n",
    "# print(\"test set examples:\")\n",
    "# test_bleu  = evaluate(model, dataloaders.test_loader)\n"
   ]
  },
  {
   "cell_type": "code",
   "execution_count": 15,
   "id": "088b2b2a",
   "metadata": {
    "execution": {
     "iopub.execute_input": "2024-04-22T16:42:19.338145Z",
     "iopub.status.busy": "2024-04-22T16:42:19.337041Z",
     "iopub.status.idle": "2024-04-22T16:42:19.670341Z",
     "shell.execute_reply": "2024-04-22T16:42:19.669272Z"
    },
    "papermill": {
     "duration": 31.719707,
     "end_time": "2024-04-22T16:42:19.672455",
     "exception": false,
     "start_time": "2024-04-22T16:41:47.952748",
     "status": "completed"
    },
    "tags": []
   },
   "outputs": [
    {
     "data": {
      "image/png": "[encoded data removed]",
      "text/plain": [
       "<Figure size 640x480 with 1 Axes>"
      ]
     },
     "metadata": {},
     "output_type": "display_data"
    }
   ],
   "source": [
    "# Plot epoch-wise training loss\n",
    "plt.plot(train_losses, label='Train Loss')\n",
    "plt.xlabel('Epoch')\n",
    "plt.ylabel('Loss')\n",
    "plt.title('Training Loss')\n",
    "plt.legend()\n",
    "plt.show()"
   ]
  },
  {
   "cell_type": "code",
   "execution_count": 16,
   "id": "504d5655",
   "metadata": {
    "execution": {
     "iopub.execute_input": "2024-04-22T16:43:21.651357Z",
     "iopub.status.busy": "2024-04-22T16:43:21.650974Z",
     "iopub.status.idle": "2024-04-22T16:43:21.946696Z",
     "shell.execute_reply": "2024-04-22T16:43:21.945820Z"
    },
    "papermill": {
     "duration": 31.401745,
     "end_time": "2024-04-22T16:43:21.949018",
     "exception": false,
     "start_time": "2024-04-22T16:42:50.547273",
     "status": "completed"
    },
    "tags": []
   },
   "outputs": [
    {
     "data": {
      "image/png": "[encoded data removed]",
      "text/plain": [
       "<Figure size 640x480 with 1 Axes>"
      ]
     },
     "metadata": {},
     "output_type": "display_data"
    }
   ],
   "source": [
    "plt.plot(valid_accuracies, label='Validation Accuracy')\n",
    "plt.xlabel('Epoch')\n",
    "plt.ylabel('Accuracy')\n",
    "plt.title('Validation Accuracy over Epochs')\n",
    "plt.legend()\n",
    "plt.show()"
   ]
  },
  {
   "cell_type": "code",
   "execution_count": 17,
   "id": "32d2049e",
   "metadata": {
    "execution": {
     "iopub.execute_input": "2024-04-22T16:44:23.559606Z",
     "iopub.status.busy": "2024-04-22T16:44:23.558839Z",
     "iopub.status.idle": "2024-04-22T16:44:23.601998Z",
     "shell.execute_reply": "2024-04-22T16:44:23.601204Z"
    },
    "papermill": {
     "duration": 31.09409,
     "end_time": "2024-04-22T16:44:23.604110",
     "exception": false,
     "start_time": "2024-04-22T16:43:52.510020",
     "status": "completed"
    },
    "tags": []
   },
   "outputs": [],
   "source": [
    "# Save the model\n",
    "torch.save(model.state_dict(),'transformer_model_3.pth')"
   ]
  },
  {
   "cell_type": "code",
   "execution_count": 18,
   "id": "0c71b499",
   "metadata": {
    "execution": {
     "iopub.execute_input": "2024-04-22T16:45:25.643706Z",
     "iopub.status.busy": "2024-04-22T16:45:25.643320Z",
     "iopub.status.idle": "2024-04-22T16:45:49.359565Z",
     "shell.execute_reply": "2024-04-22T16:45:49.358528Z"
    },
    "papermill": {
     "duration": 54.653441,
     "end_time": "2024-04-22T16:45:49.362026",
     "exception": false,
     "start_time": "2024-04-22T16:44:54.708585",
     "status": "completed"
    },
    "tags": []
   },
   "outputs": [
    {
     "name": "stdout",
     "output_type": "stream",
     "text": [
      "Test Accuracy: 0.88326\n"
     ]
    }
   ],
   "source": [
    "# Load the state dictionary from the saved file\n",
    "\n",
    "# model.load_state_dict(torch.load('transformer_model.pth'))\n",
    "\n",
    "\n",
    "Test_accuracy = compute_accuracy(model, dataloaders.test_loader)\n",
    "\n",
    "print(f\"Test Accuracy: {Test_accuracy:.5f}\")"
   ]
  },
  {
   "cell_type": "code",
   "execution_count": 19,
   "id": "3731a569",
   "metadata": {
    "execution": {
     "iopub.execute_input": "2024-04-22T16:46:50.944312Z",
     "iopub.status.busy": "2024-04-22T16:46:50.943542Z",
     "iopub.status.idle": "2024-04-22T16:46:57.482579Z",
     "shell.execute_reply": "2024-04-22T16:46:57.481522Z"
    },
    "papermill": {
     "duration": 37.585937,
     "end_time": "2024-04-22T16:46:57.484877",
     "exception": false,
     "start_time": "2024-04-22T16:46:19.898940",
     "status": "completed"
    },
    "tags": []
   },
   "outputs": [
    {
     "name": "stdout",
     "output_type": "stream",
     "text": [
      "src:  ! Tom and Mary aren ' t alone. \"\n",
      "trg:  Tom et Marie ne sont pas seuls. \"\n",
      "pred: ! Tom et Mary ne sont pas seuls. \"\n",
      "src:  ! You could ' ve said no. \"\n",
      "trg:  Tu aurais pu dire non. \"\n",
      "pred: ! Vous auriez pu dire non. \"\n",
      "src:  ! This doesn ' t make sense. \"\n",
      "trg:  Ça n ' a pas de sens. \"\n",
      "pred: ! Ça n ' a pas de sens. \"\n",
      "Test BLEU Score: 43.3775\n"
     ]
    }
   ],
   "source": [
    "# Evaluate on test set\n",
    "test_bleu_score = evaluate(model, dataloaders.test_loader,20)\n",
    "print(f\"Test BLEU Score: {test_bleu_score:.4f}\")"
   ]
  },
  {
   "cell_type": "code",
   "execution_count": null,
   "id": "d7a288a5",
   "metadata": {
    "papermill": {
     "duration": 30.44705,
     "end_time": "2024-04-22T16:47:58.728030",
     "exception": false,
     "start_time": "2024-04-22T16:47:28.280980",
     "status": "completed"
    },
    "tags": []
   },
   "outputs": [],
   "source": []
  }
 ],
 "metadata": {
  "kaggle": {
   "accelerator": "nvidiaTeslaT4",
   "dataSources": [
    {
     "datasetId": 4847127,
     "sourceId": 8185932,
     "sourceType": "datasetVersion"
    }
   ],
   "isGpuEnabled": true,
   "isInternetEnabled": true,
   "language": "python",
   "sourceType": "notebook"
  },
  "kernelspec": {
   "display_name": "Python 3",
   "language": "python",
   "name": "python3"
  },
  "language_info": {
   "codemirror_mode": {
    "name": "ipython",
    "version": 3
   },
   "file_extension": ".py",
   "mimetype": "text/x-python",
   "name": "python",
   "nbconvert_exporter": "python",
   "pygments_lexer": "ipython3",
   "version": "3.10.13"
  },
  "papermill": {
   "default_parameters": {},
   "duration": 39806.866537,
   "end_time": "2024-04-22T16:48:32.633883",
   "environment_variables": {},
   "exception": null,
   "input_path": "__notebook__.ipynb",
   "output_path": "__notebook__.ipynb",
   "parameters": {},
   "start_time": "2024-04-22T05:45:05.767346",
   "version": "2.5.0"
  }
 },
 "nbformat": 4,
 "nbformat_minor": 5
}
