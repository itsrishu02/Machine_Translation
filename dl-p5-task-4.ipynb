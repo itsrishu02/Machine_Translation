{
 "cells": [
  {
   "cell_type": "markdown",
   "id": "f4d3e9b9",
   "metadata": {},
   "source": [
    "### Rishu Raj Singh (2023AIB2080)"
   ]
  },
  {
   "cell_type": "markdown",
   "id": "f85f7246",
   "metadata": {},
   "source": [
    "## Configuration 4"
   ]
  },
  {
   "cell_type": "code",
   "execution_count": 1,
   "id": "34b0328a",
   "metadata": {
    "execution": {
     "iopub.execute_input": "2024-04-22T18:57:09.280671Z",
     "iopub.status.busy": "2024-04-22T18:57:09.279991Z",
     "iopub.status.idle": "2024-04-22T18:57:25.024602Z",
     "shell.execute_reply": "2024-04-22T18:57:25.023381Z"
    },
    "papermill": {
     "duration": 15.755181,
     "end_time": "2024-04-22T18:57:25.027156",
     "exception": false,
     "start_time": "2024-04-22T18:57:09.271975",
     "status": "completed"
    },
    "tags": []
   },
   "outputs": [
    {
     "name": "stdout",
     "output_type": "stream",
     "text": [
      "Collecting sacrebleu\r\n",
      "  Downloading sacrebleu-2.4.2-py3-none-any.whl.metadata (58 kB)\r\n",
      "\u001b[2K     \u001b[90m━━━━━━━━━━━━━━━━━━━━━━━━━━━━━━━━━━━━━━━\u001b[0m \u001b[32m58.0/58.0 kB\u001b[0m \u001b[31m844.2 kB/s\u001b[0m eta \u001b[36m0:00:00\u001b[0m\r\n",
      "\u001b[?25hCollecting portalocker (from sacrebleu)\r\n",
      "  Downloading portalocker-2.8.2-py3-none-any.whl.metadata (8.5 kB)\r\n",
      "Requirement already satisfied: regex in /opt/conda/lib/python3.10/site-packages (from sacrebleu) (2023.12.25)\r\n",
      "Requirement already satisfied: tabulate>=0.8.9 in /opt/conda/lib/python3.10/site-packages (from sacrebleu) (0.9.0)\r\n",
      "Requirement already satisfied: numpy>=1.17 in /opt/conda/lib/python3.10/site-packages (from sacrebleu) (1.26.4)\r\n",
      "Requirement already satisfied: colorama in /opt/conda/lib/python3.10/site-packages (from sacrebleu) (0.4.6)\r\n",
      "Requirement already satisfied: lxml in /opt/conda/lib/python3.10/site-packages (from sacrebleu) (5.2.1)\r\n",
      "Downloading sacrebleu-2.4.2-py3-none-any.whl (106 kB)\r\n",
      "\u001b[2K   \u001b[90m━━━━━━━━━━━━━━━━━━━━━━━━━━━━━━━━━━━━━━━━\u001b[0m \u001b[32m106.7/106.7 kB\u001b[0m \u001b[31m1.6 MB/s\u001b[0m eta \u001b[36m0:00:00\u001b[0m\r\n",
      "\u001b[?25hDownloading portalocker-2.8.2-py3-none-any.whl (17 kB)\r\n",
      "Installing collected packages: portalocker, sacrebleu\r\n",
      "Successfully installed portalocker-2.8.2 sacrebleu-2.4.2\r\n"
     ]
    }
   ],
   "source": [
    "!pip install sacrebleu"
   ]
  },
  {
   "cell_type": "code",
   "execution_count": 2,
   "id": "4b6ccd29",
   "metadata": {
    "execution": {
     "iopub.execute_input": "2024-04-22T18:57:25.044922Z",
     "iopub.status.busy": "2024-04-22T18:57:25.044549Z",
     "iopub.status.idle": "2024-04-22T18:57:35.163140Z",
     "shell.execute_reply": "2024-04-22T18:57:35.162161Z"
    },
    "papermill": {
     "duration": 10.130171,
     "end_time": "2024-04-22T18:57:35.165531",
     "exception": false,
     "start_time": "2024-04-22T18:57:25.035360",
     "status": "completed"
    },
    "tags": []
   },
   "outputs": [
    {
     "name": "stdout",
     "output_type": "stream",
     "text": [
      "cuda\n"
     ]
    }
   ],
   "source": [
    "import math\n",
    "from dataclasses import dataclass\n",
    "import os\n",
    "import numpy as np\n",
    "import sacrebleu\n",
    "import torch\n",
    "import torch.nn as nn\n",
    "from torch.utils.data import Dataset\n",
    "from tqdm import tqdm\n",
    "import pandas\n",
    "torch.manual_seed(0)\n",
    "import random\n",
    "random.seed(0)\n",
    "import  pathlib\n",
    "import matplotlib.pyplot as plt\n",
    "from sklearn.model_selection import train_test_split\n",
    "from torchinfo import summary\n",
    "\n",
    "DEVICE = torch.device(\"cuda\" if torch.cuda.is_available() else \"cpu\")\n",
    "print(DEVICE)"
   ]
  },
  {
   "cell_type": "code",
   "execution_count": 3,
   "id": "60c5560e",
   "metadata": {
    "execution": {
     "iopub.execute_input": "2024-04-22T18:57:35.181191Z",
     "iopub.status.busy": "2024-04-22T18:57:35.180528Z",
     "iopub.status.idle": "2024-04-22T18:57:35.185356Z",
     "shell.execute_reply": "2024-04-22T18:57:35.184452Z"
    },
    "papermill": {
     "duration": 0.014595,
     "end_time": "2024-04-22T18:57:35.187347",
     "exception": false,
     "start_time": "2024-04-22T18:57:35.172752",
     "status": "completed"
    },
    "tags": []
   },
   "outputs": [],
   "source": [
    "SRC = \"en\"\n",
    "TRG = \"fr\"\n",
    "en_vocab_size = 5000\n",
    "fr_vocab_size = 5000\n",
    "vocab_sizes = {\"en\": en_vocab_size, \"fr\": fr_vocab_size}\n",
    "max_seq_len = 72"
   ]
  },
  {
   "cell_type": "code",
   "execution_count": 4,
   "id": "0585db9c",
   "metadata": {
    "execution": {
     "iopub.execute_input": "2024-04-22T18:57:35.204284Z",
     "iopub.status.busy": "2024-04-22T18:57:35.203571Z",
     "iopub.status.idle": "2024-04-22T18:57:35.770806Z",
     "shell.execute_reply": "2024-04-22T18:57:35.769728Z"
    },
    "papermill": {
     "duration": 0.57836,
     "end_time": "2024-04-22T18:57:35.773321",
     "exception": false,
     "start_time": "2024-04-22T18:57:35.194961",
     "status": "completed"
    },
    "tags": []
   },
   "outputs": [
    {
     "name": "stdout",
     "output_type": "stream",
     "text": [
      "110640 12294 52687\n"
     ]
    }
   ],
   "source": [
    "full_set = pandas.read_csv(\"/kaggle/input/dataset-1/eng_-french.csv\")\n",
    "\n",
    "temp_train_set, test_set = train_test_split(full_set, test_size=0.3, random_state=42)\n",
    "full_train_set, valid_set = train_test_split(temp_train_set, test_size=0.1, random_state=42)\n",
    "\n",
    "print(len(full_train_set), len(valid_set), len(test_set))"
   ]
  },
  {
   "cell_type": "code",
   "execution_count": 5,
   "id": "60dcb7fe",
   "metadata": {
    "execution": {
     "iopub.execute_input": "2024-04-22T18:57:35.789427Z",
     "iopub.status.busy": "2024-04-22T18:57:35.789134Z",
     "iopub.status.idle": "2024-04-22T18:57:35.805138Z",
     "shell.execute_reply": "2024-04-22T18:57:35.804295Z"
    },
    "papermill": {
     "duration": 0.026001,
     "end_time": "2024-04-22T18:57:35.806988",
     "exception": false,
     "start_time": "2024-04-22T18:57:35.780987",
     "status": "completed"
    },
    "tags": []
   },
   "outputs": [
    {
     "data": {
      "text/html": [
       "<div>\n",
       "<style scoped>\n",
       "    .dataframe tbody tr th:only-of-type {\n",
       "        vertical-align: middle;\n",
       "    }\n",
       "\n",
       "    .dataframe tbody tr th {\n",
       "        vertical-align: top;\n",
       "    }\n",
       "\n",
       "    .dataframe thead th {\n",
       "        text-align: right;\n",
       "    }\n",
       "</style>\n",
       "<table border=\"1\" class=\"dataframe\">\n",
       "  <thead>\n",
       "    <tr style=\"text-align: right;\">\n",
       "      <th></th>\n",
       "      <th>English words/sentences</th>\n",
       "      <th>French words/sentences</th>\n",
       "    </tr>\n",
       "  </thead>\n",
       "  <tbody>\n",
       "    <tr>\n",
       "      <th>1660</th>\n",
       "      <td>That hurts.</td>\n",
       "      <td>Ça fait mal.</td>\n",
       "    </tr>\n",
       "    <tr>\n",
       "      <th>89279</th>\n",
       "      <td>I can't function without you.</td>\n",
       "      <td>Je n'arrive pas à fonctionner sans toi.</td>\n",
       "    </tr>\n",
       "    <tr>\n",
       "      <th>144858</th>\n",
       "      <td>Let's talk about what you did in Boston.</td>\n",
       "      <td>Parlons de ce que tu as fait à Boston.</td>\n",
       "    </tr>\n",
       "  </tbody>\n",
       "</table>\n",
       "</div>"
      ],
      "text/plain": [
       "                         English words/sentences  \\\n",
       "1660                                 That hurts.   \n",
       "89279              I can't function without you.   \n",
       "144858  Let's talk about what you did in Boston.   \n",
       "\n",
       "                         French words/sentences  \n",
       "1660                               Ça fait mal.  \n",
       "89279   Je n'arrive pas à fonctionner sans toi.  \n",
       "144858   Parlons de ce que tu as fait à Boston.  "
      ]
     },
     "execution_count": 5,
     "metadata": {},
     "output_type": "execute_result"
    }
   ],
   "source": [
    "full_train_set.head(3)"
   ]
  },
  {
   "cell_type": "code",
   "execution_count": 6,
   "id": "6e27365d",
   "metadata": {
    "execution": {
     "iopub.execute_input": "2024-04-22T18:57:35.822668Z",
     "iopub.status.busy": "2024-04-22T18:57:35.822393Z",
     "iopub.status.idle": "2024-04-22T18:57:35.926837Z",
     "shell.execute_reply": "2024-04-22T18:57:35.926178Z"
    },
    "papermill": {
     "duration": 0.114662,
     "end_time": "2024-04-22T18:57:35.928906",
     "exception": false,
     "start_time": "2024-04-22T18:57:35.814244",
     "status": "completed"
    },
    "tags": []
   },
   "outputs": [],
   "source": [
    "from tokenizers import Tokenizer, models, pre_tokenizers, trainers, decoders\n",
    "\n",
    "# This library has been used only for tokenization purpose because French sentences contains \n",
    "# distinct type of character which is diificult to capture normally.\n",
    "\n",
    "def get_tokenizers(dataset, train_set_size):\n",
    "    en_sentences = dataset['English words/sentences'].iloc[:train_set_size].tolist()\n",
    "    fr_sentences = dataset['French words/sentences'].iloc[:train_set_size].tolist()\n",
    "\n",
    "    # Write English and French sentences to temporary files\n",
    "    en_file = 'temp_en_sentences.txt'\n",
    "    fr_file = 'temp_fr_sentences.txt'\n",
    "    with open(en_file, 'w', encoding='utf-8') as f_en, open(fr_file, 'w', encoding='utf-8') as f_fr:\n",
    "        for en_sent, fr_sent in zip(en_sentences, fr_sentences):\n",
    "            f_en.write(en_sent + '\\n')\n",
    "            f_fr.write(fr_sent + '\\n')\n",
    "\n",
    "    # Initialize a tokenizer\n",
    "    en_tokenizer = Tokenizer(models.BPE())\n",
    "    fr_tokenizer = Tokenizer(models.BPE())\n",
    "\n",
    "    # Customize pre-tokenization and decoding\n",
    "    en_tokenizer.pre_tokenizer = pre_tokenizers.Whitespace()\n",
    "    fr_tokenizer.pre_tokenizer = pre_tokenizers.Whitespace()\n",
    "    en_tokenizer.decoder = decoders.BPEDecoder()\n",
    "    fr_tokenizer.decoder = decoders.BPEDecoder()\n",
    "\n",
    "    en_tokenizer.train([en_file], trainer=trainers.BpeTrainer(vocab_size=en_vocab_size, special_tokens=[\"<pad>\"]))\n",
    "    fr_tokenizer.train([fr_file], trainer=trainers.BpeTrainer(vocab_size=fr_vocab_size, special_tokens=[\"<pad>\"]))\n",
    "\n",
    "    # Define the tokenization and detokenization functions\n",
    "    tokenizers = {\"en\": lambda sent: en_tokenizer.encode(sent).ids, \"fr\": lambda sent: fr_tokenizer.encode(sent).ids}\n",
    "    detokenizers = {\"en\": lambda ids: ' '.join([en_tokenizer.id_to_token(id) for id in ids]), \n",
    "                    \"fr\": lambda ids: ' '.join([fr_tokenizer.id_to_token(id) for id in ids])}\n",
    "    # Cleanup temporary files\n",
    "    os.remove(en_file)\n",
    "    os.remove(fr_file)\n",
    "\n",
    "    return tokenizers, detokenizers\n"
   ]
  },
  {
   "cell_type": "code",
   "execution_count": 7,
   "id": "a58a1095",
   "metadata": {
    "execution": {
     "iopub.execute_input": "2024-04-22T18:57:35.944570Z",
     "iopub.status.busy": "2024-04-22T18:57:35.944297Z",
     "iopub.status.idle": "2024-04-22T18:57:37.280219Z",
     "shell.execute_reply": "2024-04-22T18:57:37.279181Z"
    },
    "papermill": {
     "duration": 1.346161,
     "end_time": "2024-04-22T18:57:37.282363",
     "exception": false,
     "start_time": "2024-04-22T18:57:35.936202",
     "status": "completed"
    },
    "tags": []
   },
   "outputs": [
    {
     "name": "stdout",
     "output_type": "stream",
     "text": [
      "\n",
      "\n",
      "\n",
      "\n",
      "\n",
      "\n",
      "[645, 238, 106, 10, 167, 63, 6, 488, 25]\n",
      "[238, 114, 32, 274, 23]\n"
     ]
    }
   ],
   "source": [
    "tokenizers, detokenizers = get_tokenizers(full_train_set, len(full_set))\n",
    "print(tokenizers['fr'](\"De quoi ai-je l'air ?\"))\n",
    "print(tokenizers['en']('How do I look?'))\n",
    "\n",
    "# indexes of special symbols\n",
    "UNK, BOS, EOS, PAD = 0, 1, 2, 3"
   ]
  },
  {
   "cell_type": "code",
   "execution_count": 8,
   "id": "aeeadc33",
   "metadata": {
    "execution": {
     "iopub.execute_input": "2024-04-22T18:57:37.298775Z",
     "iopub.status.busy": "2024-04-22T18:57:37.298432Z",
     "iopub.status.idle": "2024-04-22T18:57:37.308940Z",
     "shell.execute_reply": "2024-04-22T18:57:37.308192Z"
    },
    "papermill": {
     "duration": 0.020754,
     "end_time": "2024-04-22T18:57:37.310836",
     "exception": false,
     "start_time": "2024-04-22T18:57:37.290082",
     "status": "completed"
    },
    "tags": []
   },
   "outputs": [],
   "source": [
    "def tokenize_dataset(dataset):\n",
    "    \"\"\"\n",
    "    Tokenize a dataset and add [BOS] and [EOS] to the beginning and end of the sentences.\n",
    "    \"\"\"\n",
    "    if SRC == \"en\":\n",
    "        return [(torch.tensor([BOS]+tokenizers[SRC](src_text)[0:max_seq_len-2]+[EOS]),\n",
    "                 torch.tensor([BOS]+tokenizers[TRG](trg_text)[0:max_seq_len-2]+[EOS]))\n",
    "                 for src_text, trg_text in dataset]\n",
    "    else:\n",
    "        return [(torch.tensor([BOS]+tokenizers[SRC](src_text)[0:max_seq_len-2]+[EOS]),\n",
    "                 torch.tensor([BOS]+tokenizers[TRG](trg_text)[0:max_seq_len-2]+[EOS]))\n",
    "                 for trg_text, src_text in dataset]\n",
    "    \n",
    "\n",
    "class TranslationDataset(Dataset):\n",
    "    'create a dataset for torch.utils.data.DataLoader() '\n",
    "    def __init__(self, data):\n",
    "        self.data = data\n",
    "\n",
    "    def __len__(self):\n",
    "        return len(self.data)\n",
    "\n",
    "    def __getitem__(self, idx):\n",
    "        return self.data[idx]\n",
    "\n",
    "\n",
    "def pad_sequence(batch):\n",
    "    'collate function for padding sentences such that all \\\n",
    "    the sentences in the batch have the same length'\n",
    "    src_seqs  = [src for src, trg in batch]\n",
    "    trg_seqs  = [trg for src, trg in batch]\n",
    "    src_padded = torch.nn.utils.rnn.pad_sequence(src_seqs,\n",
    "                                batch_first=True, padding_value = PAD)\n",
    "    trg_padded = torch.nn.utils.rnn.pad_sequence(trg_seqs,\n",
    "                                batch_first=True, padding_value = PAD)\n",
    "    return src_padded, trg_padded"
   ]
  },
  {
   "cell_type": "code",
   "execution_count": 9,
   "id": "12c0dbe3",
   "metadata": {
    "execution": {
     "iopub.execute_input": "2024-04-22T18:57:37.326696Z",
     "iopub.status.busy": "2024-04-22T18:57:37.326419Z",
     "iopub.status.idle": "2024-04-22T18:57:37.334615Z",
     "shell.execute_reply": "2024-04-22T18:57:37.333788Z"
    },
    "papermill": {
     "duration": 0.01828,
     "end_time": "2024-04-22T18:57:37.336552",
     "exception": false,
     "start_time": "2024-04-22T18:57:37.318272",
     "status": "completed"
    },
    "tags": []
   },
   "outputs": [],
   "source": [
    "batch_size = 32\n",
    "\n",
    "class Dataloaders:\n",
    "    'Dataloaders contains train_loader, test_loader and valid_loader for training and evaluation '\n",
    "    def __init__(self):\n",
    "        # train_set = list(full_train_set)[0:train_set_size]\n",
    "        train_set_1 = [(row['English words/sentences'], row['French words/sentences']) for index, row in full_train_set.iterrows()]\n",
    "        valid_set_1 = [(row['English words/sentences'], row['French words/sentences']) for index, row in valid_set.iterrows()]\n",
    "        test_set_1 = [(row['English words/sentences'], row['French words/sentences']) for index, row in test_set.iterrows()]\n",
    "        # print(train_set)\n",
    "        train_dataset = TranslationDataset(tokenize_dataset(train_set_1))\n",
    "        valid_dataset = TranslationDataset(tokenize_dataset(valid_set_1))\n",
    "        test_dataset  = TranslationDataset(tokenize_dataset(test_set_1))\n",
    "\n",
    "        # each batch returned by dataloader will be padded such that all the texts in\n",
    "        # that batch have the same length as the longest text in that batch\n",
    "        self.train_loader = torch.utils.data.DataLoader(train_dataset, batch_size=batch_size,\n",
    "                                                shuffle=True, collate_fn = pad_sequence)\n",
    "\n",
    "        self.test_loader = torch.utils.data.DataLoader(test_dataset, batch_size=batch_size,\n",
    "                                                shuffle=True, collate_fn=pad_sequence)\n",
    "\n",
    "        self.valid_loader = torch.utils.data.DataLoader(valid_dataset, batch_size=batch_size,\n",
    "                                                shuffle=True, collate_fn=pad_sequence)"
   ]
  },
  {
   "cell_type": "code",
   "execution_count": 10,
   "id": "c52b4b4f",
   "metadata": {
    "execution": {
     "iopub.execute_input": "2024-04-22T18:57:37.353084Z",
     "iopub.status.busy": "2024-04-22T18:57:37.352832Z",
     "iopub.status.idle": "2024-04-22T18:57:37.391650Z",
     "shell.execute_reply": "2024-04-22T18:57:37.390943Z"
    },
    "papermill": {
     "duration": 0.049529,
     "end_time": "2024-04-22T18:57:37.393515",
     "exception": false,
     "start_time": "2024-04-22T18:57:37.343986",
     "status": "completed"
    },
    "tags": []
   },
   "outputs": [],
   "source": [
    "class MultiHeadedAttention(nn.Module):\n",
    "    def __init__(self, h, d_embed, dropout=0.0):\n",
    "        super(MultiHeadedAttention, self).__init__()\n",
    "        assert d_embed % h == 0 # check the h number\n",
    "        self.d_k = d_embed//h\n",
    "        self.d_embed = d_embed\n",
    "        self.h = h\n",
    "        self.WQ = nn.Linear(d_embed, d_embed)\n",
    "        self.WK = nn.Linear(d_embed, d_embed)\n",
    "        self.WV = nn.Linear(d_embed, d_embed)\n",
    "        self.linear = nn.Linear(d_embed, d_embed)\n",
    "        self.dropout = nn.Dropout(dropout)\n",
    "\n",
    "    def forward(self, x_query, x_key, x_value, mask=None):\n",
    "        nbatch = x_query.size(0) # get batch size\n",
    "        # 1) Linear projections to get the multi-head query, key and value tensors\n",
    "        # x_query, x_key, x_value dimension: nbatch * seq_len * d_embed\n",
    "        # LHS query, key, value dimensions: nbatch * h * seq_len * d_k\n",
    "        query = self.WQ(x_query).view(nbatch, -1, self.h, self.d_k).transpose(1,2)\n",
    "        key   = self.WK(x_key).view(nbatch, -1, self.h, self.d_k).transpose(1,2)\n",
    "        value = self.WV(x_value).view(nbatch, -1, self.h, self.d_k).transpose(1,2)\n",
    "        # 2) Attention\n",
    "        # scores has dimensions: nbatch * h * seq_len * seq_len\n",
    "        scores = torch.matmul(query, key.transpose(-2, -1))/math.sqrt(self.d_k)\n",
    "        # 3) Mask out padding tokens and future tokens\n",
    "        if mask is not None:\n",
    "            scores = scores.masked_fill(mask, float('-inf'))\n",
    "        # p_atten dimensions: nbatch * h * seq_len * seq_len\n",
    "        p_atten = torch.nn.functional.softmax(scores, dim=-1)\n",
    "        p_atten = self.dropout(p_atten)\n",
    "        # x dimensions: nbatch * h * seq_len * d_k\n",
    "        x = torch.matmul(p_atten, value)\n",
    "        # x now has dimensions:nbtach * seq_len * d_embed\n",
    "        x = x.transpose(1, 2).contiguous().view(nbatch, -1, self.d_embed)\n",
    "        return self.linear(x) # final linear layer\n",
    "\n",
    "\n",
    "class ResidualConnection(nn.Module):\n",
    "    '''residual connection: x + dropout(sublayer(layernorm(x))) '''\n",
    "    def __init__(self, dim, dropout):\n",
    "        super().__init__()\n",
    "        self.drop = nn.Dropout(dropout)\n",
    "        self.norm = nn.LayerNorm(dim)\n",
    "\n",
    "    def forward(self, x, sublayer):\n",
    "        return x + self.drop(sublayer(self.norm(x)))\n",
    "\n",
    "\n",
    "class PositionalEncoding(nn.Module):\n",
    "    def __init__(self, d_embed, max_seq_len=5000):\n",
    "        super(PositionalEncoding, self).__init__()\n",
    "        self.d_embed = d_embed\n",
    "        # Compute the positional encodings in log space\n",
    "        pe = torch.zeros(max_seq_len, d_embed)\n",
    "        position = torch.arange(0, max_seq_len, dtype=torch.float).unsqueeze(1)\n",
    "        div_term = torch.exp(torch.arange(0, d_embed, 2).float() * (-math.log(10000.0) / d_embed))\n",
    "        pe[:, 0::2] = torch.sin(position * div_term)\n",
    "        pe[:, 1::2] = torch.cos(position * div_term)\n",
    "        pe = pe.unsqueeze(0)  # Add batch dimension\n",
    "        self.register_buffer('pe', pe)\n",
    "\n",
    "    def forward(self, x):\n",
    "        # Add positional encodings to the input embeddings\n",
    "        return x + self.pe[:, :x.size(1), :]\n",
    "\n",
    "\n",
    "class Encoder(nn.Module):\n",
    "    '''Encoder = token embedding + positional embedding -> a stack of N EncoderBlock -> layer norm'''\n",
    "    def __init__(self, config):\n",
    "        super().__init__()\n",
    "        self.d_embed = config.d_embed\n",
    "        self.tok_embed = nn.Embedding(config.encoder_vocab_size, config.d_embed) \n",
    "        self.pos_embed = PositionalEncoding(config.d_embed, config.max_seq_len)\n",
    "        # self.pos_embed = nn.Parameter(torch.zeros(1, config.max_seq_len, config.d_embed))\n",
    "        self.encoder_blocks = nn.ModuleList([EncoderBlock(config) for _ in range(config.N_encoder)])\n",
    "        self.dropout = nn.Dropout(config.dropout)\n",
    "        self.norm = nn.LayerNorm(config.d_embed)\n",
    "\n",
    "    def forward(self, input, mask=None):\n",
    "        x = self.tok_embed(input)\n",
    "        x = self.pos_embed(x)\n",
    "        x = self.dropout(x)\n",
    "        for layer in self.encoder_blocks:\n",
    "            x = layer(x, mask)\n",
    "        return self.norm(x)\n",
    "\n",
    "\n",
    "\n",
    "class EncoderBlock(nn.Module):\n",
    "    '''EncoderBlock: self-attention -> position-wise fully connected feed-forward layer'''\n",
    "    def __init__(self, config):\n",
    "        super(EncoderBlock, self).__init__()\n",
    "        self.atten = MultiHeadedAttention(config.h, config.d_embed, config.dropout)\n",
    "        self.feed_forward = nn.Sequential(\n",
    "            nn.Linear(config.d_embed, config.d_ff),\n",
    "            nn.ReLU(),\n",
    "            nn.Dropout(config.dropout),\n",
    "            nn.Linear(config.d_ff, config.d_embed)\n",
    "        )\n",
    "        self.residual1 = ResidualConnection(config.d_embed, config.dropout)\n",
    "        self.residual2 = ResidualConnection(config.d_embed, config.dropout)\n",
    "\n",
    "    def forward(self, x, mask=None):\n",
    "        # self-attention\n",
    "        x = self.residual1(x, lambda x: self.atten(x, x, x, mask=mask))\n",
    "        # position-wise fully connected feed-forward layer\n",
    "        return self.residual2(x, self.feed_forward)\n",
    "\n",
    "\n",
    "class Decoder(nn.Module):\n",
    "    '''Decoder = token embedding + positional embedding -> a stack of N DecoderBlock -> fully-connected layer'''\n",
    "    def __init__(self, config):\n",
    "        super().__init__()\n",
    "        self.d_embed = config.d_embed\n",
    "        self.tok_embed = nn.Embedding(config.decoder_vocab_size, config.d_embed)\n",
    "        self.pos_embed = PositionalEncoding(config.d_embed, config.max_seq_len)\n",
    "        # self.pos_embed = nn.Parameter(torch.zeros(1, config.max_seq_len, config.d_embed)) \n",
    "        self.dropout = nn.Dropout(config.dropout)\n",
    "        self.decoder_blocks = nn.ModuleList([DecoderBlock(config) for _ in range(config.N_decoder)])\n",
    "        self.norm = nn.LayerNorm(config.d_embed)\n",
    "        self.linear = nn.Linear(config.d_embed, config.decoder_vocab_size)\n",
    "    \n",
    "    def future_mask(self, seq_len):\n",
    "        '''mask out tokens at future positions'''\n",
    "        mask = (torch.triu(torch.ones(seq_len, seq_len, requires_grad=False), diagonal=1)!=0).to(DEVICE)\n",
    "        return mask.view(1, 1, seq_len, seq_len)\n",
    "\n",
    "    def forward(self, memory, src_mask, trg, trg_pad_mask):\n",
    "        seq_len = trg.size(1)\n",
    "        trg_mask = torch.logical_or(trg_pad_mask, self.future_mask(seq_len))\n",
    "        x = self.tok_embed(trg)\n",
    "        x = self.pos_embed(x)\n",
    "        x = self.dropout(x)\n",
    "        for layer in self.decoder_blocks:\n",
    "            x = layer(memory, src_mask, x, trg_mask)\n",
    "        x = self.norm(x)\n",
    "        logits = self.linear(x)\n",
    "        return logits\n",
    "\n",
    "\n",
    "class DecoderBlock(nn.Module):\n",
    "    ''' EncoderBlock: self-attention -> position-wise feed-forward (fully connected) layer'''\n",
    "    def __init__(self, config):\n",
    "        super().__init__()\n",
    "        self.atten1 = MultiHeadedAttention(config.h, config.d_embed)\n",
    "        self.atten2 = MultiHeadedAttention(config.h, config.d_embed)\n",
    "        self.feed_forward = nn.Sequential(\n",
    "            nn.Linear(config.d_embed, config.d_ff),\n",
    "            nn.ReLU(),\n",
    "            nn.Dropout(config.dropout),\n",
    "            nn.Linear(config.d_ff, config.d_embed)\n",
    "        )\n",
    "        self.residuals = nn.ModuleList([ResidualConnection(config.d_embed, config.dropout) \n",
    "                                       for i in range(3)])\n",
    "\n",
    "    def forward(self, memory, src_mask, decoder_layer_input, trg_mask):\n",
    "        x = memory\n",
    "        y = decoder_layer_input\n",
    "        y = self.residuals[0](y, lambda y: self.atten1(y, y, y, mask=trg_mask))\n",
    "        # keys and values are from the encoder output\n",
    "        y = self.residuals[1](y, lambda y: self.atten2(y, x, x, mask=src_mask))\n",
    "        return self.residuals[2](y, self.feed_forward)\n",
    "\n",
    "\n",
    "class Transformer(nn.Module):\n",
    "    def __init__(self, encoder, decoder):\n",
    "        super().__init__()\n",
    "        self.encoder = encoder\n",
    "        self.decoder = decoder\n",
    "\n",
    "    def forward(self, src, src_mask, trg, trg_pad_mask):\n",
    "        return self.decoder(self.encoder(src, src_mask), src_mask, trg, trg_pad_mask)\n"
   ]
  },
  {
   "cell_type": "code",
   "execution_count": 11,
   "id": "1810bd5e",
   "metadata": {
    "execution": {
     "iopub.execute_input": "2024-04-22T18:57:37.409377Z",
     "iopub.status.busy": "2024-04-22T18:57:37.409027Z",
     "iopub.status.idle": "2024-04-22T18:57:37.418062Z",
     "shell.execute_reply": "2024-04-22T18:57:37.417136Z"
    },
    "papermill": {
     "duration": 0.019095,
     "end_time": "2024-04-22T18:57:37.420013",
     "exception": false,
     "start_time": "2024-04-22T18:57:37.400918",
     "status": "completed"
    },
    "tags": []
   },
   "outputs": [],
   "source": [
    "@dataclass\n",
    "class ModelConfig:\n",
    "    encoder_vocab_size: int\n",
    "    decoder_vocab_size: int\n",
    "    d_embed: int\n",
    "    # d_ff is the dimension of the fully-connected  feed-forward layer\n",
    "    d_ff: int\n",
    "    # h is the number of attention head\n",
    "    h: int\n",
    "    N_encoder: int\n",
    "    N_decoder: int\n",
    "    max_seq_len: int\n",
    "    dropout: float\n",
    "\n",
    "def make_model(config):\n",
    "    model = Transformer(Encoder(config), Decoder(config)).to(DEVICE)\n",
    "\n",
    "    # initialize model parameters\n",
    "    # it seems that this initialization is very important!\n",
    "    for p in model.parameters():\n",
    "            if p.dim() > 1:\n",
    "                nn.init.xavier_uniform_(p)\n",
    "    return model\n",
    "\n",
    "def make_batch_input(x, y):\n",
    "        src = x.to(DEVICE)\n",
    "        trg_in = y[:, :-1].to(DEVICE)\n",
    "        trg_out = y[:, 1:].contiguous().view(-1).to(DEVICE)\n",
    "        src_pad_mask = (src == PAD).view(src.size(0), 1, 1, src.size(-1))\n",
    "        trg_pad_mask = (trg_in == PAD).view(trg_in.size(0), 1, 1, trg_in.size(-1))\n",
    "        return src, trg_in, trg_out, src_pad_mask, trg_pad_mask"
   ]
  },
  {
   "cell_type": "code",
   "execution_count": 12,
   "id": "1371312a",
   "metadata": {
    "execution": {
     "iopub.execute_input": "2024-04-22T18:57:37.436541Z",
     "iopub.status.busy": "2024-04-22T18:57:37.436259Z",
     "iopub.status.idle": "2024-04-22T18:57:37.451631Z",
     "shell.execute_reply": "2024-04-22T18:57:37.450907Z"
    },
    "papermill": {
     "duration": 0.026269,
     "end_time": "2024-04-22T18:57:37.453426",
     "exception": false,
     "start_time": "2024-04-22T18:57:37.427157",
     "status": "completed"
    },
    "tags": []
   },
   "outputs": [],
   "source": [
    "def translate(model, x):\n",
    "    'translate source sentences into the target language, without looking at the answer'\n",
    "    with torch.no_grad():\n",
    "        dB = x.size(0)\n",
    "        y = torch.tensor([[BOS]*dB]).view(dB, 1).to(DEVICE)\n",
    "        x_pad_mask = (x == PAD).view(x.size(0), 1, 1, x.size(-1)).to(DEVICE)\n",
    "        memory = model.encoder(x, x_pad_mask)\n",
    "        for i in range(max_seq_len):\n",
    "            y_pad_mask = (y == PAD).view(y.size(0), 1, 1, y.size(-1)).to(DEVICE)\n",
    "            logits = model.decoder(memory, x_pad_mask, y, y_pad_mask)\n",
    "            last_output = logits.argmax(-1)[:, -1]\n",
    "            last_output = last_output.view(dB, 1)\n",
    "            y = torch.cat((y, last_output), 1).to(DEVICE)\n",
    "    return y\n",
    "\n",
    "def remove_pad(sent):\n",
    "    '''truncate the sentence if BOS is in it,\n",
    "     otherwise simply remove the padding tokens at the end'''\n",
    "    if sent.count(EOS)>0:\n",
    "      sent = sent[0:sent.index(EOS)+1]\n",
    "    while sent and sent[-1] == PAD:\n",
    "            sent = sent[:-1]\n",
    "    return sent\n",
    "\n",
    "def decode_sentence(detokenizer, sentence_ids):\n",
    "    'convert a tokenized sentence (a list of numbers) to a literal string'\n",
    "    if not isinstance(sentence_ids, list):\n",
    "        sentence_ids = sentence_ids.tolist()\n",
    "    sentence_ids = remove_pad(sentence_ids)\n",
    "    return detokenizer(sentence_ids).replace(\"<bos>\", \"\")\\\n",
    "           .replace(\"<eos>\", \"\").strip().replace(\" .\", \".\")\n",
    "\n",
    "def evaluate(model, dataloader, num_batch=None):\n",
    "    'evaluate the model, and compute the BLEU score'\n",
    "    model.eval()\n",
    "    refs, cans, bleus = [], [], []\n",
    "    with torch.no_grad():\n",
    "        for idx, (x, y) in enumerate(dataloader):\n",
    "            src, trg_in, trg_out, src_pad_mask, trg_pad_mask = make_batch_input(x,y)\n",
    "            translation = translate(model, src)\n",
    "            trg_out = trg_out.view(x.size(0), -1)\n",
    "            refs = refs + [decode_sentence(detokenizers[TRG], trg_out[i]) for i in range(len(src))]\n",
    "            cans = cans + [decode_sentence(detokenizers[TRG], translation[i]) for i in range(len(src))]\n",
    "            if num_batch and idx>=num_batch:\n",
    "                break\n",
    "        bleus.append(sacrebleu.corpus_bleu(cans, [refs]).score)\n",
    "        # print some examples\n",
    "        for i in range(3):\n",
    "            print(f'src:  {decode_sentence(detokenizers[SRC], src[i])}')\n",
    "            print(f'trg:  {decode_sentence(detokenizers[TRG], trg_out[i])}')\n",
    "            print(f'pred: {decode_sentence(detokenizers[TRG], translation[i])}')\n",
    "        return np.mean(bleus)"
   ]
  },
  {
   "cell_type": "code",
   "execution_count": 13,
   "id": "897699d0",
   "metadata": {
    "execution": {
     "iopub.execute_input": "2024-04-22T18:57:37.469434Z",
     "iopub.status.busy": "2024-04-22T18:57:37.469177Z",
     "iopub.status.idle": "2024-04-22T18:57:37.482098Z",
     "shell.execute_reply": "2024-04-22T18:57:37.481406Z"
    },
    "papermill": {
     "duration": 0.023109,
     "end_time": "2024-04-22T18:57:37.483938",
     "exception": false,
     "start_time": "2024-04-22T18:57:37.460829",
     "status": "completed"
    },
    "tags": []
   },
   "outputs": [],
   "source": [
    "def train_epoch(model, dataloaders):\n",
    "    model.train()\n",
    "    grad_norm_clip = 1.0\n",
    "    losses = []\n",
    "    num_batches = len(dataloaders.train_loader)\n",
    "    pbar = tqdm(enumerate(dataloaders.train_loader), total=num_batches)\n",
    "    for idx, (x, y) in pbar:\n",
    "        optimizer.zero_grad()\n",
    "        src, trg_in, trg_out, src_pad_mask, trg_pad_mask = make_batch_input(x, y)\n",
    "        pred = model(src, src_pad_mask, trg_in, trg_pad_mask).to(DEVICE)\n",
    "        pred = pred.view(-1, pred.size(-1))\n",
    "        loss = loss_fn(pred, trg_out).to(DEVICE)\n",
    "        loss.backward()\n",
    "        torch.nn.utils.clip_grad_norm_(model.parameters(), grad_norm_clip)\n",
    "        optimizer.step()\n",
    "        losses.append(loss.item())\n",
    "        # report progress\n",
    "        if idx > 0 and idx % 50 == 0:\n",
    "            pbar.set_description(f'train loss={loss.item():.3f}')\n",
    "    return np.mean(losses)\n",
    "\n",
    "\n",
    "def validate(model, dataloder):\n",
    "    'compute the validation loss'\n",
    "    model.eval()\n",
    "    losses = []\n",
    "    with torch.no_grad():\n",
    "        for i, (x, y) in enumerate(dataloder):\n",
    "            src, trg_in, trg_out, src_pad_mask, trg_pad_mask = make_batch_input(x,y)\n",
    "            pred = model(src, src_pad_mask, trg_in, trg_pad_mask).to(DEVICE)\n",
    "            pred = pred.view(-1, pred.size(-1))\n",
    "            losses.append(loss_fn(pred, trg_out).item())\n",
    "    return np.mean(losses)\n",
    "\n",
    "def compute_accuracy(model, dataloader):\n",
    "    'compute the validation accuracy'\n",
    "    model.eval()\n",
    "    total_correct = 0\n",
    "    total_samples = 0\n",
    "    with torch.no_grad():\n",
    "        for i, (x, y) in enumerate(dataloader):\n",
    "            src, trg_in, trg_out, src_pad_mask, trg_pad_mask = make_batch_input(x, y)\n",
    "            pred = model(src, src_pad_mask, trg_in, trg_pad_mask).to(DEVICE)\n",
    "            pred = torch.argmax(pred, dim=-1)  # Get the indices of the maximum value along the last dimension\n",
    "            # Flatten trg_out to match pred for comparison\n",
    "            trg_out_flat = trg_out.view(-1)\n",
    "            correct = (pred.view(-1) == trg_out_flat).sum().item()\n",
    "            total_correct += correct\n",
    "            total_samples += trg_out_flat.size(0)\n",
    "    accuracy = total_correct / total_samples\n",
    "    return accuracy"
   ]
  },
  {
   "cell_type": "code",
   "execution_count": 14,
   "id": "370bf5cc",
   "metadata": {
    "execution": {
     "iopub.execute_input": "2024-04-22T18:57:37.499763Z",
     "iopub.status.busy": "2024-04-22T18:57:37.499482Z",
     "iopub.status.idle": "2024-04-23T03:31:49.013671Z",
     "shell.execute_reply": "2024-04-23T03:31:49.012545Z"
    },
    "papermill": {
     "duration": 30851.524612,
     "end_time": "2024-04-23T03:31:49.015942",
     "exception": false,
     "start_time": "2024-04-22T18:57:37.491330",
     "status": "completed"
    },
    "tags": []
   },
   "outputs": [
    {
     "name": "stderr",
     "output_type": "stream",
     "text": [
      "train loss=2.548: 100%|██████████| 3458/3458 [02:25<00:00, 23.83it/s]\n"
     ]
    },
    {
     "name": "stdout",
     "output_type": "stream",
     "text": [
      "ep:1 train_loss=2.72326, valid_loss=2.14941, valid_accuracy=0.66855\n"
     ]
    },
    {
     "name": "stderr",
     "output_type": "stream",
     "text": [
      "train loss=2.092: 100%|██████████| 3458/3458 [02:24<00:00, 23.91it/s]\n"
     ]
    },
    {
     "name": "stdout",
     "output_type": "stream",
     "text": [
      "ep:2 train_loss=2.03297, valid_loss=1.83754, valid_accuracy=0.69929\n"
     ]
    },
    {
     "name": "stderr",
     "output_type": "stream",
     "text": [
      "train loss=1.425: 100%|██████████| 3458/3458 [02:23<00:00, 24.07it/s]\n"
     ]
    },
    {
     "name": "stdout",
     "output_type": "stream",
     "text": [
      "ep:3 train_loss=1.79831, valid_loss=1.64714, valid_accuracy=0.71874\n"
     ]
    },
    {
     "name": "stderr",
     "output_type": "stream",
     "text": [
      "train loss=1.668: 100%|██████████| 3458/3458 [02:24<00:00, 23.94it/s]\n"
     ]
    },
    {
     "name": "stdout",
     "output_type": "stream",
     "text": [
      "ep:4 train_loss=1.64355, valid_loss=1.51135, valid_accuracy=0.73679\n"
     ]
    },
    {
     "name": "stderr",
     "output_type": "stream",
     "text": [
      "train loss=1.226: 100%|██████████| 3458/3458 [02:23<00:00, 24.09it/s]\n"
     ]
    },
    {
     "name": "stdout",
     "output_type": "stream",
     "text": [
      "ep:5 train_loss=1.52023, valid_loss=1.41932, valid_accuracy=0.75147\n"
     ]
    },
    {
     "name": "stderr",
     "output_type": "stream",
     "text": [
      "train loss=1.681: 100%|██████████| 3458/3458 [02:23<00:00, 24.07it/s]\n"
     ]
    },
    {
     "name": "stdout",
     "output_type": "stream",
     "text": [
      "ep:6 train_loss=1.41116, valid_loss=1.30220, valid_accuracy=0.76154\n"
     ]
    },
    {
     "name": "stderr",
     "output_type": "stream",
     "text": [
      "train loss=1.410: 100%|██████████| 3458/3458 [02:23<00:00, 24.04it/s]\n"
     ]
    },
    {
     "name": "stdout",
     "output_type": "stream",
     "text": [
      "ep:7 train_loss=1.31466, valid_loss=1.21228, valid_accuracy=0.77587\n"
     ]
    },
    {
     "name": "stderr",
     "output_type": "stream",
     "text": [
      "train loss=1.027: 100%|██████████| 3458/3458 [02:24<00:00, 23.98it/s]\n"
     ]
    },
    {
     "name": "stdout",
     "output_type": "stream",
     "text": [
      "ep:8 train_loss=1.23050, valid_loss=1.13347, valid_accuracy=0.78537\n"
     ]
    },
    {
     "name": "stderr",
     "output_type": "stream",
     "text": [
      "train loss=1.223: 100%|██████████| 3458/3458 [02:24<00:00, 23.90it/s]\n"
     ]
    },
    {
     "name": "stdout",
     "output_type": "stream",
     "text": [
      "ep:9 train_loss=1.15747, valid_loss=1.05327, valid_accuracy=0.79633\n"
     ]
    },
    {
     "name": "stderr",
     "output_type": "stream",
     "text": [
      "train loss=1.085: 100%|██████████| 3458/3458 [02:24<00:00, 23.97it/s]\n"
     ]
    },
    {
     "name": "stdout",
     "output_type": "stream",
     "text": [
      "ep:10 train_loss=1.09319, valid_loss=1.01623, valid_accuracy=0.80635\n"
     ]
    },
    {
     "name": "stderr",
     "output_type": "stream",
     "text": [
      "train loss=1.198: 100%|██████████| 3458/3458 [02:23<00:00, 24.04it/s]\n"
     ]
    },
    {
     "name": "stdout",
     "output_type": "stream",
     "text": [
      "ep:11 train_loss=1.03320, valid_loss=0.96367, valid_accuracy=0.81278\n"
     ]
    },
    {
     "name": "stderr",
     "output_type": "stream",
     "text": [
      "train loss=0.967: 100%|██████████| 3458/3458 [02:25<00:00, 23.82it/s]\n"
     ]
    },
    {
     "name": "stdout",
     "output_type": "stream",
     "text": [
      "ep:12 train_loss=0.97943, valid_loss=0.92063, valid_accuracy=0.81940\n"
     ]
    },
    {
     "name": "stderr",
     "output_type": "stream",
     "text": [
      "train loss=1.134: 100%|██████████| 3458/3458 [02:24<00:00, 23.94it/s]\n"
     ]
    },
    {
     "name": "stdout",
     "output_type": "stream",
     "text": [
      "ep:13 train_loss=0.93226, valid_loss=0.86631, valid_accuracy=0.82602\n"
     ]
    },
    {
     "name": "stderr",
     "output_type": "stream",
     "text": [
      "train loss=0.920: 100%|██████████| 3458/3458 [02:23<00:00, 24.03it/s]\n"
     ]
    },
    {
     "name": "stdout",
     "output_type": "stream",
     "text": [
      "ep:14 train_loss=0.89115, valid_loss=0.84605, valid_accuracy=0.83140\n"
     ]
    },
    {
     "name": "stderr",
     "output_type": "stream",
     "text": [
      "train loss=0.844: 100%|██████████| 3458/3458 [02:24<00:00, 23.94it/s]\n"
     ]
    },
    {
     "name": "stdout",
     "output_type": "stream",
     "text": [
      "ep:15 train_loss=0.85228, valid_loss=0.81299, valid_accuracy=0.83523\n"
     ]
    },
    {
     "name": "stderr",
     "output_type": "stream",
     "text": [
      "train loss=0.729: 100%|██████████| 3458/3458 [02:24<00:00, 23.89it/s]\n"
     ]
    },
    {
     "name": "stdout",
     "output_type": "stream",
     "text": [
      "ep:16 train_loss=0.81929, valid_loss=0.79933, valid_accuracy=0.83958\n"
     ]
    },
    {
     "name": "stderr",
     "output_type": "stream",
     "text": [
      "train loss=0.604: 100%|██████████| 3458/3458 [02:24<00:00, 23.93it/s]\n"
     ]
    },
    {
     "name": "stdout",
     "output_type": "stream",
     "text": [
      "ep:17 train_loss=0.78866, valid_loss=0.76890, valid_accuracy=0.84419\n"
     ]
    },
    {
     "name": "stderr",
     "output_type": "stream",
     "text": [
      "train loss=0.717: 100%|██████████| 3458/3458 [02:25<00:00, 23.82it/s]\n"
     ]
    },
    {
     "name": "stdout",
     "output_type": "stream",
     "text": [
      "ep:18 train_loss=0.76027, valid_loss=0.76162, valid_accuracy=0.84869\n"
     ]
    },
    {
     "name": "stderr",
     "output_type": "stream",
     "text": [
      "train loss=0.981: 100%|██████████| 3458/3458 [02:25<00:00, 23.76it/s]\n"
     ]
    },
    {
     "name": "stdout",
     "output_type": "stream",
     "text": [
      "ep:19 train_loss=0.73470, valid_loss=0.73220, valid_accuracy=0.84998\n"
     ]
    },
    {
     "name": "stderr",
     "output_type": "stream",
     "text": [
      "train loss=0.737: 100%|██████████| 3458/3458 [02:25<00:00, 23.79it/s]\n"
     ]
    },
    {
     "name": "stdout",
     "output_type": "stream",
     "text": [
      "ep:20 train_loss=0.71300, valid_loss=0.72964, valid_accuracy=0.85306\n"
     ]
    },
    {
     "name": "stderr",
     "output_type": "stream",
     "text": [
      "train loss=0.642: 100%|██████████| 3458/3458 [02:23<00:00, 24.06it/s]\n"
     ]
    },
    {
     "name": "stdout",
     "output_type": "stream",
     "text": [
      "ep:21 train_loss=0.69132, valid_loss=0.71511, valid_accuracy=0.85522\n"
     ]
    },
    {
     "name": "stderr",
     "output_type": "stream",
     "text": [
      "train loss=0.652: 100%|██████████| 3458/3458 [02:22<00:00, 24.31it/s]\n"
     ]
    },
    {
     "name": "stdout",
     "output_type": "stream",
     "text": [
      "ep:22 train_loss=0.67313, valid_loss=0.68848, valid_accuracy=0.85862\n"
     ]
    },
    {
     "name": "stderr",
     "output_type": "stream",
     "text": [
      "train loss=0.733: 100%|██████████| 3458/3458 [02:23<00:00, 24.11it/s]\n"
     ]
    },
    {
     "name": "stdout",
     "output_type": "stream",
     "text": [
      "ep:23 train_loss=0.65291, valid_loss=0.67827, valid_accuracy=0.86105\n"
     ]
    },
    {
     "name": "stderr",
     "output_type": "stream",
     "text": [
      "train loss=0.722: 100%|██████████| 3458/3458 [02:22<00:00, 24.26it/s]\n"
     ]
    },
    {
     "name": "stdout",
     "output_type": "stream",
     "text": [
      "ep:24 train_loss=0.63729, valid_loss=0.67730, valid_accuracy=0.86223\n"
     ]
    },
    {
     "name": "stderr",
     "output_type": "stream",
     "text": [
      "train loss=0.750: 100%|██████████| 3458/3458 [02:22<00:00, 24.20it/s]\n"
     ]
    },
    {
     "name": "stdout",
     "output_type": "stream",
     "text": [
      "ep:25 train_loss=0.62121, valid_loss=0.65981, valid_accuracy=0.86440\n"
     ]
    },
    {
     "name": "stderr",
     "output_type": "stream",
     "text": [
      "train loss=0.415: 100%|██████████| 3458/3458 [02:24<00:00, 23.98it/s]\n"
     ]
    },
    {
     "name": "stdout",
     "output_type": "stream",
     "text": [
      "ep:26 train_loss=0.60593, valid_loss=0.65980, valid_accuracy=0.86531\n"
     ]
    },
    {
     "name": "stderr",
     "output_type": "stream",
     "text": [
      "train loss=0.409: 100%|██████████| 3458/3458 [02:23<00:00, 24.03it/s]\n"
     ]
    },
    {
     "name": "stdout",
     "output_type": "stream",
     "text": [
      "ep:27 train_loss=0.59187, valid_loss=0.63889, valid_accuracy=0.86817\n"
     ]
    },
    {
     "name": "stderr",
     "output_type": "stream",
     "text": [
      "train loss=0.788: 100%|██████████| 3458/3458 [02:24<00:00, 23.96it/s]\n"
     ]
    },
    {
     "name": "stdout",
     "output_type": "stream",
     "text": [
      "ep:28 train_loss=0.57868, valid_loss=0.62659, valid_accuracy=0.86926\n"
     ]
    },
    {
     "name": "stderr",
     "output_type": "stream",
     "text": [
      "train loss=0.572: 100%|██████████| 3458/3458 [02:25<00:00, 23.83it/s]\n"
     ]
    },
    {
     "name": "stdout",
     "output_type": "stream",
     "text": [
      "ep:29 train_loss=0.56545, valid_loss=0.62306, valid_accuracy=0.86983\n"
     ]
    },
    {
     "name": "stderr",
     "output_type": "stream",
     "text": [
      "train loss=0.524: 100%|██████████| 3458/3458 [02:25<00:00, 23.76it/s]\n"
     ]
    },
    {
     "name": "stdout",
     "output_type": "stream",
     "text": [
      "ep:30 train_loss=0.55374, valid_loss=0.61847, valid_accuracy=0.87236\n"
     ]
    },
    {
     "name": "stderr",
     "output_type": "stream",
     "text": [
      "train loss=0.443: 100%|██████████| 3458/3458 [02:25<00:00, 23.80it/s]\n"
     ]
    },
    {
     "name": "stdout",
     "output_type": "stream",
     "text": [
      "ep:31 train_loss=0.54354, valid_loss=0.61193, valid_accuracy=0.87394\n"
     ]
    },
    {
     "name": "stderr",
     "output_type": "stream",
     "text": [
      "train loss=0.516: 100%|██████████| 3458/3458 [02:25<00:00, 23.84it/s]\n"
     ]
    },
    {
     "name": "stdout",
     "output_type": "stream",
     "text": [
      "ep:32 train_loss=0.53210, valid_loss=0.61538, valid_accuracy=0.87391\n"
     ]
    },
    {
     "name": "stderr",
     "output_type": "stream",
     "text": [
      "train loss=0.548: 100%|██████████| 3458/3458 [02:25<00:00, 23.78it/s]\n"
     ]
    },
    {
     "name": "stdout",
     "output_type": "stream",
     "text": [
      "ep:33 train_loss=0.52060, valid_loss=0.60563, valid_accuracy=0.87538\n"
     ]
    },
    {
     "name": "stderr",
     "output_type": "stream",
     "text": [
      "train loss=0.571: 100%|██████████| 3458/3458 [02:24<00:00, 23.89it/s]\n"
     ]
    },
    {
     "name": "stdout",
     "output_type": "stream",
     "text": [
      "ep:34 train_loss=0.51272, valid_loss=0.60011, valid_accuracy=0.87702\n"
     ]
    },
    {
     "name": "stderr",
     "output_type": "stream",
     "text": [
      "train loss=0.455: 100%|██████████| 3458/3458 [02:24<00:00, 23.89it/s]\n"
     ]
    },
    {
     "name": "stdout",
     "output_type": "stream",
     "text": [
      "ep:35 train_loss=0.50219, valid_loss=0.59786, valid_accuracy=0.87798\n"
     ]
    },
    {
     "name": "stderr",
     "output_type": "stream",
     "text": [
      "train loss=0.621: 100%|██████████| 3458/3458 [02:24<00:00, 23.92it/s]\n"
     ]
    },
    {
     "name": "stdout",
     "output_type": "stream",
     "text": [
      "ep:36 train_loss=0.49380, valid_loss=0.58832, valid_accuracy=0.87913\n"
     ]
    },
    {
     "name": "stderr",
     "output_type": "stream",
     "text": [
      "train loss=0.463: 100%|██████████| 3458/3458 [02:23<00:00, 24.17it/s]\n"
     ]
    },
    {
     "name": "stdout",
     "output_type": "stream",
     "text": [
      "ep:37 train_loss=0.48357, valid_loss=0.58037, valid_accuracy=0.88004\n"
     ]
    },
    {
     "name": "stderr",
     "output_type": "stream",
     "text": [
      "train loss=0.423: 100%|██████████| 3458/3458 [02:20<00:00, 24.54it/s]\n"
     ]
    },
    {
     "name": "stdout",
     "output_type": "stream",
     "text": [
      "ep:38 train_loss=0.47663, valid_loss=0.58608, valid_accuracy=0.88067\n"
     ]
    },
    {
     "name": "stderr",
     "output_type": "stream",
     "text": [
      "train loss=0.535: 100%|██████████| 3458/3458 [02:21<00:00, 24.39it/s]\n"
     ]
    },
    {
     "name": "stdout",
     "output_type": "stream",
     "text": [
      "ep:39 train_loss=0.46718, valid_loss=0.58273, valid_accuracy=0.88173\n"
     ]
    },
    {
     "name": "stderr",
     "output_type": "stream",
     "text": [
      "train loss=0.609: 100%|██████████| 3458/3458 [02:20<00:00, 24.56it/s]\n"
     ]
    },
    {
     "name": "stdout",
     "output_type": "stream",
     "text": [
      "ep:40 train_loss=0.46049, valid_loss=0.57456, valid_accuracy=0.88136\n"
     ]
    },
    {
     "name": "stderr",
     "output_type": "stream",
     "text": [
      "train loss=0.408: 100%|██████████| 3458/3458 [02:20<00:00, 24.55it/s]\n"
     ]
    },
    {
     "name": "stdout",
     "output_type": "stream",
     "text": [
      "ep:41 train_loss=0.45356, valid_loss=0.57497, valid_accuracy=0.88049\n"
     ]
    },
    {
     "name": "stderr",
     "output_type": "stream",
     "text": [
      "train loss=0.366: 100%|██████████| 3458/3458 [02:21<00:00, 24.52it/s]\n"
     ]
    },
    {
     "name": "stdout",
     "output_type": "stream",
     "text": [
      "ep:42 train_loss=0.44610, valid_loss=0.57311, valid_accuracy=0.88234\n"
     ]
    },
    {
     "name": "stderr",
     "output_type": "stream",
     "text": [
      "train loss=0.514: 100%|██████████| 3458/3458 [02:20<00:00, 24.67it/s]\n"
     ]
    },
    {
     "name": "stdout",
     "output_type": "stream",
     "text": [
      "ep:43 train_loss=0.43957, valid_loss=0.56450, valid_accuracy=0.88245\n"
     ]
    },
    {
     "name": "stderr",
     "output_type": "stream",
     "text": [
      "train loss=0.375: 100%|██████████| 3458/3458 [02:21<00:00, 24.44it/s]\n"
     ]
    },
    {
     "name": "stdout",
     "output_type": "stream",
     "text": [
      "ep:44 train_loss=0.43183, valid_loss=0.56613, valid_accuracy=0.88305\n"
     ]
    },
    {
     "name": "stderr",
     "output_type": "stream",
     "text": [
      "train loss=0.700: 100%|██████████| 3458/3458 [02:20<00:00, 24.63it/s]\n"
     ]
    },
    {
     "name": "stdout",
     "output_type": "stream",
     "text": [
      "ep:45 train_loss=0.42510, valid_loss=0.56617, valid_accuracy=0.88315\n"
     ]
    },
    {
     "name": "stderr",
     "output_type": "stream",
     "text": [
      "train loss=0.444: 100%|██████████| 3458/3458 [02:19<00:00, 24.72it/s]\n"
     ]
    },
    {
     "name": "stdout",
     "output_type": "stream",
     "text": [
      "ep:46 train_loss=0.41980, valid_loss=0.55779, valid_accuracy=0.88543\n"
     ]
    },
    {
     "name": "stderr",
     "output_type": "stream",
     "text": [
      "train loss=0.317: 100%|██████████| 3458/3458 [02:18<00:00, 24.94it/s]\n"
     ]
    },
    {
     "name": "stdout",
     "output_type": "stream",
     "text": [
      "ep:47 train_loss=0.41408, valid_loss=0.55585, valid_accuracy=0.88463\n"
     ]
    },
    {
     "name": "stderr",
     "output_type": "stream",
     "text": [
      "train loss=0.526: 100%|██████████| 3458/3458 [02:19<00:00, 24.78it/s]\n"
     ]
    },
    {
     "name": "stdout",
     "output_type": "stream",
     "text": [
      "ep:48 train_loss=0.40638, valid_loss=0.55668, valid_accuracy=0.88567\n"
     ]
    },
    {
     "name": "stderr",
     "output_type": "stream",
     "text": [
      "train loss=0.454: 100%|██████████| 3458/3458 [02:20<00:00, 24.58it/s]\n"
     ]
    },
    {
     "name": "stdout",
     "output_type": "stream",
     "text": [
      "ep:49 train_loss=0.40294, valid_loss=0.55646, valid_accuracy=0.88659\n"
     ]
    },
    {
     "name": "stderr",
     "output_type": "stream",
     "text": [
      "train loss=0.389: 100%|██████████| 3458/3458 [02:22<00:00, 24.23it/s]\n"
     ]
    },
    {
     "name": "stdout",
     "output_type": "stream",
     "text": [
      "ep:50 train_loss=0.39658, valid_loss=0.55310, valid_accuracy=0.88658\n"
     ]
    },
    {
     "name": "stderr",
     "output_type": "stream",
     "text": [
      "train loss=0.511: 100%|██████████| 3458/3458 [02:22<00:00, 24.34it/s]\n"
     ]
    },
    {
     "name": "stdout",
     "output_type": "stream",
     "text": [
      "ep:51 train_loss=0.39301, valid_loss=0.55464, valid_accuracy=0.88698\n"
     ]
    },
    {
     "name": "stderr",
     "output_type": "stream",
     "text": [
      "train loss=0.207: 100%|██████████| 3458/3458 [02:21<00:00, 24.40it/s]\n"
     ]
    },
    {
     "name": "stdout",
     "output_type": "stream",
     "text": [
      "ep:52 train_loss=0.38647, valid_loss=0.55056, valid_accuracy=0.88762\n"
     ]
    },
    {
     "name": "stderr",
     "output_type": "stream",
     "text": [
      "train loss=0.450: 100%|██████████| 3458/3458 [02:20<00:00, 24.56it/s]\n"
     ]
    },
    {
     "name": "stdout",
     "output_type": "stream",
     "text": [
      "ep:53 train_loss=0.38189, valid_loss=0.54888, valid_accuracy=0.88725\n"
     ]
    },
    {
     "name": "stderr",
     "output_type": "stream",
     "text": [
      "train loss=0.382: 100%|██████████| 3458/3458 [02:22<00:00, 24.32it/s]\n"
     ]
    },
    {
     "name": "stdout",
     "output_type": "stream",
     "text": [
      "ep:54 train_loss=0.37672, valid_loss=0.55081, valid_accuracy=0.88815\n"
     ]
    },
    {
     "name": "stderr",
     "output_type": "stream",
     "text": [
      "train loss=0.385: 100%|██████████| 3458/3458 [02:21<00:00, 24.51it/s]\n"
     ]
    },
    {
     "name": "stdout",
     "output_type": "stream",
     "text": [
      "ep:55 train_loss=0.37168, valid_loss=0.54530, valid_accuracy=0.88872\n"
     ]
    },
    {
     "name": "stderr",
     "output_type": "stream",
     "text": [
      "train loss=0.316: 100%|██████████| 3458/3458 [02:22<00:00, 24.35it/s]\n"
     ]
    },
    {
     "name": "stdout",
     "output_type": "stream",
     "text": [
      "ep:56 train_loss=0.36739, valid_loss=0.54564, valid_accuracy=0.88928\n"
     ]
    },
    {
     "name": "stderr",
     "output_type": "stream",
     "text": [
      "train loss=0.391: 100%|██████████| 3458/3458 [02:21<00:00, 24.52it/s]\n"
     ]
    },
    {
     "name": "stdout",
     "output_type": "stream",
     "text": [
      "ep:57 train_loss=0.36302, valid_loss=0.54361, valid_accuracy=0.88939\n"
     ]
    },
    {
     "name": "stderr",
     "output_type": "stream",
     "text": [
      "train loss=0.337: 100%|██████████| 3458/3458 [02:21<00:00, 24.45it/s]\n"
     ]
    },
    {
     "name": "stdout",
     "output_type": "stream",
     "text": [
      "ep:58 train_loss=0.35791, valid_loss=0.54405, valid_accuracy=0.88990\n"
     ]
    },
    {
     "name": "stderr",
     "output_type": "stream",
     "text": [
      "train loss=0.318: 100%|██████████| 3458/3458 [02:19<00:00, 24.78it/s]\n"
     ]
    },
    {
     "name": "stdout",
     "output_type": "stream",
     "text": [
      "ep:59 train_loss=0.35472, valid_loss=0.54540, valid_accuracy=0.88996\n"
     ]
    },
    {
     "name": "stderr",
     "output_type": "stream",
     "text": [
      "train loss=0.338: 100%|██████████| 3458/3458 [02:21<00:00, 24.38it/s]\n"
     ]
    },
    {
     "name": "stdout",
     "output_type": "stream",
     "text": [
      "ep:60 train_loss=0.34960, valid_loss=0.54516, valid_accuracy=0.89028\n"
     ]
    },
    {
     "name": "stderr",
     "output_type": "stream",
     "text": [
      "train loss=0.395: 100%|██████████| 3458/3458 [02:21<00:00, 24.38it/s]\n"
     ]
    },
    {
     "name": "stdout",
     "output_type": "stream",
     "text": [
      "ep:61 train_loss=0.34671, valid_loss=0.54249, valid_accuracy=0.89079\n"
     ]
    },
    {
     "name": "stderr",
     "output_type": "stream",
     "text": [
      "train loss=0.484: 100%|██████████| 3458/3458 [02:18<00:00, 24.95it/s]\n"
     ]
    },
    {
     "name": "stdout",
     "output_type": "stream",
     "text": [
      "ep:62 train_loss=0.34178, valid_loss=0.54225, valid_accuracy=0.89118\n"
     ]
    },
    {
     "name": "stderr",
     "output_type": "stream",
     "text": [
      "train loss=0.275: 100%|██████████| 3458/3458 [02:18<00:00, 24.91it/s]\n"
     ]
    },
    {
     "name": "stdout",
     "output_type": "stream",
     "text": [
      "ep:63 train_loss=0.33849, valid_loss=0.54560, valid_accuracy=0.89103\n"
     ]
    },
    {
     "name": "stderr",
     "output_type": "stream",
     "text": [
      "train loss=0.322: 100%|██████████| 3458/3458 [02:19<00:00, 24.86it/s]\n"
     ]
    },
    {
     "name": "stdout",
     "output_type": "stream",
     "text": [
      "ep:64 train_loss=0.33527, valid_loss=0.54673, valid_accuracy=0.89119\n"
     ]
    },
    {
     "name": "stderr",
     "output_type": "stream",
     "text": [
      "train loss=0.227: 100%|██████████| 3458/3458 [02:18<00:00, 25.00it/s]\n"
     ]
    },
    {
     "name": "stdout",
     "output_type": "stream",
     "text": [
      "ep:65 train_loss=0.33165, valid_loss=0.54200, valid_accuracy=0.89040\n"
     ]
    },
    {
     "name": "stderr",
     "output_type": "stream",
     "text": [
      "train loss=0.263: 100%|██████████| 3458/3458 [02:18<00:00, 24.89it/s]\n"
     ]
    },
    {
     "name": "stdout",
     "output_type": "stream",
     "text": [
      "ep:66 train_loss=0.32734, valid_loss=0.54532, valid_accuracy=0.89090\n"
     ]
    },
    {
     "name": "stderr",
     "output_type": "stream",
     "text": [
      "train loss=0.254: 100%|██████████| 3458/3458 [02:19<00:00, 24.78it/s]\n"
     ]
    },
    {
     "name": "stdout",
     "output_type": "stream",
     "text": [
      "ep:67 train_loss=0.32321, valid_loss=0.54492, valid_accuracy=0.89269\n"
     ]
    },
    {
     "name": "stderr",
     "output_type": "stream",
     "text": [
      "train loss=0.391: 100%|██████████| 3458/3458 [02:18<00:00, 24.90it/s]\n"
     ]
    },
    {
     "name": "stdout",
     "output_type": "stream",
     "text": [
      "ep:68 train_loss=0.32119, valid_loss=0.54457, valid_accuracy=0.89273\n"
     ]
    },
    {
     "name": "stderr",
     "output_type": "stream",
     "text": [
      "train loss=0.254: 100%|██████████| 3458/3458 [02:19<00:00, 24.74it/s]\n"
     ]
    },
    {
     "name": "stdout",
     "output_type": "stream",
     "text": [
      "ep:69 train_loss=0.31819, valid_loss=0.54417, valid_accuracy=0.89278\n"
     ]
    },
    {
     "name": "stderr",
     "output_type": "stream",
     "text": [
      "train loss=0.343: 100%|██████████| 3458/3458 [02:19<00:00, 24.83it/s]\n"
     ]
    },
    {
     "name": "stdout",
     "output_type": "stream",
     "text": [
      "ep:70 train_loss=0.31483, valid_loss=0.54357, valid_accuracy=0.89299\n"
     ]
    },
    {
     "name": "stderr",
     "output_type": "stream",
     "text": [
      "train loss=0.264: 100%|██████████| 3458/3458 [02:23<00:00, 24.13it/s]\n"
     ]
    },
    {
     "name": "stdout",
     "output_type": "stream",
     "text": [
      "ep:71 train_loss=0.31202, valid_loss=0.54136, valid_accuracy=0.89258\n"
     ]
    },
    {
     "name": "stderr",
     "output_type": "stream",
     "text": [
      "train loss=0.289: 100%|██████████| 3458/3458 [02:25<00:00, 23.74it/s]\n"
     ]
    },
    {
     "name": "stdout",
     "output_type": "stream",
     "text": [
      "ep:72 train_loss=0.30806, valid_loss=0.54103, valid_accuracy=0.89359\n"
     ]
    },
    {
     "name": "stderr",
     "output_type": "stream",
     "text": [
      "train loss=0.272: 100%|██████████| 3458/3458 [02:25<00:00, 23.80it/s]\n"
     ]
    },
    {
     "name": "stdout",
     "output_type": "stream",
     "text": [
      "ep:73 train_loss=0.30450, valid_loss=0.54386, valid_accuracy=0.89278\n"
     ]
    },
    {
     "name": "stderr",
     "output_type": "stream",
     "text": [
      "train loss=0.213: 100%|██████████| 3458/3458 [02:21<00:00, 24.37it/s]\n"
     ]
    },
    {
     "name": "stdout",
     "output_type": "stream",
     "text": [
      "ep:74 train_loss=0.30193, valid_loss=0.54519, valid_accuracy=0.89303\n"
     ]
    },
    {
     "name": "stderr",
     "output_type": "stream",
     "text": [
      "train loss=0.220: 100%|██████████| 3458/3458 [02:21<00:00, 24.41it/s]\n"
     ]
    },
    {
     "name": "stdout",
     "output_type": "stream",
     "text": [
      "ep:75 train_loss=0.30002, valid_loss=0.54159, valid_accuracy=0.89449\n"
     ]
    },
    {
     "name": "stderr",
     "output_type": "stream",
     "text": [
      "train loss=0.348: 100%|██████████| 3458/3458 [02:22<00:00, 24.24it/s]\n"
     ]
    },
    {
     "name": "stdout",
     "output_type": "stream",
     "text": [
      "ep:76 train_loss=0.29588, valid_loss=0.54376, valid_accuracy=0.89387\n"
     ]
    },
    {
     "name": "stderr",
     "output_type": "stream",
     "text": [
      "train loss=0.439: 100%|██████████| 3458/3458 [02:26<00:00, 23.62it/s]\n"
     ]
    },
    {
     "name": "stdout",
     "output_type": "stream",
     "text": [
      "ep:77 train_loss=0.29379, valid_loss=0.55021, valid_accuracy=0.89327\n"
     ]
    },
    {
     "name": "stderr",
     "output_type": "stream",
     "text": [
      "train loss=0.308: 100%|██████████| 3458/3458 [02:27<00:00, 23.44it/s]\n"
     ]
    },
    {
     "name": "stdout",
     "output_type": "stream",
     "text": [
      "ep:78 train_loss=0.29157, valid_loss=0.54757, valid_accuracy=0.89369\n"
     ]
    },
    {
     "name": "stderr",
     "output_type": "stream",
     "text": [
      "train loss=0.308: 100%|██████████| 3458/3458 [02:26<00:00, 23.57it/s]\n"
     ]
    },
    {
     "name": "stdout",
     "output_type": "stream",
     "text": [
      "ep:79 train_loss=0.28883, valid_loss=0.54776, valid_accuracy=0.89368\n"
     ]
    },
    {
     "name": "stderr",
     "output_type": "stream",
     "text": [
      "train loss=0.354: 100%|██████████| 3458/3458 [02:28<00:00, 23.33it/s]\n"
     ]
    },
    {
     "name": "stdout",
     "output_type": "stream",
     "text": [
      "ep:80 train_loss=0.28675, valid_loss=0.54426, valid_accuracy=0.89452\n"
     ]
    },
    {
     "name": "stderr",
     "output_type": "stream",
     "text": [
      "train loss=0.283: 100%|██████████| 3458/3458 [02:27<00:00, 23.48it/s]\n"
     ]
    },
    {
     "name": "stdout",
     "output_type": "stream",
     "text": [
      "ep:81 train_loss=0.28381, valid_loss=0.54828, valid_accuracy=0.89430\n"
     ]
    },
    {
     "name": "stderr",
     "output_type": "stream",
     "text": [
      "train loss=0.245: 100%|██████████| 3458/3458 [02:28<00:00, 23.35it/s]\n"
     ]
    },
    {
     "name": "stdout",
     "output_type": "stream",
     "text": [
      "ep:82 train_loss=0.28070, valid_loss=0.54991, valid_accuracy=0.89397\n"
     ]
    },
    {
     "name": "stderr",
     "output_type": "stream",
     "text": [
      "train loss=0.344: 100%|██████████| 3458/3458 [02:28<00:00, 23.32it/s]\n"
     ]
    },
    {
     "name": "stdout",
     "output_type": "stream",
     "text": [
      "ep:83 train_loss=0.27799, valid_loss=0.54671, valid_accuracy=0.89404\n"
     ]
    },
    {
     "name": "stderr",
     "output_type": "stream",
     "text": [
      "train loss=0.455: 100%|██████████| 3458/3458 [02:28<00:00, 23.28it/s]\n"
     ]
    },
    {
     "name": "stdout",
     "output_type": "stream",
     "text": [
      "ep:84 train_loss=0.27655, valid_loss=0.54241, valid_accuracy=0.89524\n"
     ]
    },
    {
     "name": "stderr",
     "output_type": "stream",
     "text": [
      "train loss=0.244: 100%|██████████| 3458/3458 [02:28<00:00, 23.35it/s]\n"
     ]
    },
    {
     "name": "stdout",
     "output_type": "stream",
     "text": [
      "ep:85 train_loss=0.27366, valid_loss=0.54826, valid_accuracy=0.89521\n"
     ]
    },
    {
     "name": "stderr",
     "output_type": "stream",
     "text": [
      "train loss=0.371: 100%|██████████| 3458/3458 [02:28<00:00, 23.36it/s]\n"
     ]
    },
    {
     "name": "stdout",
     "output_type": "stream",
     "text": [
      "ep:86 train_loss=0.27255, valid_loss=0.55184, valid_accuracy=0.89462\n"
     ]
    },
    {
     "name": "stderr",
     "output_type": "stream",
     "text": [
      "train loss=0.291: 100%|██████████| 3458/3458 [02:29<00:00, 23.18it/s]\n"
     ]
    },
    {
     "name": "stdout",
     "output_type": "stream",
     "text": [
      "ep:87 train_loss=0.26869, valid_loss=0.54533, valid_accuracy=0.89547\n"
     ]
    },
    {
     "name": "stderr",
     "output_type": "stream",
     "text": [
      "train loss=0.257: 100%|██████████| 3458/3458 [02:27<00:00, 23.46it/s]\n"
     ]
    },
    {
     "name": "stdout",
     "output_type": "stream",
     "text": [
      "ep:88 train_loss=0.26649, valid_loss=0.54592, valid_accuracy=0.89511\n"
     ]
    },
    {
     "name": "stderr",
     "output_type": "stream",
     "text": [
      "train loss=0.229: 100%|██████████| 3458/3458 [02:29<00:00, 23.16it/s]\n"
     ]
    },
    {
     "name": "stdout",
     "output_type": "stream",
     "text": [
      "ep:89 train_loss=0.26447, valid_loss=0.55212, valid_accuracy=0.89552\n"
     ]
    },
    {
     "name": "stderr",
     "output_type": "stream",
     "text": [
      "train loss=0.363: 100%|██████████| 3458/3458 [02:29<00:00, 23.17it/s]\n"
     ]
    },
    {
     "name": "stdout",
     "output_type": "stream",
     "text": [
      "ep:90 train_loss=0.26299, valid_loss=0.54727, valid_accuracy=0.89654\n"
     ]
    },
    {
     "name": "stderr",
     "output_type": "stream",
     "text": [
      "train loss=0.416: 100%|██████████| 3458/3458 [02:28<00:00, 23.26it/s]\n"
     ]
    },
    {
     "name": "stdout",
     "output_type": "stream",
     "text": [
      "ep:91 train_loss=0.26011, valid_loss=0.55432, valid_accuracy=0.89533\n"
     ]
    },
    {
     "name": "stderr",
     "output_type": "stream",
     "text": [
      "train loss=0.217: 100%|██████████| 3458/3458 [02:29<00:00, 23.06it/s]\n"
     ]
    },
    {
     "name": "stdout",
     "output_type": "stream",
     "text": [
      "ep:92 train_loss=0.25895, valid_loss=0.54900, valid_accuracy=0.89426\n"
     ]
    },
    {
     "name": "stderr",
     "output_type": "stream",
     "text": [
      "train loss=0.202: 100%|██████████| 3458/3458 [02:31<00:00, 22.87it/s]\n"
     ]
    },
    {
     "name": "stdout",
     "output_type": "stream",
     "text": [
      "ep:93 train_loss=0.25706, valid_loss=0.55714, valid_accuracy=0.89554\n"
     ]
    },
    {
     "name": "stderr",
     "output_type": "stream",
     "text": [
      "train loss=0.249: 100%|██████████| 3458/3458 [02:30<00:00, 23.03it/s]\n"
     ]
    },
    {
     "name": "stdout",
     "output_type": "stream",
     "text": [
      "ep:94 train_loss=0.25480, valid_loss=0.54997, valid_accuracy=0.89450\n"
     ]
    },
    {
     "name": "stderr",
     "output_type": "stream",
     "text": [
      "train loss=0.239: 100%|██████████| 3458/3458 [02:30<00:00, 22.99it/s]\n"
     ]
    },
    {
     "name": "stdout",
     "output_type": "stream",
     "text": [
      "ep:95 train_loss=0.25394, valid_loss=0.55432, valid_accuracy=0.89557\n"
     ]
    },
    {
     "name": "stderr",
     "output_type": "stream",
     "text": [
      "train loss=0.274: 100%|██████████| 3458/3458 [02:32<00:00, 22.75it/s]\n"
     ]
    },
    {
     "name": "stdout",
     "output_type": "stream",
     "text": [
      "ep:96 train_loss=0.25117, valid_loss=0.55023, valid_accuracy=0.89567\n"
     ]
    },
    {
     "name": "stderr",
     "output_type": "stream",
     "text": [
      "train loss=0.205: 100%|██████████| 3458/3458 [02:30<00:00, 22.99it/s]\n"
     ]
    },
    {
     "name": "stdout",
     "output_type": "stream",
     "text": [
      "ep:97 train_loss=0.24891, valid_loss=0.54965, valid_accuracy=0.89595\n"
     ]
    },
    {
     "name": "stderr",
     "output_type": "stream",
     "text": [
      "train loss=0.222: 100%|██████████| 3458/3458 [02:31<00:00, 22.88it/s]\n"
     ]
    },
    {
     "name": "stdout",
     "output_type": "stream",
     "text": [
      "ep:98 train_loss=0.24746, valid_loss=0.55581, valid_accuracy=0.89573\n"
     ]
    },
    {
     "name": "stderr",
     "output_type": "stream",
     "text": [
      "train loss=0.279: 100%|██████████| 3458/3458 [02:31<00:00, 22.88it/s]\n"
     ]
    },
    {
     "name": "stdout",
     "output_type": "stream",
     "text": [
      "ep:99 train_loss=0.24594, valid_loss=0.55252, valid_accuracy=0.89552\n"
     ]
    },
    {
     "name": "stderr",
     "output_type": "stream",
     "text": [
      "train loss=0.182: 100%|██████████| 3458/3458 [02:21<00:00, 24.46it/s]\n"
     ]
    },
    {
     "name": "stdout",
     "output_type": "stream",
     "text": [
      "ep:100 train_loss=0.24383, valid_loss=0.55331, valid_accuracy=0.89554\n"
     ]
    },
    {
     "name": "stderr",
     "output_type": "stream",
     "text": [
      "train loss=0.222: 100%|██████████| 3458/3458 [02:21<00:00, 24.35it/s]\n"
     ]
    },
    {
     "name": "stdout",
     "output_type": "stream",
     "text": [
      "ep:101 train_loss=0.24181, valid_loss=0.55248, valid_accuracy=0.89575\n"
     ]
    },
    {
     "name": "stderr",
     "output_type": "stream",
     "text": [
      "train loss=0.233: 100%|██████████| 3458/3458 [02:22<00:00, 24.33it/s]\n"
     ]
    },
    {
     "name": "stdout",
     "output_type": "stream",
     "text": [
      "ep:102 train_loss=0.24031, valid_loss=0.55623, valid_accuracy=0.89665\n"
     ]
    },
    {
     "name": "stderr",
     "output_type": "stream",
     "text": [
      "train loss=0.207: 100%|██████████| 3458/3458 [02:22<00:00, 24.27it/s]\n"
     ]
    },
    {
     "name": "stdout",
     "output_type": "stream",
     "text": [
      "ep:103 train_loss=0.23828, valid_loss=0.55946, valid_accuracy=0.89608\n"
     ]
    },
    {
     "name": "stderr",
     "output_type": "stream",
     "text": [
      "train loss=0.285: 100%|██████████| 3458/3458 [02:23<00:00, 24.10it/s]\n"
     ]
    },
    {
     "name": "stdout",
     "output_type": "stream",
     "text": [
      "ep:104 train_loss=0.23764, valid_loss=0.56027, valid_accuracy=0.89651\n"
     ]
    },
    {
     "name": "stderr",
     "output_type": "stream",
     "text": [
      "train loss=0.225: 100%|██████████| 3458/3458 [02:21<00:00, 24.51it/s]\n"
     ]
    },
    {
     "name": "stdout",
     "output_type": "stream",
     "text": [
      "ep:105 train_loss=0.23489, valid_loss=0.55540, valid_accuracy=0.89639\n"
     ]
    },
    {
     "name": "stderr",
     "output_type": "stream",
     "text": [
      "train loss=0.338: 100%|██████████| 3458/3458 [02:21<00:00, 24.38it/s]\n"
     ]
    },
    {
     "name": "stdout",
     "output_type": "stream",
     "text": [
      "ep:106 train_loss=0.23423, valid_loss=0.55709, valid_accuracy=0.89671\n"
     ]
    },
    {
     "name": "stderr",
     "output_type": "stream",
     "text": [
      "train loss=0.277: 100%|██████████| 3458/3458 [02:20<00:00, 24.67it/s]\n"
     ]
    },
    {
     "name": "stdout",
     "output_type": "stream",
     "text": [
      "ep:107 train_loss=0.23157, valid_loss=0.55722, valid_accuracy=0.89699\n"
     ]
    },
    {
     "name": "stderr",
     "output_type": "stream",
     "text": [
      "train loss=0.292: 100%|██████████| 3458/3458 [02:20<00:00, 24.57it/s]\n"
     ]
    },
    {
     "name": "stdout",
     "output_type": "stream",
     "text": [
      "ep:108 train_loss=0.23058, valid_loss=0.56001, valid_accuracy=0.89655\n"
     ]
    },
    {
     "name": "stderr",
     "output_type": "stream",
     "text": [
      "train loss=0.270: 100%|██████████| 3458/3458 [02:20<00:00, 24.59it/s]\n"
     ]
    },
    {
     "name": "stdout",
     "output_type": "stream",
     "text": [
      "ep:109 train_loss=0.22875, valid_loss=0.55867, valid_accuracy=0.89664\n"
     ]
    },
    {
     "name": "stderr",
     "output_type": "stream",
     "text": [
      "train loss=0.245: 100%|██████████| 3458/3458 [02:19<00:00, 24.71it/s]\n"
     ]
    },
    {
     "name": "stdout",
     "output_type": "stream",
     "text": [
      "ep:110 train_loss=0.22761, valid_loss=0.56044, valid_accuracy=0.89660\n"
     ]
    },
    {
     "name": "stderr",
     "output_type": "stream",
     "text": [
      "train loss=0.306: 100%|██████████| 3458/3458 [02:23<00:00, 24.10it/s]\n"
     ]
    },
    {
     "name": "stdout",
     "output_type": "stream",
     "text": [
      "ep:111 train_loss=0.22656, valid_loss=0.56561, valid_accuracy=0.89604\n"
     ]
    },
    {
     "name": "stderr",
     "output_type": "stream",
     "text": [
      "train loss=0.268: 100%|██████████| 3458/3458 [02:22<00:00, 24.34it/s]\n"
     ]
    },
    {
     "name": "stdout",
     "output_type": "stream",
     "text": [
      "ep:112 train_loss=0.22538, valid_loss=0.56775, valid_accuracy=0.89815\n"
     ]
    },
    {
     "name": "stderr",
     "output_type": "stream",
     "text": [
      "train loss=0.152: 100%|██████████| 3458/3458 [02:21<00:00, 24.48it/s]\n"
     ]
    },
    {
     "name": "stdout",
     "output_type": "stream",
     "text": [
      "ep:113 train_loss=0.22361, valid_loss=0.56201, valid_accuracy=0.89661\n"
     ]
    },
    {
     "name": "stderr",
     "output_type": "stream",
     "text": [
      "train loss=0.208: 100%|██████████| 3458/3458 [02:21<00:00, 24.42it/s]\n"
     ]
    },
    {
     "name": "stdout",
     "output_type": "stream",
     "text": [
      "ep:114 train_loss=0.22225, valid_loss=0.56774, valid_accuracy=0.89680\n"
     ]
    },
    {
     "name": "stderr",
     "output_type": "stream",
     "text": [
      "train loss=0.308: 100%|██████████| 3458/3458 [02:31<00:00, 22.81it/s]\n"
     ]
    },
    {
     "name": "stdout",
     "output_type": "stream",
     "text": [
      "ep:115 train_loss=0.22039, valid_loss=0.56537, valid_accuracy=0.89681\n"
     ]
    },
    {
     "name": "stderr",
     "output_type": "stream",
     "text": [
      "train loss=0.202: 100%|██████████| 3458/3458 [02:42<00:00, 21.33it/s]\n"
     ]
    },
    {
     "name": "stdout",
     "output_type": "stream",
     "text": [
      "ep:116 train_loss=0.21957, valid_loss=0.56461, valid_accuracy=0.89794\n"
     ]
    },
    {
     "name": "stderr",
     "output_type": "stream",
     "text": [
      "train loss=0.241: 100%|██████████| 3458/3458 [02:39<00:00, 21.65it/s]\n"
     ]
    },
    {
     "name": "stdout",
     "output_type": "stream",
     "text": [
      "ep:117 train_loss=0.21793, valid_loss=0.57260, valid_accuracy=0.89733\n"
     ]
    },
    {
     "name": "stderr",
     "output_type": "stream",
     "text": [
      "train loss=0.146: 100%|██████████| 3458/3458 [02:42<00:00, 21.24it/s]\n"
     ]
    },
    {
     "name": "stdout",
     "output_type": "stream",
     "text": [
      "ep:118 train_loss=0.21653, valid_loss=0.56608, valid_accuracy=0.89734\n"
     ]
    },
    {
     "name": "stderr",
     "output_type": "stream",
     "text": [
      "train loss=0.259: 100%|██████████| 3458/3458 [02:32<00:00, 22.73it/s]\n"
     ]
    },
    {
     "name": "stdout",
     "output_type": "stream",
     "text": [
      "ep:119 train_loss=0.21545, valid_loss=0.57250, valid_accuracy=0.89686\n"
     ]
    },
    {
     "name": "stderr",
     "output_type": "stream",
     "text": [
      "train loss=0.281: 100%|██████████| 3458/3458 [02:35<00:00, 22.30it/s]\n"
     ]
    },
    {
     "name": "stdout",
     "output_type": "stream",
     "text": [
      "ep:120 train_loss=0.21362, valid_loss=0.56650, valid_accuracy=0.89783\n"
     ]
    },
    {
     "name": "stderr",
     "output_type": "stream",
     "text": [
      "train loss=0.229: 100%|██████████| 3458/3458 [02:35<00:00, 22.28it/s]\n"
     ]
    },
    {
     "name": "stdout",
     "output_type": "stream",
     "text": [
      "ep:121 train_loss=0.21237, valid_loss=0.56587, valid_accuracy=0.89683\n"
     ]
    },
    {
     "name": "stderr",
     "output_type": "stream",
     "text": [
      "train loss=0.196: 100%|██████████| 3458/3458 [02:33<00:00, 22.48it/s]\n"
     ]
    },
    {
     "name": "stdout",
     "output_type": "stream",
     "text": [
      "ep:122 train_loss=0.21051, valid_loss=0.56941, valid_accuracy=0.89785\n"
     ]
    },
    {
     "name": "stderr",
     "output_type": "stream",
     "text": [
      "train loss=0.186: 100%|██████████| 3458/3458 [02:27<00:00, 23.38it/s]\n"
     ]
    },
    {
     "name": "stdout",
     "output_type": "stream",
     "text": [
      "ep:123 train_loss=0.20971, valid_loss=0.57146, valid_accuracy=0.89789\n"
     ]
    },
    {
     "name": "stderr",
     "output_type": "stream",
     "text": [
      "train loss=0.260: 100%|██████████| 3458/3458 [02:25<00:00, 23.77it/s]\n"
     ]
    },
    {
     "name": "stdout",
     "output_type": "stream",
     "text": [
      "ep:124 train_loss=0.20934, valid_loss=0.57152, valid_accuracy=0.89767\n"
     ]
    },
    {
     "name": "stderr",
     "output_type": "stream",
     "text": [
      "train loss=0.148: 100%|██████████| 3458/3458 [02:23<00:00, 24.17it/s]\n"
     ]
    },
    {
     "name": "stdout",
     "output_type": "stream",
     "text": [
      "ep:125 train_loss=0.20726, valid_loss=0.57366, valid_accuracy=0.89823\n"
     ]
    },
    {
     "name": "stderr",
     "output_type": "stream",
     "text": [
      "train loss=0.209: 100%|██████████| 3458/3458 [02:23<00:00, 24.02it/s]\n"
     ]
    },
    {
     "name": "stdout",
     "output_type": "stream",
     "text": [
      "ep:126 train_loss=0.20562, valid_loss=0.57580, valid_accuracy=0.89765\n"
     ]
    },
    {
     "name": "stderr",
     "output_type": "stream",
     "text": [
      "train loss=0.234: 100%|██████████| 3458/3458 [02:23<00:00, 24.06it/s]\n"
     ]
    },
    {
     "name": "stdout",
     "output_type": "stream",
     "text": [
      "ep:127 train_loss=0.20472, valid_loss=0.57991, valid_accuracy=0.89727\n"
     ]
    },
    {
     "name": "stderr",
     "output_type": "stream",
     "text": [
      "train loss=0.149: 100%|██████████| 3458/3458 [02:23<00:00, 24.03it/s]\n"
     ]
    },
    {
     "name": "stdout",
     "output_type": "stream",
     "text": [
      "ep:128 train_loss=0.20363, valid_loss=0.57781, valid_accuracy=0.89815\n"
     ]
    },
    {
     "name": "stderr",
     "output_type": "stream",
     "text": [
      "train loss=0.211: 100%|██████████| 3458/3458 [02:21<00:00, 24.51it/s]\n"
     ]
    },
    {
     "name": "stdout",
     "output_type": "stream",
     "text": [
      "ep:129 train_loss=0.20267, valid_loss=0.57481, valid_accuracy=0.89835\n"
     ]
    },
    {
     "name": "stderr",
     "output_type": "stream",
     "text": [
      "train loss=0.255: 100%|██████████| 3458/3458 [02:21<00:00, 24.52it/s]\n"
     ]
    },
    {
     "name": "stdout",
     "output_type": "stream",
     "text": [
      "ep:130 train_loss=0.20178, valid_loss=0.58084, valid_accuracy=0.89852\n"
     ]
    },
    {
     "name": "stderr",
     "output_type": "stream",
     "text": [
      "train loss=0.190: 100%|██████████| 3458/3458 [02:21<00:00, 24.44it/s]\n"
     ]
    },
    {
     "name": "stdout",
     "output_type": "stream",
     "text": [
      "ep:131 train_loss=0.20032, valid_loss=0.57583, valid_accuracy=0.89798\n"
     ]
    },
    {
     "name": "stderr",
     "output_type": "stream",
     "text": [
      "train loss=0.203: 100%|██████████| 3458/3458 [02:21<00:00, 24.49it/s]\n"
     ]
    },
    {
     "name": "stdout",
     "output_type": "stream",
     "text": [
      "ep:132 train_loss=0.19977, valid_loss=0.58335, valid_accuracy=0.89859\n"
     ]
    },
    {
     "name": "stderr",
     "output_type": "stream",
     "text": [
      "train loss=0.139: 100%|██████████| 3458/3458 [02:26<00:00, 23.65it/s]\n"
     ]
    },
    {
     "name": "stdout",
     "output_type": "stream",
     "text": [
      "ep:133 train_loss=0.19881, valid_loss=0.58500, valid_accuracy=0.89813\n"
     ]
    },
    {
     "name": "stderr",
     "output_type": "stream",
     "text": [
      "train loss=0.186: 100%|██████████| 3458/3458 [02:24<00:00, 23.90it/s]\n"
     ]
    },
    {
     "name": "stdout",
     "output_type": "stream",
     "text": [
      "ep:134 train_loss=0.19671, valid_loss=0.58053, valid_accuracy=0.89757\n"
     ]
    },
    {
     "name": "stderr",
     "output_type": "stream",
     "text": [
      "train loss=0.271: 100%|██████████| 3458/3458 [02:21<00:00, 24.44it/s]\n"
     ]
    },
    {
     "name": "stdout",
     "output_type": "stream",
     "text": [
      "ep:135 train_loss=0.19600, valid_loss=0.57868, valid_accuracy=0.89847\n"
     ]
    },
    {
     "name": "stderr",
     "output_type": "stream",
     "text": [
      "train loss=0.227: 100%|██████████| 3458/3458 [02:18<00:00, 24.94it/s]\n"
     ]
    },
    {
     "name": "stdout",
     "output_type": "stream",
     "text": [
      "ep:136 train_loss=0.19542, valid_loss=0.57570, valid_accuracy=0.89840\n"
     ]
    },
    {
     "name": "stderr",
     "output_type": "stream",
     "text": [
      "train loss=0.201: 100%|██████████| 3458/3458 [02:18<00:00, 24.89it/s]\n"
     ]
    },
    {
     "name": "stdout",
     "output_type": "stream",
     "text": [
      "ep:137 train_loss=0.19429, valid_loss=0.58555, valid_accuracy=0.89801\n"
     ]
    },
    {
     "name": "stderr",
     "output_type": "stream",
     "text": [
      "train loss=0.259: 100%|██████████| 3458/3458 [02:19<00:00, 24.76it/s]\n"
     ]
    },
    {
     "name": "stdout",
     "output_type": "stream",
     "text": [
      "ep:138 train_loss=0.19358, valid_loss=0.58559, valid_accuracy=0.89838\n"
     ]
    },
    {
     "name": "stderr",
     "output_type": "stream",
     "text": [
      "train loss=0.184: 100%|██████████| 3458/3458 [02:19<00:00, 24.81it/s]\n"
     ]
    },
    {
     "name": "stdout",
     "output_type": "stream",
     "text": [
      "ep:139 train_loss=0.19215, valid_loss=0.58619, valid_accuracy=0.89830\n"
     ]
    },
    {
     "name": "stderr",
     "output_type": "stream",
     "text": [
      "train loss=0.217: 100%|██████████| 3458/3458 [02:20<00:00, 24.69it/s]\n"
     ]
    },
    {
     "name": "stdout",
     "output_type": "stream",
     "text": [
      "ep:140 train_loss=0.19117, valid_loss=0.58593, valid_accuracy=0.89792\n"
     ]
    },
    {
     "name": "stderr",
     "output_type": "stream",
     "text": [
      "train loss=0.198: 100%|██████████| 3458/3458 [02:25<00:00, 23.79it/s]\n"
     ]
    },
    {
     "name": "stdout",
     "output_type": "stream",
     "text": [
      "ep:141 train_loss=0.19025, valid_loss=0.58805, valid_accuracy=0.89825\n"
     ]
    },
    {
     "name": "stderr",
     "output_type": "stream",
     "text": [
      "train loss=0.190: 100%|██████████| 3458/3458 [02:28<00:00, 23.34it/s]\n"
     ]
    },
    {
     "name": "stdout",
     "output_type": "stream",
     "text": [
      "ep:142 train_loss=0.18969, valid_loss=0.58269, valid_accuracy=0.89892\n"
     ]
    },
    {
     "name": "stderr",
     "output_type": "stream",
     "text": [
      "train loss=0.181: 100%|██████████| 3458/3458 [02:23<00:00, 24.13it/s]\n"
     ]
    },
    {
     "name": "stdout",
     "output_type": "stream",
     "text": [
      "ep:143 train_loss=0.18839, valid_loss=0.58673, valid_accuracy=0.89918\n"
     ]
    },
    {
     "name": "stderr",
     "output_type": "stream",
     "text": [
      "train loss=0.220: 100%|██████████| 3458/3458 [02:31<00:00, 22.85it/s]\n"
     ]
    },
    {
     "name": "stdout",
     "output_type": "stream",
     "text": [
      "ep:144 train_loss=0.18801, valid_loss=0.58320, valid_accuracy=0.89783\n"
     ]
    },
    {
     "name": "stderr",
     "output_type": "stream",
     "text": [
      "train loss=0.207: 100%|██████████| 3458/3458 [02:30<00:00, 22.96it/s]\n"
     ]
    },
    {
     "name": "stdout",
     "output_type": "stream",
     "text": [
      "ep:145 train_loss=0.18716, valid_loss=0.59013, valid_accuracy=0.89819\n"
     ]
    },
    {
     "name": "stderr",
     "output_type": "stream",
     "text": [
      "train loss=0.165: 100%|██████████| 3458/3458 [02:31<00:00, 22.85it/s]\n"
     ]
    },
    {
     "name": "stdout",
     "output_type": "stream",
     "text": [
      "ep:146 train_loss=0.18554, valid_loss=0.58812, valid_accuracy=0.89835\n"
     ]
    },
    {
     "name": "stderr",
     "output_type": "stream",
     "text": [
      "train loss=0.258: 100%|██████████| 3458/3458 [02:33<00:00, 22.59it/s]\n"
     ]
    },
    {
     "name": "stdout",
     "output_type": "stream",
     "text": [
      "ep:147 train_loss=0.18386, valid_loss=0.59055, valid_accuracy=0.89861\n"
     ]
    },
    {
     "name": "stderr",
     "output_type": "stream",
     "text": [
      "train loss=0.244: 100%|██████████| 3458/3458 [02:33<00:00, 22.58it/s]\n"
     ]
    },
    {
     "name": "stdout",
     "output_type": "stream",
     "text": [
      "ep:148 train_loss=0.18388, valid_loss=0.58591, valid_accuracy=0.89853\n"
     ]
    },
    {
     "name": "stderr",
     "output_type": "stream",
     "text": [
      "train loss=0.200: 100%|██████████| 3458/3458 [02:32<00:00, 22.63it/s]\n"
     ]
    },
    {
     "name": "stdout",
     "output_type": "stream",
     "text": [
      "ep:149 train_loss=0.18264, valid_loss=0.59278, valid_accuracy=0.89830\n"
     ]
    },
    {
     "name": "stderr",
     "output_type": "stream",
     "text": [
      "train loss=0.161: 100%|██████████| 3458/3458 [02:31<00:00, 22.90it/s]\n"
     ]
    },
    {
     "name": "stdout",
     "output_type": "stream",
     "text": [
      "ep:150 train_loss=0.18144, valid_loss=0.59406, valid_accuracy=0.89857\n"
     ]
    },
    {
     "name": "stderr",
     "output_type": "stream",
     "text": [
      "train loss=0.212: 100%|██████████| 3458/3458 [02:34<00:00, 22.40it/s]\n"
     ]
    },
    {
     "name": "stdout",
     "output_type": "stream",
     "text": [
      "ep:151 train_loss=0.18112, valid_loss=0.59240, valid_accuracy=0.89858\n"
     ]
    },
    {
     "name": "stderr",
     "output_type": "stream",
     "text": [
      "train loss=0.139: 100%|██████████| 3458/3458 [02:34<00:00, 22.42it/s]\n"
     ]
    },
    {
     "name": "stdout",
     "output_type": "stream",
     "text": [
      "ep:152 train_loss=0.18047, valid_loss=0.59056, valid_accuracy=0.89874\n"
     ]
    },
    {
     "name": "stderr",
     "output_type": "stream",
     "text": [
      "train loss=0.181: 100%|██████████| 3458/3458 [02:33<00:00, 22.55it/s]\n"
     ]
    },
    {
     "name": "stdout",
     "output_type": "stream",
     "text": [
      "ep:153 train_loss=0.17908, valid_loss=0.59384, valid_accuracy=0.89870\n"
     ]
    },
    {
     "name": "stderr",
     "output_type": "stream",
     "text": [
      "train loss=0.174: 100%|██████████| 3458/3458 [02:36<00:00, 22.09it/s]\n"
     ]
    },
    {
     "name": "stdout",
     "output_type": "stream",
     "text": [
      "ep:154 train_loss=0.17862, valid_loss=0.59954, valid_accuracy=0.89901\n"
     ]
    },
    {
     "name": "stderr",
     "output_type": "stream",
     "text": [
      "train loss=0.170: 100%|██████████| 3458/3458 [02:34<00:00, 22.44it/s]\n"
     ]
    },
    {
     "name": "stdout",
     "output_type": "stream",
     "text": [
      "ep:155 train_loss=0.17792, valid_loss=0.59734, valid_accuracy=0.89795\n"
     ]
    },
    {
     "name": "stderr",
     "output_type": "stream",
     "text": [
      "train loss=0.173: 100%|██████████| 3458/3458 [02:35<00:00, 22.30it/s]\n"
     ]
    },
    {
     "name": "stdout",
     "output_type": "stream",
     "text": [
      "ep:156 train_loss=0.17686, valid_loss=0.59613, valid_accuracy=0.89839\n"
     ]
    },
    {
     "name": "stderr",
     "output_type": "stream",
     "text": [
      "train loss=0.153: 100%|██████████| 3458/3458 [02:32<00:00, 22.72it/s]\n"
     ]
    },
    {
     "name": "stdout",
     "output_type": "stream",
     "text": [
      "ep:157 train_loss=0.17664, valid_loss=0.59580, valid_accuracy=0.89810\n"
     ]
    },
    {
     "name": "stderr",
     "output_type": "stream",
     "text": [
      "train loss=0.234: 100%|██████████| 3458/3458 [02:33<00:00, 22.52it/s]\n"
     ]
    },
    {
     "name": "stdout",
     "output_type": "stream",
     "text": [
      "ep:158 train_loss=0.17567, valid_loss=0.59159, valid_accuracy=0.89878\n"
     ]
    },
    {
     "name": "stderr",
     "output_type": "stream",
     "text": [
      "train loss=0.181: 100%|██████████| 3458/3458 [02:31<00:00, 22.76it/s]\n"
     ]
    },
    {
     "name": "stdout",
     "output_type": "stream",
     "text": [
      "ep:159 train_loss=0.17505, valid_loss=0.60137, valid_accuracy=0.89937\n"
     ]
    },
    {
     "name": "stderr",
     "output_type": "stream",
     "text": [
      "train loss=0.168: 100%|██████████| 3458/3458 [02:32<00:00, 22.68it/s]\n"
     ]
    },
    {
     "name": "stdout",
     "output_type": "stream",
     "text": [
      "ep:160 train_loss=0.17466, valid_loss=0.60462, valid_accuracy=0.89866\n"
     ]
    },
    {
     "name": "stderr",
     "output_type": "stream",
     "text": [
      "train loss=0.175: 100%|██████████| 3458/3458 [02:30<00:00, 23.04it/s]\n"
     ]
    },
    {
     "name": "stdout",
     "output_type": "stream",
     "text": [
      "ep:161 train_loss=0.17230, valid_loss=0.60746, valid_accuracy=0.89925\n"
     ]
    },
    {
     "name": "stderr",
     "output_type": "stream",
     "text": [
      "train loss=0.214: 100%|██████████| 3458/3458 [02:36<00:00, 22.14it/s]\n"
     ]
    },
    {
     "name": "stdout",
     "output_type": "stream",
     "text": [
      "ep:162 train_loss=0.17283, valid_loss=0.59638, valid_accuracy=0.89931\n"
     ]
    },
    {
     "name": "stderr",
     "output_type": "stream",
     "text": [
      "train loss=0.189: 100%|██████████| 3458/3458 [02:35<00:00, 22.30it/s]\n"
     ]
    },
    {
     "name": "stdout",
     "output_type": "stream",
     "text": [
      "ep:163 train_loss=0.17198, valid_loss=0.60431, valid_accuracy=0.89917\n"
     ]
    },
    {
     "name": "stderr",
     "output_type": "stream",
     "text": [
      "train loss=0.143: 100%|██████████| 3458/3458 [02:31<00:00, 22.79it/s]\n"
     ]
    },
    {
     "name": "stdout",
     "output_type": "stream",
     "text": [
      "ep:164 train_loss=0.17147, valid_loss=0.59898, valid_accuracy=0.89942\n"
     ]
    },
    {
     "name": "stderr",
     "output_type": "stream",
     "text": [
      "train loss=0.172: 100%|██████████| 3458/3458 [02:35<00:00, 22.30it/s]\n"
     ]
    },
    {
     "name": "stdout",
     "output_type": "stream",
     "text": [
      "ep:165 train_loss=0.17026, valid_loss=0.60126, valid_accuracy=0.89884\n"
     ]
    },
    {
     "name": "stderr",
     "output_type": "stream",
     "text": [
      "train loss=0.097: 100%|██████████| 3458/3458 [02:30<00:00, 22.95it/s]\n"
     ]
    },
    {
     "name": "stdout",
     "output_type": "stream",
     "text": [
      "ep:166 train_loss=0.16965, valid_loss=0.59973, valid_accuracy=0.89826\n"
     ]
    },
    {
     "name": "stderr",
     "output_type": "stream",
     "text": [
      "train loss=0.171: 100%|██████████| 3458/3458 [02:33<00:00, 22.46it/s]\n"
     ]
    },
    {
     "name": "stdout",
     "output_type": "stream",
     "text": [
      "ep:167 train_loss=0.16916, valid_loss=0.60496, valid_accuracy=0.89963\n"
     ]
    },
    {
     "name": "stderr",
     "output_type": "stream",
     "text": [
      "train loss=0.154: 100%|██████████| 3458/3458 [02:30<00:00, 23.02it/s]\n"
     ]
    },
    {
     "name": "stdout",
     "output_type": "stream",
     "text": [
      "ep:168 train_loss=0.16848, valid_loss=0.61210, valid_accuracy=0.89908\n"
     ]
    },
    {
     "name": "stderr",
     "output_type": "stream",
     "text": [
      "train loss=0.169: 100%|██████████| 3458/3458 [02:30<00:00, 22.94it/s]\n"
     ]
    },
    {
     "name": "stdout",
     "output_type": "stream",
     "text": [
      "ep:169 train_loss=0.16838, valid_loss=0.60218, valid_accuracy=0.89881\n"
     ]
    },
    {
     "name": "stderr",
     "output_type": "stream",
     "text": [
      "train loss=0.188: 100%|██████████| 3458/3458 [02:26<00:00, 23.54it/s]\n"
     ]
    },
    {
     "name": "stdout",
     "output_type": "stream",
     "text": [
      "ep:170 train_loss=0.16695, valid_loss=0.60378, valid_accuracy=0.89902\n"
     ]
    },
    {
     "name": "stderr",
     "output_type": "stream",
     "text": [
      "train loss=0.234: 100%|██████████| 3458/3458 [02:26<00:00, 23.60it/s]\n"
     ]
    },
    {
     "name": "stdout",
     "output_type": "stream",
     "text": [
      "ep:171 train_loss=0.16715, valid_loss=0.60813, valid_accuracy=0.89934\n"
     ]
    },
    {
     "name": "stderr",
     "output_type": "stream",
     "text": [
      "train loss=0.160: 100%|██████████| 3458/3458 [02:26<00:00, 23.56it/s]\n"
     ]
    },
    {
     "name": "stdout",
     "output_type": "stream",
     "text": [
      "ep:172 train_loss=0.16615, valid_loss=0.60374, valid_accuracy=0.89939\n"
     ]
    },
    {
     "name": "stderr",
     "output_type": "stream",
     "text": [
      "train loss=0.087: 100%|██████████| 3458/3458 [02:23<00:00, 24.08it/s]\n"
     ]
    },
    {
     "name": "stdout",
     "output_type": "stream",
     "text": [
      "ep:173 train_loss=0.16466, valid_loss=0.60295, valid_accuracy=0.89864\n"
     ]
    },
    {
     "name": "stderr",
     "output_type": "stream",
     "text": [
      "train loss=0.201: 100%|██████████| 3458/3458 [02:21<00:00, 24.36it/s]\n"
     ]
    },
    {
     "name": "stdout",
     "output_type": "stream",
     "text": [
      "ep:174 train_loss=0.16456, valid_loss=0.60951, valid_accuracy=0.89959\n"
     ]
    },
    {
     "name": "stderr",
     "output_type": "stream",
     "text": [
      "train loss=0.138: 100%|██████████| 3458/3458 [02:23<00:00, 24.13it/s]\n"
     ]
    },
    {
     "name": "stdout",
     "output_type": "stream",
     "text": [
      "ep:175 train_loss=0.16381, valid_loss=0.61150, valid_accuracy=0.89892\n"
     ]
    },
    {
     "name": "stderr",
     "output_type": "stream",
     "text": [
      "train loss=0.175: 100%|██████████| 3458/3458 [02:23<00:00, 24.16it/s]\n"
     ]
    },
    {
     "name": "stdout",
     "output_type": "stream",
     "text": [
      "ep:176 train_loss=0.16314, valid_loss=0.60625, valid_accuracy=0.89966\n"
     ]
    },
    {
     "name": "stderr",
     "output_type": "stream",
     "text": [
      "train loss=0.130: 100%|██████████| 3458/3458 [02:24<00:00, 24.00it/s]\n"
     ]
    },
    {
     "name": "stdout",
     "output_type": "stream",
     "text": [
      "ep:177 train_loss=0.16237, valid_loss=0.61450, valid_accuracy=0.89924\n"
     ]
    },
    {
     "name": "stderr",
     "output_type": "stream",
     "text": [
      "train loss=0.151: 100%|██████████| 3458/3458 [02:21<00:00, 24.50it/s]\n"
     ]
    },
    {
     "name": "stdout",
     "output_type": "stream",
     "text": [
      "ep:178 train_loss=0.16235, valid_loss=0.61334, valid_accuracy=0.89931\n"
     ]
    },
    {
     "name": "stderr",
     "output_type": "stream",
     "text": [
      "train loss=0.120: 100%|██████████| 3458/3458 [02:25<00:00, 23.71it/s]\n"
     ]
    },
    {
     "name": "stdout",
     "output_type": "stream",
     "text": [
      "ep:179 train_loss=0.16193, valid_loss=0.61171, valid_accuracy=0.89988\n"
     ]
    },
    {
     "name": "stderr",
     "output_type": "stream",
     "text": [
      "train loss=0.169: 100%|██████████| 3458/3458 [02:28<00:00, 23.31it/s]\n"
     ]
    },
    {
     "name": "stdout",
     "output_type": "stream",
     "text": [
      "ep:180 train_loss=0.16064, valid_loss=0.61264, valid_accuracy=0.90018\n"
     ]
    },
    {
     "name": "stderr",
     "output_type": "stream",
     "text": [
      "train loss=0.186: 100%|██████████| 3458/3458 [02:21<00:00, 24.36it/s]\n"
     ]
    },
    {
     "name": "stdout",
     "output_type": "stream",
     "text": [
      "ep:181 train_loss=0.16001, valid_loss=0.61465, valid_accuracy=0.89949\n"
     ]
    },
    {
     "name": "stderr",
     "output_type": "stream",
     "text": [
      "train loss=0.140: 100%|██████████| 3458/3458 [02:21<00:00, 24.36it/s]\n"
     ]
    },
    {
     "name": "stdout",
     "output_type": "stream",
     "text": [
      "ep:182 train_loss=0.15947, valid_loss=0.61418, valid_accuracy=0.89913\n"
     ]
    },
    {
     "name": "stderr",
     "output_type": "stream",
     "text": [
      "train loss=0.177: 100%|██████████| 3458/3458 [02:22<00:00, 24.28it/s]\n"
     ]
    },
    {
     "name": "stdout",
     "output_type": "stream",
     "text": [
      "ep:183 train_loss=0.15898, valid_loss=0.61321, valid_accuracy=0.89957\n"
     ]
    },
    {
     "name": "stderr",
     "output_type": "stream",
     "text": [
      "train loss=0.114: 100%|██████████| 3458/3458 [02:21<00:00, 24.42it/s]\n"
     ]
    },
    {
     "name": "stdout",
     "output_type": "stream",
     "text": [
      "ep:184 train_loss=0.15782, valid_loss=0.61187, valid_accuracy=0.90063\n"
     ]
    },
    {
     "name": "stderr",
     "output_type": "stream",
     "text": [
      "train loss=0.163: 100%|██████████| 3458/3458 [02:22<00:00, 24.27it/s]\n"
     ]
    },
    {
     "name": "stdout",
     "output_type": "stream",
     "text": [
      "ep:185 train_loss=0.15827, valid_loss=0.62133, valid_accuracy=0.89939\n"
     ]
    },
    {
     "name": "stderr",
     "output_type": "stream",
     "text": [
      "train loss=0.173: 100%|██████████| 3458/3458 [02:29<00:00, 23.17it/s]\n"
     ]
    },
    {
     "name": "stdout",
     "output_type": "stream",
     "text": [
      "ep:186 train_loss=0.15743, valid_loss=0.61831, valid_accuracy=0.89974\n"
     ]
    },
    {
     "name": "stderr",
     "output_type": "stream",
     "text": [
      "train loss=0.241: 100%|██████████| 3458/3458 [02:23<00:00, 24.08it/s]\n"
     ]
    },
    {
     "name": "stdout",
     "output_type": "stream",
     "text": [
      "ep:187 train_loss=0.15657, valid_loss=0.62158, valid_accuracy=0.89879\n"
     ]
    },
    {
     "name": "stderr",
     "output_type": "stream",
     "text": [
      "train loss=0.172: 100%|██████████| 3458/3458 [02:20<00:00, 24.53it/s]\n"
     ]
    },
    {
     "name": "stdout",
     "output_type": "stream",
     "text": [
      "ep:188 train_loss=0.15552, valid_loss=0.61721, valid_accuracy=0.89921\n"
     ]
    },
    {
     "name": "stderr",
     "output_type": "stream",
     "text": [
      "train loss=0.158: 100%|██████████| 3458/3458 [02:20<00:00, 24.54it/s]\n"
     ]
    },
    {
     "name": "stdout",
     "output_type": "stream",
     "text": [
      "ep:189 train_loss=0.15505, valid_loss=0.62000, valid_accuracy=0.89915\n"
     ]
    },
    {
     "name": "stderr",
     "output_type": "stream",
     "text": [
      "train loss=0.147: 100%|██████████| 3458/3458 [02:20<00:00, 24.64it/s]\n"
     ]
    },
    {
     "name": "stdout",
     "output_type": "stream",
     "text": [
      "ep:190 train_loss=0.15521, valid_loss=0.61233, valid_accuracy=0.89915\n"
     ]
    },
    {
     "name": "stderr",
     "output_type": "stream",
     "text": [
      "train loss=0.196: 100%|██████████| 3458/3458 [02:21<00:00, 24.43it/s]\n"
     ]
    },
    {
     "name": "stdout",
     "output_type": "stream",
     "text": [
      "ep:191 train_loss=0.15424, valid_loss=0.61832, valid_accuracy=0.89938\n"
     ]
    },
    {
     "name": "stderr",
     "output_type": "stream",
     "text": [
      "train loss=0.141: 100%|██████████| 3458/3458 [02:21<00:00, 24.49it/s]\n"
     ]
    },
    {
     "name": "stdout",
     "output_type": "stream",
     "text": [
      "ep:192 train_loss=0.15405, valid_loss=0.61843, valid_accuracy=0.89945\n"
     ]
    },
    {
     "name": "stderr",
     "output_type": "stream",
     "text": [
      "train loss=0.161: 100%|██████████| 3458/3458 [02:21<00:00, 24.43it/s]\n"
     ]
    },
    {
     "name": "stdout",
     "output_type": "stream",
     "text": [
      "ep:193 train_loss=0.15367, valid_loss=0.61969, valid_accuracy=0.89969\n"
     ]
    },
    {
     "name": "stderr",
     "output_type": "stream",
     "text": [
      "train loss=0.171: 100%|██████████| 3458/3458 [02:20<00:00, 24.66it/s]\n"
     ]
    },
    {
     "name": "stdout",
     "output_type": "stream",
     "text": [
      "ep:194 train_loss=0.15315, valid_loss=0.62351, valid_accuracy=0.89892\n"
     ]
    },
    {
     "name": "stderr",
     "output_type": "stream",
     "text": [
      "train loss=0.196: 100%|██████████| 3458/3458 [02:19<00:00, 24.85it/s]\n"
     ]
    },
    {
     "name": "stdout",
     "output_type": "stream",
     "text": [
      "ep:195 train_loss=0.15264, valid_loss=0.61890, valid_accuracy=0.89920\n"
     ]
    },
    {
     "name": "stderr",
     "output_type": "stream",
     "text": [
      "train loss=0.240: 100%|██████████| 3458/3458 [02:20<00:00, 24.64it/s]\n"
     ]
    },
    {
     "name": "stdout",
     "output_type": "stream",
     "text": [
      "ep:196 train_loss=0.15225, valid_loss=0.62530, valid_accuracy=0.89857\n"
     ]
    },
    {
     "name": "stderr",
     "output_type": "stream",
     "text": [
      "train loss=0.122: 100%|██████████| 3458/3458 [02:20<00:00, 24.56it/s]\n"
     ]
    },
    {
     "name": "stdout",
     "output_type": "stream",
     "text": [
      "ep:197 train_loss=0.15120, valid_loss=0.62263, valid_accuracy=0.89921\n"
     ]
    },
    {
     "name": "stderr",
     "output_type": "stream",
     "text": [
      "train loss=0.147: 100%|██████████| 3458/3458 [02:20<00:00, 24.54it/s]\n"
     ]
    },
    {
     "name": "stdout",
     "output_type": "stream",
     "text": [
      "ep:198 train_loss=0.15099, valid_loss=0.61986, valid_accuracy=0.89993\n"
     ]
    },
    {
     "name": "stderr",
     "output_type": "stream",
     "text": [
      "train loss=0.158: 100%|██████████| 3458/3458 [02:20<00:00, 24.56it/s]\n"
     ]
    },
    {
     "name": "stdout",
     "output_type": "stream",
     "text": [
      "ep:199 train_loss=0.15042, valid_loss=0.62363, valid_accuracy=0.89938\n"
     ]
    },
    {
     "name": "stderr",
     "output_type": "stream",
     "text": [
      "train loss=0.196: 100%|██████████| 3458/3458 [02:20<00:00, 24.62it/s]\n"
     ]
    },
    {
     "name": "stdout",
     "output_type": "stream",
     "text": [
      "ep:200 train_loss=0.14989, valid_loss=0.62542, valid_accuracy=0.89910\n"
     ]
    }
   ],
   "source": [
    "config = ModelConfig(encoder_vocab_size = vocab_sizes[SRC],\n",
    "                     decoder_vocab_size=vocab_sizes[TRG],\n",
    "                     d_embed=128,\n",
    "                     d_ff=1024,\n",
    "                     h=8,\n",
    "                     N_encoder=5,\n",
    "                     N_decoder=5,\n",
    "                     max_seq_len=max_seq_len,\n",
    "                     dropout=0.1\n",
    "                     )\n",
    "\n",
    "\n",
    "# Initialize model\n",
    "model = make_model(config)\n",
    "\n",
    "# Define loss function\n",
    "loss_fn = nn.CrossEntropyLoss()\n",
    "\n",
    "# Initialize optimizer\n",
    "optimizer = torch.optim.Adam(model.parameters(), lr=0.0001)\n",
    "\n",
    "dataloaders = Dataloaders()\n",
    "\n",
    "# Set up training loop\n",
    "num_epochs = 200\n",
    "train_losses = []\n",
    "valid_losses = []\n",
    "valid_accuracies = []\n",
    "\n",
    "for epoch in range(num_epochs):\n",
    "\n",
    "    best_valid_loss = float('inf')\n",
    "    train_size = len(dataloaders.train_loader) * batch_size\n",
    "    train_loss = train_epoch(model, dataloaders)\n",
    "    train_losses.append(train_loss)\n",
    "    valid_loss = validate(model, dataloaders.valid_loader)\n",
    "    valid_losses.append(valid_loss)\n",
    "\n",
    "    # Calculate validation accuracy\n",
    "    valid_accuracy = compute_accuracy(model, dataloaders.valid_loader)\n",
    "    valid_accuracies.append(valid_accuracy)\n",
    "\n",
    "\n",
    "    print(f'ep:{epoch+1} train_loss={train_loss:.5f}, valid_loss={valid_loss:.5f}, valid_accuracy={valid_accuracy:.5f}')\n",
    "    if valid_loss < best_valid_loss:\n",
    "        best_valid_loss = valid_loss\n",
    "\n",
    "\n",
    "# print(\"train set examples:\")\n",
    "# train_bleu = evaluate(model, dataloaders.train_loader, 20)\n",
    "# print(\"validation set examples:\")\n",
    "# valid_bleu = evaluate(model, dataloaders.valid_loader)\n",
    "# print(\"test set examples:\")\n",
    "# test_bleu  = evaluate(model, dataloaders.test_loader)\n"
   ]
  },
  {
   "cell_type": "code",
   "execution_count": 15,
   "id": "bccc0273",
   "metadata": {
    "execution": {
     "iopub.execute_input": "2024-04-23T03:32:29.916274Z",
     "iopub.status.busy": "2024-04-23T03:32:29.915708Z",
     "iopub.status.idle": "2024-04-23T03:32:30.285410Z",
     "shell.execute_reply": "2024-04-23T03:32:30.284541Z"
    },
    "papermill": {
     "duration": 21.05516,
     "end_time": "2024-04-23T03:32:30.287427",
     "exception": false,
     "start_time": "2024-04-23T03:32:09.232267",
     "status": "completed"
    },
    "tags": []
   },
   "outputs": [
    {
     "data": {
      "image/png": "[encoded data removed]",
      "text/plain": [
       "<Figure size 640x480 with 1 Axes>"
      ]
     },
     "metadata": {},
     "output_type": "display_data"
    }
   ],
   "source": [
    "# Plot epoch-wise training loss\n",
    "plt.plot(train_losses, label='Train Loss')\n",
    "plt.xlabel('Epoch')\n",
    "plt.ylabel('Loss')\n",
    "plt.title('Training Loss')\n",
    "plt.legend()\n",
    "plt.show()"
   ]
  },
  {
   "cell_type": "code",
   "execution_count": 16,
   "id": "07c74458",
   "metadata": {
    "execution": {
     "iopub.execute_input": "2024-04-23T03:33:10.811814Z",
     "iopub.status.busy": "2024-04-23T03:33:10.810949Z",
     "iopub.status.idle": "2024-04-23T03:33:11.126894Z",
     "shell.execute_reply": "2024-04-23T03:33:11.125872Z"
    },
    "papermill": {
     "duration": 20.586534,
     "end_time": "2024-04-23T03:33:11.129219",
     "exception": false,
     "start_time": "2024-04-23T03:32:50.542685",
     "status": "completed"
    },
    "tags": []
   },
   "outputs": [
    {
     "data": {
      "image/png": "[encoded data removed]",
      "text/plain": [
       "<Figure size 640x480 with 1 Axes>"
      ]
     },
     "metadata": {},
     "output_type": "display_data"
    }
   ],
   "source": [
    "plt.plot(valid_accuracies, label='Validation Accuracy')\n",
    "plt.xlabel('Epoch')\n",
    "plt.ylabel('Accuracy')\n",
    "plt.title('Validation Accuracy over Epochs')\n",
    "plt.legend()\n",
    "plt.show()"
   ]
  },
  {
   "cell_type": "code",
   "execution_count": 17,
   "id": "e9336cd7",
   "metadata": {
    "execution": {
     "iopub.execute_input": "2024-04-23T03:33:52.038696Z",
     "iopub.status.busy": "2024-04-23T03:33:52.038067Z",
     "iopub.status.idle": "2024-04-23T03:33:52.105035Z",
     "shell.execute_reply": "2024-04-23T03:33:52.104103Z"
    },
    "papermill": {
     "duration": 20.357657,
     "end_time": "2024-04-23T03:33:52.107241",
     "exception": false,
     "start_time": "2024-04-23T03:33:31.749584",
     "status": "completed"
    },
    "tags": []
   },
   "outputs": [],
   "source": [
    "# Save the model\n",
    "torch.save(model.state_dict(),'transformer_model.pth')"
   ]
  },
  {
   "cell_type": "code",
   "execution_count": 18,
   "id": "3e8c0b2d",
   "metadata": {
    "execution": {
     "iopub.execute_input": "2024-04-23T03:34:32.663678Z",
     "iopub.status.busy": "2024-04-23T03:34:32.663278Z",
     "iopub.status.idle": "2024-04-23T03:34:51.396910Z",
     "shell.execute_reply": "2024-04-23T03:34:51.395866Z"
    },
    "papermill": {
     "duration": 38.962247,
     "end_time": "2024-04-23T03:34:51.399106",
     "exception": false,
     "start_time": "2024-04-23T03:34:12.436859",
     "status": "completed"
    },
    "tags": []
   },
   "outputs": [
    {
     "name": "stdout",
     "output_type": "stream",
     "text": [
      "Test Accuracy: 0.89770\n"
     ]
    }
   ],
   "source": [
    "# Load the state dictionary from the saved file\n",
    "\n",
    "# model.load_state_dict(torch.load('transformer_model.pth'))\n",
    "\n",
    "\n",
    "Test_accuracy = compute_accuracy(model, dataloaders.test_loader)\n",
    "\n",
    "print(f\"Test Accuracy: {Test_accuracy:.5f}\")"
   ]
  },
  {
   "cell_type": "code",
   "execution_count": 19,
   "id": "d905c90a",
   "metadata": {
    "execution": {
     "iopub.execute_input": "2024-04-23T03:35:31.871422Z",
     "iopub.status.busy": "2024-04-23T03:35:31.871077Z",
     "iopub.status.idle": "2024-04-23T03:35:42.910816Z",
     "shell.execute_reply": "2024-04-23T03:35:42.909807Z"
    },
    "papermill": {
     "duration": 31.187688,
     "end_time": "2024-04-23T03:35:42.913067",
     "exception": false,
     "start_time": "2024-04-23T03:35:11.725379",
     "status": "completed"
    },
    "tags": []
   },
   "outputs": [
    {
     "name": "stdout",
     "output_type": "stream",
     "text": [
      "src:  ! I didn ' t realize you could speak French. \"\n",
      "trg:  Je n ' ai pas pris conscience que vous saviez parler français. \"\n",
      "pred: ! Je n ' ai pas pris conscience que tu savais parler français. \"\n",
      "src:  ! I don ' t want to meet your parents. \"\n",
      "trg:  Je ne veux pas rencontrer tes parents. \"\n",
      "pred: ! Je ne veux pas rencontrer tes parents. \"\n",
      "src:  ! This stone was so heavy that I could not lift it. \"\n",
      "trg:  Cette pierre était si lour de que je n ' ai pas pu la sou lever. \"\n",
      "pred: ! Cette pierre était si lour de que je ne pouvais le sou lever. \"\n",
      "Test BLEU Score: 46.3505\n"
     ]
    }
   ],
   "source": [
    "# Evaluate on test set\n",
    "test_bleu_score = evaluate(model, dataloaders.test_loader,20)\n",
    "print(f\"Test BLEU Score: {test_bleu_score:.4f}\")"
   ]
  },
  {
   "cell_type": "code",
   "execution_count": null,
   "id": "580c9d93",
   "metadata": {
    "papermill": {
     "duration": 20.498909,
     "end_time": "2024-04-23T03:36:23.537901",
     "exception": false,
     "start_time": "2024-04-23T03:36:03.038992",
     "status": "completed"
    },
    "tags": []
   },
   "outputs": [],
   "source": []
  }
 ],
 "metadata": {
  "kaggle": {
   "accelerator": "nvidiaTeslaT4",
   "dataSources": [
    {
     "datasetId": 4855772,
     "sourceId": 8197468,
     "sourceType": "datasetVersion"
    }
   ],
   "dockerImageVersionId": 30699,
   "isGpuEnabled": true,
   "isInternetEnabled": true,
   "language": "python",
   "sourceType": "notebook"
  },
  "kernelspec": {
   "display_name": "Python 3",
   "language": "python",
   "name": "python3"
  },
  "language_info": {
   "codemirror_mode": {
    "name": "ipython",
    "version": 3
   },
   "file_extension": ".py",
   "mimetype": "text/x-python",
   "name": "python",
   "nbconvert_exporter": "python",
   "pygments_lexer": "ipython3",
   "version": "3.10.13"
  },
  "papermill": {
   "default_parameters": {},
   "duration": 31181.196967,
   "end_time": "2024-04-23T03:36:46.534268",
   "environment_variables": {},
   "exception": null,
   "input_path": "__notebook__.ipynb",
   "output_path": "__notebook__.ipynb",
   "parameters": {},
   "start_time": "2024-04-22T18:57:05.337301",
   "version": "2.5.0"
  }
 },
 "nbformat": 4,
 "nbformat_minor": 5
}
