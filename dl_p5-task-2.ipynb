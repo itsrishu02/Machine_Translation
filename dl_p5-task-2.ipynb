{
 "cells": [
  {
   "cell_type": "markdown",
   "id": "cfd13fad",
   "metadata": {},
   "source": [
    "### Rishu Raj Singh (2023AIB2080)"
   ]
  },
  {
   "cell_type": "markdown",
   "id": "9762b06e",
   "metadata": {},
   "source": [
    "## Configuration 2"
   ]
  },
  {
   "cell_type": "code",
   "execution_count": 1,
   "id": "c1830ad4",
   "metadata": {
    "execution": {
     "iopub.execute_input": "2024-04-21T05:42:22.488315Z",
     "iopub.status.busy": "2024-04-21T05:42:22.487207Z",
     "iopub.status.idle": "2024-04-21T05:42:37.442597Z",
     "shell.execute_reply": "2024-04-21T05:42:37.441438Z"
    },
    "papermill": {
     "duration": 14.965172,
     "end_time": "2024-04-21T05:42:37.445042",
     "exception": false,
     "start_time": "2024-04-21T05:42:22.479870",
     "status": "completed"
    },
    "tags": []
   },
   "outputs": [
    {
     "name": "stdout",
     "output_type": "stream",
     "text": [
      "Collecting sacrebleu\r\n",
      "  Downloading sacrebleu-2.4.2-py3-none-any.whl.metadata (58 kB)\r\n",
      "\u001b[2K     \u001b[90m━━━━━━━━━━━━━━━━━━━━━━━━━━━━━━━━━━━━━━━\u001b[0m \u001b[32m58.0/58.0 kB\u001b[0m \u001b[31m904.1 kB/s\u001b[0m eta \u001b[36m0:00:00\u001b[0m\r\n",
      "\u001b[?25hCollecting portalocker (from sacrebleu)\r\n",
      "  Downloading portalocker-2.8.2-py3-none-any.whl.metadata (8.5 kB)\r\n",
      "Requirement already satisfied: regex in /opt/conda/lib/python3.10/site-packages (from sacrebleu) (2023.12.25)\r\n",
      "Requirement already satisfied: tabulate>=0.8.9 in /opt/conda/lib/python3.10/site-packages (from sacrebleu) (0.9.0)\r\n",
      "Requirement already satisfied: numpy>=1.17 in /opt/conda/lib/python3.10/site-packages (from sacrebleu) (1.26.4)\r\n",
      "Requirement already satisfied: colorama in /opt/conda/lib/python3.10/site-packages (from sacrebleu) (0.4.6)\r\n",
      "Requirement already satisfied: lxml in /opt/conda/lib/python3.10/site-packages (from sacrebleu) (5.2.1)\r\n",
      "Downloading sacrebleu-2.4.2-py3-none-any.whl (106 kB)\r\n",
      "\u001b[2K   \u001b[90m━━━━━━━━━━━━━━━━━━━━━━━━━━━━━━━━━━━━━━━━\u001b[0m \u001b[32m106.7/106.7 kB\u001b[0m \u001b[31m1.9 MB/s\u001b[0m eta \u001b[36m0:00:00\u001b[0m\r\n",
      "\u001b[?25hDownloading portalocker-2.8.2-py3-none-any.whl (17 kB)\r\n",
      "Installing collected packages: portalocker, sacrebleu\r\n",
      "Successfully installed portalocker-2.8.2 sacrebleu-2.4.2\r\n"
     ]
    }
   ],
   "source": [
    "!pip install sacrebleu"
   ]
  },
  {
   "cell_type": "code",
   "execution_count": 2,
   "id": "4893c658",
   "metadata": {
    "execution": {
     "iopub.execute_input": "2024-04-21T05:42:37.459614Z",
     "iopub.status.busy": "2024-04-21T05:42:37.459299Z",
     "iopub.status.idle": "2024-04-21T05:42:43.985875Z",
     "shell.execute_reply": "2024-04-21T05:42:43.984857Z"
    },
    "papermill": {
     "duration": 6.536608,
     "end_time": "2024-04-21T05:42:43.988487",
     "exception": false,
     "start_time": "2024-04-21T05:42:37.451879",
     "status": "completed"
    },
    "tags": []
   },
   "outputs": [
    {
     "name": "stdout",
     "output_type": "stream",
     "text": [
      "cuda\n"
     ]
    }
   ],
   "source": [
    "import math\n",
    "from dataclasses import dataclass\n",
    "import os\n",
    "import numpy as np\n",
    "import sacrebleu\n",
    "import torch\n",
    "import torch.nn as nn\n",
    "from torch.utils.data import Dataset\n",
    "from tqdm import tqdm\n",
    "import pandas\n",
    "torch.manual_seed(0)\n",
    "import random\n",
    "random.seed(0)\n",
    "import  pathlib\n",
    "import matplotlib.pyplot as plt\n",
    "from sklearn.model_selection import train_test_split\n",
    "from torchinfo import summary\n",
    "\n",
    "DEVICE = torch.device(\"cuda\" if torch.cuda.is_available() else \"cpu\")\n",
    "print(DEVICE)"
   ]
  },
  {
   "cell_type": "code",
   "execution_count": 3,
   "id": "6daf9e36",
   "metadata": {
    "execution": {
     "iopub.execute_input": "2024-04-21T05:42:44.003644Z",
     "iopub.status.busy": "2024-04-21T05:42:44.003157Z",
     "iopub.status.idle": "2024-04-21T05:42:44.008424Z",
     "shell.execute_reply": "2024-04-21T05:42:44.007554Z"
    },
    "papermill": {
     "duration": 0.015016,
     "end_time": "2024-04-21T05:42:44.010545",
     "exception": false,
     "start_time": "2024-04-21T05:42:43.995529",
     "status": "completed"
    },
    "tags": []
   },
   "outputs": [],
   "source": [
    "SRC = \"en\"\n",
    "TRG = \"fr\"\n",
    "en_vocab_size = 8000\n",
    "fr_vocab_size = 8000\n",
    "vocab_sizes = {\"en\": en_vocab_size, \"fr\": fr_vocab_size}\n",
    "max_seq_len = 72"
   ]
  },
  {
   "cell_type": "code",
   "execution_count": 4,
   "id": "a1514f6c",
   "metadata": {
    "execution": {
     "iopub.execute_input": "2024-04-21T05:42:44.025977Z",
     "iopub.status.busy": "2024-04-21T05:42:44.025662Z",
     "iopub.status.idle": "2024-04-21T05:42:44.634689Z",
     "shell.execute_reply": "2024-04-21T05:42:44.633618Z"
    },
    "papermill": {
     "duration": 0.619536,
     "end_time": "2024-04-21T05:42:44.637189",
     "exception": false,
     "start_time": "2024-04-21T05:42:44.017653",
     "status": "completed"
    },
    "tags": []
   },
   "outputs": [
    {
     "name": "stdout",
     "output_type": "stream",
     "text": [
      "110640 12294 52687\n"
     ]
    }
   ],
   "source": [
    "full_set = pandas.read_csv(\"/kaggle/input/dataset-5/eng_-french.csv\")\n",
    "\n",
    "temp_train_set, test_set = train_test_split(full_set, test_size=0.3, random_state=42)\n",
    "full_train_set, valid_set = train_test_split(temp_train_set, test_size=0.1, random_state=42)\n",
    "\n",
    "print(len(full_train_set), len(valid_set), len(test_set))"
   ]
  },
  {
   "cell_type": "code",
   "execution_count": 5,
   "id": "0fe88b52",
   "metadata": {
    "execution": {
     "iopub.execute_input": "2024-04-21T05:42:44.653013Z",
     "iopub.status.busy": "2024-04-21T05:42:44.652667Z",
     "iopub.status.idle": "2024-04-21T05:42:44.667807Z",
     "shell.execute_reply": "2024-04-21T05:42:44.666781Z"
    },
    "papermill": {
     "duration": 0.025451,
     "end_time": "2024-04-21T05:42:44.670121",
     "exception": false,
     "start_time": "2024-04-21T05:42:44.644670",
     "status": "completed"
    },
    "tags": []
   },
   "outputs": [
    {
     "data": {
      "text/html": [
       "<div>\n",
       "<style scoped>\n",
       "    .dataframe tbody tr th:only-of-type {\n",
       "        vertical-align: middle;\n",
       "    }\n",
       "\n",
       "    .dataframe tbody tr th {\n",
       "        vertical-align: top;\n",
       "    }\n",
       "\n",
       "    .dataframe thead th {\n",
       "        text-align: right;\n",
       "    }\n",
       "</style>\n",
       "<table border=\"1\" class=\"dataframe\">\n",
       "  <thead>\n",
       "    <tr style=\"text-align: right;\">\n",
       "      <th></th>\n",
       "      <th>English words/sentences</th>\n",
       "      <th>French words/sentences</th>\n",
       "    </tr>\n",
       "  </thead>\n",
       "  <tbody>\n",
       "    <tr>\n",
       "      <th>1660</th>\n",
       "      <td>That hurts.</td>\n",
       "      <td>Ça fait mal.</td>\n",
       "    </tr>\n",
       "    <tr>\n",
       "      <th>89279</th>\n",
       "      <td>I can't function without you.</td>\n",
       "      <td>Je n'arrive pas à fonctionner sans toi.</td>\n",
       "    </tr>\n",
       "    <tr>\n",
       "      <th>144858</th>\n",
       "      <td>Let's talk about what you did in Boston.</td>\n",
       "      <td>Parlons de ce que tu as fait à Boston.</td>\n",
       "    </tr>\n",
       "  </tbody>\n",
       "</table>\n",
       "</div>"
      ],
      "text/plain": [
       "                         English words/sentences  \\\n",
       "1660                                 That hurts.   \n",
       "89279              I can't function without you.   \n",
       "144858  Let's talk about what you did in Boston.   \n",
       "\n",
       "                         French words/sentences  \n",
       "1660                               Ça fait mal.  \n",
       "89279   Je n'arrive pas à fonctionner sans toi.  \n",
       "144858   Parlons de ce que tu as fait à Boston.  "
      ]
     },
     "execution_count": 5,
     "metadata": {},
     "output_type": "execute_result"
    }
   ],
   "source": [
    "full_train_set.head(3)"
   ]
  },
  {
   "cell_type": "code",
   "execution_count": 6,
   "id": "f2d30b0b",
   "metadata": {
    "execution": {
     "iopub.execute_input": "2024-04-21T05:42:44.687397Z",
     "iopub.status.busy": "2024-04-21T05:42:44.687037Z",
     "iopub.status.idle": "2024-04-21T05:42:44.747615Z",
     "shell.execute_reply": "2024-04-21T05:42:44.746750Z"
    },
    "papermill": {
     "duration": 0.071929,
     "end_time": "2024-04-21T05:42:44.750095",
     "exception": false,
     "start_time": "2024-04-21T05:42:44.678166",
     "status": "completed"
    },
    "tags": []
   },
   "outputs": [],
   "source": [
    "from tokenizers import Tokenizer, models, pre_tokenizers, trainers, decoders\n",
    "\n",
    "# This library has been used only for tokenization purpose because French sentences contains \n",
    "# distinct type of character which is diificult to capture normally.\n",
    "\n",
    "def get_tokenizers(dataset, train_set_size):\n",
    "    en_sentences = dataset['English words/sentences'].iloc[:train_set_size].tolist()\n",
    "    fr_sentences = dataset['French words/sentences'].iloc[:train_set_size].tolist()\n",
    "\n",
    "    # Write English and French sentences to temporary files\n",
    "    en_file = 'temp_en_sentences.txt'\n",
    "    fr_file = 'temp_fr_sentences.txt'\n",
    "    with open(en_file, 'w', encoding='utf-8') as f_en, open(fr_file, 'w', encoding='utf-8') as f_fr:\n",
    "        for en_sent, fr_sent in zip(en_sentences, fr_sentences):\n",
    "            f_en.write(en_sent + '\\n')\n",
    "            f_fr.write(fr_sent + '\\n')\n",
    "\n",
    "    # Initialize a tokenizer\n",
    "    en_tokenizer = Tokenizer(models.BPE())\n",
    "    fr_tokenizer = Tokenizer(models.BPE())\n",
    "\n",
    "    # Customize pre-tokenization and decoding\n",
    "    en_tokenizer.pre_tokenizer = pre_tokenizers.Whitespace()\n",
    "    fr_tokenizer.pre_tokenizer = pre_tokenizers.Whitespace()\n",
    "    en_tokenizer.decoder = decoders.BPEDecoder()\n",
    "    fr_tokenizer.decoder = decoders.BPEDecoder()\n",
    "\n",
    "    en_tokenizer.train([en_file], trainer=trainers.BpeTrainer(vocab_size=en_vocab_size, special_tokens=[\"<pad>\"]))\n",
    "    fr_tokenizer.train([fr_file], trainer=trainers.BpeTrainer(vocab_size=fr_vocab_size, special_tokens=[\"<pad>\"]))\n",
    "\n",
    "    # Define the tokenization and detokenization functions\n",
    "    tokenizers = {\"en\": lambda sent: en_tokenizer.encode(sent).ids, \"fr\": lambda sent: fr_tokenizer.encode(sent).ids}\n",
    "    detokenizers = {\"en\": lambda ids: ' '.join([en_tokenizer.id_to_token(id) for id in ids]), \n",
    "                    \"fr\": lambda ids: ' '.join([fr_tokenizer.id_to_token(id) for id in ids])}\n",
    "    # Cleanup temporary files\n",
    "    os.remove(en_file)\n",
    "    os.remove(fr_file)\n",
    "\n",
    "    return tokenizers, detokenizers\n"
   ]
  },
  {
   "cell_type": "code",
   "execution_count": 7,
   "id": "3773e37d",
   "metadata": {
    "execution": {
     "iopub.execute_input": "2024-04-21T05:42:44.767114Z",
     "iopub.status.busy": "2024-04-21T05:42:44.766791Z",
     "iopub.status.idle": "2024-04-21T05:42:46.596741Z",
     "shell.execute_reply": "2024-04-21T05:42:46.595312Z"
    },
    "papermill": {
     "duration": 1.840937,
     "end_time": "2024-04-21T05:42:46.599012",
     "exception": false,
     "start_time": "2024-04-21T05:42:44.758075",
     "status": "completed"
    },
    "tags": []
   },
   "outputs": [
    {
     "name": "stdout",
     "output_type": "stream",
     "text": [
      "\n",
      "\n",
      "\n",
      "\n",
      "\n",
      "\n",
      "[645, 238, 106, 10, 167, 63, 6, 488, 25]\n",
      "[238, 114, 32, 274, 23]\n"
     ]
    }
   ],
   "source": [
    "tokenizers, detokenizers = get_tokenizers(full_train_set, len(full_set))\n",
    "print(tokenizers['fr'](\"De quoi ai-je l'air ?\"))\n",
    "print(tokenizers['en']('How do I look?'))\n",
    "\n",
    "# indexes of special symbols\n",
    "UNK, BOS, EOS, PAD = 0, 1, 2, 3"
   ]
  },
  {
   "cell_type": "code",
   "execution_count": 8,
   "id": "f3a87757",
   "metadata": {
    "execution": {
     "iopub.execute_input": "2024-04-21T05:42:46.617288Z",
     "iopub.status.busy": "2024-04-21T05:42:46.616519Z",
     "iopub.status.idle": "2024-04-21T05:42:46.628719Z",
     "shell.execute_reply": "2024-04-21T05:42:46.627800Z"
    },
    "papermill": {
     "duration": 0.023517,
     "end_time": "2024-04-21T05:42:46.630911",
     "exception": false,
     "start_time": "2024-04-21T05:42:46.607394",
     "status": "completed"
    },
    "tags": []
   },
   "outputs": [],
   "source": [
    "def tokenize_dataset(dataset):\n",
    "    \"\"\"\n",
    "    Tokenize a dataset and add [BOS] and [EOS] to the beginning and end of the sentences.\n",
    "    \"\"\"\n",
    "    if SRC == \"en\":\n",
    "        return [(torch.tensor([BOS]+tokenizers[SRC](src_text)[0:max_seq_len-2]+[EOS]),\n",
    "                 torch.tensor([BOS]+tokenizers[TRG](trg_text)[0:max_seq_len-2]+[EOS]))\n",
    "                 for src_text, trg_text in dataset]\n",
    "    else:\n",
    "        return [(torch.tensor([BOS]+tokenizers[SRC](src_text)[0:max_seq_len-2]+[EOS]),\n",
    "                 torch.tensor([BOS]+tokenizers[TRG](trg_text)[0:max_seq_len-2]+[EOS]))\n",
    "                 for trg_text, src_text in dataset]\n",
    "    \n",
    "\n",
    "class TranslationDataset(Dataset):\n",
    "    'create a dataset for torch.utils.data.DataLoader() '\n",
    "    def __init__(self, data):\n",
    "        self.data = data\n",
    "\n",
    "    def __len__(self):\n",
    "        return len(self.data)\n",
    "\n",
    "    def __getitem__(self, idx):\n",
    "        return self.data[idx]\n",
    "\n",
    "\n",
    "def pad_sequence(batch):\n",
    "    'collate function for padding sentences such that all \\\n",
    "    the sentences in the batch have the same length'\n",
    "    src_seqs  = [src for src, trg in batch]\n",
    "    trg_seqs  = [trg for src, trg in batch]\n",
    "    src_padded = torch.nn.utils.rnn.pad_sequence(src_seqs,\n",
    "                                batch_first=True, padding_value = PAD)\n",
    "    trg_padded = torch.nn.utils.rnn.pad_sequence(trg_seqs,\n",
    "                                batch_first=True, padding_value = PAD)\n",
    "    return src_padded, trg_padded"
   ]
  },
  {
   "cell_type": "code",
   "execution_count": 9,
   "id": "c434a6d1",
   "metadata": {
    "execution": {
     "iopub.execute_input": "2024-04-21T05:42:46.648610Z",
     "iopub.status.busy": "2024-04-21T05:42:46.648060Z",
     "iopub.status.idle": "2024-04-21T05:42:46.657122Z",
     "shell.execute_reply": "2024-04-21T05:42:46.656203Z"
    },
    "papermill": {
     "duration": 0.020161,
     "end_time": "2024-04-21T05:42:46.659193",
     "exception": false,
     "start_time": "2024-04-21T05:42:46.639032",
     "status": "completed"
    },
    "tags": []
   },
   "outputs": [],
   "source": [
    "batch_size = 16\n",
    "\n",
    "class Dataloaders:\n",
    "    'Dataloaders contains train_loader, test_loader and valid_loader for training and evaluation '\n",
    "    def __init__(self):\n",
    "        # train_set = list(full_train_set)[0:train_set_size]\n",
    "        train_set_1 = [(row['English words/sentences'], row['French words/sentences']) for index, row in full_train_set.iterrows()]\n",
    "        valid_set_1 = [(row['English words/sentences'], row['French words/sentences']) for index, row in valid_set.iterrows()]\n",
    "        test_set_1 = [(row['English words/sentences'], row['French words/sentences']) for index, row in test_set.iterrows()]\n",
    "        # print(train_set)\n",
    "        train_dataset = TranslationDataset(tokenize_dataset(train_set_1))\n",
    "        valid_dataset = TranslationDataset(tokenize_dataset(valid_set_1))\n",
    "        test_dataset  = TranslationDataset(tokenize_dataset(test_set_1))\n",
    "\n",
    "        # each batch returned by dataloader will be padded such that all the texts in\n",
    "        # that batch have the same length as the longest text in that batch\n",
    "        self.train_loader = torch.utils.data.DataLoader(train_dataset, batch_size=batch_size,\n",
    "                                                shuffle=True, collate_fn = pad_sequence)\n",
    "\n",
    "        self.test_loader = torch.utils.data.DataLoader(test_dataset, batch_size=batch_size,\n",
    "                                                shuffle=True, collate_fn=pad_sequence)\n",
    "\n",
    "        self.valid_loader = torch.utils.data.DataLoader(valid_dataset, batch_size=batch_size,\n",
    "                                                shuffle=True, collate_fn=pad_sequence)"
   ]
  },
  {
   "cell_type": "code",
   "execution_count": 10,
   "id": "4bc1bddf",
   "metadata": {
    "execution": {
     "iopub.execute_input": "2024-04-21T05:42:46.676595Z",
     "iopub.status.busy": "2024-04-21T05:42:46.676187Z",
     "iopub.status.idle": "2024-04-21T05:42:46.718734Z",
     "shell.execute_reply": "2024-04-21T05:42:46.717842Z"
    },
    "papermill": {
     "duration": 0.05387,
     "end_time": "2024-04-21T05:42:46.720953",
     "exception": false,
     "start_time": "2024-04-21T05:42:46.667083",
     "status": "completed"
    },
    "tags": []
   },
   "outputs": [],
   "source": [
    "class MultiHeadedAttention(nn.Module):\n",
    "    def __init__(self, h, d_embed, dropout=0.0):\n",
    "        super(MultiHeadedAttention, self).__init__()\n",
    "        assert d_embed % h == 0 # check the h number\n",
    "        self.d_k = d_embed//h\n",
    "        self.d_embed = d_embed\n",
    "        self.h = h\n",
    "        self.WQ = nn.Linear(d_embed, d_embed)\n",
    "        self.WK = nn.Linear(d_embed, d_embed)\n",
    "        self.WV = nn.Linear(d_embed, d_embed)\n",
    "        self.linear = nn.Linear(d_embed, d_embed)\n",
    "        self.dropout = nn.Dropout(dropout)\n",
    "\n",
    "    def forward(self, x_query, x_key, x_value, mask=None):\n",
    "        nbatch = x_query.size(0) # get batch size\n",
    "        # 1) Linear projections to get the multi-head query, key and value tensors\n",
    "        # x_query, x_key, x_value dimension: nbatch * seq_len * d_embed\n",
    "        # LHS query, key, value dimensions: nbatch * h * seq_len * d_k\n",
    "        query = self.WQ(x_query).view(nbatch, -1, self.h, self.d_k).transpose(1,2)\n",
    "        key   = self.WK(x_key).view(nbatch, -1, self.h, self.d_k).transpose(1,2)\n",
    "        value = self.WV(x_value).view(nbatch, -1, self.h, self.d_k).transpose(1,2)\n",
    "        # 2) Attention\n",
    "        # scores has dimensions: nbatch * h * seq_len * seq_len\n",
    "        scores = torch.matmul(query, key.transpose(-2, -1))/math.sqrt(self.d_k)\n",
    "        # 3) Mask out padding tokens and future tokens\n",
    "        if mask is not None:\n",
    "            scores = scores.masked_fill(mask, float('-inf'))\n",
    "        # p_atten dimensions: nbatch * h * seq_len * seq_len\n",
    "        p_atten = torch.nn.functional.softmax(scores, dim=-1)\n",
    "        p_atten = self.dropout(p_atten)\n",
    "        # x dimensions: nbatch * h * seq_len * d_k\n",
    "        x = torch.matmul(p_atten, value)\n",
    "        # x now has dimensions:nbtach * seq_len * d_embed\n",
    "        x = x.transpose(1, 2).contiguous().view(nbatch, -1, self.d_embed)\n",
    "        return self.linear(x) # final linear layer\n",
    "\n",
    "\n",
    "class ResidualConnection(nn.Module):\n",
    "    '''residual connection: x + dropout(sublayer(layernorm(x))) '''\n",
    "    def __init__(self, dim, dropout):\n",
    "        super().__init__()\n",
    "        self.drop = nn.Dropout(dropout)\n",
    "        self.norm = nn.LayerNorm(dim)\n",
    "\n",
    "    def forward(self, x, sublayer):\n",
    "        return x + self.drop(sublayer(self.norm(x)))\n",
    "\n",
    "\n",
    "class PositionalEncoding(nn.Module):\n",
    "    def __init__(self, d_embed, max_seq_len=5000):\n",
    "        super(PositionalEncoding, self).__init__()\n",
    "        self.d_embed = d_embed\n",
    "        # Compute the positional encodings in log space\n",
    "        pe = torch.zeros(max_seq_len, d_embed)\n",
    "        position = torch.arange(0, max_seq_len, dtype=torch.float).unsqueeze(1)\n",
    "        div_term = torch.exp(torch.arange(0, d_embed, 2).float() * (-math.log(10000.0) / d_embed))\n",
    "        pe[:, 0::2] = torch.sin(position * div_term)\n",
    "        pe[:, 1::2] = torch.cos(position * div_term)\n",
    "        pe = pe.unsqueeze(0)  # Add batch dimension\n",
    "        self.register_buffer('pe', pe)\n",
    "\n",
    "    def forward(self, x):\n",
    "        # Add positional encodings to the input embeddings\n",
    "        return x + self.pe[:, :x.size(1), :]\n",
    "\n",
    "\n",
    "class Encoder(nn.Module):\n",
    "    '''Encoder = token embedding + positional embedding -> a stack of N EncoderBlock -> layer norm'''\n",
    "    def __init__(self, config):\n",
    "        super().__init__()\n",
    "        self.d_embed = config.d_embed\n",
    "        self.tok_embed = nn.Embedding(config.encoder_vocab_size, config.d_embed) \n",
    "        self.pos_embed = PositionalEncoding(config.d_embed, config.max_seq_len)\n",
    "        # self.pos_embed = nn.Parameter(torch.zeros(1, config.max_seq_len, config.d_embed))\n",
    "        self.encoder_blocks = nn.ModuleList([EncoderBlock(config) for _ in range(config.N_encoder)])\n",
    "        self.dropout = nn.Dropout(config.dropout)\n",
    "        self.norm = nn.LayerNorm(config.d_embed)\n",
    "\n",
    "    def forward(self, input, mask=None):\n",
    "        x = self.tok_embed(input)\n",
    "        x = self.pos_embed(x)\n",
    "        x = self.dropout(x)\n",
    "        for layer in self.encoder_blocks:\n",
    "            x = layer(x, mask)\n",
    "        return self.norm(x)\n",
    "\n",
    "\n",
    "\n",
    "class EncoderBlock(nn.Module):\n",
    "    '''EncoderBlock: self-attention -> position-wise fully connected feed-forward layer'''\n",
    "    def __init__(self, config):\n",
    "        super(EncoderBlock, self).__init__()\n",
    "        self.atten = MultiHeadedAttention(config.h, config.d_embed, config.dropout)\n",
    "        self.feed_forward = nn.Sequential(\n",
    "            nn.Linear(config.d_embed, config.d_ff),\n",
    "            nn.ReLU(),\n",
    "            nn.Dropout(config.dropout),\n",
    "            nn.Linear(config.d_ff, config.d_embed)\n",
    "        )\n",
    "        self.residual1 = ResidualConnection(config.d_embed, config.dropout)\n",
    "        self.residual2 = ResidualConnection(config.d_embed, config.dropout)\n",
    "\n",
    "    def forward(self, x, mask=None):\n",
    "        # self-attention\n",
    "        x = self.residual1(x, lambda x: self.atten(x, x, x, mask=mask))\n",
    "        # position-wise fully connected feed-forward layer\n",
    "        return self.residual2(x, self.feed_forward)\n",
    "\n",
    "\n",
    "class Decoder(nn.Module):\n",
    "    '''Decoder = token embedding + positional embedding -> a stack of N DecoderBlock -> fully-connected layer'''\n",
    "    def __init__(self, config):\n",
    "        super().__init__()\n",
    "        self.d_embed = config.d_embed\n",
    "        self.tok_embed = nn.Embedding(config.decoder_vocab_size, config.d_embed)\n",
    "        self.pos_embed = PositionalEncoding(config.d_embed, config.max_seq_len)\n",
    "        # self.pos_embed = nn.Parameter(torch.zeros(1, config.max_seq_len, config.d_embed)) \n",
    "        self.dropout = nn.Dropout(config.dropout)\n",
    "        self.decoder_blocks = nn.ModuleList([DecoderBlock(config) for _ in range(config.N_decoder)])\n",
    "        self.norm = nn.LayerNorm(config.d_embed)\n",
    "        self.linear = nn.Linear(config.d_embed, config.decoder_vocab_size)\n",
    "    \n",
    "    def future_mask(self, seq_len):\n",
    "        '''mask out tokens at future positions'''\n",
    "        mask = (torch.triu(torch.ones(seq_len, seq_len, requires_grad=False), diagonal=1)!=0).to(DEVICE)\n",
    "        return mask.view(1, 1, seq_len, seq_len)\n",
    "\n",
    "    def forward(self, memory, src_mask, trg, trg_pad_mask):\n",
    "        seq_len = trg.size(1)\n",
    "        trg_mask = torch.logical_or(trg_pad_mask, self.future_mask(seq_len))\n",
    "        x = self.tok_embed(trg)\n",
    "        x = self.pos_embed(x)\n",
    "        x = self.dropout(x)\n",
    "        for layer in self.decoder_blocks:\n",
    "            x = layer(memory, src_mask, x, trg_mask)\n",
    "        x = self.norm(x)\n",
    "        logits = self.linear(x)\n",
    "        return logits\n",
    "\n",
    "\n",
    "class DecoderBlock(nn.Module):\n",
    "    ''' EncoderBlock: self-attention -> position-wise feed-forward (fully connected) layer'''\n",
    "    def __init__(self, config):\n",
    "        super().__init__()\n",
    "        self.atten1 = MultiHeadedAttention(config.h, config.d_embed)\n",
    "        self.atten2 = MultiHeadedAttention(config.h, config.d_embed)\n",
    "        self.feed_forward = nn.Sequential(\n",
    "            nn.Linear(config.d_embed, config.d_ff),\n",
    "            nn.ReLU(),\n",
    "            nn.Dropout(config.dropout),\n",
    "            nn.Linear(config.d_ff, config.d_embed)\n",
    "        )\n",
    "        self.residuals = nn.ModuleList([ResidualConnection(config.d_embed, config.dropout) \n",
    "                                       for i in range(3)])\n",
    "\n",
    "    def forward(self, memory, src_mask, decoder_layer_input, trg_mask):\n",
    "        x = memory\n",
    "        y = decoder_layer_input\n",
    "        y = self.residuals[0](y, lambda y: self.atten1(y, y, y, mask=trg_mask))\n",
    "        # keys and values are from the encoder output\n",
    "        y = self.residuals[1](y, lambda y: self.atten2(y, x, x, mask=src_mask))\n",
    "        return self.residuals[2](y, self.feed_forward)\n",
    "\n",
    "\n",
    "class Transformer(nn.Module):\n",
    "    def __init__(self, encoder, decoder):\n",
    "        super().__init__()\n",
    "        self.encoder = encoder\n",
    "        self.decoder = decoder\n",
    "\n",
    "    def forward(self, src, src_mask, trg, trg_pad_mask):\n",
    "        return self.decoder(self.encoder(src, src_mask), src_mask, trg, trg_pad_mask)\n"
   ]
  },
  {
   "cell_type": "code",
   "execution_count": 11,
   "id": "90eea56e",
   "metadata": {
    "execution": {
     "iopub.execute_input": "2024-04-21T05:42:46.740366Z",
     "iopub.status.busy": "2024-04-21T05:42:46.739445Z",
     "iopub.status.idle": "2024-04-21T05:42:46.759409Z",
     "shell.execute_reply": "2024-04-21T05:42:46.758618Z"
    },
    "papermill": {
     "duration": 0.03204,
     "end_time": "2024-04-21T05:42:46.761735",
     "exception": false,
     "start_time": "2024-04-21T05:42:46.729695",
     "status": "completed"
    },
    "tags": []
   },
   "outputs": [],
   "source": [
    "@dataclass\n",
    "class ModelConfig:\n",
    "    encoder_vocab_size: int\n",
    "    decoder_vocab_size: int\n",
    "    d_embed: int\n",
    "    # d_ff is the dimension of the fully-connected  feed-forward layer\n",
    "    d_ff: int\n",
    "    # h is the number of attention head\n",
    "    h: int\n",
    "    N_encoder: int\n",
    "    N_decoder: int\n",
    "    max_seq_len: int\n",
    "    dropout: float\n",
    "\n",
    "def make_model(config):\n",
    "    model = Transformer(Encoder(config), Decoder(config)).to(DEVICE)\n",
    "\n",
    "    # initialize model parameters\n",
    "    # it seems that this initialization is very important!\n",
    "    for p in model.parameters():\n",
    "            if p.dim() > 1:\n",
    "                nn.init.xavier_uniform_(p)\n",
    "    return model\n",
    "\n",
    "def make_batch_input(x, y):\n",
    "        src = x.to(DEVICE)\n",
    "        trg_in = y[:, :-1].to(DEVICE)\n",
    "        trg_out = y[:, 1:].contiguous().view(-1).to(DEVICE)\n",
    "        src_pad_mask = (src == PAD).view(src.size(0), 1, 1, src.size(-1))\n",
    "        trg_pad_mask = (trg_in == PAD).view(trg_in.size(0), 1, 1, trg_in.size(-1))\n",
    "        return src, trg_in, trg_out, src_pad_mask, trg_pad_mask"
   ]
  },
  {
   "cell_type": "code",
   "execution_count": 12,
   "id": "20bf0371",
   "metadata": {
    "execution": {
     "iopub.execute_input": "2024-04-21T05:42:46.780883Z",
     "iopub.status.busy": "2024-04-21T05:42:46.780541Z",
     "iopub.status.idle": "2024-04-21T05:42:46.797975Z",
     "shell.execute_reply": "2024-04-21T05:42:46.797052Z"
    },
    "papermill": {
     "duration": 0.029903,
     "end_time": "2024-04-21T05:42:46.800106",
     "exception": false,
     "start_time": "2024-04-21T05:42:46.770203",
     "status": "completed"
    },
    "tags": []
   },
   "outputs": [],
   "source": [
    "def translate(model, x):\n",
    "    'translate source sentences into the target language, without looking at the answer'\n",
    "    with torch.no_grad():\n",
    "        dB = x.size(0)\n",
    "        y = torch.tensor([[BOS]*dB]).view(dB, 1).to(DEVICE)\n",
    "        x_pad_mask = (x == PAD).view(x.size(0), 1, 1, x.size(-1)).to(DEVICE)\n",
    "        memory = model.encoder(x, x_pad_mask)\n",
    "        for i in range(max_seq_len):\n",
    "            y_pad_mask = (y == PAD).view(y.size(0), 1, 1, y.size(-1)).to(DEVICE)\n",
    "            logits = model.decoder(memory, x_pad_mask, y, y_pad_mask)\n",
    "            last_output = logits.argmax(-1)[:, -1]\n",
    "            last_output = last_output.view(dB, 1)\n",
    "            y = torch.cat((y, last_output), 1).to(DEVICE)\n",
    "    return y\n",
    "\n",
    "def remove_pad(sent):\n",
    "    '''truncate the sentence if BOS is in it,\n",
    "     otherwise simply remove the padding tokens at the end'''\n",
    "    if sent.count(EOS)>0:\n",
    "      sent = sent[0:sent.index(EOS)+1]\n",
    "    while sent and sent[-1] == PAD:\n",
    "            sent = sent[:-1]\n",
    "    return sent\n",
    "\n",
    "def decode_sentence(detokenizer, sentence_ids):\n",
    "    'convert a tokenized sentence (a list of numbers) to a literal string'\n",
    "    if not isinstance(sentence_ids, list):\n",
    "        sentence_ids = sentence_ids.tolist()\n",
    "    sentence_ids = remove_pad(sentence_ids)\n",
    "    return detokenizer(sentence_ids).replace(\"<bos>\", \"\")\\\n",
    "           .replace(\"<eos>\", \"\").strip().replace(\" .\", \".\")\n",
    "\n",
    "def evaluate(model, dataloader, num_batch=None):\n",
    "    'evaluate the model, and compute the BLEU score'\n",
    "    model.eval()\n",
    "    refs, cans, bleus = [], [], []\n",
    "    with torch.no_grad():\n",
    "        for idx, (x, y) in enumerate(dataloader):\n",
    "            src, trg_in, trg_out, src_pad_mask, trg_pad_mask = make_batch_input(x,y)\n",
    "            translation = translate(model, src)\n",
    "            trg_out = trg_out.view(x.size(0), -1)\n",
    "            refs = refs + [decode_sentence(detokenizers[TRG], trg_out[i]) for i in range(len(src))]\n",
    "            cans = cans + [decode_sentence(detokenizers[TRG], translation[i]) for i in range(len(src))]\n",
    "            if num_batch and idx>=num_batch:\n",
    "                break\n",
    "        bleus.append(sacrebleu.corpus_bleu(cans, [refs]).score)\n",
    "        # print some examples\n",
    "        for i in range(3):\n",
    "            print(f'src:  {decode_sentence(detokenizers[SRC], src[i])}')\n",
    "            print(f'trg:  {decode_sentence(detokenizers[TRG], trg_out[i])}')\n",
    "            print(f'pred: {decode_sentence(detokenizers[TRG], translation[i])}')\n",
    "        return np.mean(bleus)"
   ]
  },
  {
   "cell_type": "code",
   "execution_count": 13,
   "id": "233cbb94",
   "metadata": {
    "execution": {
     "iopub.execute_input": "2024-04-21T05:42:46.819356Z",
     "iopub.status.busy": "2024-04-21T05:42:46.819034Z",
     "iopub.status.idle": "2024-04-21T05:42:46.833859Z",
     "shell.execute_reply": "2024-04-21T05:42:46.832934Z"
    },
    "papermill": {
     "duration": 0.027455,
     "end_time": "2024-04-21T05:42:46.835950",
     "exception": false,
     "start_time": "2024-04-21T05:42:46.808495",
     "status": "completed"
    },
    "tags": []
   },
   "outputs": [],
   "source": [
    "def train_epoch(model, dataloaders):\n",
    "    model.train()\n",
    "    grad_norm_clip = 1.0\n",
    "    losses = []\n",
    "    num_batches = len(dataloaders.train_loader)\n",
    "    pbar = tqdm(enumerate(dataloaders.train_loader), total=num_batches)\n",
    "    for idx, (x, y) in pbar:\n",
    "        optimizer.zero_grad()\n",
    "        src, trg_in, trg_out, src_pad_mask, trg_pad_mask = make_batch_input(x, y)\n",
    "        pred = model(src, src_pad_mask, trg_in, trg_pad_mask).to(DEVICE)\n",
    "        pred = pred.view(-1, pred.size(-1))\n",
    "        loss = loss_fn(pred, trg_out).to(DEVICE)\n",
    "        loss.backward()\n",
    "        torch.nn.utils.clip_grad_norm_(model.parameters(), grad_norm_clip)\n",
    "        optimizer.step()\n",
    "        losses.append(loss.item())\n",
    "        # report progress\n",
    "        if idx > 0 and idx % 50 == 0:\n",
    "            pbar.set_description(f'train loss={loss.item():.3f}')\n",
    "    return np.mean(losses)\n",
    "\n",
    "\n",
    "def validate(model, dataloder):\n",
    "    'compute the validation loss'\n",
    "    model.eval()\n",
    "    losses = []\n",
    "    with torch.no_grad():\n",
    "        for i, (x, y) in enumerate(dataloder):\n",
    "            src, trg_in, trg_out, src_pad_mask, trg_pad_mask = make_batch_input(x,y)\n",
    "            pred = model(src, src_pad_mask, trg_in, trg_pad_mask).to(DEVICE)\n",
    "            pred = pred.view(-1, pred.size(-1))\n",
    "            losses.append(loss_fn(pred, trg_out).item())\n",
    "    return np.mean(losses)\n",
    "\n",
    "def compute_accuracy(model, dataloader):\n",
    "    'compute the validation accuracy'\n",
    "    model.eval()\n",
    "    total_correct = 0\n",
    "    total_samples = 0\n",
    "    with torch.no_grad():\n",
    "        for i, (x, y) in enumerate(dataloader):\n",
    "            src, trg_in, trg_out, src_pad_mask, trg_pad_mask = make_batch_input(x, y)\n",
    "            pred = model(src, src_pad_mask, trg_in, trg_pad_mask).to(DEVICE)\n",
    "            pred = torch.argmax(pred, dim=-1)  # Get the indices of the maximum value along the last dimension\n",
    "            # Flatten trg_out to match pred for comparison\n",
    "            trg_out_flat = trg_out.view(-1)\n",
    "            correct = (pred.view(-1) == trg_out_flat).sum().item()\n",
    "            total_correct += correct\n",
    "            total_samples += trg_out_flat.size(0)\n",
    "    accuracy = total_correct / total_samples\n",
    "    return accuracy"
   ]
  },
  {
   "cell_type": "code",
   "execution_count": 14,
   "id": "060372af",
   "metadata": {
    "execution": {
     "iopub.execute_input": "2024-04-21T05:42:46.853988Z",
     "iopub.status.busy": "2024-04-21T05:42:46.853695Z",
     "iopub.status.idle": "2024-04-21T17:01:09.720788Z",
     "shell.execute_reply": "2024-04-21T17:01:09.719538Z"
    },
    "papermill": {
     "duration": 40702.878798,
     "end_time": "2024-04-21T17:01:09.723131",
     "exception": false,
     "start_time": "2024-04-21T05:42:46.844333",
     "status": "completed"
    },
    "tags": []
   },
   "outputs": [
    {
     "name": "stderr",
     "output_type": "stream",
     "text": [
      "train loss=2.352: 100%|██████████| 6915/6915 [03:07<00:00, 36.86it/s]\n"
     ]
    },
    {
     "name": "stdout",
     "output_type": "stream",
     "text": [
      "ep:1 train_loss=2.80335, valid_loss=2.20550, valid_accuracy=0.65147\n"
     ]
    },
    {
     "name": "stderr",
     "output_type": "stream",
     "text": [
      "train loss=2.309: 100%|██████████| 6915/6915 [03:09<00:00, 36.51it/s]\n"
     ]
    },
    {
     "name": "stdout",
     "output_type": "stream",
     "text": [
      "ep:2 train_loss=2.09061, valid_loss=1.88895, valid_accuracy=0.68677\n"
     ]
    },
    {
     "name": "stderr",
     "output_type": "stream",
     "text": [
      "train loss=1.670: 100%|██████████| 6915/6915 [03:07<00:00, 36.92it/s]\n"
     ]
    },
    {
     "name": "stdout",
     "output_type": "stream",
     "text": [
      "ep:3 train_loss=1.83442, valid_loss=1.66971, valid_accuracy=0.70927\n"
     ]
    },
    {
     "name": "stderr",
     "output_type": "stream",
     "text": [
      "train loss=1.525: 100%|██████████| 6915/6915 [03:09<00:00, 36.50it/s]\n"
     ]
    },
    {
     "name": "stdout",
     "output_type": "stream",
     "text": [
      "ep:4 train_loss=1.64671, valid_loss=1.49543, valid_accuracy=0.73239\n"
     ]
    },
    {
     "name": "stderr",
     "output_type": "stream",
     "text": [
      "train loss=1.535: 100%|██████████| 6915/6915 [03:08<00:00, 36.76it/s]\n"
     ]
    },
    {
     "name": "stdout",
     "output_type": "stream",
     "text": [
      "ep:5 train_loss=1.48570, valid_loss=1.35020, valid_accuracy=0.75407\n"
     ]
    },
    {
     "name": "stderr",
     "output_type": "stream",
     "text": [
      "train loss=1.703: 100%|██████████| 6915/6915 [03:08<00:00, 36.67it/s]\n"
     ]
    },
    {
     "name": "stdout",
     "output_type": "stream",
     "text": [
      "ep:6 train_loss=1.34856, valid_loss=1.24331, valid_accuracy=0.76912\n"
     ]
    },
    {
     "name": "stderr",
     "output_type": "stream",
     "text": [
      "train loss=1.481: 100%|██████████| 6915/6915 [03:09<00:00, 36.57it/s]\n"
     ]
    },
    {
     "name": "stdout",
     "output_type": "stream",
     "text": [
      "ep:7 train_loss=1.23223, valid_loss=1.12956, valid_accuracy=0.78564\n"
     ]
    },
    {
     "name": "stderr",
     "output_type": "stream",
     "text": [
      "train loss=0.936: 100%|██████████| 6915/6915 [03:09<00:00, 36.41it/s]\n"
     ]
    },
    {
     "name": "stdout",
     "output_type": "stream",
     "text": [
      "ep:8 train_loss=1.13440, valid_loss=1.05448, valid_accuracy=0.79908\n"
     ]
    },
    {
     "name": "stderr",
     "output_type": "stream",
     "text": [
      "train loss=1.051: 100%|██████████| 6915/6915 [03:10<00:00, 36.25it/s]\n"
     ]
    },
    {
     "name": "stdout",
     "output_type": "stream",
     "text": [
      "ep:9 train_loss=1.05094, valid_loss=0.99603, valid_accuracy=0.80927\n"
     ]
    },
    {
     "name": "stderr",
     "output_type": "stream",
     "text": [
      "train loss=1.231: 100%|██████████| 6915/6915 [03:09<00:00, 36.41it/s]\n"
     ]
    },
    {
     "name": "stdout",
     "output_type": "stream",
     "text": [
      "ep:10 train_loss=0.97995, valid_loss=0.94439, valid_accuracy=0.81654\n"
     ]
    },
    {
     "name": "stderr",
     "output_type": "stream",
     "text": [
      "train loss=0.935: 100%|██████████| 6915/6915 [03:10<00:00, 36.37it/s]\n"
     ]
    },
    {
     "name": "stdout",
     "output_type": "stream",
     "text": [
      "ep:11 train_loss=0.92490, valid_loss=0.90057, valid_accuracy=0.82379\n"
     ]
    },
    {
     "name": "stderr",
     "output_type": "stream",
     "text": [
      "train loss=0.749: 100%|██████████| 6915/6915 [03:09<00:00, 36.44it/s]\n"
     ]
    },
    {
     "name": "stdout",
     "output_type": "stream",
     "text": [
      "ep:12 train_loss=0.87427, valid_loss=0.86160, valid_accuracy=0.82863\n"
     ]
    },
    {
     "name": "stderr",
     "output_type": "stream",
     "text": [
      "train loss=0.883: 100%|██████████| 6915/6915 [03:07<00:00, 36.90it/s]\n"
     ]
    },
    {
     "name": "stdout",
     "output_type": "stream",
     "text": [
      "ep:13 train_loss=0.83272, valid_loss=0.82702, valid_accuracy=0.83469\n"
     ]
    },
    {
     "name": "stderr",
     "output_type": "stream",
     "text": [
      "train loss=0.926: 100%|██████████| 6915/6915 [03:08<00:00, 36.73it/s]\n"
     ]
    },
    {
     "name": "stdout",
     "output_type": "stream",
     "text": [
      "ep:14 train_loss=0.79309, valid_loss=0.80661, valid_accuracy=0.83862\n"
     ]
    },
    {
     "name": "stderr",
     "output_type": "stream",
     "text": [
      "train loss=0.730: 100%|██████████| 6915/6915 [03:09<00:00, 36.46it/s]\n"
     ]
    },
    {
     "name": "stdout",
     "output_type": "stream",
     "text": [
      "ep:15 train_loss=0.76313, valid_loss=0.78447, valid_accuracy=0.84192\n"
     ]
    },
    {
     "name": "stderr",
     "output_type": "stream",
     "text": [
      "train loss=0.917: 100%|██████████| 6915/6915 [03:08<00:00, 36.64it/s]\n"
     ]
    },
    {
     "name": "stdout",
     "output_type": "stream",
     "text": [
      "ep:16 train_loss=0.73672, valid_loss=0.77036, valid_accuracy=0.84456\n"
     ]
    },
    {
     "name": "stderr",
     "output_type": "stream",
     "text": [
      "train loss=0.528: 100%|██████████| 6915/6915 [03:08<00:00, 36.72it/s]\n"
     ]
    },
    {
     "name": "stdout",
     "output_type": "stream",
     "text": [
      "ep:17 train_loss=0.70950, valid_loss=0.75576, valid_accuracy=0.84847\n"
     ]
    },
    {
     "name": "stderr",
     "output_type": "stream",
     "text": [
      "train loss=0.586: 100%|██████████| 6915/6915 [03:07<00:00, 36.85it/s]\n"
     ]
    },
    {
     "name": "stdout",
     "output_type": "stream",
     "text": [
      "ep:18 train_loss=0.68630, valid_loss=0.73902, valid_accuracy=0.85035\n"
     ]
    },
    {
     "name": "stderr",
     "output_type": "stream",
     "text": [
      "train loss=0.604: 100%|██████████| 6915/6915 [03:09<00:00, 36.57it/s]\n"
     ]
    },
    {
     "name": "stdout",
     "output_type": "stream",
     "text": [
      "ep:19 train_loss=0.66561, valid_loss=0.72575, valid_accuracy=0.85172\n"
     ]
    },
    {
     "name": "stderr",
     "output_type": "stream",
     "text": [
      "train loss=1.021: 100%|██████████| 6915/6915 [03:12<00:00, 35.91it/s]\n"
     ]
    },
    {
     "name": "stdout",
     "output_type": "stream",
     "text": [
      "ep:20 train_loss=0.64771, valid_loss=0.71655, valid_accuracy=0.85422\n"
     ]
    },
    {
     "name": "stderr",
     "output_type": "stream",
     "text": [
      "train loss=0.490: 100%|██████████| 6915/6915 [03:12<00:00, 35.97it/s]\n"
     ]
    },
    {
     "name": "stdout",
     "output_type": "stream",
     "text": [
      "ep:21 train_loss=0.62897, valid_loss=0.70661, valid_accuracy=0.85680\n"
     ]
    },
    {
     "name": "stderr",
     "output_type": "stream",
     "text": [
      "train loss=0.693: 100%|██████████| 6915/6915 [03:13<00:00, 35.81it/s]\n"
     ]
    },
    {
     "name": "stdout",
     "output_type": "stream",
     "text": [
      "ep:22 train_loss=0.61415, valid_loss=0.70167, valid_accuracy=0.85754\n"
     ]
    },
    {
     "name": "stderr",
     "output_type": "stream",
     "text": [
      "train loss=0.426: 100%|██████████| 6915/6915 [03:12<00:00, 35.84it/s]\n"
     ]
    },
    {
     "name": "stdout",
     "output_type": "stream",
     "text": [
      "ep:23 train_loss=0.59929, valid_loss=0.69127, valid_accuracy=0.85966\n"
     ]
    },
    {
     "name": "stderr",
     "output_type": "stream",
     "text": [
      "train loss=0.461: 100%|██████████| 6915/6915 [03:12<00:00, 35.86it/s]\n"
     ]
    },
    {
     "name": "stdout",
     "output_type": "stream",
     "text": [
      "ep:24 train_loss=0.58455, valid_loss=0.68293, valid_accuracy=0.86185\n"
     ]
    },
    {
     "name": "stderr",
     "output_type": "stream",
     "text": [
      "train loss=0.551: 100%|██████████| 6915/6915 [03:15<00:00, 35.40it/s]\n"
     ]
    },
    {
     "name": "stdout",
     "output_type": "stream",
     "text": [
      "ep:25 train_loss=0.57139, valid_loss=0.67443, valid_accuracy=0.86288\n"
     ]
    },
    {
     "name": "stderr",
     "output_type": "stream",
     "text": [
      "train loss=0.488: 100%|██████████| 6915/6915 [03:12<00:00, 35.84it/s]\n"
     ]
    },
    {
     "name": "stdout",
     "output_type": "stream",
     "text": [
      "ep:26 train_loss=0.56073, valid_loss=0.67444, valid_accuracy=0.86323\n"
     ]
    },
    {
     "name": "stderr",
     "output_type": "stream",
     "text": [
      "train loss=0.338: 100%|██████████| 6915/6915 [03:14<00:00, 35.60it/s]\n"
     ]
    },
    {
     "name": "stdout",
     "output_type": "stream",
     "text": [
      "ep:27 train_loss=0.54746, valid_loss=0.66608, valid_accuracy=0.86472\n"
     ]
    },
    {
     "name": "stderr",
     "output_type": "stream",
     "text": [
      "train loss=0.760: 100%|██████████| 6915/6915 [03:15<00:00, 35.39it/s]\n"
     ]
    },
    {
     "name": "stdout",
     "output_type": "stream",
     "text": [
      "ep:28 train_loss=0.53700, valid_loss=0.66077, valid_accuracy=0.86539\n"
     ]
    },
    {
     "name": "stderr",
     "output_type": "stream",
     "text": [
      "train loss=0.329: 100%|██████████| 6915/6915 [03:12<00:00, 36.01it/s]\n"
     ]
    },
    {
     "name": "stdout",
     "output_type": "stream",
     "text": [
      "ep:29 train_loss=0.52571, valid_loss=0.66023, valid_accuracy=0.86612\n"
     ]
    },
    {
     "name": "stderr",
     "output_type": "stream",
     "text": [
      "train loss=0.511: 100%|██████████| 6915/6915 [03:13<00:00, 35.75it/s]\n"
     ]
    },
    {
     "name": "stdout",
     "output_type": "stream",
     "text": [
      "ep:30 train_loss=0.51615, valid_loss=0.65209, valid_accuracy=0.86724\n"
     ]
    },
    {
     "name": "stderr",
     "output_type": "stream",
     "text": [
      "train loss=0.737: 100%|██████████| 6915/6915 [03:13<00:00, 35.81it/s]\n"
     ]
    },
    {
     "name": "stdout",
     "output_type": "stream",
     "text": [
      "ep:31 train_loss=0.50631, valid_loss=0.64756, valid_accuracy=0.86730\n"
     ]
    },
    {
     "name": "stderr",
     "output_type": "stream",
     "text": [
      "train loss=0.412: 100%|██████████| 6915/6915 [03:13<00:00, 35.82it/s]\n"
     ]
    },
    {
     "name": "stdout",
     "output_type": "stream",
     "text": [
      "ep:32 train_loss=0.49976, valid_loss=0.64496, valid_accuracy=0.86960\n"
     ]
    },
    {
     "name": "stderr",
     "output_type": "stream",
     "text": [
      "train loss=0.362: 100%|██████████| 6915/6915 [03:11<00:00, 36.17it/s]\n"
     ]
    },
    {
     "name": "stdout",
     "output_type": "stream",
     "text": [
      "ep:33 train_loss=0.49033, valid_loss=0.64363, valid_accuracy=0.86937\n"
     ]
    },
    {
     "name": "stderr",
     "output_type": "stream",
     "text": [
      "train loss=0.450: 100%|██████████| 6915/6915 [03:10<00:00, 36.27it/s]\n"
     ]
    },
    {
     "name": "stdout",
     "output_type": "stream",
     "text": [
      "ep:34 train_loss=0.48122, valid_loss=0.63902, valid_accuracy=0.87024\n"
     ]
    },
    {
     "name": "stderr",
     "output_type": "stream",
     "text": [
      "train loss=0.352: 100%|██████████| 6915/6915 [03:12<00:00, 35.88it/s]\n"
     ]
    },
    {
     "name": "stdout",
     "output_type": "stream",
     "text": [
      "ep:35 train_loss=0.47347, valid_loss=0.63140, valid_accuracy=0.87111\n"
     ]
    },
    {
     "name": "stderr",
     "output_type": "stream",
     "text": [
      "train loss=0.589: 100%|██████████| 6915/6915 [03:12<00:00, 35.90it/s]\n"
     ]
    },
    {
     "name": "stdout",
     "output_type": "stream",
     "text": [
      "ep:36 train_loss=0.46804, valid_loss=0.63456, valid_accuracy=0.87111\n"
     ]
    },
    {
     "name": "stderr",
     "output_type": "stream",
     "text": [
      "train loss=0.389: 100%|██████████| 6915/6915 [03:11<00:00, 36.18it/s]\n"
     ]
    },
    {
     "name": "stdout",
     "output_type": "stream",
     "text": [
      "ep:37 train_loss=0.45976, valid_loss=0.63481, valid_accuracy=0.87217\n"
     ]
    },
    {
     "name": "stderr",
     "output_type": "stream",
     "text": [
      "train loss=0.405: 100%|██████████| 6915/6915 [03:10<00:00, 36.30it/s]\n"
     ]
    },
    {
     "name": "stdout",
     "output_type": "stream",
     "text": [
      "ep:38 train_loss=0.45393, valid_loss=0.62544, valid_accuracy=0.87266\n"
     ]
    },
    {
     "name": "stderr",
     "output_type": "stream",
     "text": [
      "train loss=0.415: 100%|██████████| 6915/6915 [03:09<00:00, 36.57it/s]\n"
     ]
    },
    {
     "name": "stdout",
     "output_type": "stream",
     "text": [
      "ep:39 train_loss=0.44623, valid_loss=0.62569, valid_accuracy=0.87309\n"
     ]
    },
    {
     "name": "stderr",
     "output_type": "stream",
     "text": [
      "train loss=0.455: 100%|██████████| 6915/6915 [03:10<00:00, 36.29it/s]\n"
     ]
    },
    {
     "name": "stdout",
     "output_type": "stream",
     "text": [
      "ep:40 train_loss=0.44071, valid_loss=0.62182, valid_accuracy=0.87333\n"
     ]
    },
    {
     "name": "stderr",
     "output_type": "stream",
     "text": [
      "train loss=0.307: 100%|██████████| 6915/6915 [03:14<00:00, 35.61it/s]\n"
     ]
    },
    {
     "name": "stdout",
     "output_type": "stream",
     "text": [
      "ep:41 train_loss=0.43466, valid_loss=0.62444, valid_accuracy=0.87420\n"
     ]
    },
    {
     "name": "stderr",
     "output_type": "stream",
     "text": [
      "train loss=0.304: 100%|██████████| 6915/6915 [03:12<00:00, 35.88it/s]\n"
     ]
    },
    {
     "name": "stdout",
     "output_type": "stream",
     "text": [
      "ep:42 train_loss=0.42874, valid_loss=0.62255, valid_accuracy=0.87449\n"
     ]
    },
    {
     "name": "stderr",
     "output_type": "stream",
     "text": [
      "train loss=0.378: 100%|██████████| 6915/6915 [03:11<00:00, 36.20it/s]\n"
     ]
    },
    {
     "name": "stdout",
     "output_type": "stream",
     "text": [
      "ep:43 train_loss=0.42375, valid_loss=0.62134, valid_accuracy=0.87534\n"
     ]
    },
    {
     "name": "stderr",
     "output_type": "stream",
     "text": [
      "train loss=0.389: 100%|██████████| 6915/6915 [03:10<00:00, 36.28it/s]\n"
     ]
    },
    {
     "name": "stdout",
     "output_type": "stream",
     "text": [
      "ep:44 train_loss=0.41844, valid_loss=0.62117, valid_accuracy=0.87626\n"
     ]
    },
    {
     "name": "stderr",
     "output_type": "stream",
     "text": [
      "train loss=0.277: 100%|██████████| 6915/6915 [03:13<00:00, 35.80it/s]\n"
     ]
    },
    {
     "name": "stdout",
     "output_type": "stream",
     "text": [
      "ep:45 train_loss=0.41335, valid_loss=0.62149, valid_accuracy=0.87480\n"
     ]
    },
    {
     "name": "stderr",
     "output_type": "stream",
     "text": [
      "train loss=0.467: 100%|██████████| 6915/6915 [03:10<00:00, 36.28it/s]\n"
     ]
    },
    {
     "name": "stdout",
     "output_type": "stream",
     "text": [
      "ep:46 train_loss=0.40771, valid_loss=0.61701, valid_accuracy=0.87579\n"
     ]
    },
    {
     "name": "stderr",
     "output_type": "stream",
     "text": [
      "train loss=0.369: 100%|██████████| 6915/6915 [03:10<00:00, 36.35it/s]\n"
     ]
    },
    {
     "name": "stdout",
     "output_type": "stream",
     "text": [
      "ep:47 train_loss=0.40254, valid_loss=0.61999, valid_accuracy=0.87592\n"
     ]
    },
    {
     "name": "stderr",
     "output_type": "stream",
     "text": [
      "train loss=0.459: 100%|██████████| 6915/6915 [03:10<00:00, 36.30it/s]\n"
     ]
    },
    {
     "name": "stdout",
     "output_type": "stream",
     "text": [
      "ep:48 train_loss=0.39892, valid_loss=0.61701, valid_accuracy=0.87742\n"
     ]
    },
    {
     "name": "stderr",
     "output_type": "stream",
     "text": [
      "train loss=0.400: 100%|██████████| 6915/6915 [03:11<00:00, 36.05it/s]\n"
     ]
    },
    {
     "name": "stdout",
     "output_type": "stream",
     "text": [
      "ep:49 train_loss=0.39435, valid_loss=0.61671, valid_accuracy=0.87729\n"
     ]
    },
    {
     "name": "stderr",
     "output_type": "stream",
     "text": [
      "train loss=0.403: 100%|██████████| 6915/6915 [03:11<00:00, 36.14it/s]\n"
     ]
    },
    {
     "name": "stdout",
     "output_type": "stream",
     "text": [
      "ep:50 train_loss=0.38929, valid_loss=0.61694, valid_accuracy=0.87809\n"
     ]
    },
    {
     "name": "stderr",
     "output_type": "stream",
     "text": [
      "train loss=0.347: 100%|██████████| 6915/6915 [03:10<00:00, 36.31it/s]\n"
     ]
    },
    {
     "name": "stdout",
     "output_type": "stream",
     "text": [
      "ep:51 train_loss=0.38496, valid_loss=0.61410, valid_accuracy=0.87792\n"
     ]
    },
    {
     "name": "stderr",
     "output_type": "stream",
     "text": [
      "train loss=0.420: 100%|██████████| 6915/6915 [03:08<00:00, 36.66it/s]\n"
     ]
    },
    {
     "name": "stdout",
     "output_type": "stream",
     "text": [
      "ep:52 train_loss=0.38056, valid_loss=0.61849, valid_accuracy=0.87776\n"
     ]
    },
    {
     "name": "stderr",
     "output_type": "stream",
     "text": [
      "train loss=0.503: 100%|██████████| 6915/6915 [03:10<00:00, 36.38it/s]\n"
     ]
    },
    {
     "name": "stdout",
     "output_type": "stream",
     "text": [
      "ep:53 train_loss=0.37723, valid_loss=0.62090, valid_accuracy=0.87759\n"
     ]
    },
    {
     "name": "stderr",
     "output_type": "stream",
     "text": [
      "train loss=0.328: 100%|██████████| 6915/6915 [03:08<00:00, 36.66it/s]\n"
     ]
    },
    {
     "name": "stdout",
     "output_type": "stream",
     "text": [
      "ep:54 train_loss=0.37318, valid_loss=0.61289, valid_accuracy=0.87868\n"
     ]
    },
    {
     "name": "stderr",
     "output_type": "stream",
     "text": [
      "train loss=0.359: 100%|██████████| 6915/6915 [03:19<00:00, 34.68it/s]\n"
     ]
    },
    {
     "name": "stdout",
     "output_type": "stream",
     "text": [
      "ep:55 train_loss=0.36929, valid_loss=0.61705, valid_accuracy=0.87906\n"
     ]
    },
    {
     "name": "stderr",
     "output_type": "stream",
     "text": [
      "train loss=0.489: 100%|██████████| 6915/6915 [03:17<00:00, 34.98it/s]\n"
     ]
    },
    {
     "name": "stdout",
     "output_type": "stream",
     "text": [
      "ep:56 train_loss=0.36564, valid_loss=0.61829, valid_accuracy=0.87894\n"
     ]
    },
    {
     "name": "stderr",
     "output_type": "stream",
     "text": [
      "train loss=0.184: 100%|██████████| 6915/6915 [03:12<00:00, 35.96it/s]\n"
     ]
    },
    {
     "name": "stdout",
     "output_type": "stream",
     "text": [
      "ep:57 train_loss=0.36209, valid_loss=0.61586, valid_accuracy=0.87894\n"
     ]
    },
    {
     "name": "stderr",
     "output_type": "stream",
     "text": [
      "train loss=0.219: 100%|██████████| 6915/6915 [03:12<00:00, 36.01it/s]\n"
     ]
    },
    {
     "name": "stdout",
     "output_type": "stream",
     "text": [
      "ep:58 train_loss=0.35827, valid_loss=0.61082, valid_accuracy=0.87974\n"
     ]
    },
    {
     "name": "stderr",
     "output_type": "stream",
     "text": [
      "train loss=0.255: 100%|██████████| 6915/6915 [03:13<00:00, 35.74it/s]\n"
     ]
    },
    {
     "name": "stdout",
     "output_type": "stream",
     "text": [
      "ep:59 train_loss=0.35485, valid_loss=0.61194, valid_accuracy=0.88061\n"
     ]
    },
    {
     "name": "stderr",
     "output_type": "stream",
     "text": [
      "train loss=0.400: 100%|██████████| 6915/6915 [03:15<00:00, 35.44it/s]\n"
     ]
    },
    {
     "name": "stdout",
     "output_type": "stream",
     "text": [
      "ep:60 train_loss=0.35203, valid_loss=0.61355, valid_accuracy=0.87962\n"
     ]
    },
    {
     "name": "stderr",
     "output_type": "stream",
     "text": [
      "train loss=0.517: 100%|██████████| 6915/6915 [03:12<00:00, 35.97it/s]\n"
     ]
    },
    {
     "name": "stdout",
     "output_type": "stream",
     "text": [
      "ep:61 train_loss=0.34776, valid_loss=0.61195, valid_accuracy=0.88012\n"
     ]
    },
    {
     "name": "stderr",
     "output_type": "stream",
     "text": [
      "train loss=0.372: 100%|██████████| 6915/6915 [03:14<00:00, 35.50it/s]\n"
     ]
    },
    {
     "name": "stdout",
     "output_type": "stream",
     "text": [
      "ep:62 train_loss=0.34509, valid_loss=0.61712, valid_accuracy=0.88043\n"
     ]
    },
    {
     "name": "stderr",
     "output_type": "stream",
     "text": [
      "train loss=0.296: 100%|██████████| 6915/6915 [03:12<00:00, 35.94it/s]\n"
     ]
    },
    {
     "name": "stdout",
     "output_type": "stream",
     "text": [
      "ep:63 train_loss=0.34153, valid_loss=0.61309, valid_accuracy=0.88051\n"
     ]
    },
    {
     "name": "stderr",
     "output_type": "stream",
     "text": [
      "train loss=0.353: 100%|██████████| 6915/6915 [03:11<00:00, 36.16it/s]\n"
     ]
    },
    {
     "name": "stdout",
     "output_type": "stream",
     "text": [
      "ep:64 train_loss=0.33990, valid_loss=0.61047, valid_accuracy=0.88105\n"
     ]
    },
    {
     "name": "stderr",
     "output_type": "stream",
     "text": [
      "train loss=0.309: 100%|██████████| 6915/6915 [03:12<00:00, 35.98it/s]\n"
     ]
    },
    {
     "name": "stdout",
     "output_type": "stream",
     "text": [
      "ep:65 train_loss=0.33523, valid_loss=0.61474, valid_accuracy=0.88074\n"
     ]
    },
    {
     "name": "stderr",
     "output_type": "stream",
     "text": [
      "train loss=0.222: 100%|██████████| 6915/6915 [03:13<00:00, 35.68it/s]\n"
     ]
    },
    {
     "name": "stdout",
     "output_type": "stream",
     "text": [
      "ep:66 train_loss=0.33395, valid_loss=0.61500, valid_accuracy=0.88054\n"
     ]
    },
    {
     "name": "stderr",
     "output_type": "stream",
     "text": [
      "train loss=0.349: 100%|██████████| 6915/6915 [03:13<00:00, 35.70it/s]\n"
     ]
    },
    {
     "name": "stdout",
     "output_type": "stream",
     "text": [
      "ep:67 train_loss=0.33027, valid_loss=0.61879, valid_accuracy=0.88083\n"
     ]
    },
    {
     "name": "stderr",
     "output_type": "stream",
     "text": [
      "train loss=0.286: 100%|██████████| 6915/6915 [03:11<00:00, 36.19it/s]\n"
     ]
    },
    {
     "name": "stdout",
     "output_type": "stream",
     "text": [
      "ep:68 train_loss=0.32711, valid_loss=0.61028, valid_accuracy=0.88116\n"
     ]
    },
    {
     "name": "stderr",
     "output_type": "stream",
     "text": [
      "train loss=0.493: 100%|██████████| 6915/6915 [03:11<00:00, 36.05it/s]\n"
     ]
    },
    {
     "name": "stdout",
     "output_type": "stream",
     "text": [
      "ep:69 train_loss=0.32565, valid_loss=0.61568, valid_accuracy=0.88108\n"
     ]
    },
    {
     "name": "stderr",
     "output_type": "stream",
     "text": [
      "train loss=0.246: 100%|██████████| 6915/6915 [03:13<00:00, 35.79it/s]\n"
     ]
    },
    {
     "name": "stdout",
     "output_type": "stream",
     "text": [
      "ep:70 train_loss=0.32266, valid_loss=0.61638, valid_accuracy=0.88151\n"
     ]
    },
    {
     "name": "stderr",
     "output_type": "stream",
     "text": [
      "train loss=0.333: 100%|██████████| 6915/6915 [03:12<00:00, 35.94it/s]\n"
     ]
    },
    {
     "name": "stdout",
     "output_type": "stream",
     "text": [
      "ep:71 train_loss=0.31976, valid_loss=0.61708, valid_accuracy=0.88177\n"
     ]
    },
    {
     "name": "stderr",
     "output_type": "stream",
     "text": [
      "train loss=0.447: 100%|██████████| 6915/6915 [03:11<00:00, 36.05it/s]\n"
     ]
    },
    {
     "name": "stdout",
     "output_type": "stream",
     "text": [
      "ep:72 train_loss=0.31700, valid_loss=0.61917, valid_accuracy=0.88267\n"
     ]
    },
    {
     "name": "stderr",
     "output_type": "stream",
     "text": [
      "train loss=0.230: 100%|██████████| 6915/6915 [03:13<00:00, 35.77it/s]\n"
     ]
    },
    {
     "name": "stdout",
     "output_type": "stream",
     "text": [
      "ep:73 train_loss=0.31455, valid_loss=0.61442, valid_accuracy=0.88228\n"
     ]
    },
    {
     "name": "stderr",
     "output_type": "stream",
     "text": [
      "train loss=0.333: 100%|██████████| 6915/6915 [03:13<00:00, 35.78it/s]\n"
     ]
    },
    {
     "name": "stdout",
     "output_type": "stream",
     "text": [
      "ep:74 train_loss=0.31244, valid_loss=0.61355, valid_accuracy=0.88232\n"
     ]
    },
    {
     "name": "stderr",
     "output_type": "stream",
     "text": [
      "train loss=0.305: 100%|██████████| 6915/6915 [03:11<00:00, 36.10it/s]\n"
     ]
    },
    {
     "name": "stdout",
     "output_type": "stream",
     "text": [
      "ep:75 train_loss=0.30983, valid_loss=0.61260, valid_accuracy=0.88241\n"
     ]
    },
    {
     "name": "stderr",
     "output_type": "stream",
     "text": [
      "train loss=0.262: 100%|██████████| 6915/6915 [03:14<00:00, 35.52it/s]\n"
     ]
    },
    {
     "name": "stdout",
     "output_type": "stream",
     "text": [
      "ep:76 train_loss=0.30804, valid_loss=0.61933, valid_accuracy=0.88125\n"
     ]
    },
    {
     "name": "stderr",
     "output_type": "stream",
     "text": [
      "train loss=0.291: 100%|██████████| 6915/6915 [03:12<00:00, 35.94it/s]\n"
     ]
    },
    {
     "name": "stdout",
     "output_type": "stream",
     "text": [
      "ep:77 train_loss=0.30540, valid_loss=0.61902, valid_accuracy=0.88187\n"
     ]
    },
    {
     "name": "stderr",
     "output_type": "stream",
     "text": [
      "train loss=0.317: 100%|██████████| 6915/6915 [03:15<00:00, 35.43it/s]\n"
     ]
    },
    {
     "name": "stdout",
     "output_type": "stream",
     "text": [
      "ep:78 train_loss=0.30241, valid_loss=0.61706, valid_accuracy=0.88337\n"
     ]
    },
    {
     "name": "stderr",
     "output_type": "stream",
     "text": [
      "train loss=0.204: 100%|██████████| 6915/6915 [03:11<00:00, 36.20it/s]\n"
     ]
    },
    {
     "name": "stdout",
     "output_type": "stream",
     "text": [
      "ep:79 train_loss=0.30127, valid_loss=0.61909, valid_accuracy=0.88358\n"
     ]
    },
    {
     "name": "stderr",
     "output_type": "stream",
     "text": [
      "train loss=0.216: 100%|██████████| 6915/6915 [03:13<00:00, 35.70it/s]\n"
     ]
    },
    {
     "name": "stdout",
     "output_type": "stream",
     "text": [
      "ep:80 train_loss=0.29952, valid_loss=0.62077, valid_accuracy=0.88248\n"
     ]
    },
    {
     "name": "stderr",
     "output_type": "stream",
     "text": [
      "train loss=0.296: 100%|██████████| 6915/6915 [03:09<00:00, 36.54it/s]\n"
     ]
    },
    {
     "name": "stdout",
     "output_type": "stream",
     "text": [
      "ep:81 train_loss=0.29653, valid_loss=0.61397, valid_accuracy=0.88304\n"
     ]
    },
    {
     "name": "stderr",
     "output_type": "stream",
     "text": [
      "train loss=0.424: 100%|██████████| 6915/6915 [03:10<00:00, 36.22it/s]\n"
     ]
    },
    {
     "name": "stdout",
     "output_type": "stream",
     "text": [
      "ep:82 train_loss=0.29487, valid_loss=0.61865, valid_accuracy=0.88353\n"
     ]
    },
    {
     "name": "stderr",
     "output_type": "stream",
     "text": [
      "train loss=0.203: 100%|██████████| 6915/6915 [03:10<00:00, 36.38it/s]\n"
     ]
    },
    {
     "name": "stdout",
     "output_type": "stream",
     "text": [
      "ep:83 train_loss=0.29233, valid_loss=0.62476, valid_accuracy=0.88316\n"
     ]
    },
    {
     "name": "stderr",
     "output_type": "stream",
     "text": [
      "train loss=0.283: 100%|██████████| 6915/6915 [03:10<00:00, 36.32it/s]\n"
     ]
    },
    {
     "name": "stdout",
     "output_type": "stream",
     "text": [
      "ep:84 train_loss=0.29050, valid_loss=0.62296, valid_accuracy=0.88309\n"
     ]
    },
    {
     "name": "stderr",
     "output_type": "stream",
     "text": [
      "train loss=0.418: 100%|██████████| 6915/6915 [03:09<00:00, 36.48it/s]\n"
     ]
    },
    {
     "name": "stdout",
     "output_type": "stream",
     "text": [
      "ep:85 train_loss=0.28945, valid_loss=0.62132, valid_accuracy=0.88331\n"
     ]
    },
    {
     "name": "stderr",
     "output_type": "stream",
     "text": [
      "train loss=0.274: 100%|██████████| 6915/6915 [03:13<00:00, 35.66it/s]\n"
     ]
    },
    {
     "name": "stdout",
     "output_type": "stream",
     "text": [
      "ep:86 train_loss=0.28638, valid_loss=0.61865, valid_accuracy=0.88402\n"
     ]
    },
    {
     "name": "stderr",
     "output_type": "stream",
     "text": [
      "train loss=0.380: 100%|██████████| 6915/6915 [03:09<00:00, 36.54it/s]\n"
     ]
    },
    {
     "name": "stdout",
     "output_type": "stream",
     "text": [
      "ep:87 train_loss=0.28406, valid_loss=0.62199, valid_accuracy=0.88324\n"
     ]
    },
    {
     "name": "stderr",
     "output_type": "stream",
     "text": [
      "train loss=0.352: 100%|██████████| 6915/6915 [03:12<00:00, 35.98it/s]\n"
     ]
    },
    {
     "name": "stdout",
     "output_type": "stream",
     "text": [
      "ep:88 train_loss=0.28346, valid_loss=0.62182, valid_accuracy=0.88290\n"
     ]
    },
    {
     "name": "stderr",
     "output_type": "stream",
     "text": [
      "train loss=0.333: 100%|██████████| 6915/6915 [03:08<00:00, 36.78it/s]\n"
     ]
    },
    {
     "name": "stdout",
     "output_type": "stream",
     "text": [
      "ep:89 train_loss=0.28117, valid_loss=0.62507, valid_accuracy=0.88306\n"
     ]
    },
    {
     "name": "stderr",
     "output_type": "stream",
     "text": [
      "train loss=0.304: 100%|██████████| 6915/6915 [03:09<00:00, 36.40it/s]\n"
     ]
    },
    {
     "name": "stdout",
     "output_type": "stream",
     "text": [
      "ep:90 train_loss=0.28013, valid_loss=0.62180, valid_accuracy=0.88413\n"
     ]
    },
    {
     "name": "stderr",
     "output_type": "stream",
     "text": [
      "train loss=0.311: 100%|██████████| 6915/6915 [03:08<00:00, 36.62it/s]\n"
     ]
    },
    {
     "name": "stdout",
     "output_type": "stream",
     "text": [
      "ep:91 train_loss=0.27785, valid_loss=0.62148, valid_accuracy=0.88484\n"
     ]
    },
    {
     "name": "stderr",
     "output_type": "stream",
     "text": [
      "train loss=0.304: 100%|██████████| 6915/6915 [03:09<00:00, 36.57it/s]\n"
     ]
    },
    {
     "name": "stdout",
     "output_type": "stream",
     "text": [
      "ep:92 train_loss=0.27604, valid_loss=0.62300, valid_accuracy=0.88418\n"
     ]
    },
    {
     "name": "stderr",
     "output_type": "stream",
     "text": [
      "train loss=0.226: 100%|██████████| 6915/6915 [03:09<00:00, 36.56it/s]\n"
     ]
    },
    {
     "name": "stdout",
     "output_type": "stream",
     "text": [
      "ep:93 train_loss=0.27429, valid_loss=0.62597, valid_accuracy=0.88412\n"
     ]
    },
    {
     "name": "stderr",
     "output_type": "stream",
     "text": [
      "train loss=0.329: 100%|██████████| 6915/6915 [03:08<00:00, 36.65it/s]\n"
     ]
    },
    {
     "name": "stdout",
     "output_type": "stream",
     "text": [
      "ep:94 train_loss=0.27304, valid_loss=0.62330, valid_accuracy=0.88471\n"
     ]
    },
    {
     "name": "stderr",
     "output_type": "stream",
     "text": [
      "train loss=0.243: 100%|██████████| 6915/6915 [03:09<00:00, 36.40it/s]\n"
     ]
    },
    {
     "name": "stdout",
     "output_type": "stream",
     "text": [
      "ep:95 train_loss=0.27107, valid_loss=0.62201, valid_accuracy=0.88401\n"
     ]
    },
    {
     "name": "stderr",
     "output_type": "stream",
     "text": [
      "train loss=0.281: 100%|██████████| 6915/6915 [03:07<00:00, 36.83it/s]\n"
     ]
    },
    {
     "name": "stdout",
     "output_type": "stream",
     "text": [
      "ep:96 train_loss=0.26892, valid_loss=0.62735, valid_accuracy=0.88332\n"
     ]
    },
    {
     "name": "stderr",
     "output_type": "stream",
     "text": [
      "train loss=0.232: 100%|██████████| 6915/6915 [03:10<00:00, 36.26it/s]\n"
     ]
    },
    {
     "name": "stdout",
     "output_type": "stream",
     "text": [
      "ep:97 train_loss=0.26820, valid_loss=0.62769, valid_accuracy=0.88517\n"
     ]
    },
    {
     "name": "stderr",
     "output_type": "stream",
     "text": [
      "train loss=0.225: 100%|██████████| 6915/6915 [03:07<00:00, 36.80it/s]\n"
     ]
    },
    {
     "name": "stdout",
     "output_type": "stream",
     "text": [
      "ep:98 train_loss=0.26635, valid_loss=0.62643, valid_accuracy=0.88414\n"
     ]
    },
    {
     "name": "stderr",
     "output_type": "stream",
     "text": [
      "train loss=0.351: 100%|██████████| 6915/6915 [03:11<00:00, 36.04it/s]\n"
     ]
    },
    {
     "name": "stdout",
     "output_type": "stream",
     "text": [
      "ep:99 train_loss=0.26585, valid_loss=0.62634, valid_accuracy=0.88457\n"
     ]
    },
    {
     "name": "stderr",
     "output_type": "stream",
     "text": [
      "train loss=0.305: 100%|██████████| 6915/6915 [03:13<00:00, 35.74it/s]\n"
     ]
    },
    {
     "name": "stdout",
     "output_type": "stream",
     "text": [
      "ep:100 train_loss=0.26244, valid_loss=0.62517, valid_accuracy=0.88426\n"
     ]
    },
    {
     "name": "stderr",
     "output_type": "stream",
     "text": [
      "train loss=0.253: 100%|██████████| 6915/6915 [03:18<00:00, 34.78it/s]\n"
     ]
    },
    {
     "name": "stdout",
     "output_type": "stream",
     "text": [
      "ep:101 train_loss=0.26169, valid_loss=0.63132, valid_accuracy=0.88494\n"
     ]
    },
    {
     "name": "stderr",
     "output_type": "stream",
     "text": [
      "train loss=0.248: 100%|██████████| 6915/6915 [03:11<00:00, 36.13it/s]\n"
     ]
    },
    {
     "name": "stdout",
     "output_type": "stream",
     "text": [
      "ep:102 train_loss=0.26030, valid_loss=0.62950, valid_accuracy=0.88384\n"
     ]
    },
    {
     "name": "stderr",
     "output_type": "stream",
     "text": [
      "train loss=0.273: 100%|██████████| 6915/6915 [03:12<00:00, 35.83it/s]\n"
     ]
    },
    {
     "name": "stdout",
     "output_type": "stream",
     "text": [
      "ep:103 train_loss=0.25966, valid_loss=0.62883, valid_accuracy=0.88464\n"
     ]
    },
    {
     "name": "stderr",
     "output_type": "stream",
     "text": [
      "train loss=0.248: 100%|██████████| 6915/6915 [03:11<00:00, 36.10it/s]\n"
     ]
    },
    {
     "name": "stdout",
     "output_type": "stream",
     "text": [
      "ep:104 train_loss=0.25786, valid_loss=0.62944, valid_accuracy=0.88446\n"
     ]
    },
    {
     "name": "stderr",
     "output_type": "stream",
     "text": [
      "train loss=0.243: 100%|██████████| 6915/6915 [03:09<00:00, 36.58it/s]\n"
     ]
    },
    {
     "name": "stdout",
     "output_type": "stream",
     "text": [
      "ep:105 train_loss=0.25572, valid_loss=0.62966, valid_accuracy=0.88489\n"
     ]
    },
    {
     "name": "stderr",
     "output_type": "stream",
     "text": [
      "train loss=0.251: 100%|██████████| 6915/6915 [03:10<00:00, 36.38it/s]\n"
     ]
    },
    {
     "name": "stdout",
     "output_type": "stream",
     "text": [
      "ep:106 train_loss=0.25445, valid_loss=0.62794, valid_accuracy=0.88514\n"
     ]
    },
    {
     "name": "stderr",
     "output_type": "stream",
     "text": [
      "train loss=0.281: 100%|██████████| 6915/6915 [03:08<00:00, 36.63it/s]\n"
     ]
    },
    {
     "name": "stdout",
     "output_type": "stream",
     "text": [
      "ep:107 train_loss=0.25352, valid_loss=0.63187, valid_accuracy=0.88434\n"
     ]
    },
    {
     "name": "stderr",
     "output_type": "stream",
     "text": [
      "train loss=0.400: 100%|██████████| 6915/6915 [03:14<00:00, 35.63it/s]\n"
     ]
    },
    {
     "name": "stdout",
     "output_type": "stream",
     "text": [
      "ep:108 train_loss=0.25173, valid_loss=0.63676, valid_accuracy=0.88516\n"
     ]
    },
    {
     "name": "stderr",
     "output_type": "stream",
     "text": [
      "train loss=0.245: 100%|██████████| 6915/6915 [03:10<00:00, 36.26it/s]\n"
     ]
    },
    {
     "name": "stdout",
     "output_type": "stream",
     "text": [
      "ep:109 train_loss=0.25069, valid_loss=0.63134, valid_accuracy=0.88461\n"
     ]
    },
    {
     "name": "stderr",
     "output_type": "stream",
     "text": [
      "train loss=0.160: 100%|██████████| 6915/6915 [03:12<00:00, 35.84it/s]\n"
     ]
    },
    {
     "name": "stdout",
     "output_type": "stream",
     "text": [
      "ep:110 train_loss=0.24891, valid_loss=0.63537, valid_accuracy=0.88450\n"
     ]
    },
    {
     "name": "stderr",
     "output_type": "stream",
     "text": [
      "train loss=0.330: 100%|██████████| 6915/6915 [03:12<00:00, 35.84it/s]\n"
     ]
    },
    {
     "name": "stdout",
     "output_type": "stream",
     "text": [
      "ep:111 train_loss=0.24770, valid_loss=0.63540, valid_accuracy=0.88424\n"
     ]
    },
    {
     "name": "stderr",
     "output_type": "stream",
     "text": [
      "train loss=0.272: 100%|██████████| 6915/6915 [03:11<00:00, 36.17it/s]\n"
     ]
    },
    {
     "name": "stdout",
     "output_type": "stream",
     "text": [
      "ep:112 train_loss=0.24737, valid_loss=0.63692, valid_accuracy=0.88473\n"
     ]
    },
    {
     "name": "stderr",
     "output_type": "stream",
     "text": [
      "train loss=0.185: 100%|██████████| 6915/6915 [03:08<00:00, 36.61it/s]\n"
     ]
    },
    {
     "name": "stdout",
     "output_type": "stream",
     "text": [
      "ep:113 train_loss=0.24543, valid_loss=0.63620, valid_accuracy=0.88480\n"
     ]
    },
    {
     "name": "stderr",
     "output_type": "stream",
     "text": [
      "train loss=0.208: 100%|██████████| 6915/6915 [03:11<00:00, 36.09it/s]\n"
     ]
    },
    {
     "name": "stdout",
     "output_type": "stream",
     "text": [
      "ep:114 train_loss=0.24518, valid_loss=0.63551, valid_accuracy=0.88528\n"
     ]
    },
    {
     "name": "stderr",
     "output_type": "stream",
     "text": [
      "train loss=0.251: 100%|██████████| 6915/6915 [03:12<00:00, 36.00it/s]\n"
     ]
    },
    {
     "name": "stdout",
     "output_type": "stream",
     "text": [
      "ep:115 train_loss=0.24280, valid_loss=0.63652, valid_accuracy=0.88628\n"
     ]
    },
    {
     "name": "stderr",
     "output_type": "stream",
     "text": [
      "train loss=0.288: 100%|██████████| 6915/6915 [03:09<00:00, 36.56it/s]\n"
     ]
    },
    {
     "name": "stdout",
     "output_type": "stream",
     "text": [
      "ep:116 train_loss=0.24187, valid_loss=0.63745, valid_accuracy=0.88502\n"
     ]
    },
    {
     "name": "stderr",
     "output_type": "stream",
     "text": [
      "train loss=0.432: 100%|██████████| 6915/6915 [03:12<00:00, 36.01it/s]\n"
     ]
    },
    {
     "name": "stdout",
     "output_type": "stream",
     "text": [
      "ep:117 train_loss=0.24126, valid_loss=0.63453, valid_accuracy=0.88561\n"
     ]
    },
    {
     "name": "stderr",
     "output_type": "stream",
     "text": [
      "train loss=0.163: 100%|██████████| 6915/6915 [03:10<00:00, 36.31it/s]\n"
     ]
    },
    {
     "name": "stdout",
     "output_type": "stream",
     "text": [
      "ep:118 train_loss=0.23962, valid_loss=0.63987, valid_accuracy=0.88516\n"
     ]
    },
    {
     "name": "stderr",
     "output_type": "stream",
     "text": [
      "train loss=0.133: 100%|██████████| 6915/6915 [03:11<00:00, 36.18it/s]\n"
     ]
    },
    {
     "name": "stdout",
     "output_type": "stream",
     "text": [
      "ep:119 train_loss=0.23902, valid_loss=0.64203, valid_accuracy=0.88567\n"
     ]
    },
    {
     "name": "stderr",
     "output_type": "stream",
     "text": [
      "train loss=0.303: 100%|██████████| 6915/6915 [03:10<00:00, 36.27it/s]\n"
     ]
    },
    {
     "name": "stdout",
     "output_type": "stream",
     "text": [
      "ep:120 train_loss=0.23844, valid_loss=0.63408, valid_accuracy=0.88486\n"
     ]
    },
    {
     "name": "stderr",
     "output_type": "stream",
     "text": [
      "train loss=0.191: 100%|██████████| 6915/6915 [03:09<00:00, 36.48it/s]\n"
     ]
    },
    {
     "name": "stdout",
     "output_type": "stream",
     "text": [
      "ep:121 train_loss=0.23624, valid_loss=0.64214, valid_accuracy=0.88523\n"
     ]
    },
    {
     "name": "stderr",
     "output_type": "stream",
     "text": [
      "train loss=0.267: 100%|██████████| 6915/6915 [03:14<00:00, 35.54it/s]\n"
     ]
    },
    {
     "name": "stdout",
     "output_type": "stream",
     "text": [
      "ep:122 train_loss=0.23489, valid_loss=0.64326, valid_accuracy=0.88621\n"
     ]
    },
    {
     "name": "stderr",
     "output_type": "stream",
     "text": [
      "train loss=0.307: 100%|██████████| 6915/6915 [03:11<00:00, 36.13it/s]\n"
     ]
    },
    {
     "name": "stdout",
     "output_type": "stream",
     "text": [
      "ep:123 train_loss=0.23488, valid_loss=0.64318, valid_accuracy=0.88627\n"
     ]
    },
    {
     "name": "stderr",
     "output_type": "stream",
     "text": [
      "train loss=0.235: 100%|██████████| 6915/6915 [03:14<00:00, 35.61it/s]\n"
     ]
    },
    {
     "name": "stdout",
     "output_type": "stream",
     "text": [
      "ep:124 train_loss=0.23354, valid_loss=0.64848, valid_accuracy=0.88550\n"
     ]
    },
    {
     "name": "stderr",
     "output_type": "stream",
     "text": [
      "train loss=0.241: 100%|██████████| 6915/6915 [03:11<00:00, 36.11it/s]\n"
     ]
    },
    {
     "name": "stdout",
     "output_type": "stream",
     "text": [
      "ep:125 train_loss=0.23130, valid_loss=0.63755, valid_accuracy=0.88597\n"
     ]
    },
    {
     "name": "stderr",
     "output_type": "stream",
     "text": [
      "train loss=0.136: 100%|██████████| 6915/6915 [03:10<00:00, 36.37it/s]\n"
     ]
    },
    {
     "name": "stdout",
     "output_type": "stream",
     "text": [
      "ep:126 train_loss=0.23047, valid_loss=0.63987, valid_accuracy=0.88669\n"
     ]
    },
    {
     "name": "stderr",
     "output_type": "stream",
     "text": [
      "train loss=0.325: 100%|██████████| 6915/6915 [03:10<00:00, 36.23it/s]\n"
     ]
    },
    {
     "name": "stdout",
     "output_type": "stream",
     "text": [
      "ep:127 train_loss=0.23053, valid_loss=0.64733, valid_accuracy=0.88545\n"
     ]
    },
    {
     "name": "stderr",
     "output_type": "stream",
     "text": [
      "train loss=0.281: 100%|██████████| 6915/6915 [03:12<00:00, 35.96it/s]\n"
     ]
    },
    {
     "name": "stdout",
     "output_type": "stream",
     "text": [
      "ep:128 train_loss=0.22845, valid_loss=0.64518, valid_accuracy=0.88596\n"
     ]
    },
    {
     "name": "stderr",
     "output_type": "stream",
     "text": [
      "train loss=0.243: 100%|██████████| 6915/6915 [03:11<00:00, 36.09it/s]\n"
     ]
    },
    {
     "name": "stdout",
     "output_type": "stream",
     "text": [
      "ep:129 train_loss=0.22769, valid_loss=0.64504, valid_accuracy=0.88536\n"
     ]
    },
    {
     "name": "stderr",
     "output_type": "stream",
     "text": [
      "train loss=0.149: 100%|██████████| 6915/6915 [03:10<00:00, 36.29it/s]\n"
     ]
    },
    {
     "name": "stdout",
     "output_type": "stream",
     "text": [
      "ep:130 train_loss=0.22684, valid_loss=0.64776, valid_accuracy=0.88590\n"
     ]
    },
    {
     "name": "stderr",
     "output_type": "stream",
     "text": [
      "train loss=0.187: 100%|██████████| 6915/6915 [03:12<00:00, 35.96it/s]\n"
     ]
    },
    {
     "name": "stdout",
     "output_type": "stream",
     "text": [
      "ep:131 train_loss=0.22580, valid_loss=0.64825, valid_accuracy=0.88518\n"
     ]
    },
    {
     "name": "stderr",
     "output_type": "stream",
     "text": [
      "train loss=0.247: 100%|██████████| 6915/6915 [03:12<00:00, 36.00it/s]\n"
     ]
    },
    {
     "name": "stdout",
     "output_type": "stream",
     "text": [
      "ep:132 train_loss=0.22536, valid_loss=0.64871, valid_accuracy=0.88621\n"
     ]
    },
    {
     "name": "stderr",
     "output_type": "stream",
     "text": [
      "train loss=0.275: 100%|██████████| 6915/6915 [03:11<00:00, 36.18it/s]\n"
     ]
    },
    {
     "name": "stdout",
     "output_type": "stream",
     "text": [
      "ep:133 train_loss=0.22442, valid_loss=0.64684, valid_accuracy=0.88591\n"
     ]
    },
    {
     "name": "stderr",
     "output_type": "stream",
     "text": [
      "train loss=0.150: 100%|██████████| 6915/6915 [03:12<00:00, 35.87it/s]\n"
     ]
    },
    {
     "name": "stdout",
     "output_type": "stream",
     "text": [
      "ep:134 train_loss=0.22320, valid_loss=0.65179, valid_accuracy=0.88585\n"
     ]
    },
    {
     "name": "stderr",
     "output_type": "stream",
     "text": [
      "train loss=0.249: 100%|██████████| 6915/6915 [03:11<00:00, 36.17it/s]\n"
     ]
    },
    {
     "name": "stdout",
     "output_type": "stream",
     "text": [
      "ep:135 train_loss=0.22205, valid_loss=0.64963, valid_accuracy=0.88522\n"
     ]
    },
    {
     "name": "stderr",
     "output_type": "stream",
     "text": [
      "train loss=0.229: 100%|██████████| 6915/6915 [03:10<00:00, 36.21it/s]\n"
     ]
    },
    {
     "name": "stdout",
     "output_type": "stream",
     "text": [
      "ep:136 train_loss=0.22131, valid_loss=0.65137, valid_accuracy=0.88566\n"
     ]
    },
    {
     "name": "stderr",
     "output_type": "stream",
     "text": [
      "train loss=0.150: 100%|██████████| 6915/6915 [03:11<00:00, 36.13it/s]\n"
     ]
    },
    {
     "name": "stdout",
     "output_type": "stream",
     "text": [
      "ep:137 train_loss=0.22014, valid_loss=0.64915, valid_accuracy=0.88576\n"
     ]
    },
    {
     "name": "stderr",
     "output_type": "stream",
     "text": [
      "train loss=0.154: 100%|██████████| 6915/6915 [03:12<00:00, 35.88it/s]\n"
     ]
    },
    {
     "name": "stdout",
     "output_type": "stream",
     "text": [
      "ep:138 train_loss=0.22013, valid_loss=0.64996, valid_accuracy=0.88590\n"
     ]
    },
    {
     "name": "stderr",
     "output_type": "stream",
     "text": [
      "train loss=0.284: 100%|██████████| 6915/6915 [03:13<00:00, 35.73it/s]\n"
     ]
    },
    {
     "name": "stdout",
     "output_type": "stream",
     "text": [
      "ep:139 train_loss=0.21909, valid_loss=0.65380, valid_accuracy=0.88636\n"
     ]
    },
    {
     "name": "stderr",
     "output_type": "stream",
     "text": [
      "train loss=0.194: 100%|██████████| 6915/6915 [03:13<00:00, 35.79it/s]\n"
     ]
    },
    {
     "name": "stdout",
     "output_type": "stream",
     "text": [
      "ep:140 train_loss=0.21773, valid_loss=0.65576, valid_accuracy=0.88611\n"
     ]
    },
    {
     "name": "stderr",
     "output_type": "stream",
     "text": [
      "train loss=0.220: 100%|██████████| 6915/6915 [03:12<00:00, 35.98it/s]\n"
     ]
    },
    {
     "name": "stdout",
     "output_type": "stream",
     "text": [
      "ep:141 train_loss=0.21682, valid_loss=0.65331, valid_accuracy=0.88576\n"
     ]
    },
    {
     "name": "stderr",
     "output_type": "stream",
     "text": [
      "train loss=0.222: 100%|██████████| 6915/6915 [03:13<00:00, 35.69it/s]\n"
     ]
    },
    {
     "name": "stdout",
     "output_type": "stream",
     "text": [
      "ep:142 train_loss=0.21638, valid_loss=0.64918, valid_accuracy=0.88583\n"
     ]
    },
    {
     "name": "stderr",
     "output_type": "stream",
     "text": [
      "train loss=0.197: 100%|██████████| 6915/6915 [03:11<00:00, 36.11it/s]\n"
     ]
    },
    {
     "name": "stdout",
     "output_type": "stream",
     "text": [
      "ep:143 train_loss=0.21472, valid_loss=0.65793, valid_accuracy=0.88615\n"
     ]
    },
    {
     "name": "stderr",
     "output_type": "stream",
     "text": [
      "train loss=0.253: 100%|██████████| 6915/6915 [03:14<00:00, 35.60it/s]\n"
     ]
    },
    {
     "name": "stdout",
     "output_type": "stream",
     "text": [
      "ep:144 train_loss=0.21404, valid_loss=0.65423, valid_accuracy=0.88600\n"
     ]
    },
    {
     "name": "stderr",
     "output_type": "stream",
     "text": [
      "train loss=0.209: 100%|██████████| 6915/6915 [03:11<00:00, 36.19it/s]\n"
     ]
    },
    {
     "name": "stdout",
     "output_type": "stream",
     "text": [
      "ep:145 train_loss=0.21400, valid_loss=0.65611, valid_accuracy=0.88562\n"
     ]
    },
    {
     "name": "stderr",
     "output_type": "stream",
     "text": [
      "train loss=0.142: 100%|██████████| 6915/6915 [03:11<00:00, 36.07it/s]\n"
     ]
    },
    {
     "name": "stdout",
     "output_type": "stream",
     "text": [
      "ep:146 train_loss=0.21246, valid_loss=0.65755, valid_accuracy=0.88683\n"
     ]
    },
    {
     "name": "stderr",
     "output_type": "stream",
     "text": [
      "train loss=0.320: 100%|██████████| 6915/6915 [03:14<00:00, 35.57it/s]\n"
     ]
    },
    {
     "name": "stdout",
     "output_type": "stream",
     "text": [
      "ep:147 train_loss=0.21264, valid_loss=0.65980, valid_accuracy=0.88601\n"
     ]
    },
    {
     "name": "stderr",
     "output_type": "stream",
     "text": [
      "train loss=0.142: 100%|██████████| 6915/6915 [03:11<00:00, 36.15it/s]\n"
     ]
    },
    {
     "name": "stdout",
     "output_type": "stream",
     "text": [
      "ep:148 train_loss=0.21115, valid_loss=0.65544, valid_accuracy=0.88688\n"
     ]
    },
    {
     "name": "stderr",
     "output_type": "stream",
     "text": [
      "train loss=0.219: 100%|██████████| 6915/6915 [03:10<00:00, 36.33it/s]\n"
     ]
    },
    {
     "name": "stdout",
     "output_type": "stream",
     "text": [
      "ep:149 train_loss=0.20997, valid_loss=0.65737, valid_accuracy=0.88581\n"
     ]
    },
    {
     "name": "stderr",
     "output_type": "stream",
     "text": [
      "train loss=0.199: 100%|██████████| 6915/6915 [03:14<00:00, 35.63it/s]\n"
     ]
    },
    {
     "name": "stdout",
     "output_type": "stream",
     "text": [
      "ep:150 train_loss=0.20969, valid_loss=0.65855, valid_accuracy=0.88629\n"
     ]
    },
    {
     "name": "stderr",
     "output_type": "stream",
     "text": [
      "train loss=0.182: 100%|██████████| 6915/6915 [03:15<00:00, 35.36it/s]\n"
     ]
    },
    {
     "name": "stdout",
     "output_type": "stream",
     "text": [
      "ep:151 train_loss=0.20932, valid_loss=0.65785, valid_accuracy=0.88656\n"
     ]
    },
    {
     "name": "stderr",
     "output_type": "stream",
     "text": [
      "train loss=0.167: 100%|██████████| 6915/6915 [03:16<00:00, 35.22it/s]\n"
     ]
    },
    {
     "name": "stdout",
     "output_type": "stream",
     "text": [
      "ep:152 train_loss=0.20820, valid_loss=0.66163, valid_accuracy=0.88655\n"
     ]
    },
    {
     "name": "stderr",
     "output_type": "stream",
     "text": [
      "train loss=0.272: 100%|██████████| 6915/6915 [03:15<00:00, 35.35it/s]\n"
     ]
    },
    {
     "name": "stdout",
     "output_type": "stream",
     "text": [
      "ep:153 train_loss=0.20724, valid_loss=0.66259, valid_accuracy=0.88673\n"
     ]
    },
    {
     "name": "stderr",
     "output_type": "stream",
     "text": [
      "train loss=0.311: 100%|██████████| 6915/6915 [03:14<00:00, 35.62it/s]\n"
     ]
    },
    {
     "name": "stdout",
     "output_type": "stream",
     "text": [
      "ep:154 train_loss=0.20674, valid_loss=0.66240, valid_accuracy=0.88656\n"
     ]
    },
    {
     "name": "stderr",
     "output_type": "stream",
     "text": [
      "train loss=0.262: 100%|██████████| 6915/6915 [03:15<00:00, 35.44it/s]\n"
     ]
    },
    {
     "name": "stdout",
     "output_type": "stream",
     "text": [
      "ep:155 train_loss=0.20585, valid_loss=0.66248, valid_accuracy=0.88624\n"
     ]
    },
    {
     "name": "stderr",
     "output_type": "stream",
     "text": [
      "train loss=0.270: 100%|██████████| 6915/6915 [03:13<00:00, 35.67it/s]\n"
     ]
    },
    {
     "name": "stdout",
     "output_type": "stream",
     "text": [
      "ep:156 train_loss=0.20520, valid_loss=0.66529, valid_accuracy=0.88645\n"
     ]
    },
    {
     "name": "stderr",
     "output_type": "stream",
     "text": [
      "train loss=0.277: 100%|██████████| 6915/6915 [03:15<00:00, 35.43it/s]\n"
     ]
    },
    {
     "name": "stdout",
     "output_type": "stream",
     "text": [
      "ep:157 train_loss=0.20511, valid_loss=0.66581, valid_accuracy=0.88614\n"
     ]
    },
    {
     "name": "stderr",
     "output_type": "stream",
     "text": [
      "train loss=0.251: 100%|██████████| 6915/6915 [03:13<00:00, 35.76it/s]\n"
     ]
    },
    {
     "name": "stdout",
     "output_type": "stream",
     "text": [
      "ep:158 train_loss=0.20308, valid_loss=0.66155, valid_accuracy=0.88671\n"
     ]
    },
    {
     "name": "stderr",
     "output_type": "stream",
     "text": [
      "train loss=0.125: 100%|██████████| 6915/6915 [03:13<00:00, 35.68it/s]\n"
     ]
    },
    {
     "name": "stdout",
     "output_type": "stream",
     "text": [
      "ep:159 train_loss=0.20334, valid_loss=0.66459, valid_accuracy=0.88589\n"
     ]
    },
    {
     "name": "stderr",
     "output_type": "stream",
     "text": [
      "train loss=0.195: 100%|██████████| 6915/6915 [03:11<00:00, 36.16it/s]\n"
     ]
    },
    {
     "name": "stdout",
     "output_type": "stream",
     "text": [
      "ep:160 train_loss=0.20293, valid_loss=0.66545, valid_accuracy=0.88771\n"
     ]
    },
    {
     "name": "stderr",
     "output_type": "stream",
     "text": [
      "train loss=0.224: 100%|██████████| 6915/6915 [03:12<00:00, 35.92it/s]\n"
     ]
    },
    {
     "name": "stdout",
     "output_type": "stream",
     "text": [
      "ep:161 train_loss=0.20184, valid_loss=0.66574, valid_accuracy=0.88663\n"
     ]
    },
    {
     "name": "stderr",
     "output_type": "stream",
     "text": [
      "train loss=0.303: 100%|██████████| 6915/6915 [03:14<00:00, 35.58it/s]\n"
     ]
    },
    {
     "name": "stdout",
     "output_type": "stream",
     "text": [
      "ep:162 train_loss=0.20121, valid_loss=0.66496, valid_accuracy=0.88663\n"
     ]
    },
    {
     "name": "stderr",
     "output_type": "stream",
     "text": [
      "train loss=0.160: 100%|██████████| 6915/6915 [03:13<00:00, 35.67it/s]\n"
     ]
    },
    {
     "name": "stdout",
     "output_type": "stream",
     "text": [
      "ep:163 train_loss=0.20060, valid_loss=0.66520, valid_accuracy=0.88629\n"
     ]
    },
    {
     "name": "stderr",
     "output_type": "stream",
     "text": [
      "train loss=0.231: 100%|██████████| 6915/6915 [03:10<00:00, 36.27it/s]\n"
     ]
    },
    {
     "name": "stdout",
     "output_type": "stream",
     "text": [
      "ep:164 train_loss=0.19943, valid_loss=0.66339, valid_accuracy=0.88708\n"
     ]
    },
    {
     "name": "stderr",
     "output_type": "stream",
     "text": [
      "train loss=0.178: 100%|██████████| 6915/6915 [03:13<00:00, 35.71it/s]\n"
     ]
    },
    {
     "name": "stdout",
     "output_type": "stream",
     "text": [
      "ep:165 train_loss=0.19895, valid_loss=0.66943, valid_accuracy=0.88622\n"
     ]
    },
    {
     "name": "stderr",
     "output_type": "stream",
     "text": [
      "train loss=0.212: 100%|██████████| 6915/6915 [03:13<00:00, 35.81it/s]\n"
     ]
    },
    {
     "name": "stdout",
     "output_type": "stream",
     "text": [
      "ep:166 train_loss=0.19779, valid_loss=0.67339, valid_accuracy=0.88751\n"
     ]
    },
    {
     "name": "stderr",
     "output_type": "stream",
     "text": [
      "train loss=0.236: 100%|██████████| 6915/6915 [03:11<00:00, 36.10it/s]\n"
     ]
    },
    {
     "name": "stdout",
     "output_type": "stream",
     "text": [
      "ep:167 train_loss=0.19775, valid_loss=0.67495, valid_accuracy=0.88715\n"
     ]
    },
    {
     "name": "stderr",
     "output_type": "stream",
     "text": [
      "train loss=0.261: 100%|██████████| 6915/6915 [03:10<00:00, 36.39it/s]\n"
     ]
    },
    {
     "name": "stdout",
     "output_type": "stream",
     "text": [
      "ep:168 train_loss=0.19675, valid_loss=0.66792, valid_accuracy=0.88618\n"
     ]
    },
    {
     "name": "stderr",
     "output_type": "stream",
     "text": [
      "train loss=0.263: 100%|██████████| 6915/6915 [03:14<00:00, 35.61it/s]\n"
     ]
    },
    {
     "name": "stdout",
     "output_type": "stream",
     "text": [
      "ep:169 train_loss=0.19732, valid_loss=0.67543, valid_accuracy=0.88618\n"
     ]
    },
    {
     "name": "stderr",
     "output_type": "stream",
     "text": [
      "train loss=0.179: 100%|██████████| 6915/6915 [03:13<00:00, 35.67it/s]\n"
     ]
    },
    {
     "name": "stdout",
     "output_type": "stream",
     "text": [
      "ep:170 train_loss=0.19496, valid_loss=0.67009, valid_accuracy=0.88582\n"
     ]
    },
    {
     "name": "stderr",
     "output_type": "stream",
     "text": [
      "train loss=0.192: 100%|██████████| 6915/6915 [03:15<00:00, 35.35it/s]\n"
     ]
    },
    {
     "name": "stdout",
     "output_type": "stream",
     "text": [
      "ep:171 train_loss=0.19536, valid_loss=0.66829, valid_accuracy=0.88695\n"
     ]
    },
    {
     "name": "stderr",
     "output_type": "stream",
     "text": [
      "train loss=0.219: 100%|██████████| 6915/6915 [03:10<00:00, 36.28it/s]\n"
     ]
    },
    {
     "name": "stdout",
     "output_type": "stream",
     "text": [
      "ep:172 train_loss=0.19438, valid_loss=0.66810, valid_accuracy=0.88554\n"
     ]
    },
    {
     "name": "stderr",
     "output_type": "stream",
     "text": [
      "train loss=0.229: 100%|██████████| 6915/6915 [03:13<00:00, 35.67it/s]\n"
     ]
    },
    {
     "name": "stdout",
     "output_type": "stream",
     "text": [
      "ep:173 train_loss=0.19381, valid_loss=0.66871, valid_accuracy=0.88784\n"
     ]
    },
    {
     "name": "stderr",
     "output_type": "stream",
     "text": [
      "train loss=0.133: 100%|██████████| 6915/6915 [03:12<00:00, 35.94it/s]\n"
     ]
    },
    {
     "name": "stdout",
     "output_type": "stream",
     "text": [
      "ep:174 train_loss=0.19329, valid_loss=0.67437, valid_accuracy=0.88660\n"
     ]
    },
    {
     "name": "stderr",
     "output_type": "stream",
     "text": [
      "train loss=0.200: 100%|██████████| 6915/6915 [03:14<00:00, 35.47it/s]\n"
     ]
    },
    {
     "name": "stdout",
     "output_type": "stream",
     "text": [
      "ep:175 train_loss=0.19319, valid_loss=0.67351, valid_accuracy=0.88616\n"
     ]
    },
    {
     "name": "stderr",
     "output_type": "stream",
     "text": [
      "train loss=0.230: 100%|██████████| 6915/6915 [03:10<00:00, 36.25it/s]\n"
     ]
    },
    {
     "name": "stdout",
     "output_type": "stream",
     "text": [
      "ep:176 train_loss=0.19179, valid_loss=0.67004, valid_accuracy=0.88686\n"
     ]
    },
    {
     "name": "stderr",
     "output_type": "stream",
     "text": [
      "train loss=0.249: 100%|██████████| 6915/6915 [03:12<00:00, 35.85it/s]\n"
     ]
    },
    {
     "name": "stdout",
     "output_type": "stream",
     "text": [
      "ep:177 train_loss=0.19169, valid_loss=0.66539, valid_accuracy=0.88694\n"
     ]
    },
    {
     "name": "stderr",
     "output_type": "stream",
     "text": [
      "train loss=0.281: 100%|██████████| 6915/6915 [03:13<00:00, 35.78it/s]\n"
     ]
    },
    {
     "name": "stdout",
     "output_type": "stream",
     "text": [
      "ep:178 train_loss=0.19044, valid_loss=0.67511, valid_accuracy=0.88740\n"
     ]
    },
    {
     "name": "stderr",
     "output_type": "stream",
     "text": [
      "train loss=0.097: 100%|██████████| 6915/6915 [03:15<00:00, 35.43it/s]\n"
     ]
    },
    {
     "name": "stdout",
     "output_type": "stream",
     "text": [
      "ep:179 train_loss=0.18978, valid_loss=0.67490, valid_accuracy=0.88630\n"
     ]
    },
    {
     "name": "stderr",
     "output_type": "stream",
     "text": [
      "train loss=0.167: 100%|██████████| 6915/6915 [03:10<00:00, 36.22it/s]\n"
     ]
    },
    {
     "name": "stdout",
     "output_type": "stream",
     "text": [
      "ep:180 train_loss=0.18982, valid_loss=0.67866, valid_accuracy=0.88648\n"
     ]
    },
    {
     "name": "stderr",
     "output_type": "stream",
     "text": [
      "train loss=0.156: 100%|██████████| 6915/6915 [03:14<00:00, 35.63it/s]\n"
     ]
    },
    {
     "name": "stdout",
     "output_type": "stream",
     "text": [
      "ep:181 train_loss=0.18926, valid_loss=0.67459, valid_accuracy=0.88709\n"
     ]
    },
    {
     "name": "stderr",
     "output_type": "stream",
     "text": [
      "train loss=0.351: 100%|██████████| 6915/6915 [03:13<00:00, 35.71it/s]\n"
     ]
    },
    {
     "name": "stdout",
     "output_type": "stream",
     "text": [
      "ep:182 train_loss=0.18896, valid_loss=0.67529, valid_accuracy=0.88706\n"
     ]
    },
    {
     "name": "stderr",
     "output_type": "stream",
     "text": [
      "train loss=0.162: 100%|██████████| 6915/6915 [03:12<00:00, 35.95it/s]\n"
     ]
    },
    {
     "name": "stdout",
     "output_type": "stream",
     "text": [
      "ep:183 train_loss=0.18823, valid_loss=0.67891, valid_accuracy=0.88685\n"
     ]
    },
    {
     "name": "stderr",
     "output_type": "stream",
     "text": [
      "train loss=0.221: 100%|██████████| 6915/6915 [03:11<00:00, 36.19it/s]\n"
     ]
    },
    {
     "name": "stdout",
     "output_type": "stream",
     "text": [
      "ep:184 train_loss=0.18766, valid_loss=0.67958, valid_accuracy=0.88562\n"
     ]
    },
    {
     "name": "stderr",
     "output_type": "stream",
     "text": [
      "train loss=0.211: 100%|██████████| 6915/6915 [03:13<00:00, 35.81it/s]\n"
     ]
    },
    {
     "name": "stdout",
     "output_type": "stream",
     "text": [
      "ep:185 train_loss=0.18691, valid_loss=0.67803, valid_accuracy=0.88719\n"
     ]
    },
    {
     "name": "stderr",
     "output_type": "stream",
     "text": [
      "train loss=0.268: 100%|██████████| 6915/6915 [03:13<00:00, 35.82it/s]\n"
     ]
    },
    {
     "name": "stdout",
     "output_type": "stream",
     "text": [
      "ep:186 train_loss=0.18641, valid_loss=0.68041, valid_accuracy=0.88672\n"
     ]
    },
    {
     "name": "stderr",
     "output_type": "stream",
     "text": [
      "train loss=0.176: 100%|██████████| 6915/6915 [03:08<00:00, 36.69it/s]\n"
     ]
    },
    {
     "name": "stdout",
     "output_type": "stream",
     "text": [
      "ep:187 train_loss=0.18546, valid_loss=0.67875, valid_accuracy=0.88672\n"
     ]
    },
    {
     "name": "stderr",
     "output_type": "stream",
     "text": [
      "train loss=0.212: 100%|██████████| 6915/6915 [03:08<00:00, 36.66it/s]\n"
     ]
    },
    {
     "name": "stdout",
     "output_type": "stream",
     "text": [
      "ep:188 train_loss=0.18584, valid_loss=0.67760, valid_accuracy=0.88775\n"
     ]
    },
    {
     "name": "stderr",
     "output_type": "stream",
     "text": [
      "train loss=0.159: 100%|██████████| 6915/6915 [03:13<00:00, 35.76it/s]\n"
     ]
    },
    {
     "name": "stdout",
     "output_type": "stream",
     "text": [
      "ep:189 train_loss=0.18472, valid_loss=0.67899, valid_accuracy=0.88718\n"
     ]
    },
    {
     "name": "stderr",
     "output_type": "stream",
     "text": [
      "train loss=0.203: 100%|██████████| 6915/6915 [03:11<00:00, 36.13it/s]\n"
     ]
    },
    {
     "name": "stdout",
     "output_type": "stream",
     "text": [
      "ep:190 train_loss=0.18380, valid_loss=0.68145, valid_accuracy=0.88818\n"
     ]
    },
    {
     "name": "stderr",
     "output_type": "stream",
     "text": [
      "train loss=0.284: 100%|██████████| 6915/6915 [03:11<00:00, 36.07it/s]\n"
     ]
    },
    {
     "name": "stdout",
     "output_type": "stream",
     "text": [
      "ep:191 train_loss=0.18329, valid_loss=0.67939, valid_accuracy=0.88756\n"
     ]
    },
    {
     "name": "stderr",
     "output_type": "stream",
     "text": [
      "train loss=0.289: 100%|██████████| 6915/6915 [03:08<00:00, 36.68it/s]\n"
     ]
    },
    {
     "name": "stdout",
     "output_type": "stream",
     "text": [
      "ep:192 train_loss=0.18219, valid_loss=0.67814, valid_accuracy=0.88705\n"
     ]
    },
    {
     "name": "stderr",
     "output_type": "stream",
     "text": [
      "train loss=0.167: 100%|██████████| 6915/6915 [03:11<00:00, 36.13it/s]\n"
     ]
    },
    {
     "name": "stdout",
     "output_type": "stream",
     "text": [
      "ep:193 train_loss=0.18255, valid_loss=0.68391, valid_accuracy=0.88665\n"
     ]
    },
    {
     "name": "stderr",
     "output_type": "stream",
     "text": [
      "train loss=0.222: 100%|██████████| 6915/6915 [03:13<00:00, 35.74it/s]\n"
     ]
    },
    {
     "name": "stdout",
     "output_type": "stream",
     "text": [
      "ep:194 train_loss=0.18162, valid_loss=0.68601, valid_accuracy=0.88659\n"
     ]
    },
    {
     "name": "stderr",
     "output_type": "stream",
     "text": [
      "train loss=0.134: 100%|██████████| 6915/6915 [03:09<00:00, 36.40it/s]\n"
     ]
    },
    {
     "name": "stdout",
     "output_type": "stream",
     "text": [
      "ep:195 train_loss=0.18186, valid_loss=0.68180, valid_accuracy=0.88602\n"
     ]
    },
    {
     "name": "stderr",
     "output_type": "stream",
     "text": [
      "train loss=0.172: 100%|██████████| 6915/6915 [03:12<00:00, 35.98it/s]\n"
     ]
    },
    {
     "name": "stdout",
     "output_type": "stream",
     "text": [
      "ep:196 train_loss=0.18033, valid_loss=0.68143, valid_accuracy=0.88752\n"
     ]
    },
    {
     "name": "stderr",
     "output_type": "stream",
     "text": [
      "train loss=0.136: 100%|██████████| 6915/6915 [03:10<00:00, 36.36it/s]\n"
     ]
    },
    {
     "name": "stdout",
     "output_type": "stream",
     "text": [
      "ep:197 train_loss=0.18026, valid_loss=0.68071, valid_accuracy=0.88728\n"
     ]
    },
    {
     "name": "stderr",
     "output_type": "stream",
     "text": [
      "train loss=0.137: 100%|██████████| 6915/6915 [03:12<00:00, 35.90it/s]\n"
     ]
    },
    {
     "name": "stdout",
     "output_type": "stream",
     "text": [
      "ep:198 train_loss=0.18031, valid_loss=0.68138, valid_accuracy=0.88739\n"
     ]
    },
    {
     "name": "stderr",
     "output_type": "stream",
     "text": [
      "train loss=0.204: 100%|██████████| 6915/6915 [03:09<00:00, 36.49it/s]\n"
     ]
    },
    {
     "name": "stdout",
     "output_type": "stream",
     "text": [
      "ep:199 train_loss=0.17910, valid_loss=0.68722, valid_accuracy=0.88662\n"
     ]
    },
    {
     "name": "stderr",
     "output_type": "stream",
     "text": [
      "train loss=0.301: 100%|██████████| 6915/6915 [03:11<00:00, 36.11it/s]\n"
     ]
    },
    {
     "name": "stdout",
     "output_type": "stream",
     "text": [
      "ep:200 train_loss=0.17920, valid_loss=0.68329, valid_accuracy=0.88676\n"
     ]
    }
   ],
   "source": [
    "config = ModelConfig(encoder_vocab_size = vocab_sizes[SRC],\n",
    "                     decoder_vocab_size=vocab_sizes[TRG],\n",
    "                     d_embed=128,\n",
    "                     d_ff=1024,\n",
    "                     h=8,\n",
    "                     N_encoder=3,\n",
    "                     N_decoder=3,\n",
    "                     max_seq_len=max_seq_len,\n",
    "                     dropout=0.1\n",
    "                     )\n",
    "\n",
    "\n",
    "# Initialize model\n",
    "model = make_model(config)\n",
    "\n",
    "# Define loss function\n",
    "loss_fn = nn.CrossEntropyLoss()\n",
    "\n",
    "# Initialize optimizer\n",
    "optimizer = torch.optim.Adam(model.parameters(), lr=0.0001)\n",
    "\n",
    "dataloaders = Dataloaders()\n",
    "\n",
    "# Set up training loop\n",
    "num_epochs = 200\n",
    "train_losses = []\n",
    "valid_losses = []\n",
    "valid_accuracies = []\n",
    "\n",
    "for epoch in range(num_epochs):\n",
    "\n",
    "    best_valid_loss = float('inf')\n",
    "    train_size = len(dataloaders.train_loader) * batch_size\n",
    "    train_loss = train_epoch(model, dataloaders)\n",
    "    train_losses.append(train_loss)\n",
    "    valid_loss = validate(model, dataloaders.valid_loader)\n",
    "    valid_losses.append(valid_loss)\n",
    "\n",
    "    # Calculate validation accuracy\n",
    "    valid_accuracy = compute_accuracy(model, dataloaders.valid_loader)\n",
    "    valid_accuracies.append(valid_accuracy)\n",
    "\n",
    "\n",
    "    print(f'ep:{epoch+1} train_loss={train_loss:.5f}, valid_loss={valid_loss:.5f}, valid_accuracy={valid_accuracy:.5f}')\n",
    "    if valid_loss < best_valid_loss:\n",
    "        best_valid_loss = valid_loss\n",
    "\n",
    "\n",
    "# print(\"train set examples:\")\n",
    "# train_bleu = evaluate(model, dataloaders.train_loader, 20)\n",
    "# print(\"validation set examples:\")\n",
    "# valid_bleu = evaluate(model, dataloaders.valid_loader)\n",
    "# print(\"test set examples:\")\n",
    "# test_bleu  = evaluate(model, dataloaders.test_loader)\n"
   ]
  },
  {
   "cell_type": "code",
   "execution_count": 15,
   "id": "30b46f4b",
   "metadata": {
    "execution": {
     "iopub.execute_input": "2024-04-21T17:02:15.061795Z",
     "iopub.status.busy": "2024-04-21T17:02:15.061054Z",
     "iopub.status.idle": "2024-04-21T17:02:15.404738Z",
     "shell.execute_reply": "2024-04-21T17:02:15.403826Z"
    },
    "papermill": {
     "duration": 32.610641,
     "end_time": "2024-04-21T17:02:15.406812",
     "exception": false,
     "start_time": "2024-04-21T17:01:42.796171",
     "status": "completed"
    },
    "tags": []
   },
   "outputs": [
    {
     "data": {
      "image/png": "[encoded data removed]",
      "text/plain": [
       "<Figure size 640x480 with 1 Axes>"
      ]
     },
     "metadata": {},
     "output_type": "display_data"
    }
   ],
   "source": [
    "# Plot epoch-wise training loss\n",
    "plt.plot(train_losses, label='Train Loss')\n",
    "plt.xlabel('Epoch')\n",
    "plt.ylabel('Loss')\n",
    "plt.title('Training Loss')\n",
    "plt.legend()\n",
    "plt.show()"
   ]
  },
  {
   "cell_type": "code",
   "execution_count": 16,
   "id": "bd60bbc9",
   "metadata": {
    "execution": {
     "iopub.execute_input": "2024-04-21T17:03:20.864583Z",
     "iopub.status.busy": "2024-04-21T17:03:20.864198Z",
     "iopub.status.idle": "2024-04-21T17:03:21.180455Z",
     "shell.execute_reply": "2024-04-21T17:03:21.179493Z"
    },
    "papermill": {
     "duration": 32.812475,
     "end_time": "2024-04-21T17:03:21.182489",
     "exception": false,
     "start_time": "2024-04-21T17:02:48.370014",
     "status": "completed"
    },
    "tags": []
   },
   "outputs": [
    {
     "data": {
      "image/png": "[encoded data removed]",
      "text/plain": [
       "<Figure size 640x480 with 1 Axes>"
      ]
     },
     "metadata": {},
     "output_type": "display_data"
    }
   ],
   "source": [
    "plt.plot(valid_accuracies, label='Validation Accuracy')\n",
    "plt.xlabel('Epoch')\n",
    "plt.ylabel('Accuracy')\n",
    "plt.title('Validation Accuracy over Epochs')\n",
    "plt.legend()\n",
    "plt.show()"
   ]
  },
  {
   "cell_type": "code",
   "execution_count": 17,
   "id": "1b95f770",
   "metadata": {
    "execution": {
     "iopub.execute_input": "2024-04-21T17:04:26.256955Z",
     "iopub.status.busy": "2024-04-21T17:04:26.256594Z",
     "iopub.status.idle": "2024-04-21T17:04:26.307134Z",
     "shell.execute_reply": "2024-04-21T17:04:26.306326Z"
    },
    "papermill": {
     "duration": 32.371568,
     "end_time": "2024-04-21T17:04:26.309355",
     "exception": false,
     "start_time": "2024-04-21T17:03:53.937787",
     "status": "completed"
    },
    "tags": []
   },
   "outputs": [],
   "source": [
    "# Save the model\n",
    "torch.save(model.state_dict(),'transformer_model_2.pth')"
   ]
  },
  {
   "cell_type": "code",
   "execution_count": 18,
   "id": "ca0e948d",
   "metadata": {
    "execution": {
     "iopub.execute_input": "2024-04-21T17:05:31.508322Z",
     "iopub.status.busy": "2024-04-21T17:05:31.507953Z",
     "iopub.status.idle": "2024-04-21T17:05:56.779804Z",
     "shell.execute_reply": "2024-04-21T17:05:56.778840Z"
    },
    "papermill": {
     "duration": 57.961052,
     "end_time": "2024-04-21T17:05:56.782116",
     "exception": false,
     "start_time": "2024-04-21T17:04:58.821064",
     "status": "completed"
    },
    "tags": []
   },
   "outputs": [
    {
     "name": "stdout",
     "output_type": "stream",
     "text": [
      "Test Accuracy: 0.88582\n"
     ]
    }
   ],
   "source": [
    "# Load the state dictionary from the saved file\n",
    "\n",
    "# model.load_state_dict(torch.load('transformer_model.pth'))\n",
    "\n",
    "\n",
    "Test_accuracy = compute_accuracy(model, dataloaders.test_loader)\n",
    "\n",
    "print(f\"Test Accuracy: {Test_accuracy:.5f}\")"
   ]
  },
  {
   "cell_type": "code",
   "execution_count": 19,
   "id": "38753812",
   "metadata": {
    "execution": {
     "iopub.execute_input": "2024-04-21T17:07:03.030425Z",
     "iopub.status.busy": "2024-04-21T17:07:03.030018Z",
     "iopub.status.idle": "2024-04-21T17:07:10.104671Z",
     "shell.execute_reply": "2024-04-21T17:07:10.103777Z"
    },
    "papermill": {
     "duration": 40.732611,
     "end_time": "2024-04-21T17:07:10.106779",
     "exception": false,
     "start_time": "2024-04-21T17:06:29.374168",
     "status": "completed"
    },
    "tags": []
   },
   "outputs": [
    {
     "name": "stdout",
     "output_type": "stream",
     "text": [
      "src:  ! I go there every year. \"\n",
      "trg:  J ' y vais tous les ans. \"\n",
      "pred: ! J ' y vais chaque année. \"\n",
      "src:  ! We often eat raw fish. \"\n",
      "trg:  Nous mangeons souvent du poisson cru. \"\n",
      "pred: ! Nous mangeons souvent du poisson cru. \"\n",
      "src:  ! I ' m sorry I hurt Tom. \"\n",
      "trg:  Je suis désolé d ' avoir blessé Tom. \"\n",
      "pred: ! Je suis désolé d ' avoir fait du mal à Tom. \"\n",
      "Test BLEU Score: 46.6095\n"
     ]
    }
   ],
   "source": [
    "# Evaluate on test set\n",
    "test_bleu_score = evaluate(model, dataloaders.test_loader,20)\n",
    "print(f\"Test BLEU Score: {test_bleu_score:.4f}\")"
   ]
  },
  {
   "cell_type": "code",
   "execution_count": null,
   "id": "cb75e0b9",
   "metadata": {
    "papermill": {
     "duration": 32.517216,
     "end_time": "2024-04-21T17:08:15.026334",
     "exception": false,
     "start_time": "2024-04-21T17:07:42.509118",
     "status": "completed"
    },
    "tags": []
   },
   "outputs": [],
   "source": []
  }
 ],
 "metadata": {
  "kaggle": {
   "accelerator": "nvidiaTeslaT4",
   "dataSources": [
    {
     "datasetId": 4818134,
     "sourceId": 8147406,
     "sourceType": "datasetVersion"
    }
   ],
   "dockerImageVersionId": 30699,
   "isGpuEnabled": true,
   "isInternetEnabled": true,
   "language": "python",
   "sourceType": "notebook"
  },
  "kernelspec": {
   "display_name": "Python 3",
   "language": "python",
   "name": "python3"
  },
  "language_info": {
   "codemirror_mode": {
    "name": "ipython",
    "version": 3
   },
   "file_extension": ".py",
   "mimetype": "text/x-python",
   "name": "python",
   "nbconvert_exporter": "python",
   "pygments_lexer": "ipython3",
   "version": "3.10.13"
  },
  "papermill": {
   "default_parameters": {},
   "duration": 41191.199452,
   "end_time": "2024-04-21T17:08:50.491462",
   "environment_variables": {},
   "exception": null,
   "input_path": "__notebook__.ipynb",
   "output_path": "__notebook__.ipynb",
   "parameters": {},
   "start_time": "2024-04-21T05:42:19.292010",
   "version": "2.5.0"
  }
 },
 "nbformat": 4,
 "nbformat_minor": 5
}
