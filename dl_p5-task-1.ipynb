{
 "cells": [
  {
   "cell_type": "markdown",
   "id": "4c49b044",
   "metadata": {},
   "source": [
    "### Rishu Raj Singh (2023AIB2080)"
   ]
  },
  {
   "cell_type": "markdown",
   "id": "172abbfe",
   "metadata": {},
   "source": [
    "### Configuration 1"
   ]
  },
  {
   "cell_type": "code",
   "execution_count": 1,
   "id": "07454136",
   "metadata": {
    "execution": {
     "iopub.execute_input": "2024-04-20T12:32:24.414835Z",
     "iopub.status.busy": "2024-04-20T12:32:24.414478Z",
     "iopub.status.idle": "2024-04-20T12:32:40.368306Z",
     "shell.execute_reply": "2024-04-20T12:32:40.367093Z"
    },
    "papermill": {
     "duration": 15.963419,
     "end_time": "2024-04-20T12:32:40.370764",
     "exception": false,
     "start_time": "2024-04-20T12:32:24.407345",
     "status": "completed"
    },
    "tags": []
   },
   "outputs": [
    {
     "name": "stdout",
     "output_type": "stream",
     "text": [
      "Collecting sacrebleu\r\n",
      "  Downloading sacrebleu-2.4.2-py3-none-any.whl.metadata (58 kB)\r\n",
      "\u001b[2K     \u001b[90m━━━━━━━━━━━━━━━━━━━━━━━━━━━━━━━━━━━━━━━\u001b[0m \u001b[32m58.0/58.0 kB\u001b[0m \u001b[31m773.7 kB/s\u001b[0m eta \u001b[36m0:00:00\u001b[0m\r\n",
      "\u001b[?25hCollecting portalocker (from sacrebleu)\r\n",
      "  Downloading portalocker-2.8.2-py3-none-any.whl.metadata (8.5 kB)\r\n",
      "Requirement already satisfied: regex in /opt/conda/lib/python3.10/site-packages (from sacrebleu) (2023.12.25)\r\n",
      "Requirement already satisfied: tabulate>=0.8.9 in /opt/conda/lib/python3.10/site-packages (from sacrebleu) (0.9.0)\r\n",
      "Requirement already satisfied: numpy>=1.17 in /opt/conda/lib/python3.10/site-packages (from sacrebleu) (1.26.4)\r\n",
      "Requirement already satisfied: colorama in /opt/conda/lib/python3.10/site-packages (from sacrebleu) (0.4.6)\r\n",
      "Requirement already satisfied: lxml in /opt/conda/lib/python3.10/site-packages (from sacrebleu) (5.2.1)\r\n",
      "Downloading sacrebleu-2.4.2-py3-none-any.whl (106 kB)\r\n",
      "\u001b[2K   \u001b[90m━━━━━━━━━━━━━━━━━━━━━━━━━━━━━━━━━━━━━━━━\u001b[0m \u001b[32m106.7/106.7 kB\u001b[0m \u001b[31m1.5 MB/s\u001b[0m eta \u001b[36m0:00:00\u001b[0m\r\n",
      "\u001b[?25hDownloading portalocker-2.8.2-py3-none-any.whl (17 kB)\r\n",
      "Installing collected packages: portalocker, sacrebleu\r\n",
      "Successfully installed portalocker-2.8.2 sacrebleu-2.4.2\r\n"
     ]
    }
   ],
   "source": [
    "!pip install sacrebleu"
   ]
  },
  {
   "cell_type": "code",
   "execution_count": 2,
   "id": "38ef4ca1",
   "metadata": {
    "execution": {
     "iopub.execute_input": "2024-04-20T12:32:40.385370Z",
     "iopub.status.busy": "2024-04-20T12:32:40.385076Z",
     "iopub.status.idle": "2024-04-20T12:32:50.381724Z",
     "shell.execute_reply": "2024-04-20T12:32:50.380791Z"
    },
    "papermill": {
     "duration": 10.006491,
     "end_time": "2024-04-20T12:32:50.384013",
     "exception": false,
     "start_time": "2024-04-20T12:32:40.377522",
     "status": "completed"
    },
    "tags": []
   },
   "outputs": [
    {
     "name": "stdout",
     "output_type": "stream",
     "text": [
      "cuda\n"
     ]
    }
   ],
   "source": [
    "import math\n",
    "from dataclasses import dataclass\n",
    "import os\n",
    "import numpy as np\n",
    "import sacrebleu\n",
    "import torch\n",
    "import torch.nn as nn\n",
    "from torch.utils.data import Dataset\n",
    "from tqdm import tqdm\n",
    "import pandas\n",
    "torch.manual_seed(0)\n",
    "import random\n",
    "random.seed(0)\n",
    "import  pathlib\n",
    "import matplotlib.pyplot as plt\n",
    "from sklearn.model_selection import train_test_split\n",
    "from torchinfo import summary\n",
    "\n",
    "DEVICE = torch.device(\"cuda\" if torch.cuda.is_available() else \"cpu\")\n",
    "print(DEVICE)"
   ]
  },
  {
   "cell_type": "code",
   "execution_count": 3,
   "id": "f5212c03",
   "metadata": {
    "execution": {
     "iopub.execute_input": "2024-04-20T12:32:50.398398Z",
     "iopub.status.busy": "2024-04-20T12:32:50.397990Z",
     "iopub.status.idle": "2024-04-20T12:32:50.402618Z",
     "shell.execute_reply": "2024-04-20T12:32:50.401785Z"
    },
    "papermill": {
     "duration": 0.01415,
     "end_time": "2024-04-20T12:32:50.404744",
     "exception": false,
     "start_time": "2024-04-20T12:32:50.390594",
     "status": "completed"
    },
    "tags": []
   },
   "outputs": [],
   "source": [
    "SRC = \"en\"\n",
    "TRG = \"fr\"\n",
    "en_vocab_size = 8000\n",
    "fr_vocab_size = 8000\n",
    "vocab_sizes = {\"en\": en_vocab_size, \"fr\": fr_vocab_size}\n",
    "max_seq_len = 72"
   ]
  },
  {
   "cell_type": "code",
   "execution_count": 4,
   "id": "38d03ed5",
   "metadata": {
    "execution": {
     "iopub.execute_input": "2024-04-20T12:32:50.418416Z",
     "iopub.status.busy": "2024-04-20T12:32:50.418166Z",
     "iopub.status.idle": "2024-04-20T12:32:51.072388Z",
     "shell.execute_reply": "2024-04-20T12:32:51.071061Z"
    },
    "papermill": {
     "duration": 0.663765,
     "end_time": "2024-04-20T12:32:51.074705",
     "exception": false,
     "start_time": "2024-04-20T12:32:50.410940",
     "status": "completed"
    },
    "tags": []
   },
   "outputs": [
    {
     "name": "stdout",
     "output_type": "stream",
     "text": [
      "110640 12294 52687\n"
     ]
    }
   ],
   "source": [
    "full_set = pandas.read_csv(\"/kaggle/input/dataset-5/eng_-french.csv\")\n",
    "\n",
    "temp_train_set, test_set = train_test_split(full_set, test_size=0.3, random_state=42)\n",
    "full_train_set, valid_set = train_test_split(temp_train_set, test_size=0.1, random_state=42)\n",
    "\n",
    "print(len(full_train_set), len(valid_set), len(test_set))"
   ]
  },
  {
   "cell_type": "code",
   "execution_count": 5,
   "id": "461a48f2",
   "metadata": {
    "execution": {
     "iopub.execute_input": "2024-04-20T12:32:51.089627Z",
     "iopub.status.busy": "2024-04-20T12:32:51.088929Z",
     "iopub.status.idle": "2024-04-20T12:32:51.105097Z",
     "shell.execute_reply": "2024-04-20T12:32:51.104024Z"
    },
    "papermill": {
     "duration": 0.025732,
     "end_time": "2024-04-20T12:32:51.107150",
     "exception": false,
     "start_time": "2024-04-20T12:32:51.081418",
     "status": "completed"
    },
    "tags": []
   },
   "outputs": [
    {
     "data": {
      "text/html": [
       "<div>\n",
       "<style scoped>\n",
       "    .dataframe tbody tr th:only-of-type {\n",
       "        vertical-align: middle;\n",
       "    }\n",
       "\n",
       "    .dataframe tbody tr th {\n",
       "        vertical-align: top;\n",
       "    }\n",
       "\n",
       "    .dataframe thead th {\n",
       "        text-align: right;\n",
       "    }\n",
       "</style>\n",
       "<table border=\"1\" class=\"dataframe\">\n",
       "  <thead>\n",
       "    <tr style=\"text-align: right;\">\n",
       "      <th></th>\n",
       "      <th>English words/sentences</th>\n",
       "      <th>French words/sentences</th>\n",
       "    </tr>\n",
       "  </thead>\n",
       "  <tbody>\n",
       "    <tr>\n",
       "      <th>1660</th>\n",
       "      <td>That hurts.</td>\n",
       "      <td>Ça fait mal.</td>\n",
       "    </tr>\n",
       "    <tr>\n",
       "      <th>89279</th>\n",
       "      <td>I can't function without you.</td>\n",
       "      <td>Je n'arrive pas à fonctionner sans toi.</td>\n",
       "    </tr>\n",
       "    <tr>\n",
       "      <th>144858</th>\n",
       "      <td>Let's talk about what you did in Boston.</td>\n",
       "      <td>Parlons de ce que tu as fait à Boston.</td>\n",
       "    </tr>\n",
       "  </tbody>\n",
       "</table>\n",
       "</div>"
      ],
      "text/plain": [
       "                         English words/sentences  \\\n",
       "1660                                 That hurts.   \n",
       "89279              I can't function without you.   \n",
       "144858  Let's talk about what you did in Boston.   \n",
       "\n",
       "                         French words/sentences  \n",
       "1660                               Ça fait mal.  \n",
       "89279   Je n'arrive pas à fonctionner sans toi.  \n",
       "144858   Parlons de ce que tu as fait à Boston.  "
      ]
     },
     "execution_count": 5,
     "metadata": {},
     "output_type": "execute_result"
    }
   ],
   "source": [
    "full_train_set.head(3)"
   ]
  },
  {
   "cell_type": "code",
   "execution_count": 6,
   "id": "9754329a",
   "metadata": {
    "execution": {
     "iopub.execute_input": "2024-04-20T12:32:51.122745Z",
     "iopub.status.busy": "2024-04-20T12:32:51.122412Z",
     "iopub.status.idle": "2024-04-20T12:32:51.218708Z",
     "shell.execute_reply": "2024-04-20T12:32:51.217883Z"
    },
    "papermill": {
     "duration": 0.106297,
     "end_time": "2024-04-20T12:32:51.220999",
     "exception": false,
     "start_time": "2024-04-20T12:32:51.114702",
     "status": "completed"
    },
    "tags": []
   },
   "outputs": [],
   "source": [
    "from tokenizers import Tokenizer, models, pre_tokenizers, trainers, decoders\n",
    "\n",
    "# This library has been used only for tokenization purpose because French sentences contains \n",
    "# distinct type of character which is diificult to capture normally.\n",
    "\n",
    "def get_tokenizers(dataset, train_set_size):\n",
    "    en_sentences = dataset['English words/sentences'].iloc[:train_set_size].tolist()\n",
    "    fr_sentences = dataset['French words/sentences'].iloc[:train_set_size].tolist()\n",
    "\n",
    "    # Write English and French sentences to temporary files\n",
    "    en_file = 'temp_en_sentences.txt'\n",
    "    fr_file = 'temp_fr_sentences.txt'\n",
    "    with open(en_file, 'w', encoding='utf-8') as f_en, open(fr_file, 'w', encoding='utf-8') as f_fr:\n",
    "        for en_sent, fr_sent in zip(en_sentences, fr_sentences):\n",
    "            f_en.write(en_sent + '\\n')\n",
    "            f_fr.write(fr_sent + '\\n')\n",
    "\n",
    "    # Initialize a tokenizer\n",
    "    en_tokenizer = Tokenizer(models.BPE())\n",
    "    fr_tokenizer = Tokenizer(models.BPE())\n",
    "\n",
    "    # Customize pre-tokenization and decoding\n",
    "    en_tokenizer.pre_tokenizer = pre_tokenizers.Whitespace()\n",
    "    fr_tokenizer.pre_tokenizer = pre_tokenizers.Whitespace()\n",
    "    en_tokenizer.decoder = decoders.BPEDecoder()\n",
    "    fr_tokenizer.decoder = decoders.BPEDecoder()\n",
    "\n",
    "    en_tokenizer.train([en_file], trainer=trainers.BpeTrainer(vocab_size=en_vocab_size, special_tokens=[\"<pad>\"]))\n",
    "    fr_tokenizer.train([fr_file], trainer=trainers.BpeTrainer(vocab_size=fr_vocab_size, special_tokens=[\"<pad>\"]))\n",
    "\n",
    "    # Define the tokenization and detokenization functions\n",
    "    tokenizers = {\"en\": lambda sent: en_tokenizer.encode(sent).ids, \"fr\": lambda sent: fr_tokenizer.encode(sent).ids}\n",
    "    detokenizers = {\"en\": lambda ids: ' '.join([en_tokenizer.id_to_token(id) for id in ids]), \n",
    "                    \"fr\": lambda ids: ' '.join([fr_tokenizer.id_to_token(id) for id in ids])}\n",
    "    # Cleanup temporary files\n",
    "    os.remove(en_file)\n",
    "    os.remove(fr_file)\n",
    "\n",
    "    return tokenizers, detokenizers\n"
   ]
  },
  {
   "cell_type": "code",
   "execution_count": 7,
   "id": "0c3ea4e9",
   "metadata": {
    "execution": {
     "iopub.execute_input": "2024-04-20T12:32:51.236365Z",
     "iopub.status.busy": "2024-04-20T12:32:51.236082Z",
     "iopub.status.idle": "2024-04-20T12:32:52.813781Z",
     "shell.execute_reply": "2024-04-20T12:32:52.812678Z"
    },
    "papermill": {
     "duration": 1.587774,
     "end_time": "2024-04-20T12:32:52.815990",
     "exception": false,
     "start_time": "2024-04-20T12:32:51.228216",
     "status": "completed"
    },
    "tags": []
   },
   "outputs": [
    {
     "name": "stdout",
     "output_type": "stream",
     "text": [
      "\n",
      "\n",
      "\n",
      "\n",
      "\n",
      "\n",
      "[645, 238, 106, 10, 167, 63, 6, 488, 25]\n",
      "[238, 114, 32, 274, 23]\n"
     ]
    }
   ],
   "source": [
    "tokenizers, detokenizers = get_tokenizers(full_train_set, len(full_set))\n",
    "print(tokenizers['fr'](\"De quoi ai-je l'air ?\"))\n",
    "print(tokenizers['en']('How do I look?'))\n",
    "\n",
    "# indexes of special symbols\n",
    "UNK, BOS, EOS, PAD = 0, 1, 2, 3"
   ]
  },
  {
   "cell_type": "code",
   "execution_count": 8,
   "id": "57ea7fe5",
   "metadata": {
    "execution": {
     "iopub.execute_input": "2024-04-20T12:32:52.831822Z",
     "iopub.status.busy": "2024-04-20T12:32:52.831512Z",
     "iopub.status.idle": "2024-04-20T12:32:52.842350Z",
     "shell.execute_reply": "2024-04-20T12:32:52.841510Z"
    },
    "papermill": {
     "duration": 0.021212,
     "end_time": "2024-04-20T12:32:52.844515",
     "exception": false,
     "start_time": "2024-04-20T12:32:52.823303",
     "status": "completed"
    },
    "tags": []
   },
   "outputs": [],
   "source": [
    "def tokenize_dataset(dataset):\n",
    "    \"\"\"\n",
    "    Tokenize a dataset and add [BOS] and [EOS] to the beginning and end of the sentences.\n",
    "    \"\"\"\n",
    "    if SRC == \"en\":\n",
    "        return [(torch.tensor([BOS]+tokenizers[SRC](src_text)[0:max_seq_len-2]+[EOS]),\n",
    "                 torch.tensor([BOS]+tokenizers[TRG](trg_text)[0:max_seq_len-2]+[EOS]))\n",
    "                 for src_text, trg_text in dataset]\n",
    "    else:\n",
    "        return [(torch.tensor([BOS]+tokenizers[SRC](src_text)[0:max_seq_len-2]+[EOS]),\n",
    "                 torch.tensor([BOS]+tokenizers[TRG](trg_text)[0:max_seq_len-2]+[EOS]))\n",
    "                 for trg_text, src_text in dataset]\n",
    "    \n",
    "\n",
    "class TranslationDataset(Dataset):\n",
    "    'create a dataset for torch.utils.data.DataLoader() '\n",
    "    def __init__(self, data):\n",
    "        self.data = data\n",
    "\n",
    "    def __len__(self):\n",
    "        return len(self.data)\n",
    "\n",
    "    def __getitem__(self, idx):\n",
    "        return self.data[idx]\n",
    "\n",
    "\n",
    "def pad_sequence(batch):\n",
    "    'collate function for padding sentences such that all \\\n",
    "    the sentences in the batch have the same length'\n",
    "    src_seqs  = [src for src, trg in batch]\n",
    "    trg_seqs  = [trg for src, trg in batch]\n",
    "    src_padded = torch.nn.utils.rnn.pad_sequence(src_seqs,\n",
    "                                batch_first=True, padding_value = PAD)\n",
    "    trg_padded = torch.nn.utils.rnn.pad_sequence(trg_seqs,\n",
    "                                batch_first=True, padding_value = PAD)\n",
    "    return src_padded, trg_padded"
   ]
  },
  {
   "cell_type": "code",
   "execution_count": 9,
   "id": "b7a83693",
   "metadata": {
    "execution": {
     "iopub.execute_input": "2024-04-20T12:32:52.860325Z",
     "iopub.status.busy": "2024-04-20T12:32:52.859786Z",
     "iopub.status.idle": "2024-04-20T12:32:52.867963Z",
     "shell.execute_reply": "2024-04-20T12:32:52.867135Z"
    },
    "papermill": {
     "duration": 0.018171,
     "end_time": "2024-04-20T12:32:52.869843",
     "exception": false,
     "start_time": "2024-04-20T12:32:52.851672",
     "status": "completed"
    },
    "tags": []
   },
   "outputs": [],
   "source": [
    "batch_size = 16\n",
    "\n",
    "class Dataloaders:\n",
    "    'Dataloaders contains train_loader, test_loader and valid_loader for training and evaluation '\n",
    "    def __init__(self):\n",
    "        # train_set = list(full_train_set)[0:train_set_size]\n",
    "        train_set_1 = [(row['English words/sentences'], row['French words/sentences']) for index, row in full_train_set.iterrows()]\n",
    "        valid_set_1 = [(row['English words/sentences'], row['French words/sentences']) for index, row in valid_set.iterrows()]\n",
    "        test_set_1 = [(row['English words/sentences'], row['French words/sentences']) for index, row in test_set.iterrows()]\n",
    "        # print(train_set)\n",
    "        train_dataset = TranslationDataset(tokenize_dataset(train_set_1))\n",
    "        valid_dataset = TranslationDataset(tokenize_dataset(valid_set_1))\n",
    "        test_dataset  = TranslationDataset(tokenize_dataset(test_set_1))\n",
    "\n",
    "        # each batch returned by dataloader will be padded such that all the texts in\n",
    "        # that batch have the same length as the longest text in that batch\n",
    "        self.train_loader = torch.utils.data.DataLoader(train_dataset, batch_size=batch_size,\n",
    "                                                shuffle=True, collate_fn = pad_sequence)\n",
    "\n",
    "        self.test_loader = torch.utils.data.DataLoader(test_dataset, batch_size=batch_size,\n",
    "                                                shuffle=True, collate_fn=pad_sequence)\n",
    "\n",
    "        self.valid_loader = torch.utils.data.DataLoader(valid_dataset, batch_size=batch_size,\n",
    "                                                shuffle=True, collate_fn=pad_sequence)"
   ]
  },
  {
   "cell_type": "code",
   "execution_count": 10,
   "id": "d1b436a4",
   "metadata": {
    "execution": {
     "iopub.execute_input": "2024-04-20T12:32:52.885977Z",
     "iopub.status.busy": "2024-04-20T12:32:52.885737Z",
     "iopub.status.idle": "2024-04-20T12:32:52.924211Z",
     "shell.execute_reply": "2024-04-20T12:32:52.923407Z"
    },
    "papermill": {
     "duration": 0.048845,
     "end_time": "2024-04-20T12:32:52.926116",
     "exception": false,
     "start_time": "2024-04-20T12:32:52.877271",
     "status": "completed"
    },
    "tags": []
   },
   "outputs": [],
   "source": [
    "class MultiHeadedAttention(nn.Module):\n",
    "    def __init__(self, h, d_embed, dropout=0.0):\n",
    "        super(MultiHeadedAttention, self).__init__()\n",
    "        assert d_embed % h == 0 # check the h number\n",
    "        self.d_k = d_embed//h\n",
    "        self.d_embed = d_embed\n",
    "        self.h = h\n",
    "        self.WQ = nn.Linear(d_embed, d_embed)\n",
    "        self.WK = nn.Linear(d_embed, d_embed)\n",
    "        self.WV = nn.Linear(d_embed, d_embed)\n",
    "        self.linear = nn.Linear(d_embed, d_embed)\n",
    "        self.dropout = nn.Dropout(dropout)\n",
    "\n",
    "    def forward(self, x_query, x_key, x_value, mask=None):\n",
    "        nbatch = x_query.size(0) # get batch size\n",
    "        # 1) Linear projections to get the multi-head query, key and value tensors\n",
    "        # x_query, x_key, x_value dimension: nbatch * seq_len * d_embed\n",
    "        # LHS query, key, value dimensions: nbatch * h * seq_len * d_k\n",
    "        query = self.WQ(x_query).view(nbatch, -1, self.h, self.d_k).transpose(1,2)\n",
    "        key   = self.WK(x_key).view(nbatch, -1, self.h, self.d_k).transpose(1,2)\n",
    "        value = self.WV(x_value).view(nbatch, -1, self.h, self.d_k).transpose(1,2)\n",
    "        # 2) Attention\n",
    "        # scores has dimensions: nbatch * h * seq_len * seq_len\n",
    "        scores = torch.matmul(query, key.transpose(-2, -1))/math.sqrt(self.d_k)\n",
    "        # 3) Mask out padding tokens and future tokens\n",
    "        if mask is not None:\n",
    "            scores = scores.masked_fill(mask, float('-inf'))\n",
    "        # p_atten dimensions: nbatch * h * seq_len * seq_len\n",
    "        p_atten = torch.nn.functional.softmax(scores, dim=-1)\n",
    "        p_atten = self.dropout(p_atten)\n",
    "        # x dimensions: nbatch * h * seq_len * d_k\n",
    "        x = torch.matmul(p_atten, value)\n",
    "        # x now has dimensions:nbtach * seq_len * d_embed\n",
    "        x = x.transpose(1, 2).contiguous().view(nbatch, -1, self.d_embed)\n",
    "        return self.linear(x) # final linear layer\n",
    "\n",
    "\n",
    "class ResidualConnection(nn.Module):\n",
    "    '''residual connection: x + dropout(sublayer(layernorm(x))) '''\n",
    "    def __init__(self, dim, dropout):\n",
    "        super().__init__()\n",
    "        self.drop = nn.Dropout(dropout)\n",
    "        self.norm = nn.LayerNorm(dim)\n",
    "\n",
    "    def forward(self, x, sublayer):\n",
    "        return x + self.drop(sublayer(self.norm(x)))\n",
    "\n",
    "\n",
    "class PositionalEncoding(nn.Module):\n",
    "    def __init__(self, d_embed, max_seq_len=5000):\n",
    "        super(PositionalEncoding, self).__init__()\n",
    "        self.d_embed = d_embed\n",
    "        # Compute the positional encodings in log space\n",
    "        pe = torch.zeros(max_seq_len, d_embed)\n",
    "        position = torch.arange(0, max_seq_len, dtype=torch.float).unsqueeze(1)\n",
    "        div_term = torch.exp(torch.arange(0, d_embed, 2).float() * (-math.log(10000.0) / d_embed))\n",
    "        pe[:, 0::2] = torch.sin(position * div_term)\n",
    "        pe[:, 1::2] = torch.cos(position * div_term)\n",
    "        pe = pe.unsqueeze(0)  # Add batch dimension\n",
    "        self.register_buffer('pe', pe)\n",
    "\n",
    "    def forward(self, x):\n",
    "        # Add positional encodings to the input embeddings\n",
    "        return x + self.pe[:, :x.size(1), :]\n",
    "\n",
    "\n",
    "class Encoder(nn.Module):\n",
    "    '''Encoder = token embedding + positional embedding -> a stack of N EncoderBlock -> layer norm'''\n",
    "    def __init__(self, config):\n",
    "        super().__init__()\n",
    "        self.d_embed = config.d_embed\n",
    "        self.tok_embed = nn.Embedding(config.encoder_vocab_size, config.d_embed) \n",
    "        self.pos_embed = PositionalEncoding(config.d_embed, config.max_seq_len)\n",
    "        # self.pos_embed = nn.Parameter(torch.zeros(1, config.max_seq_len, config.d_embed))\n",
    "        self.encoder_blocks = nn.ModuleList([EncoderBlock(config) for _ in range(config.N_encoder)])\n",
    "        self.dropout = nn.Dropout(config.dropout)\n",
    "        self.norm = nn.LayerNorm(config.d_embed)\n",
    "\n",
    "    def forward(self, input, mask=None):\n",
    "        x = self.tok_embed(input)\n",
    "        x = self.pos_embed(x)\n",
    "        x = self.dropout(x)\n",
    "        for layer in self.encoder_blocks:\n",
    "            x = layer(x, mask)\n",
    "        return self.norm(x)\n",
    "\n",
    "\n",
    "\n",
    "class EncoderBlock(nn.Module):\n",
    "    '''EncoderBlock: self-attention -> position-wise fully connected feed-forward layer'''\n",
    "    def __init__(self, config):\n",
    "        super(EncoderBlock, self).__init__()\n",
    "        self.atten = MultiHeadedAttention(config.h, config.d_embed, config.dropout)\n",
    "        self.feed_forward = nn.Sequential(\n",
    "            nn.Linear(config.d_embed, config.d_ff),\n",
    "            nn.ReLU(),\n",
    "            nn.Dropout(config.dropout),\n",
    "            nn.Linear(config.d_ff, config.d_embed)\n",
    "        )\n",
    "        self.residual1 = ResidualConnection(config.d_embed, config.dropout)\n",
    "        self.residual2 = ResidualConnection(config.d_embed, config.dropout)\n",
    "\n",
    "    def forward(self, x, mask=None):\n",
    "        # self-attention\n",
    "        x = self.residual1(x, lambda x: self.atten(x, x, x, mask=mask))\n",
    "        # position-wise fully connected feed-forward layer\n",
    "        return self.residual2(x, self.feed_forward)\n",
    "\n",
    "\n",
    "class Decoder(nn.Module):\n",
    "    '''Decoder = token embedding + positional embedding -> a stack of N DecoderBlock -> fully-connected layer'''\n",
    "    def __init__(self, config):\n",
    "        super().__init__()\n",
    "        self.d_embed = config.d_embed\n",
    "        self.tok_embed = nn.Embedding(config.decoder_vocab_size, config.d_embed)\n",
    "        self.pos_embed = PositionalEncoding(config.d_embed, config.max_seq_len)\n",
    "        # self.pos_embed = nn.Parameter(torch.zeros(1, config.max_seq_len, config.d_embed)) \n",
    "        self.dropout = nn.Dropout(config.dropout)\n",
    "        self.decoder_blocks = nn.ModuleList([DecoderBlock(config) for _ in range(config.N_decoder)])\n",
    "        self.norm = nn.LayerNorm(config.d_embed)\n",
    "        self.linear = nn.Linear(config.d_embed, config.decoder_vocab_size)\n",
    "    \n",
    "    def future_mask(self, seq_len):\n",
    "        '''mask out tokens at future positions'''\n",
    "        mask = (torch.triu(torch.ones(seq_len, seq_len, requires_grad=False), diagonal=1)!=0).to(DEVICE)\n",
    "        return mask.view(1, 1, seq_len, seq_len)\n",
    "\n",
    "    def forward(self, memory, src_mask, trg, trg_pad_mask):\n",
    "        seq_len = trg.size(1)\n",
    "        trg_mask = torch.logical_or(trg_pad_mask, self.future_mask(seq_len))\n",
    "        x = self.tok_embed(trg)\n",
    "        x = self.pos_embed(x)\n",
    "        x = self.dropout(x)\n",
    "        for layer in self.decoder_blocks:\n",
    "            x = layer(memory, src_mask, x, trg_mask)\n",
    "        x = self.norm(x)\n",
    "        logits = self.linear(x)\n",
    "        return logits\n",
    "\n",
    "\n",
    "class DecoderBlock(nn.Module):\n",
    "    ''' EncoderBlock: self-attention -> position-wise feed-forward (fully connected) layer'''\n",
    "    def __init__(self, config):\n",
    "        super().__init__()\n",
    "        self.atten1 = MultiHeadedAttention(config.h, config.d_embed)\n",
    "        self.atten2 = MultiHeadedAttention(config.h, config.d_embed)\n",
    "        self.feed_forward = nn.Sequential(\n",
    "            nn.Linear(config.d_embed, config.d_ff),\n",
    "            nn.ReLU(),\n",
    "            nn.Dropout(config.dropout),\n",
    "            nn.Linear(config.d_ff, config.d_embed)\n",
    "        )\n",
    "        self.residuals = nn.ModuleList([ResidualConnection(config.d_embed, config.dropout) \n",
    "                                       for i in range(3)])\n",
    "\n",
    "    def forward(self, memory, src_mask, decoder_layer_input, trg_mask):\n",
    "        x = memory\n",
    "        y = decoder_layer_input\n",
    "        y = self.residuals[0](y, lambda y: self.atten1(y, y, y, mask=trg_mask))\n",
    "        # keys and values are from the encoder output\n",
    "        y = self.residuals[1](y, lambda y: self.atten2(y, x, x, mask=src_mask))\n",
    "        return self.residuals[2](y, self.feed_forward)\n",
    "\n",
    "\n",
    "class Transformer(nn.Module):\n",
    "    def __init__(self, encoder, decoder):\n",
    "        super().__init__()\n",
    "        self.encoder = encoder\n",
    "        self.decoder = decoder\n",
    "\n",
    "    def forward(self, src, src_mask, trg, trg_pad_mask):\n",
    "        return self.decoder(self.encoder(src, src_mask), src_mask, trg, trg_pad_mask)\n"
   ]
  },
  {
   "cell_type": "code",
   "execution_count": 11,
   "id": "fa8aeb5a",
   "metadata": {
    "execution": {
     "iopub.execute_input": "2024-04-20T12:32:52.941758Z",
     "iopub.status.busy": "2024-04-20T12:32:52.941493Z",
     "iopub.status.idle": "2024-04-20T12:32:52.950982Z",
     "shell.execute_reply": "2024-04-20T12:32:52.950216Z"
    },
    "papermill": {
     "duration": 0.019667,
     "end_time": "2024-04-20T12:32:52.953070",
     "exception": false,
     "start_time": "2024-04-20T12:32:52.933403",
     "status": "completed"
    },
    "tags": []
   },
   "outputs": [],
   "source": [
    "@dataclass\n",
    "class ModelConfig:\n",
    "    encoder_vocab_size: int\n",
    "    decoder_vocab_size: int\n",
    "    d_embed: int\n",
    "    # d_ff is the dimension of the fully-connected  feed-forward layer\n",
    "    d_ff: int\n",
    "    # h is the number of attention head\n",
    "    h: int\n",
    "    N_encoder: int\n",
    "    N_decoder: int\n",
    "    max_seq_len: int\n",
    "    dropout: float\n",
    "\n",
    "def make_model(config):\n",
    "    model = Transformer(Encoder(config), Decoder(config)).to(DEVICE)\n",
    "\n",
    "    # initialize model parameters\n",
    "    # it seems that this initialization is very important!\n",
    "    for p in model.parameters():\n",
    "            if p.dim() > 1:\n",
    "                nn.init.xavier_uniform_(p)\n",
    "    return model\n",
    "\n",
    "def make_batch_input(x, y):\n",
    "        src = x.to(DEVICE)\n",
    "        trg_in = y[:, :-1].to(DEVICE)\n",
    "        trg_out = y[:, 1:].contiguous().view(-1).to(DEVICE)\n",
    "        src_pad_mask = (src == PAD).view(src.size(0), 1, 1, src.size(-1))\n",
    "        trg_pad_mask = (trg_in == PAD).view(trg_in.size(0), 1, 1, trg_in.size(-1))\n",
    "        return src, trg_in, trg_out, src_pad_mask, trg_pad_mask"
   ]
  },
  {
   "cell_type": "code",
   "execution_count": 12,
   "id": "110348c4",
   "metadata": {
    "execution": {
     "iopub.execute_input": "2024-04-20T12:32:52.971024Z",
     "iopub.status.busy": "2024-04-20T12:32:52.970313Z",
     "iopub.status.idle": "2024-04-20T12:32:52.985169Z",
     "shell.execute_reply": "2024-04-20T12:32:52.984383Z"
    },
    "papermill": {
     "duration": 0.025985,
     "end_time": "2024-04-20T12:32:52.986983",
     "exception": false,
     "start_time": "2024-04-20T12:32:52.960998",
     "status": "completed"
    },
    "tags": []
   },
   "outputs": [],
   "source": [
    "def translate(model, x):\n",
    "    'translate source sentences into the target language, without looking at the answer'\n",
    "    with torch.no_grad():\n",
    "        dB = x.size(0)\n",
    "        y = torch.tensor([[BOS]*dB]).view(dB, 1).to(DEVICE)\n",
    "        x_pad_mask = (x == PAD).view(x.size(0), 1, 1, x.size(-1)).to(DEVICE)\n",
    "        memory = model.encoder(x, x_pad_mask)\n",
    "        for i in range(max_seq_len):\n",
    "            y_pad_mask = (y == PAD).view(y.size(0), 1, 1, y.size(-1)).to(DEVICE)\n",
    "            logits = model.decoder(memory, x_pad_mask, y, y_pad_mask)\n",
    "            last_output = logits.argmax(-1)[:, -1]\n",
    "            last_output = last_output.view(dB, 1)\n",
    "            y = torch.cat((y, last_output), 1).to(DEVICE)\n",
    "    return y\n",
    "\n",
    "def remove_pad(sent):\n",
    "    '''truncate the sentence if BOS is in it,\n",
    "     otherwise simply remove the padding tokens at the end'''\n",
    "    if sent.count(EOS)>0:\n",
    "      sent = sent[0:sent.index(EOS)+1]\n",
    "    while sent and sent[-1] == PAD:\n",
    "            sent = sent[:-1]\n",
    "    return sent\n",
    "\n",
    "def decode_sentence(detokenizer, sentence_ids):\n",
    "    'convert a tokenized sentence (a list of numbers) to a literal string'\n",
    "    if not isinstance(sentence_ids, list):\n",
    "        sentence_ids = sentence_ids.tolist()\n",
    "    sentence_ids = remove_pad(sentence_ids)\n",
    "    return detokenizer(sentence_ids).replace(\"<bos>\", \"\")\\\n",
    "           .replace(\"<eos>\", \"\").strip().replace(\" .\", \".\")\n",
    "\n",
    "def evaluate(model, dataloader, num_batch=None):\n",
    "    'evaluate the model, and compute the BLEU score'\n",
    "    model.eval()\n",
    "    refs, cans, bleus = [], [], []\n",
    "    with torch.no_grad():\n",
    "        for idx, (x, y) in enumerate(dataloader):\n",
    "            src, trg_in, trg_out, src_pad_mask, trg_pad_mask = make_batch_input(x,y)\n",
    "            translation = translate(model, src)\n",
    "            trg_out = trg_out.view(x.size(0), -1)\n",
    "            refs = refs + [decode_sentence(detokenizers[TRG], trg_out[i]) for i in range(len(src))]\n",
    "            cans = cans + [decode_sentence(detokenizers[TRG], translation[i]) for i in range(len(src))]\n",
    "            if num_batch and idx>=num_batch:\n",
    "                break\n",
    "        bleus.append(sacrebleu.corpus_bleu(cans, [refs]).score)\n",
    "        # print some examples\n",
    "        for i in range(3):\n",
    "            print(f'src:  {decode_sentence(detokenizers[SRC], src[i])}')\n",
    "            print(f'trg:  {decode_sentence(detokenizers[TRG], trg_out[i])}')\n",
    "            print(f'pred: {decode_sentence(detokenizers[TRG], translation[i])}')\n",
    "        return np.mean(bleus)"
   ]
  },
  {
   "cell_type": "code",
   "execution_count": 13,
   "id": "c451210b",
   "metadata": {
    "execution": {
     "iopub.execute_input": "2024-04-20T12:32:53.004083Z",
     "iopub.status.busy": "2024-04-20T12:32:53.003278Z",
     "iopub.status.idle": "2024-04-20T12:32:53.017157Z",
     "shell.execute_reply": "2024-04-20T12:32:53.016433Z"
    },
    "papermill": {
     "duration": 0.02447,
     "end_time": "2024-04-20T12:32:53.019013",
     "exception": false,
     "start_time": "2024-04-20T12:32:52.994543",
     "status": "completed"
    },
    "tags": []
   },
   "outputs": [],
   "source": [
    "def train_epoch(model, dataloaders):\n",
    "    model.train()\n",
    "    grad_norm_clip = 1.0\n",
    "    losses = []\n",
    "    num_batches = len(dataloaders.train_loader)\n",
    "    pbar = tqdm(enumerate(dataloaders.train_loader), total=num_batches)\n",
    "    for idx, (x, y) in pbar:\n",
    "        optimizer.zero_grad()\n",
    "        src, trg_in, trg_out, src_pad_mask, trg_pad_mask = make_batch_input(x, y)\n",
    "        pred = model(src, src_pad_mask, trg_in, trg_pad_mask).to(DEVICE)\n",
    "        pred = pred.view(-1, pred.size(-1))\n",
    "        loss = loss_fn(pred, trg_out).to(DEVICE)\n",
    "        loss.backward()\n",
    "        torch.nn.utils.clip_grad_norm_(model.parameters(), grad_norm_clip)\n",
    "        optimizer.step()\n",
    "        losses.append(loss.item())\n",
    "        # report progress\n",
    "        if idx > 0 and idx % 50 == 0:\n",
    "            pbar.set_description(f'train loss={loss.item():.3f}')\n",
    "    return np.mean(losses)\n",
    "\n",
    "\n",
    "def validate(model, dataloder):\n",
    "    'compute the validation loss'\n",
    "    model.eval()\n",
    "    losses = []\n",
    "    with torch.no_grad():\n",
    "        for i, (x, y) in enumerate(dataloder):\n",
    "            src, trg_in, trg_out, src_pad_mask, trg_pad_mask = make_batch_input(x,y)\n",
    "            pred = model(src, src_pad_mask, trg_in, trg_pad_mask).to(DEVICE)\n",
    "            pred = pred.view(-1, pred.size(-1))\n",
    "            losses.append(loss_fn(pred, trg_out).item())\n",
    "    return np.mean(losses)\n",
    "\n",
    "def compute_accuracy(model, dataloader):\n",
    "    'compute the validation accuracy'\n",
    "    model.eval()\n",
    "    total_correct = 0\n",
    "    total_samples = 0\n",
    "    with torch.no_grad():\n",
    "        for i, (x, y) in enumerate(dataloader):\n",
    "            src, trg_in, trg_out, src_pad_mask, trg_pad_mask = make_batch_input(x, y)\n",
    "            pred = model(src, src_pad_mask, trg_in, trg_pad_mask).to(DEVICE)\n",
    "            pred = torch.argmax(pred, dim=-1)  # Get the indices of the maximum value along the last dimension\n",
    "            # Flatten trg_out to match pred for comparison\n",
    "            trg_out_flat = trg_out.view(-1)\n",
    "            correct = (pred.view(-1) == trg_out_flat).sum().item()\n",
    "            total_correct += correct\n",
    "            total_samples += trg_out_flat.size(0)\n",
    "    accuracy = total_correct / total_samples\n",
    "    return accuracy"
   ]
  },
  {
   "cell_type": "code",
   "execution_count": 14,
   "id": "b04fb88b",
   "metadata": {
    "execution": {
     "iopub.execute_input": "2024-04-20T12:32:53.034956Z",
     "iopub.status.busy": "2024-04-20T12:32:53.034688Z",
     "iopub.status.idle": "2024-04-20T22:51:08.739524Z",
     "shell.execute_reply": "2024-04-20T22:51:08.738441Z"
    },
    "papermill": {
     "duration": 37095.715113,
     "end_time": "2024-04-20T22:51:08.741604",
     "exception": false,
     "start_time": "2024-04-20T12:32:53.026491",
     "status": "completed"
    },
    "tags": []
   },
   "outputs": [
    {
     "name": "stderr",
     "output_type": "stream",
     "text": [
      "train loss=2.388: 100%|██████████| 6915/6915 [02:55<00:00, 39.51it/s]\n"
     ]
    },
    {
     "name": "stdout",
     "output_type": "stream",
     "text": [
      "ep:1 train_loss=2.82825, valid_loss=2.28178, valid_accuracy=0.64939\n"
     ]
    },
    {
     "name": "stderr",
     "output_type": "stream",
     "text": [
      "train loss=2.378: 100%|██████████| 6915/6915 [02:53<00:00, 39.91it/s]\n"
     ]
    },
    {
     "name": "stdout",
     "output_type": "stream",
     "text": [
      "ep:2 train_loss=2.14908, valid_loss=1.94630, valid_accuracy=0.68124\n"
     ]
    },
    {
     "name": "stderr",
     "output_type": "stream",
     "text": [
      "train loss=1.718: 100%|██████████| 6915/6915 [02:53<00:00, 39.80it/s]\n"
     ]
    },
    {
     "name": "stdout",
     "output_type": "stream",
     "text": [
      "ep:3 train_loss=1.87740, valid_loss=1.70783, valid_accuracy=0.70681\n"
     ]
    },
    {
     "name": "stderr",
     "output_type": "stream",
     "text": [
      "train loss=1.528: 100%|██████████| 6915/6915 [02:54<00:00, 39.57it/s]\n"
     ]
    },
    {
     "name": "stdout",
     "output_type": "stream",
     "text": [
      "ep:4 train_loss=1.67656, valid_loss=1.51227, valid_accuracy=0.73059\n"
     ]
    },
    {
     "name": "stderr",
     "output_type": "stream",
     "text": [
      "train loss=1.562: 100%|██████████| 6915/6915 [02:54<00:00, 39.60it/s]\n"
     ]
    },
    {
     "name": "stdout",
     "output_type": "stream",
     "text": [
      "ep:5 train_loss=1.50871, valid_loss=1.36293, valid_accuracy=0.75231\n"
     ]
    },
    {
     "name": "stderr",
     "output_type": "stream",
     "text": [
      "train loss=1.633: 100%|██████████| 6915/6915 [02:54<00:00, 39.74it/s]\n"
     ]
    },
    {
     "name": "stdout",
     "output_type": "stream",
     "text": [
      "ep:6 train_loss=1.36771, valid_loss=1.24135, valid_accuracy=0.76922\n"
     ]
    },
    {
     "name": "stderr",
     "output_type": "stream",
     "text": [
      "train loss=1.448: 100%|██████████| 6915/6915 [02:54<00:00, 39.68it/s]\n"
     ]
    },
    {
     "name": "stdout",
     "output_type": "stream",
     "text": [
      "ep:7 train_loss=1.24841, valid_loss=1.13761, valid_accuracy=0.78498\n"
     ]
    },
    {
     "name": "stderr",
     "output_type": "stream",
     "text": [
      "train loss=1.003: 100%|██████████| 6915/6915 [02:54<00:00, 39.74it/s]\n"
     ]
    },
    {
     "name": "stdout",
     "output_type": "stream",
     "text": [
      "ep:8 train_loss=1.14983, valid_loss=1.05926, valid_accuracy=0.79774\n"
     ]
    },
    {
     "name": "stderr",
     "output_type": "stream",
     "text": [
      "train loss=1.053: 100%|██████████| 6915/6915 [02:54<00:00, 39.53it/s]\n"
     ]
    },
    {
     "name": "stdout",
     "output_type": "stream",
     "text": [
      "ep:9 train_loss=1.06717, valid_loss=1.00346, valid_accuracy=0.80706\n"
     ]
    },
    {
     "name": "stderr",
     "output_type": "stream",
     "text": [
      "train loss=1.077: 100%|██████████| 6915/6915 [02:54<00:00, 39.63it/s]\n"
     ]
    },
    {
     "name": "stdout",
     "output_type": "stream",
     "text": [
      "ep:10 train_loss=0.99893, valid_loss=0.94947, valid_accuracy=0.81479\n"
     ]
    },
    {
     "name": "stderr",
     "output_type": "stream",
     "text": [
      "train loss=1.007: 100%|██████████| 6915/6915 [02:55<00:00, 39.39it/s]\n"
     ]
    },
    {
     "name": "stdout",
     "output_type": "stream",
     "text": [
      "ep:11 train_loss=0.94470, valid_loss=0.90211, valid_accuracy=0.82206\n"
     ]
    },
    {
     "name": "stderr",
     "output_type": "stream",
     "text": [
      "train loss=0.790: 100%|██████████| 6915/6915 [02:53<00:00, 39.93it/s]\n"
     ]
    },
    {
     "name": "stdout",
     "output_type": "stream",
     "text": [
      "ep:12 train_loss=0.89562, valid_loss=0.86816, valid_accuracy=0.82722\n"
     ]
    },
    {
     "name": "stderr",
     "output_type": "stream",
     "text": [
      "train loss=0.891: 100%|██████████| 6915/6915 [02:55<00:00, 39.43it/s]\n"
     ]
    },
    {
     "name": "stdout",
     "output_type": "stream",
     "text": [
      "ep:13 train_loss=0.85298, valid_loss=0.84249, valid_accuracy=0.83135\n"
     ]
    },
    {
     "name": "stderr",
     "output_type": "stream",
     "text": [
      "train loss=0.881: 100%|██████████| 6915/6915 [02:55<00:00, 39.31it/s]\n"
     ]
    },
    {
     "name": "stdout",
     "output_type": "stream",
     "text": [
      "ep:14 train_loss=0.81320, valid_loss=0.81253, valid_accuracy=0.83694\n"
     ]
    },
    {
     "name": "stderr",
     "output_type": "stream",
     "text": [
      "train loss=0.698: 100%|██████████| 6915/6915 [02:54<00:00, 39.55it/s]\n"
     ]
    },
    {
     "name": "stdout",
     "output_type": "stream",
     "text": [
      "ep:15 train_loss=0.78226, valid_loss=0.79067, valid_accuracy=0.84031\n"
     ]
    },
    {
     "name": "stderr",
     "output_type": "stream",
     "text": [
      "train loss=0.939: 100%|██████████| 6915/6915 [02:54<00:00, 39.63it/s]\n"
     ]
    },
    {
     "name": "stdout",
     "output_type": "stream",
     "text": [
      "ep:16 train_loss=0.75558, valid_loss=0.76982, valid_accuracy=0.84457\n"
     ]
    },
    {
     "name": "stderr",
     "output_type": "stream",
     "text": [
      "train loss=0.554: 100%|██████████| 6915/6915 [02:54<00:00, 39.57it/s]\n"
     ]
    },
    {
     "name": "stdout",
     "output_type": "stream",
     "text": [
      "ep:17 train_loss=0.72698, valid_loss=0.75589, valid_accuracy=0.84789\n"
     ]
    },
    {
     "name": "stderr",
     "output_type": "stream",
     "text": [
      "train loss=0.606: 100%|██████████| 6915/6915 [02:54<00:00, 39.74it/s]\n"
     ]
    },
    {
     "name": "stdout",
     "output_type": "stream",
     "text": [
      "ep:18 train_loss=0.70317, valid_loss=0.73782, valid_accuracy=0.85013\n"
     ]
    },
    {
     "name": "stderr",
     "output_type": "stream",
     "text": [
      "train loss=0.629: 100%|██████████| 6915/6915 [02:55<00:00, 39.33it/s]\n"
     ]
    },
    {
     "name": "stdout",
     "output_type": "stream",
     "text": [
      "ep:19 train_loss=0.68178, valid_loss=0.72516, valid_accuracy=0.85149\n"
     ]
    },
    {
     "name": "stderr",
     "output_type": "stream",
     "text": [
      "train loss=1.070: 100%|██████████| 6915/6915 [02:55<00:00, 39.49it/s]\n"
     ]
    },
    {
     "name": "stdout",
     "output_type": "stream",
     "text": [
      "ep:20 train_loss=0.66331, valid_loss=0.71594, valid_accuracy=0.85415\n"
     ]
    },
    {
     "name": "stderr",
     "output_type": "stream",
     "text": [
      "train loss=0.526: 100%|██████████| 6915/6915 [02:55<00:00, 39.47it/s]\n"
     ]
    },
    {
     "name": "stdout",
     "output_type": "stream",
     "text": [
      "ep:21 train_loss=0.64385, valid_loss=0.70215, valid_accuracy=0.85653\n"
     ]
    },
    {
     "name": "stderr",
     "output_type": "stream",
     "text": [
      "train loss=0.746: 100%|██████████| 6915/6915 [02:52<00:00, 39.98it/s]\n"
     ]
    },
    {
     "name": "stdout",
     "output_type": "stream",
     "text": [
      "ep:22 train_loss=0.62945, valid_loss=0.69590, valid_accuracy=0.85802\n"
     ]
    },
    {
     "name": "stderr",
     "output_type": "stream",
     "text": [
      "train loss=0.459: 100%|██████████| 6915/6915 [02:55<00:00, 39.36it/s]\n"
     ]
    },
    {
     "name": "stdout",
     "output_type": "stream",
     "text": [
      "ep:23 train_loss=0.61507, valid_loss=0.69028, valid_accuracy=0.85967\n"
     ]
    },
    {
     "name": "stderr",
     "output_type": "stream",
     "text": [
      "train loss=0.499: 100%|██████████| 6915/6915 [02:56<00:00, 39.23it/s]\n"
     ]
    },
    {
     "name": "stdout",
     "output_type": "stream",
     "text": [
      "ep:24 train_loss=0.60038, valid_loss=0.67880, valid_accuracy=0.86187\n"
     ]
    },
    {
     "name": "stderr",
     "output_type": "stream",
     "text": [
      "train loss=0.598: 100%|██████████| 6915/6915 [02:55<00:00, 39.51it/s]\n"
     ]
    },
    {
     "name": "stdout",
     "output_type": "stream",
     "text": [
      "ep:25 train_loss=0.58745, valid_loss=0.66999, valid_accuracy=0.86247\n"
     ]
    },
    {
     "name": "stderr",
     "output_type": "stream",
     "text": [
      "train loss=0.524: 100%|██████████| 6915/6915 [02:54<00:00, 39.67it/s]\n"
     ]
    },
    {
     "name": "stdout",
     "output_type": "stream",
     "text": [
      "ep:26 train_loss=0.57616, valid_loss=0.66895, valid_accuracy=0.86380\n"
     ]
    },
    {
     "name": "stderr",
     "output_type": "stream",
     "text": [
      "train loss=0.351: 100%|██████████| 6915/6915 [02:55<00:00, 39.44it/s]\n"
     ]
    },
    {
     "name": "stdout",
     "output_type": "stream",
     "text": [
      "ep:27 train_loss=0.56330, valid_loss=0.66136, valid_accuracy=0.86479\n"
     ]
    },
    {
     "name": "stderr",
     "output_type": "stream",
     "text": [
      "train loss=0.773: 100%|██████████| 6915/6915 [02:55<00:00, 39.45it/s]\n"
     ]
    },
    {
     "name": "stdout",
     "output_type": "stream",
     "text": [
      "ep:28 train_loss=0.55299, valid_loss=0.65385, valid_accuracy=0.86591\n"
     ]
    },
    {
     "name": "stderr",
     "output_type": "stream",
     "text": [
      "train loss=0.295: 100%|██████████| 6915/6915 [02:55<00:00, 39.44it/s]\n"
     ]
    },
    {
     "name": "stdout",
     "output_type": "stream",
     "text": [
      "ep:29 train_loss=0.54204, valid_loss=0.65463, valid_accuracy=0.86652\n"
     ]
    },
    {
     "name": "stderr",
     "output_type": "stream",
     "text": [
      "train loss=0.517: 100%|██████████| 6915/6915 [02:54<00:00, 39.52it/s]\n"
     ]
    },
    {
     "name": "stdout",
     "output_type": "stream",
     "text": [
      "ep:30 train_loss=0.53282, valid_loss=0.64782, valid_accuracy=0.86712\n"
     ]
    },
    {
     "name": "stderr",
     "output_type": "stream",
     "text": [
      "train loss=0.753: 100%|██████████| 6915/6915 [02:55<00:00, 39.46it/s]\n"
     ]
    },
    {
     "name": "stdout",
     "output_type": "stream",
     "text": [
      "ep:31 train_loss=0.52380, valid_loss=0.64128, valid_accuracy=0.86806\n"
     ]
    },
    {
     "name": "stderr",
     "output_type": "stream",
     "text": [
      "train loss=0.410: 100%|██████████| 6915/6915 [02:55<00:00, 39.46it/s]\n"
     ]
    },
    {
     "name": "stdout",
     "output_type": "stream",
     "text": [
      "ep:32 train_loss=0.51712, valid_loss=0.63942, valid_accuracy=0.86980\n"
     ]
    },
    {
     "name": "stderr",
     "output_type": "stream",
     "text": [
      "train loss=0.377: 100%|██████████| 6915/6915 [02:56<00:00, 39.17it/s]\n"
     ]
    },
    {
     "name": "stdout",
     "output_type": "stream",
     "text": [
      "ep:33 train_loss=0.50796, valid_loss=0.63725, valid_accuracy=0.86980\n"
     ]
    },
    {
     "name": "stderr",
     "output_type": "stream",
     "text": [
      "train loss=0.510: 100%|██████████| 6915/6915 [02:54<00:00, 39.54it/s]\n"
     ]
    },
    {
     "name": "stdout",
     "output_type": "stream",
     "text": [
      "ep:34 train_loss=0.49900, valid_loss=0.63506, valid_accuracy=0.87021\n"
     ]
    },
    {
     "name": "stderr",
     "output_type": "stream",
     "text": [
      "train loss=0.357: 100%|██████████| 6915/6915 [02:54<00:00, 39.61it/s]\n"
     ]
    },
    {
     "name": "stdout",
     "output_type": "stream",
     "text": [
      "ep:35 train_loss=0.49262, valid_loss=0.62853, valid_accuracy=0.87106\n"
     ]
    },
    {
     "name": "stderr",
     "output_type": "stream",
     "text": [
      "train loss=0.659: 100%|██████████| 6915/6915 [02:54<00:00, 39.59it/s]\n"
     ]
    },
    {
     "name": "stdout",
     "output_type": "stream",
     "text": [
      "ep:36 train_loss=0.48731, valid_loss=0.62568, valid_accuracy=0.87179\n"
     ]
    },
    {
     "name": "stderr",
     "output_type": "stream",
     "text": [
      "train loss=0.472: 100%|██████████| 6915/6915 [02:56<00:00, 39.07it/s]\n"
     ]
    },
    {
     "name": "stdout",
     "output_type": "stream",
     "text": [
      "ep:37 train_loss=0.47932, valid_loss=0.62693, valid_accuracy=0.87210\n"
     ]
    },
    {
     "name": "stderr",
     "output_type": "stream",
     "text": [
      "train loss=0.424: 100%|██████████| 6915/6915 [02:56<00:00, 39.11it/s]\n"
     ]
    },
    {
     "name": "stdout",
     "output_type": "stream",
     "text": [
      "ep:38 train_loss=0.47391, valid_loss=0.62173, valid_accuracy=0.87304\n"
     ]
    },
    {
     "name": "stderr",
     "output_type": "stream",
     "text": [
      "train loss=0.385: 100%|██████████| 6915/6915 [02:55<00:00, 39.38it/s]\n"
     ]
    },
    {
     "name": "stdout",
     "output_type": "stream",
     "text": [
      "ep:39 train_loss=0.46569, valid_loss=0.61992, valid_accuracy=0.87319\n"
     ]
    },
    {
     "name": "stderr",
     "output_type": "stream",
     "text": [
      "train loss=0.487: 100%|██████████| 6915/6915 [02:56<00:00, 39.18it/s]\n"
     ]
    },
    {
     "name": "stdout",
     "output_type": "stream",
     "text": [
      "ep:40 train_loss=0.46070, valid_loss=0.61721, valid_accuracy=0.87360\n"
     ]
    },
    {
     "name": "stderr",
     "output_type": "stream",
     "text": [
      "train loss=0.341: 100%|██████████| 6915/6915 [02:56<00:00, 39.29it/s]\n"
     ]
    },
    {
     "name": "stdout",
     "output_type": "stream",
     "text": [
      "ep:41 train_loss=0.45599, valid_loss=0.61761, valid_accuracy=0.87482\n"
     ]
    },
    {
     "name": "stderr",
     "output_type": "stream",
     "text": [
      "train loss=0.321: 100%|██████████| 6915/6915 [02:55<00:00, 39.37it/s]\n"
     ]
    },
    {
     "name": "stdout",
     "output_type": "stream",
     "text": [
      "ep:42 train_loss=0.44909, valid_loss=0.61939, valid_accuracy=0.87477\n"
     ]
    },
    {
     "name": "stderr",
     "output_type": "stream",
     "text": [
      "train loss=0.354: 100%|██████████| 6915/6915 [02:56<00:00, 39.18it/s]\n"
     ]
    },
    {
     "name": "stdout",
     "output_type": "stream",
     "text": [
      "ep:43 train_loss=0.44401, valid_loss=0.61484, valid_accuracy=0.87534\n"
     ]
    },
    {
     "name": "stderr",
     "output_type": "stream",
     "text": [
      "train loss=0.401: 100%|██████████| 6915/6915 [02:54<00:00, 39.52it/s]\n"
     ]
    },
    {
     "name": "stdout",
     "output_type": "stream",
     "text": [
      "ep:44 train_loss=0.43968, valid_loss=0.61490, valid_accuracy=0.87621\n"
     ]
    },
    {
     "name": "stderr",
     "output_type": "stream",
     "text": [
      "train loss=0.391: 100%|██████████| 6915/6915 [02:57<00:00, 39.02it/s]\n"
     ]
    },
    {
     "name": "stdout",
     "output_type": "stream",
     "text": [
      "ep:45 train_loss=0.43492, valid_loss=0.61556, valid_accuracy=0.87509\n"
     ]
    },
    {
     "name": "stderr",
     "output_type": "stream",
     "text": [
      "train loss=0.427: 100%|██████████| 6915/6915 [02:54<00:00, 39.60it/s]\n"
     ]
    },
    {
     "name": "stdout",
     "output_type": "stream",
     "text": [
      "ep:46 train_loss=0.42962, valid_loss=0.61062, valid_accuracy=0.87594\n"
     ]
    },
    {
     "name": "stderr",
     "output_type": "stream",
     "text": [
      "train loss=0.383: 100%|██████████| 6915/6915 [02:54<00:00, 39.71it/s]\n"
     ]
    },
    {
     "name": "stdout",
     "output_type": "stream",
     "text": [
      "ep:47 train_loss=0.42499, valid_loss=0.61287, valid_accuracy=0.87626\n"
     ]
    },
    {
     "name": "stderr",
     "output_type": "stream",
     "text": [
      "train loss=0.570: 100%|██████████| 6915/6915 [02:54<00:00, 39.52it/s]\n"
     ]
    },
    {
     "name": "stdout",
     "output_type": "stream",
     "text": [
      "ep:48 train_loss=0.42192, valid_loss=0.60821, valid_accuracy=0.87748\n"
     ]
    },
    {
     "name": "stderr",
     "output_type": "stream",
     "text": [
      "train loss=0.488: 100%|██████████| 6915/6915 [02:54<00:00, 39.61it/s]\n"
     ]
    },
    {
     "name": "stdout",
     "output_type": "stream",
     "text": [
      "ep:49 train_loss=0.41619, valid_loss=0.60973, valid_accuracy=0.87675\n"
     ]
    },
    {
     "name": "stderr",
     "output_type": "stream",
     "text": [
      "train loss=0.406: 100%|██████████| 6915/6915 [02:55<00:00, 39.41it/s]\n"
     ]
    },
    {
     "name": "stdout",
     "output_type": "stream",
     "text": [
      "ep:50 train_loss=0.41261, valid_loss=0.61033, valid_accuracy=0.87810\n"
     ]
    },
    {
     "name": "stderr",
     "output_type": "stream",
     "text": [
      "train loss=0.427: 100%|██████████| 6915/6915 [02:56<00:00, 39.28it/s]\n"
     ]
    },
    {
     "name": "stdout",
     "output_type": "stream",
     "text": [
      "ep:51 train_loss=0.40850, valid_loss=0.60348, valid_accuracy=0.87776\n"
     ]
    },
    {
     "name": "stderr",
     "output_type": "stream",
     "text": [
      "train loss=0.435: 100%|██████████| 6915/6915 [02:54<00:00, 39.66it/s]\n"
     ]
    },
    {
     "name": "stdout",
     "output_type": "stream",
     "text": [
      "ep:52 train_loss=0.40423, valid_loss=0.61038, valid_accuracy=0.87821\n"
     ]
    },
    {
     "name": "stderr",
     "output_type": "stream",
     "text": [
      "train loss=0.538: 100%|██████████| 6915/6915 [02:55<00:00, 39.36it/s]\n"
     ]
    },
    {
     "name": "stdout",
     "output_type": "stream",
     "text": [
      "ep:53 train_loss=0.40186, valid_loss=0.61171, valid_accuracy=0.87725\n"
     ]
    },
    {
     "name": "stderr",
     "output_type": "stream",
     "text": [
      "train loss=0.394: 100%|██████████| 6915/6915 [02:56<00:00, 39.28it/s]\n"
     ]
    },
    {
     "name": "stdout",
     "output_type": "stream",
     "text": [
      "ep:54 train_loss=0.39742, valid_loss=0.60609, valid_accuracy=0.87761\n"
     ]
    },
    {
     "name": "stderr",
     "output_type": "stream",
     "text": [
      "train loss=0.448: 100%|██████████| 6915/6915 [02:56<00:00, 39.25it/s]\n"
     ]
    },
    {
     "name": "stdout",
     "output_type": "stream",
     "text": [
      "ep:55 train_loss=0.39372, valid_loss=0.60805, valid_accuracy=0.87858\n"
     ]
    },
    {
     "name": "stderr",
     "output_type": "stream",
     "text": [
      "train loss=0.555: 100%|██████████| 6915/6915 [02:54<00:00, 39.57it/s]\n"
     ]
    },
    {
     "name": "stdout",
     "output_type": "stream",
     "text": [
      "ep:56 train_loss=0.39022, valid_loss=0.60424, valid_accuracy=0.87849\n"
     ]
    },
    {
     "name": "stderr",
     "output_type": "stream",
     "text": [
      "train loss=0.196: 100%|██████████| 6915/6915 [02:54<00:00, 39.52it/s]\n"
     ]
    },
    {
     "name": "stdout",
     "output_type": "stream",
     "text": [
      "ep:57 train_loss=0.38714, valid_loss=0.60367, valid_accuracy=0.87901\n"
     ]
    },
    {
     "name": "stderr",
     "output_type": "stream",
     "text": [
      "train loss=0.306: 100%|██████████| 6915/6915 [02:56<00:00, 39.21it/s]\n"
     ]
    },
    {
     "name": "stdout",
     "output_type": "stream",
     "text": [
      "ep:58 train_loss=0.38277, valid_loss=0.60038, valid_accuracy=0.87935\n"
     ]
    },
    {
     "name": "stderr",
     "output_type": "stream",
     "text": [
      "train loss=0.306: 100%|██████████| 6915/6915 [02:53<00:00, 39.76it/s]\n"
     ]
    },
    {
     "name": "stdout",
     "output_type": "stream",
     "text": [
      "ep:59 train_loss=0.38104, valid_loss=0.60349, valid_accuracy=0.88004\n"
     ]
    },
    {
     "name": "stderr",
     "output_type": "stream",
     "text": [
      "train loss=0.507: 100%|██████████| 6915/6915 [02:54<00:00, 39.67it/s]\n"
     ]
    },
    {
     "name": "stdout",
     "output_type": "stream",
     "text": [
      "ep:60 train_loss=0.37747, valid_loss=0.60436, valid_accuracy=0.87972\n"
     ]
    },
    {
     "name": "stderr",
     "output_type": "stream",
     "text": [
      "train loss=0.582: 100%|██████████| 6915/6915 [02:55<00:00, 39.42it/s]\n"
     ]
    },
    {
     "name": "stdout",
     "output_type": "stream",
     "text": [
      "ep:61 train_loss=0.37405, valid_loss=0.60550, valid_accuracy=0.87993\n"
     ]
    },
    {
     "name": "stderr",
     "output_type": "stream",
     "text": [
      "train loss=0.334: 100%|██████████| 6915/6915 [02:55<00:00, 39.34it/s]\n"
     ]
    },
    {
     "name": "stdout",
     "output_type": "stream",
     "text": [
      "ep:62 train_loss=0.37132, valid_loss=0.60603, valid_accuracy=0.88043\n"
     ]
    },
    {
     "name": "stderr",
     "output_type": "stream",
     "text": [
      "train loss=0.402: 100%|██████████| 6915/6915 [02:56<00:00, 39.26it/s]\n"
     ]
    },
    {
     "name": "stdout",
     "output_type": "stream",
     "text": [
      "ep:63 train_loss=0.36813, valid_loss=0.60397, valid_accuracy=0.88022\n"
     ]
    },
    {
     "name": "stderr",
     "output_type": "stream",
     "text": [
      "train loss=0.414: 100%|██████████| 6915/6915 [02:54<00:00, 39.56it/s]\n"
     ]
    },
    {
     "name": "stdout",
     "output_type": "stream",
     "text": [
      "ep:64 train_loss=0.36591, valid_loss=0.59961, valid_accuracy=0.88046\n"
     ]
    },
    {
     "name": "stderr",
     "output_type": "stream",
     "text": [
      "train loss=0.360: 100%|██████████| 6915/6915 [02:53<00:00, 39.91it/s]\n"
     ]
    },
    {
     "name": "stdout",
     "output_type": "stream",
     "text": [
      "ep:65 train_loss=0.36249, valid_loss=0.60483, valid_accuracy=0.88035\n"
     ]
    },
    {
     "name": "stderr",
     "output_type": "stream",
     "text": [
      "train loss=0.302: 100%|██████████| 6915/6915 [02:56<00:00, 39.14it/s]\n"
     ]
    },
    {
     "name": "stdout",
     "output_type": "stream",
     "text": [
      "ep:66 train_loss=0.35937, valid_loss=0.60047, valid_accuracy=0.88100\n"
     ]
    },
    {
     "name": "stderr",
     "output_type": "stream",
     "text": [
      "train loss=0.388: 100%|██████████| 6915/6915 [02:54<00:00, 39.66it/s]\n"
     ]
    },
    {
     "name": "stdout",
     "output_type": "stream",
     "text": [
      "ep:67 train_loss=0.35744, valid_loss=0.60630, valid_accuracy=0.88146\n"
     ]
    },
    {
     "name": "stderr",
     "output_type": "stream",
     "text": [
      "train loss=0.320: 100%|██████████| 6915/6915 [02:56<00:00, 39.27it/s]\n"
     ]
    },
    {
     "name": "stdout",
     "output_type": "stream",
     "text": [
      "ep:68 train_loss=0.35466, valid_loss=0.60075, valid_accuracy=0.88173\n"
     ]
    },
    {
     "name": "stderr",
     "output_type": "stream",
     "text": [
      "train loss=0.555: 100%|██████████| 6915/6915 [02:56<00:00, 39.28it/s]\n"
     ]
    },
    {
     "name": "stdout",
     "output_type": "stream",
     "text": [
      "ep:69 train_loss=0.35322, valid_loss=0.60382, valid_accuracy=0.88047\n"
     ]
    },
    {
     "name": "stderr",
     "output_type": "stream",
     "text": [
      "train loss=0.150: 100%|██████████| 6915/6915 [02:54<00:00, 39.72it/s]\n"
     ]
    },
    {
     "name": "stdout",
     "output_type": "stream",
     "text": [
      "ep:70 train_loss=0.34989, valid_loss=0.60927, valid_accuracy=0.88089\n"
     ]
    },
    {
     "name": "stderr",
     "output_type": "stream",
     "text": [
      "train loss=0.340: 100%|██████████| 6915/6915 [02:56<00:00, 39.23it/s]\n"
     ]
    },
    {
     "name": "stdout",
     "output_type": "stream",
     "text": [
      "ep:71 train_loss=0.34705, valid_loss=0.60666, valid_accuracy=0.88202\n"
     ]
    },
    {
     "name": "stderr",
     "output_type": "stream",
     "text": [
      "train loss=0.365: 100%|██████████| 6915/6915 [02:55<00:00, 39.36it/s]\n"
     ]
    },
    {
     "name": "stdout",
     "output_type": "stream",
     "text": [
      "ep:72 train_loss=0.34479, valid_loss=0.60706, valid_accuracy=0.88277\n"
     ]
    },
    {
     "name": "stderr",
     "output_type": "stream",
     "text": [
      "train loss=0.296: 100%|██████████| 6915/6915 [02:55<00:00, 39.49it/s]\n"
     ]
    },
    {
     "name": "stdout",
     "output_type": "stream",
     "text": [
      "ep:73 train_loss=0.34309, valid_loss=0.60516, valid_accuracy=0.88231\n"
     ]
    },
    {
     "name": "stderr",
     "output_type": "stream",
     "text": [
      "train loss=0.404: 100%|██████████| 6915/6915 [02:54<00:00, 39.71it/s]\n"
     ]
    },
    {
     "name": "stdout",
     "output_type": "stream",
     "text": [
      "ep:74 train_loss=0.34035, valid_loss=0.60076, valid_accuracy=0.88263\n"
     ]
    },
    {
     "name": "stderr",
     "output_type": "stream",
     "text": [
      "train loss=0.379: 100%|██████████| 6915/6915 [02:54<00:00, 39.69it/s]\n"
     ]
    },
    {
     "name": "stdout",
     "output_type": "stream",
     "text": [
      "ep:75 train_loss=0.33837, valid_loss=0.60001, valid_accuracy=0.88200\n"
     ]
    },
    {
     "name": "stderr",
     "output_type": "stream",
     "text": [
      "train loss=0.260: 100%|██████████| 6915/6915 [02:53<00:00, 39.74it/s]\n"
     ]
    },
    {
     "name": "stdout",
     "output_type": "stream",
     "text": [
      "ep:76 train_loss=0.33658, valid_loss=0.60543, valid_accuracy=0.88118\n"
     ]
    },
    {
     "name": "stderr",
     "output_type": "stream",
     "text": [
      "train loss=0.345: 100%|██████████| 6915/6915 [02:54<00:00, 39.53it/s]\n"
     ]
    },
    {
     "name": "stdout",
     "output_type": "stream",
     "text": [
      "ep:77 train_loss=0.33345, valid_loss=0.60511, valid_accuracy=0.88188\n"
     ]
    },
    {
     "name": "stderr",
     "output_type": "stream",
     "text": [
      "train loss=0.413: 100%|██████████| 6915/6915 [02:56<00:00, 39.09it/s]\n"
     ]
    },
    {
     "name": "stdout",
     "output_type": "stream",
     "text": [
      "ep:78 train_loss=0.33182, valid_loss=0.60578, valid_accuracy=0.88259\n"
     ]
    },
    {
     "name": "stderr",
     "output_type": "stream",
     "text": [
      "train loss=0.333: 100%|██████████| 6915/6915 [02:57<00:00, 39.04it/s]\n"
     ]
    },
    {
     "name": "stdout",
     "output_type": "stream",
     "text": [
      "ep:79 train_loss=0.33037, valid_loss=0.60892, valid_accuracy=0.88290\n"
     ]
    },
    {
     "name": "stderr",
     "output_type": "stream",
     "text": [
      "train loss=0.254: 100%|██████████| 6915/6915 [02:55<00:00, 39.30it/s]\n"
     ]
    },
    {
     "name": "stdout",
     "output_type": "stream",
     "text": [
      "ep:80 train_loss=0.32802, valid_loss=0.60636, valid_accuracy=0.88294\n"
     ]
    },
    {
     "name": "stderr",
     "output_type": "stream",
     "text": [
      "train loss=0.358: 100%|██████████| 6915/6915 [02:57<00:00, 38.89it/s]\n"
     ]
    },
    {
     "name": "stdout",
     "output_type": "stream",
     "text": [
      "ep:81 train_loss=0.32550, valid_loss=0.60247, valid_accuracy=0.88288\n"
     ]
    },
    {
     "name": "stderr",
     "output_type": "stream",
     "text": [
      "train loss=0.502: 100%|██████████| 6915/6915 [02:53<00:00, 39.76it/s]\n"
     ]
    },
    {
     "name": "stdout",
     "output_type": "stream",
     "text": [
      "ep:82 train_loss=0.32410, valid_loss=0.60432, valid_accuracy=0.88277\n"
     ]
    },
    {
     "name": "stderr",
     "output_type": "stream",
     "text": [
      "train loss=0.210: 100%|██████████| 6915/6915 [02:59<00:00, 38.61it/s]\n"
     ]
    },
    {
     "name": "stdout",
     "output_type": "stream",
     "text": [
      "ep:83 train_loss=0.32176, valid_loss=0.61107, valid_accuracy=0.88308\n"
     ]
    },
    {
     "name": "stderr",
     "output_type": "stream",
     "text": [
      "train loss=0.323: 100%|██████████| 6915/6915 [02:54<00:00, 39.61it/s]\n"
     ]
    },
    {
     "name": "stdout",
     "output_type": "stream",
     "text": [
      "ep:84 train_loss=0.32012, valid_loss=0.61049, valid_accuracy=0.88268\n"
     ]
    },
    {
     "name": "stderr",
     "output_type": "stream",
     "text": [
      "train loss=0.478: 100%|██████████| 6915/6915 [02:55<00:00, 39.49it/s]\n"
     ]
    },
    {
     "name": "stdout",
     "output_type": "stream",
     "text": [
      "ep:85 train_loss=0.31945, valid_loss=0.60775, valid_accuracy=0.88350\n"
     ]
    },
    {
     "name": "stderr",
     "output_type": "stream",
     "text": [
      "train loss=0.321: 100%|██████████| 6915/6915 [02:55<00:00, 39.46it/s]\n"
     ]
    },
    {
     "name": "stdout",
     "output_type": "stream",
     "text": [
      "ep:86 train_loss=0.31606, valid_loss=0.60358, valid_accuracy=0.88366\n"
     ]
    },
    {
     "name": "stderr",
     "output_type": "stream",
     "text": [
      "train loss=0.412: 100%|██████████| 6915/6915 [02:54<00:00, 39.64it/s]\n"
     ]
    },
    {
     "name": "stdout",
     "output_type": "stream",
     "text": [
      "ep:87 train_loss=0.31387, valid_loss=0.60765, valid_accuracy=0.88329\n"
     ]
    },
    {
     "name": "stderr",
     "output_type": "stream",
     "text": [
      "train loss=0.445: 100%|██████████| 6915/6915 [02:54<00:00, 39.57it/s]\n"
     ]
    },
    {
     "name": "stdout",
     "output_type": "stream",
     "text": [
      "ep:88 train_loss=0.31331, valid_loss=0.60616, valid_accuracy=0.88315\n"
     ]
    },
    {
     "name": "stderr",
     "output_type": "stream",
     "text": [
      "train loss=0.411: 100%|██████████| 6915/6915 [02:56<00:00, 39.15it/s]\n"
     ]
    },
    {
     "name": "stdout",
     "output_type": "stream",
     "text": [
      "ep:89 train_loss=0.31084, valid_loss=0.60949, valid_accuracy=0.88318\n"
     ]
    },
    {
     "name": "stderr",
     "output_type": "stream",
     "text": [
      "train loss=0.382: 100%|██████████| 6915/6915 [02:53<00:00, 39.84it/s]\n"
     ]
    },
    {
     "name": "stdout",
     "output_type": "stream",
     "text": [
      "ep:90 train_loss=0.31004, valid_loss=0.60618, valid_accuracy=0.88431\n"
     ]
    },
    {
     "name": "stderr",
     "output_type": "stream",
     "text": [
      "train loss=0.384: 100%|██████████| 6915/6915 [02:56<00:00, 39.28it/s]\n"
     ]
    },
    {
     "name": "stdout",
     "output_type": "stream",
     "text": [
      "ep:91 train_loss=0.30716, valid_loss=0.60573, valid_accuracy=0.88392\n"
     ]
    },
    {
     "name": "stderr",
     "output_type": "stream",
     "text": [
      "train loss=0.360: 100%|██████████| 6915/6915 [02:54<00:00, 39.55it/s]\n"
     ]
    },
    {
     "name": "stdout",
     "output_type": "stream",
     "text": [
      "ep:92 train_loss=0.30637, valid_loss=0.61184, valid_accuracy=0.88382\n"
     ]
    },
    {
     "name": "stderr",
     "output_type": "stream",
     "text": [
      "train loss=0.183: 100%|██████████| 6915/6915 [02:55<00:00, 39.46it/s]\n"
     ]
    },
    {
     "name": "stdout",
     "output_type": "stream",
     "text": [
      "ep:93 train_loss=0.30445, valid_loss=0.60713, valid_accuracy=0.88451\n"
     ]
    },
    {
     "name": "stderr",
     "output_type": "stream",
     "text": [
      "train loss=0.327: 100%|██████████| 6915/6915 [02:54<00:00, 39.70it/s]\n"
     ]
    },
    {
     "name": "stdout",
     "output_type": "stream",
     "text": [
      "ep:94 train_loss=0.30302, valid_loss=0.60797, valid_accuracy=0.88471\n"
     ]
    },
    {
     "name": "stderr",
     "output_type": "stream",
     "text": [
      "train loss=0.238: 100%|██████████| 6915/6915 [02:54<00:00, 39.52it/s]\n"
     ]
    },
    {
     "name": "stdout",
     "output_type": "stream",
     "text": [
      "ep:95 train_loss=0.30144, valid_loss=0.60443, valid_accuracy=0.88346\n"
     ]
    },
    {
     "name": "stderr",
     "output_type": "stream",
     "text": [
      "train loss=0.347: 100%|██████████| 6915/6915 [02:55<00:00, 39.41it/s]\n"
     ]
    },
    {
     "name": "stdout",
     "output_type": "stream",
     "text": [
      "ep:96 train_loss=0.30021, valid_loss=0.61066, valid_accuracy=0.88304\n"
     ]
    },
    {
     "name": "stderr",
     "output_type": "stream",
     "text": [
      "train loss=0.245: 100%|██████████| 6915/6915 [02:54<00:00, 39.71it/s]\n"
     ]
    },
    {
     "name": "stdout",
     "output_type": "stream",
     "text": [
      "ep:97 train_loss=0.29870, valid_loss=0.61645, valid_accuracy=0.88424\n"
     ]
    },
    {
     "name": "stderr",
     "output_type": "stream",
     "text": [
      "train loss=0.265: 100%|██████████| 6915/6915 [02:55<00:00, 39.49it/s]\n"
     ]
    },
    {
     "name": "stdout",
     "output_type": "stream",
     "text": [
      "ep:98 train_loss=0.29681, valid_loss=0.61146, valid_accuracy=0.88354\n"
     ]
    },
    {
     "name": "stderr",
     "output_type": "stream",
     "text": [
      "train loss=0.358: 100%|██████████| 6915/6915 [02:53<00:00, 39.96it/s]\n"
     ]
    },
    {
     "name": "stdout",
     "output_type": "stream",
     "text": [
      "ep:99 train_loss=0.29666, valid_loss=0.61251, valid_accuracy=0.88426\n"
     ]
    },
    {
     "name": "stderr",
     "output_type": "stream",
     "text": [
      "train loss=0.316: 100%|██████████| 6915/6915 [02:54<00:00, 39.64it/s]\n"
     ]
    },
    {
     "name": "stdout",
     "output_type": "stream",
     "text": [
      "ep:100 train_loss=0.29413, valid_loss=0.61327, valid_accuracy=0.88326\n"
     ]
    },
    {
     "name": "stderr",
     "output_type": "stream",
     "text": [
      "train loss=0.260: 100%|██████████| 6915/6915 [02:53<00:00, 39.78it/s]\n"
     ]
    },
    {
     "name": "stdout",
     "output_type": "stream",
     "text": [
      "ep:101 train_loss=0.29284, valid_loss=0.61479, valid_accuracy=0.88492\n"
     ]
    },
    {
     "name": "stderr",
     "output_type": "stream",
     "text": [
      "train loss=0.230: 100%|██████████| 6915/6915 [02:54<00:00, 39.52it/s]\n"
     ]
    },
    {
     "name": "stdout",
     "output_type": "stream",
     "text": [
      "ep:102 train_loss=0.29059, valid_loss=0.61353, valid_accuracy=0.88311\n"
     ]
    },
    {
     "name": "stderr",
     "output_type": "stream",
     "text": [
      "train loss=0.266: 100%|██████████| 6915/6915 [02:54<00:00, 39.65it/s]\n"
     ]
    },
    {
     "name": "stdout",
     "output_type": "stream",
     "text": [
      "ep:103 train_loss=0.28963, valid_loss=0.61417, valid_accuracy=0.88477\n"
     ]
    },
    {
     "name": "stderr",
     "output_type": "stream",
     "text": [
      "train loss=0.281: 100%|██████████| 6915/6915 [02:54<00:00, 39.68it/s]\n"
     ]
    },
    {
     "name": "stdout",
     "output_type": "stream",
     "text": [
      "ep:104 train_loss=0.28882, valid_loss=0.61345, valid_accuracy=0.88390\n"
     ]
    },
    {
     "name": "stderr",
     "output_type": "stream",
     "text": [
      "train loss=0.267: 100%|██████████| 6915/6915 [02:55<00:00, 39.42it/s]\n"
     ]
    },
    {
     "name": "stdout",
     "output_type": "stream",
     "text": [
      "ep:105 train_loss=0.28733, valid_loss=0.61556, valid_accuracy=0.88434\n"
     ]
    },
    {
     "name": "stderr",
     "output_type": "stream",
     "text": [
      "train loss=0.293: 100%|██████████| 6915/6915 [02:53<00:00, 39.90it/s]\n"
     ]
    },
    {
     "name": "stdout",
     "output_type": "stream",
     "text": [
      "ep:106 train_loss=0.28637, valid_loss=0.61314, valid_accuracy=0.88465\n"
     ]
    },
    {
     "name": "stderr",
     "output_type": "stream",
     "text": [
      "train loss=0.384: 100%|██████████| 6915/6915 [02:53<00:00, 39.90it/s]\n"
     ]
    },
    {
     "name": "stdout",
     "output_type": "stream",
     "text": [
      "ep:107 train_loss=0.28498, valid_loss=0.61625, valid_accuracy=0.88423\n"
     ]
    },
    {
     "name": "stderr",
     "output_type": "stream",
     "text": [
      "train loss=0.498: 100%|██████████| 6915/6915 [02:56<00:00, 39.22it/s]\n"
     ]
    },
    {
     "name": "stdout",
     "output_type": "stream",
     "text": [
      "ep:108 train_loss=0.28318, valid_loss=0.61836, valid_accuracy=0.88486\n"
     ]
    },
    {
     "name": "stderr",
     "output_type": "stream",
     "text": [
      "train loss=0.297: 100%|██████████| 6915/6915 [02:53<00:00, 39.97it/s]\n"
     ]
    },
    {
     "name": "stdout",
     "output_type": "stream",
     "text": [
      "ep:109 train_loss=0.28247, valid_loss=0.61717, valid_accuracy=0.88400\n"
     ]
    },
    {
     "name": "stderr",
     "output_type": "stream",
     "text": [
      "train loss=0.328: 100%|██████████| 6915/6915 [02:54<00:00, 39.57it/s]\n"
     ]
    },
    {
     "name": "stdout",
     "output_type": "stream",
     "text": [
      "ep:110 train_loss=0.27987, valid_loss=0.61931, valid_accuracy=0.88451\n"
     ]
    },
    {
     "name": "stderr",
     "output_type": "stream",
     "text": [
      "train loss=0.373: 100%|██████████| 6915/6915 [02:54<00:00, 39.55it/s]\n"
     ]
    },
    {
     "name": "stdout",
     "output_type": "stream",
     "text": [
      "ep:111 train_loss=0.28005, valid_loss=0.61738, valid_accuracy=0.88417\n"
     ]
    },
    {
     "name": "stderr",
     "output_type": "stream",
     "text": [
      "train loss=0.334: 100%|██████████| 6915/6915 [02:53<00:00, 39.86it/s]\n"
     ]
    },
    {
     "name": "stdout",
     "output_type": "stream",
     "text": [
      "ep:112 train_loss=0.27879, valid_loss=0.62114, valid_accuracy=0.88428\n"
     ]
    },
    {
     "name": "stderr",
     "output_type": "stream",
     "text": [
      "train loss=0.203: 100%|██████████| 6915/6915 [02:55<00:00, 39.47it/s]\n"
     ]
    },
    {
     "name": "stdout",
     "output_type": "stream",
     "text": [
      "ep:113 train_loss=0.27657, valid_loss=0.61860, valid_accuracy=0.88369\n"
     ]
    },
    {
     "name": "stderr",
     "output_type": "stream",
     "text": [
      "train loss=0.215: 100%|██████████| 6915/6915 [02:53<00:00, 39.92it/s]\n"
     ]
    },
    {
     "name": "stdout",
     "output_type": "stream",
     "text": [
      "ep:114 train_loss=0.27641, valid_loss=0.61713, valid_accuracy=0.88520\n"
     ]
    },
    {
     "name": "stderr",
     "output_type": "stream",
     "text": [
      "train loss=0.363: 100%|██████████| 6915/6915 [02:53<00:00, 39.90it/s]\n"
     ]
    },
    {
     "name": "stdout",
     "output_type": "stream",
     "text": [
      "ep:115 train_loss=0.27488, valid_loss=0.61978, valid_accuracy=0.88573\n"
     ]
    },
    {
     "name": "stderr",
     "output_type": "stream",
     "text": [
      "train loss=0.388: 100%|██████████| 6915/6915 [02:53<00:00, 39.82it/s]\n"
     ]
    },
    {
     "name": "stdout",
     "output_type": "stream",
     "text": [
      "ep:116 train_loss=0.27391, valid_loss=0.62002, valid_accuracy=0.88474\n"
     ]
    },
    {
     "name": "stderr",
     "output_type": "stream",
     "text": [
      "train loss=0.470: 100%|██████████| 6915/6915 [02:56<00:00, 39.23it/s]\n"
     ]
    },
    {
     "name": "stdout",
     "output_type": "stream",
     "text": [
      "ep:117 train_loss=0.27176, valid_loss=0.61681, valid_accuracy=0.88493\n"
     ]
    },
    {
     "name": "stderr",
     "output_type": "stream",
     "text": [
      "train loss=0.165: 100%|██████████| 6915/6915 [02:54<00:00, 39.55it/s]\n"
     ]
    },
    {
     "name": "stdout",
     "output_type": "stream",
     "text": [
      "ep:118 train_loss=0.27132, valid_loss=0.61949, valid_accuracy=0.88520\n"
     ]
    },
    {
     "name": "stderr",
     "output_type": "stream",
     "text": [
      "train loss=0.162: 100%|██████████| 6915/6915 [02:53<00:00, 39.96it/s]\n"
     ]
    },
    {
     "name": "stdout",
     "output_type": "stream",
     "text": [
      "ep:119 train_loss=0.27067, valid_loss=0.62467, valid_accuracy=0.88543\n"
     ]
    },
    {
     "name": "stderr",
     "output_type": "stream",
     "text": [
      "train loss=0.341: 100%|██████████| 6915/6915 [02:56<00:00, 39.29it/s]\n"
     ]
    },
    {
     "name": "stdout",
     "output_type": "stream",
     "text": [
      "ep:120 train_loss=0.26962, valid_loss=0.61621, valid_accuracy=0.88510\n"
     ]
    },
    {
     "name": "stderr",
     "output_type": "stream",
     "text": [
      "train loss=0.290: 100%|██████████| 6915/6915 [02:54<00:00, 39.64it/s]\n"
     ]
    },
    {
     "name": "stdout",
     "output_type": "stream",
     "text": [
      "ep:121 train_loss=0.26786, valid_loss=0.62214, valid_accuracy=0.88453\n"
     ]
    },
    {
     "name": "stderr",
     "output_type": "stream",
     "text": [
      "train loss=0.282: 100%|██████████| 6915/6915 [02:55<00:00, 39.49it/s]\n"
     ]
    },
    {
     "name": "stdout",
     "output_type": "stream",
     "text": [
      "ep:122 train_loss=0.26687, valid_loss=0.62281, valid_accuracy=0.88626\n"
     ]
    },
    {
     "name": "stderr",
     "output_type": "stream",
     "text": [
      "train loss=0.268: 100%|██████████| 6915/6915 [02:54<00:00, 39.53it/s]\n"
     ]
    },
    {
     "name": "stdout",
     "output_type": "stream",
     "text": [
      "ep:123 train_loss=0.26666, valid_loss=0.62128, valid_accuracy=0.88631\n"
     ]
    },
    {
     "name": "stderr",
     "output_type": "stream",
     "text": [
      "train loss=0.264: 100%|██████████| 6915/6915 [02:56<00:00, 39.27it/s]\n"
     ]
    },
    {
     "name": "stdout",
     "output_type": "stream",
     "text": [
      "ep:124 train_loss=0.26529, valid_loss=0.62565, valid_accuracy=0.88468\n"
     ]
    },
    {
     "name": "stderr",
     "output_type": "stream",
     "text": [
      "train loss=0.288: 100%|██████████| 6915/6915 [02:54<00:00, 39.55it/s]\n"
     ]
    },
    {
     "name": "stdout",
     "output_type": "stream",
     "text": [
      "ep:125 train_loss=0.26474, valid_loss=0.61643, valid_accuracy=0.88590\n"
     ]
    },
    {
     "name": "stderr",
     "output_type": "stream",
     "text": [
      "train loss=0.128: 100%|██████████| 6915/6915 [02:55<00:00, 39.39it/s]\n"
     ]
    },
    {
     "name": "stdout",
     "output_type": "stream",
     "text": [
      "ep:126 train_loss=0.26258, valid_loss=0.62055, valid_accuracy=0.88606\n"
     ]
    },
    {
     "name": "stderr",
     "output_type": "stream",
     "text": [
      "train loss=0.324: 100%|██████████| 6915/6915 [02:54<00:00, 39.56it/s]\n"
     ]
    },
    {
     "name": "stdout",
     "output_type": "stream",
     "text": [
      "ep:127 train_loss=0.26164, valid_loss=0.62528, valid_accuracy=0.88496\n"
     ]
    },
    {
     "name": "stderr",
     "output_type": "stream",
     "text": [
      "train loss=0.343: 100%|██████████| 6915/6915 [02:55<00:00, 39.46it/s]\n"
     ]
    },
    {
     "name": "stdout",
     "output_type": "stream",
     "text": [
      "ep:128 train_loss=0.26062, valid_loss=0.62639, valid_accuracy=0.88548\n"
     ]
    },
    {
     "name": "stderr",
     "output_type": "stream",
     "text": [
      "train loss=0.192: 100%|██████████| 6915/6915 [02:53<00:00, 39.85it/s]\n"
     ]
    },
    {
     "name": "stdout",
     "output_type": "stream",
     "text": [
      "ep:129 train_loss=0.25905, valid_loss=0.62327, valid_accuracy=0.88544\n"
     ]
    },
    {
     "name": "stderr",
     "output_type": "stream",
     "text": [
      "train loss=0.222: 100%|██████████| 6915/6915 [02:54<00:00, 39.71it/s]\n"
     ]
    },
    {
     "name": "stdout",
     "output_type": "stream",
     "text": [
      "ep:130 train_loss=0.25865, valid_loss=0.62819, valid_accuracy=0.88589\n"
     ]
    },
    {
     "name": "stderr",
     "output_type": "stream",
     "text": [
      "train loss=0.191: 100%|██████████| 6915/6915 [02:53<00:00, 39.77it/s]\n"
     ]
    },
    {
     "name": "stdout",
     "output_type": "stream",
     "text": [
      "ep:131 train_loss=0.25819, valid_loss=0.62601, valid_accuracy=0.88525\n"
     ]
    },
    {
     "name": "stderr",
     "output_type": "stream",
     "text": [
      "train loss=0.350: 100%|██████████| 6915/6915 [02:55<00:00, 39.47it/s]\n"
     ]
    },
    {
     "name": "stdout",
     "output_type": "stream",
     "text": [
      "ep:132 train_loss=0.25709, valid_loss=0.62802, valid_accuracy=0.88542\n"
     ]
    },
    {
     "name": "stderr",
     "output_type": "stream",
     "text": [
      "train loss=0.269: 100%|██████████| 6915/6915 [02:53<00:00, 39.76it/s]\n"
     ]
    },
    {
     "name": "stdout",
     "output_type": "stream",
     "text": [
      "ep:133 train_loss=0.25599, valid_loss=0.62794, valid_accuracy=0.88540\n"
     ]
    },
    {
     "name": "stderr",
     "output_type": "stream",
     "text": [
      "train loss=0.157: 100%|██████████| 6915/6915 [02:53<00:00, 39.86it/s]\n"
     ]
    },
    {
     "name": "stdout",
     "output_type": "stream",
     "text": [
      "ep:134 train_loss=0.25487, valid_loss=0.63066, valid_accuracy=0.88519\n"
     ]
    },
    {
     "name": "stderr",
     "output_type": "stream",
     "text": [
      "train loss=0.249: 100%|██████████| 6915/6915 [02:54<00:00, 39.68it/s]\n"
     ]
    },
    {
     "name": "stdout",
     "output_type": "stream",
     "text": [
      "ep:135 train_loss=0.25418, valid_loss=0.62750, valid_accuracy=0.88547\n"
     ]
    },
    {
     "name": "stderr",
     "output_type": "stream",
     "text": [
      "train loss=0.364: 100%|██████████| 6915/6915 [02:52<00:00, 40.00it/s]\n"
     ]
    },
    {
     "name": "stdout",
     "output_type": "stream",
     "text": [
      "ep:136 train_loss=0.25346, valid_loss=0.62648, valid_accuracy=0.88596\n"
     ]
    },
    {
     "name": "stderr",
     "output_type": "stream",
     "text": [
      "train loss=0.152: 100%|██████████| 6915/6915 [02:52<00:00, 40.03it/s]\n"
     ]
    },
    {
     "name": "stdout",
     "output_type": "stream",
     "text": [
      "ep:137 train_loss=0.25285, valid_loss=0.62612, valid_accuracy=0.88571\n"
     ]
    },
    {
     "name": "stderr",
     "output_type": "stream",
     "text": [
      "train loss=0.222: 100%|██████████| 6915/6915 [02:52<00:00, 40.08it/s]\n"
     ]
    },
    {
     "name": "stdout",
     "output_type": "stream",
     "text": [
      "ep:138 train_loss=0.25100, valid_loss=0.62633, valid_accuracy=0.88608\n"
     ]
    },
    {
     "name": "stderr",
     "output_type": "stream",
     "text": [
      "train loss=0.319: 100%|██████████| 6915/6915 [02:55<00:00, 39.42it/s]\n"
     ]
    },
    {
     "name": "stdout",
     "output_type": "stream",
     "text": [
      "ep:139 train_loss=0.25069, valid_loss=0.63146, valid_accuracy=0.88663\n"
     ]
    },
    {
     "name": "stderr",
     "output_type": "stream",
     "text": [
      "train loss=0.191: 100%|██████████| 6915/6915 [02:54<00:00, 39.56it/s]\n"
     ]
    },
    {
     "name": "stdout",
     "output_type": "stream",
     "text": [
      "ep:140 train_loss=0.24957, valid_loss=0.63393, valid_accuracy=0.88609\n"
     ]
    },
    {
     "name": "stderr",
     "output_type": "stream",
     "text": [
      "train loss=0.185: 100%|██████████| 6915/6915 [02:54<00:00, 39.57it/s]\n"
     ]
    },
    {
     "name": "stdout",
     "output_type": "stream",
     "text": [
      "ep:141 train_loss=0.24790, valid_loss=0.62986, valid_accuracy=0.88532\n"
     ]
    },
    {
     "name": "stderr",
     "output_type": "stream",
     "text": [
      "train loss=0.273: 100%|██████████| 6915/6915 [02:55<00:00, 39.42it/s]\n"
     ]
    },
    {
     "name": "stdout",
     "output_type": "stream",
     "text": [
      "ep:142 train_loss=0.24812, valid_loss=0.62494, valid_accuracy=0.88589\n"
     ]
    },
    {
     "name": "stderr",
     "output_type": "stream",
     "text": [
      "train loss=0.191: 100%|██████████| 6915/6915 [02:55<00:00, 39.48it/s]\n"
     ]
    },
    {
     "name": "stdout",
     "output_type": "stream",
     "text": [
      "ep:143 train_loss=0.24679, valid_loss=0.63492, valid_accuracy=0.88571\n"
     ]
    },
    {
     "name": "stderr",
     "output_type": "stream",
     "text": [
      "train loss=0.217: 100%|██████████| 6915/6915 [02:53<00:00, 39.85it/s]\n"
     ]
    },
    {
     "name": "stdout",
     "output_type": "stream",
     "text": [
      "ep:144 train_loss=0.24613, valid_loss=0.63037, valid_accuracy=0.88652\n"
     ]
    },
    {
     "name": "stderr",
     "output_type": "stream",
     "text": [
      "train loss=0.236: 100%|██████████| 6915/6915 [02:53<00:00, 39.76it/s]\n"
     ]
    },
    {
     "name": "stdout",
     "output_type": "stream",
     "text": [
      "ep:145 train_loss=0.24595, valid_loss=0.63296, valid_accuracy=0.88567\n"
     ]
    },
    {
     "name": "stderr",
     "output_type": "stream",
     "text": [
      "train loss=0.174: 100%|██████████| 6915/6915 [02:55<00:00, 39.41it/s]\n"
     ]
    },
    {
     "name": "stdout",
     "output_type": "stream",
     "text": [
      "ep:146 train_loss=0.24520, valid_loss=0.63374, valid_accuracy=0.88698\n"
     ]
    },
    {
     "name": "stderr",
     "output_type": "stream",
     "text": [
      "train loss=0.312: 100%|██████████| 6915/6915 [02:55<00:00, 39.36it/s]\n"
     ]
    },
    {
     "name": "stdout",
     "output_type": "stream",
     "text": [
      "ep:147 train_loss=0.24473, valid_loss=0.63526, valid_accuracy=0.88601\n"
     ]
    },
    {
     "name": "stderr",
     "output_type": "stream",
     "text": [
      "train loss=0.187: 100%|██████████| 6915/6915 [02:53<00:00, 39.95it/s]\n"
     ]
    },
    {
     "name": "stdout",
     "output_type": "stream",
     "text": [
      "ep:148 train_loss=0.24312, valid_loss=0.63112, valid_accuracy=0.88655\n"
     ]
    },
    {
     "name": "stderr",
     "output_type": "stream",
     "text": [
      "train loss=0.243: 100%|██████████| 6915/6915 [02:54<00:00, 39.60it/s]\n"
     ]
    },
    {
     "name": "stdout",
     "output_type": "stream",
     "text": [
      "ep:149 train_loss=0.24219, valid_loss=0.63470, valid_accuracy=0.88587\n"
     ]
    },
    {
     "name": "stderr",
     "output_type": "stream",
     "text": [
      "train loss=0.249: 100%|██████████| 6915/6915 [02:54<00:00, 39.54it/s]\n"
     ]
    },
    {
     "name": "stdout",
     "output_type": "stream",
     "text": [
      "ep:150 train_loss=0.24216, valid_loss=0.63255, valid_accuracy=0.88600\n"
     ]
    },
    {
     "name": "stderr",
     "output_type": "stream",
     "text": [
      "train loss=0.279: 100%|██████████| 6915/6915 [02:55<00:00, 39.42it/s]\n"
     ]
    },
    {
     "name": "stdout",
     "output_type": "stream",
     "text": [
      "ep:151 train_loss=0.24127, valid_loss=0.63246, valid_accuracy=0.88634\n"
     ]
    },
    {
     "name": "stderr",
     "output_type": "stream",
     "text": [
      "train loss=0.169: 100%|██████████| 6915/6915 [02:56<00:00, 39.20it/s]\n"
     ]
    },
    {
     "name": "stdout",
     "output_type": "stream",
     "text": [
      "ep:152 train_loss=0.23973, valid_loss=0.63857, valid_accuracy=0.88689\n"
     ]
    },
    {
     "name": "stderr",
     "output_type": "stream",
     "text": [
      "train loss=0.247: 100%|██████████| 6915/6915 [02:56<00:00, 39.13it/s]\n"
     ]
    },
    {
     "name": "stdout",
     "output_type": "stream",
     "text": [
      "ep:153 train_loss=0.23906, valid_loss=0.63810, valid_accuracy=0.88664\n"
     ]
    },
    {
     "name": "stderr",
     "output_type": "stream",
     "text": [
      "train loss=0.308: 100%|██████████| 6915/6915 [02:53<00:00, 39.88it/s]\n"
     ]
    },
    {
     "name": "stdout",
     "output_type": "stream",
     "text": [
      "ep:154 train_loss=0.23889, valid_loss=0.63577, valid_accuracy=0.88684\n"
     ]
    },
    {
     "name": "stderr",
     "output_type": "stream",
     "text": [
      "train loss=0.270: 100%|██████████| 6915/6915 [02:54<00:00, 39.65it/s]\n"
     ]
    },
    {
     "name": "stdout",
     "output_type": "stream",
     "text": [
      "ep:155 train_loss=0.23777, valid_loss=0.63773, valid_accuracy=0.88621\n"
     ]
    },
    {
     "name": "stderr",
     "output_type": "stream",
     "text": [
      "train loss=0.328: 100%|██████████| 6915/6915 [02:55<00:00, 39.36it/s]\n"
     ]
    },
    {
     "name": "stdout",
     "output_type": "stream",
     "text": [
      "ep:156 train_loss=0.23676, valid_loss=0.64078, valid_accuracy=0.88649\n"
     ]
    },
    {
     "name": "stderr",
     "output_type": "stream",
     "text": [
      "train loss=0.328: 100%|██████████| 6915/6915 [02:55<00:00, 39.49it/s]\n"
     ]
    },
    {
     "name": "stdout",
     "output_type": "stream",
     "text": [
      "ep:157 train_loss=0.23671, valid_loss=0.63913, valid_accuracy=0.88634\n"
     ]
    },
    {
     "name": "stderr",
     "output_type": "stream",
     "text": [
      "train loss=0.290: 100%|██████████| 6915/6915 [02:54<00:00, 39.70it/s]\n"
     ]
    },
    {
     "name": "stdout",
     "output_type": "stream",
     "text": [
      "ep:158 train_loss=0.23562, valid_loss=0.63783, valid_accuracy=0.88628\n"
     ]
    },
    {
     "name": "stderr",
     "output_type": "stream",
     "text": [
      "train loss=0.155: 100%|██████████| 6915/6915 [02:55<00:00, 39.33it/s]\n"
     ]
    },
    {
     "name": "stdout",
     "output_type": "stream",
     "text": [
      "ep:159 train_loss=0.23530, valid_loss=0.64085, valid_accuracy=0.88612\n"
     ]
    },
    {
     "name": "stderr",
     "output_type": "stream",
     "text": [
      "train loss=0.285: 100%|██████████| 6915/6915 [02:56<00:00, 39.25it/s]\n"
     ]
    },
    {
     "name": "stdout",
     "output_type": "stream",
     "text": [
      "ep:160 train_loss=0.23489, valid_loss=0.64158, valid_accuracy=0.88695\n"
     ]
    },
    {
     "name": "stderr",
     "output_type": "stream",
     "text": [
      "train loss=0.239: 100%|██████████| 6915/6915 [02:54<00:00, 39.55it/s]\n"
     ]
    },
    {
     "name": "stdout",
     "output_type": "stream",
     "text": [
      "ep:161 train_loss=0.23393, valid_loss=0.63753, valid_accuracy=0.88652\n"
     ]
    },
    {
     "name": "stderr",
     "output_type": "stream",
     "text": [
      "train loss=0.284: 100%|██████████| 6915/6915 [02:54<00:00, 39.72it/s]\n"
     ]
    },
    {
     "name": "stdout",
     "output_type": "stream",
     "text": [
      "ep:162 train_loss=0.23273, valid_loss=0.63896, valid_accuracy=0.88714\n"
     ]
    },
    {
     "name": "stderr",
     "output_type": "stream",
     "text": [
      "train loss=0.174: 100%|██████████| 6915/6915 [02:56<00:00, 39.07it/s]\n"
     ]
    },
    {
     "name": "stdout",
     "output_type": "stream",
     "text": [
      "ep:163 train_loss=0.23289, valid_loss=0.64153, valid_accuracy=0.88640\n"
     ]
    },
    {
     "name": "stderr",
     "output_type": "stream",
     "text": [
      "train loss=0.208: 100%|██████████| 6915/6915 [02:53<00:00, 39.83it/s]\n"
     ]
    },
    {
     "name": "stdout",
     "output_type": "stream",
     "text": [
      "ep:164 train_loss=0.23217, valid_loss=0.63676, valid_accuracy=0.88706\n"
     ]
    },
    {
     "name": "stderr",
     "output_type": "stream",
     "text": [
      "train loss=0.255: 100%|██████████| 6915/6915 [02:56<00:00, 39.22it/s]\n"
     ]
    },
    {
     "name": "stdout",
     "output_type": "stream",
     "text": [
      "ep:165 train_loss=0.23119, valid_loss=0.64395, valid_accuracy=0.88668\n"
     ]
    },
    {
     "name": "stderr",
     "output_type": "stream",
     "text": [
      "train loss=0.237: 100%|██████████| 6915/6915 [02:56<00:00, 39.28it/s]\n"
     ]
    },
    {
     "name": "stdout",
     "output_type": "stream",
     "text": [
      "ep:166 train_loss=0.23020, valid_loss=0.64724, valid_accuracy=0.88731\n"
     ]
    },
    {
     "name": "stderr",
     "output_type": "stream",
     "text": [
      "train loss=0.289: 100%|██████████| 6915/6915 [03:00<00:00, 38.22it/s]\n"
     ]
    },
    {
     "name": "stdout",
     "output_type": "stream",
     "text": [
      "ep:167 train_loss=0.22941, valid_loss=0.64537, valid_accuracy=0.88776\n"
     ]
    },
    {
     "name": "stderr",
     "output_type": "stream",
     "text": [
      "train loss=0.240: 100%|██████████| 6915/6915 [02:53<00:00, 39.91it/s]\n"
     ]
    },
    {
     "name": "stdout",
     "output_type": "stream",
     "text": [
      "ep:168 train_loss=0.22860, valid_loss=0.64169, valid_accuracy=0.88683\n"
     ]
    },
    {
     "name": "stderr",
     "output_type": "stream",
     "text": [
      "train loss=0.230: 100%|██████████| 6915/6915 [02:55<00:00, 39.39it/s]\n"
     ]
    },
    {
     "name": "stdout",
     "output_type": "stream",
     "text": [
      "ep:169 train_loss=0.22857, valid_loss=0.64680, valid_accuracy=0.88647\n"
     ]
    },
    {
     "name": "stderr",
     "output_type": "stream",
     "text": [
      "train loss=0.260: 100%|██████████| 6915/6915 [02:54<00:00, 39.64it/s]\n"
     ]
    },
    {
     "name": "stdout",
     "output_type": "stream",
     "text": [
      "ep:170 train_loss=0.22756, valid_loss=0.64108, valid_accuracy=0.88659\n"
     ]
    },
    {
     "name": "stderr",
     "output_type": "stream",
     "text": [
      "train loss=0.173: 100%|██████████| 6915/6915 [02:55<00:00, 39.35it/s]\n"
     ]
    },
    {
     "name": "stdout",
     "output_type": "stream",
     "text": [
      "ep:171 train_loss=0.22700, valid_loss=0.63988, valid_accuracy=0.88751\n"
     ]
    },
    {
     "name": "stderr",
     "output_type": "stream",
     "text": [
      "train loss=0.295: 100%|██████████| 6915/6915 [02:54<00:00, 39.65it/s]\n"
     ]
    },
    {
     "name": "stdout",
     "output_type": "stream",
     "text": [
      "ep:172 train_loss=0.22616, valid_loss=0.64038, valid_accuracy=0.88598\n"
     ]
    },
    {
     "name": "stderr",
     "output_type": "stream",
     "text": [
      "train loss=0.282: 100%|██████████| 6915/6915 [02:54<00:00, 39.73it/s]\n"
     ]
    },
    {
     "name": "stdout",
     "output_type": "stream",
     "text": [
      "ep:173 train_loss=0.22521, valid_loss=0.64452, valid_accuracy=0.88769\n"
     ]
    },
    {
     "name": "stderr",
     "output_type": "stream",
     "text": [
      "train loss=0.231: 100%|██████████| 6915/6915 [02:55<00:00, 39.44it/s]\n"
     ]
    },
    {
     "name": "stdout",
     "output_type": "stream",
     "text": [
      "ep:174 train_loss=0.22523, valid_loss=0.64741, valid_accuracy=0.88682\n"
     ]
    },
    {
     "name": "stderr",
     "output_type": "stream",
     "text": [
      "train loss=0.302: 100%|██████████| 6915/6915 [02:55<00:00, 39.43it/s]\n"
     ]
    },
    {
     "name": "stdout",
     "output_type": "stream",
     "text": [
      "ep:175 train_loss=0.22496, valid_loss=0.64505, valid_accuracy=0.88688\n"
     ]
    },
    {
     "name": "stderr",
     "output_type": "stream",
     "text": [
      "train loss=0.214: 100%|██████████| 6915/6915 [02:55<00:00, 39.34it/s]\n"
     ]
    },
    {
     "name": "stdout",
     "output_type": "stream",
     "text": [
      "ep:176 train_loss=0.22324, valid_loss=0.64492, valid_accuracy=0.88721\n"
     ]
    },
    {
     "name": "stderr",
     "output_type": "stream",
     "text": [
      "train loss=0.290: 100%|██████████| 6915/6915 [02:54<00:00, 39.54it/s]\n"
     ]
    },
    {
     "name": "stdout",
     "output_type": "stream",
     "text": [
      "ep:177 train_loss=0.22312, valid_loss=0.64185, valid_accuracy=0.88658\n"
     ]
    },
    {
     "name": "stderr",
     "output_type": "stream",
     "text": [
      "train loss=0.296: 100%|██████████| 6915/6915 [02:56<00:00, 39.10it/s]\n"
     ]
    },
    {
     "name": "stdout",
     "output_type": "stream",
     "text": [
      "ep:178 train_loss=0.22166, valid_loss=0.64613, valid_accuracy=0.88744\n"
     ]
    },
    {
     "name": "stderr",
     "output_type": "stream",
     "text": [
      "train loss=0.115: 100%|██████████| 6915/6915 [02:54<00:00, 39.53it/s]\n"
     ]
    },
    {
     "name": "stdout",
     "output_type": "stream",
     "text": [
      "ep:179 train_loss=0.22149, valid_loss=0.64846, valid_accuracy=0.88609\n"
     ]
    },
    {
     "name": "stderr",
     "output_type": "stream",
     "text": [
      "train loss=0.228: 100%|██████████| 6915/6915 [02:56<00:00, 39.25it/s]\n"
     ]
    },
    {
     "name": "stdout",
     "output_type": "stream",
     "text": [
      "ep:180 train_loss=0.22202, valid_loss=0.64912, valid_accuracy=0.88596\n"
     ]
    },
    {
     "name": "stderr",
     "output_type": "stream",
     "text": [
      "train loss=0.172: 100%|██████████| 6915/6915 [02:55<00:00, 39.30it/s]\n"
     ]
    },
    {
     "name": "stdout",
     "output_type": "stream",
     "text": [
      "ep:181 train_loss=0.22078, valid_loss=0.64942, valid_accuracy=0.88719\n"
     ]
    },
    {
     "name": "stderr",
     "output_type": "stream",
     "text": [
      "train loss=0.371: 100%|██████████| 6915/6915 [02:52<00:00, 40.10it/s]\n"
     ]
    },
    {
     "name": "stdout",
     "output_type": "stream",
     "text": [
      "ep:182 train_loss=0.22047, valid_loss=0.64922, valid_accuracy=0.88761\n"
     ]
    },
    {
     "name": "stderr",
     "output_type": "stream",
     "text": [
      "train loss=0.156: 100%|██████████| 6915/6915 [02:54<00:00, 39.74it/s]\n"
     ]
    },
    {
     "name": "stdout",
     "output_type": "stream",
     "text": [
      "ep:183 train_loss=0.22033, valid_loss=0.65263, valid_accuracy=0.88687\n"
     ]
    },
    {
     "name": "stderr",
     "output_type": "stream",
     "text": [
      "train loss=0.229: 100%|██████████| 6915/6915 [02:55<00:00, 39.39it/s]\n"
     ]
    },
    {
     "name": "stdout",
     "output_type": "stream",
     "text": [
      "ep:184 train_loss=0.21888, valid_loss=0.65091, valid_accuracy=0.88646\n"
     ]
    },
    {
     "name": "stderr",
     "output_type": "stream",
     "text": [
      "train loss=0.247: 100%|██████████| 6915/6915 [02:53<00:00, 39.94it/s]\n"
     ]
    },
    {
     "name": "stdout",
     "output_type": "stream",
     "text": [
      "ep:185 train_loss=0.21874, valid_loss=0.65148, valid_accuracy=0.88703\n"
     ]
    },
    {
     "name": "stderr",
     "output_type": "stream",
     "text": [
      "train loss=0.306: 100%|██████████| 6915/6915 [02:53<00:00, 39.81it/s]\n"
     ]
    },
    {
     "name": "stdout",
     "output_type": "stream",
     "text": [
      "ep:186 train_loss=0.21852, valid_loss=0.65404, valid_accuracy=0.88680\n"
     ]
    },
    {
     "name": "stderr",
     "output_type": "stream",
     "text": [
      "train loss=0.171: 100%|██████████| 6915/6915 [02:53<00:00, 39.77it/s]\n"
     ]
    },
    {
     "name": "stdout",
     "output_type": "stream",
     "text": [
      "ep:187 train_loss=0.21634, valid_loss=0.65117, valid_accuracy=0.88724\n"
     ]
    },
    {
     "name": "stderr",
     "output_type": "stream",
     "text": [
      "train loss=0.270: 100%|██████████| 6915/6915 [02:53<00:00, 39.95it/s]\n"
     ]
    },
    {
     "name": "stdout",
     "output_type": "stream",
     "text": [
      "ep:188 train_loss=0.21709, valid_loss=0.65125, valid_accuracy=0.88767\n"
     ]
    },
    {
     "name": "stderr",
     "output_type": "stream",
     "text": [
      "train loss=0.132: 100%|██████████| 6915/6915 [02:55<00:00, 39.44it/s]\n"
     ]
    },
    {
     "name": "stdout",
     "output_type": "stream",
     "text": [
      "ep:189 train_loss=0.21666, valid_loss=0.65046, valid_accuracy=0.88700\n"
     ]
    },
    {
     "name": "stderr",
     "output_type": "stream",
     "text": [
      "train loss=0.212: 100%|██████████| 6915/6915 [02:52<00:00, 39.99it/s]\n"
     ]
    },
    {
     "name": "stdout",
     "output_type": "stream",
     "text": [
      "ep:190 train_loss=0.21543, valid_loss=0.65496, valid_accuracy=0.88823\n"
     ]
    },
    {
     "name": "stderr",
     "output_type": "stream",
     "text": [
      "train loss=0.265: 100%|██████████| 6915/6915 [02:52<00:00, 39.98it/s]\n"
     ]
    },
    {
     "name": "stdout",
     "output_type": "stream",
     "text": [
      "ep:191 train_loss=0.21476, valid_loss=0.65183, valid_accuracy=0.88756\n"
     ]
    },
    {
     "name": "stderr",
     "output_type": "stream",
     "text": [
      "train loss=0.283: 100%|██████████| 6915/6915 [02:56<00:00, 39.20it/s]\n"
     ]
    },
    {
     "name": "stdout",
     "output_type": "stream",
     "text": [
      "ep:192 train_loss=0.21462, valid_loss=0.65119, valid_accuracy=0.88745\n"
     ]
    },
    {
     "name": "stderr",
     "output_type": "stream",
     "text": [
      "train loss=0.185: 100%|██████████| 6915/6915 [02:56<00:00, 39.08it/s]\n"
     ]
    },
    {
     "name": "stdout",
     "output_type": "stream",
     "text": [
      "ep:193 train_loss=0.21429, valid_loss=0.65504, valid_accuracy=0.88690\n"
     ]
    },
    {
     "name": "stderr",
     "output_type": "stream",
     "text": [
      "train loss=0.255: 100%|██████████| 6915/6915 [02:53<00:00, 39.95it/s]\n"
     ]
    },
    {
     "name": "stdout",
     "output_type": "stream",
     "text": [
      "ep:194 train_loss=0.21294, valid_loss=0.65687, valid_accuracy=0.88666\n"
     ]
    },
    {
     "name": "stderr",
     "output_type": "stream",
     "text": [
      "train loss=0.165: 100%|██████████| 6915/6915 [02:53<00:00, 39.86it/s]\n"
     ]
    },
    {
     "name": "stdout",
     "output_type": "stream",
     "text": [
      "ep:195 train_loss=0.21310, valid_loss=0.65528, valid_accuracy=0.88601\n"
     ]
    },
    {
     "name": "stderr",
     "output_type": "stream",
     "text": [
      "train loss=0.171: 100%|██████████| 6915/6915 [02:55<00:00, 39.33it/s]\n"
     ]
    },
    {
     "name": "stdout",
     "output_type": "stream",
     "text": [
      "ep:196 train_loss=0.21208, valid_loss=0.65484, valid_accuracy=0.88759\n"
     ]
    },
    {
     "name": "stderr",
     "output_type": "stream",
     "text": [
      "train loss=0.213: 100%|██████████| 6915/6915 [02:54<00:00, 39.62it/s]\n"
     ]
    },
    {
     "name": "stdout",
     "output_type": "stream",
     "text": [
      "ep:197 train_loss=0.21203, valid_loss=0.65602, valid_accuracy=0.88769\n"
     ]
    },
    {
     "name": "stderr",
     "output_type": "stream",
     "text": [
      "train loss=0.132: 100%|██████████| 6915/6915 [02:54<00:00, 39.73it/s]\n"
     ]
    },
    {
     "name": "stdout",
     "output_type": "stream",
     "text": [
      "ep:198 train_loss=0.21133, valid_loss=0.65554, valid_accuracy=0.88772\n"
     ]
    },
    {
     "name": "stderr",
     "output_type": "stream",
     "text": [
      "train loss=0.274: 100%|██████████| 6915/6915 [02:55<00:00, 39.43it/s]\n"
     ]
    },
    {
     "name": "stdout",
     "output_type": "stream",
     "text": [
      "ep:199 train_loss=0.21117, valid_loss=0.65636, valid_accuracy=0.88744\n"
     ]
    },
    {
     "name": "stderr",
     "output_type": "stream",
     "text": [
      "train loss=0.418: 100%|██████████| 6915/6915 [02:53<00:00, 39.83it/s]\n"
     ]
    },
    {
     "name": "stdout",
     "output_type": "stream",
     "text": [
      "ep:200 train_loss=0.21077, valid_loss=0.65566, valid_accuracy=0.88731\n"
     ]
    }
   ],
   "source": [
    "config = ModelConfig(encoder_vocab_size = vocab_sizes[SRC],\n",
    "                     decoder_vocab_size=vocab_sizes[TRG],\n",
    "                     d_embed=128,\n",
    "                     d_ff=1024,\n",
    "                     h=1,\n",
    "                     N_encoder=3,\n",
    "                     N_decoder=3,\n",
    "                     max_seq_len=max_seq_len,\n",
    "                     dropout=0.1\n",
    "                     )\n",
    "\n",
    "\n",
    "# Initialize model\n",
    "model = make_model(config)\n",
    "\n",
    "# Define loss function\n",
    "loss_fn = nn.CrossEntropyLoss()\n",
    "\n",
    "# Initialize optimizer\n",
    "optimizer = torch.optim.Adam(model.parameters(), lr=0.0001)\n",
    "\n",
    "dataloaders = Dataloaders()\n",
    "\n",
    "# Set up training loop\n",
    "num_epochs = 200\n",
    "train_losses = []\n",
    "valid_losses = []\n",
    "valid_accuracies = []\n",
    "\n",
    "for epoch in range(num_epochs):\n",
    "\n",
    "    best_valid_loss = float('inf')\n",
    "    train_size = len(dataloaders.train_loader) * batch_size\n",
    "    train_loss = train_epoch(model, dataloaders)\n",
    "    train_losses.append(train_loss)\n",
    "    valid_loss = validate(model, dataloaders.valid_loader)\n",
    "    valid_losses.append(valid_loss)\n",
    "\n",
    "    # Calculate validation accuracy\n",
    "    valid_accuracy = compute_accuracy(model, dataloaders.valid_loader)\n",
    "    valid_accuracies.append(valid_accuracy)\n",
    "\n",
    "\n",
    "    print(f'ep:{epoch+1} train_loss={train_loss:.5f}, valid_loss={valid_loss:.5f}, valid_accuracy={valid_accuracy:.5f}')\n",
    "    if valid_loss < best_valid_loss:\n",
    "        best_valid_loss = valid_loss\n",
    "\n",
    "\n",
    "# print(\"train set examples:\")\n",
    "# train_bleu = evaluate(model, dataloaders.train_loader, 20)\n",
    "# print(\"validation set examples:\")\n",
    "# valid_bleu = evaluate(model, dataloaders.valid_loader)\n",
    "# print(\"test set examples:\")\n",
    "# test_bleu  = evaluate(model, dataloaders.test_loader)\n"
   ]
  },
  {
   "cell_type": "code",
   "execution_count": 15,
   "id": "62dd0dd4",
   "metadata": {
    "execution": {
     "iopub.execute_input": "2024-04-20T22:52:03.708367Z",
     "iopub.status.busy": "2024-04-20T22:52:03.707825Z",
     "iopub.status.idle": "2024-04-20T22:52:04.098902Z",
     "shell.execute_reply": "2024-04-20T22:52:04.098009Z"
    },
    "papermill": {
     "duration": 27.97944,
     "end_time": "2024-04-20T22:52:04.101036",
     "exception": false,
     "start_time": "2024-04-20T22:51:36.121596",
     "status": "completed"
    },
    "tags": []
   },
   "outputs": [
    {
     "data": {
      "image/png": "[encoded data removed]",
      "text/plain": [
       "<Figure size 640x480 with 1 Axes>"
      ]
     },
     "metadata": {},
     "output_type": "display_data"
    }
   ],
   "source": [
    "# Plot epoch-wise training loss\n",
    "plt.plot(train_losses, label='Train Loss')\n",
    "plt.xlabel('Epoch')\n",
    "plt.ylabel('Loss')\n",
    "plt.title('Training Loss')\n",
    "plt.legend()\n",
    "plt.show()"
   ]
  },
  {
   "cell_type": "code",
   "execution_count": 16,
   "id": "f38e9f39",
   "metadata": {
    "execution": {
     "iopub.execute_input": "2024-04-20T22:52:58.555552Z",
     "iopub.status.busy": "2024-04-20T22:52:58.555175Z",
     "iopub.status.idle": "2024-04-20T22:52:58.851857Z",
     "shell.execute_reply": "2024-04-20T22:52:58.850971Z"
    },
    "papermill": {
     "duration": 27.501056,
     "end_time": "2024-04-20T22:52:58.853804",
     "exception": false,
     "start_time": "2024-04-20T22:52:31.352748",
     "status": "completed"
    },
    "tags": []
   },
   "outputs": [
    {
     "data": {
      "image/png": "[encoded data removed]",
      "text/plain": [
       "<Figure size 640x480 with 1 Axes>"
      ]
     },
     "metadata": {},
     "output_type": "display_data"
    }
   ],
   "source": [
    "plt.plot(valid_accuracies, label='Validation Accuracy')\n",
    "plt.xlabel('Epoch')\n",
    "plt.ylabel('Accuracy')\n",
    "plt.title('Validation Accuracy over Epochs')\n",
    "plt.legend()\n",
    "plt.show()"
   ]
  },
  {
   "cell_type": "code",
   "execution_count": 17,
   "id": "6a0ebf67",
   "metadata": {
    "execution": {
     "iopub.execute_input": "2024-04-20T22:53:53.833025Z",
     "iopub.status.busy": "2024-04-20T22:53:53.832665Z",
     "iopub.status.idle": "2024-04-20T22:53:53.888287Z",
     "shell.execute_reply": "2024-04-20T22:53:53.887410Z"
    },
    "papermill": {
     "duration": 27.289689,
     "end_time": "2024-04-20T22:53:53.890658",
     "exception": false,
     "start_time": "2024-04-20T22:53:26.600969",
     "status": "completed"
    },
    "tags": []
   },
   "outputs": [],
   "source": [
    "# Save the model\n",
    "torch.save(model.state_dict(),'transformer_model.pth')"
   ]
  },
  {
   "cell_type": "code",
   "execution_count": 18,
   "id": "252d4104",
   "metadata": {
    "execution": {
     "iopub.execute_input": "2024-04-20T22:54:49.103763Z",
     "iopub.status.busy": "2024-04-20T22:54:49.103391Z",
     "iopub.status.idle": "2024-04-20T22:55:11.401750Z",
     "shell.execute_reply": "2024-04-20T22:55:11.400799Z"
    },
    "papermill": {
     "duration": 50.224716,
     "end_time": "2024-04-20T22:55:11.403811",
     "exception": false,
     "start_time": "2024-04-20T22:54:21.179095",
     "status": "completed"
    },
    "tags": []
   },
   "outputs": [
    {
     "name": "stdout",
     "output_type": "stream",
     "text": [
      "Test Accuracy: 0.88600\n"
     ]
    }
   ],
   "source": [
    "# Load the state dictionary from the saved file\n",
    "\n",
    "# model.load_state_dict(torch.load('transformer_model.pth'))\n",
    "\n",
    "\n",
    "Test_accuracy = compute_accuracy(model, dataloaders.test_loader)\n",
    "\n",
    "print(f\"Test Accuracy: {Test_accuracy:.5f}\")"
   ]
  },
  {
   "cell_type": "code",
   "execution_count": 19,
   "id": "b742807a",
   "metadata": {
    "execution": {
     "iopub.execute_input": "2024-04-20T22:56:06.425376Z",
     "iopub.status.busy": "2024-04-20T22:56:06.425004Z",
     "iopub.status.idle": "2024-04-20T22:56:12.676601Z",
     "shell.execute_reply": "2024-04-20T22:56:12.675558Z"
    },
    "papermill": {
     "duration": 34.035419,
     "end_time": "2024-04-20T22:56:12.678738",
     "exception": false,
     "start_time": "2024-04-20T22:55:38.643319",
     "status": "completed"
    },
    "tags": []
   },
   "outputs": [
    {
     "name": "stdout",
     "output_type": "stream",
     "text": [
      "src:  ! I go there every year. \"\n",
      "trg:  J ' y vais tous les ans. \"\n",
      "pred: ! J ' y vais chaque année. \"\n",
      "src:  ! We often eat raw fish. \"\n",
      "trg:  Nous mangeons souvent du poisson cru. \"\n",
      "pred: ! Nous mangeons souvent du poisson cru. \"\n",
      "src:  ! I ' m sorry I hurt Tom. \"\n",
      "trg:  Je suis désolé d ' avoir blessé Tom. \"\n",
      "pred: ! Je suis désolé d ' avoir blessé Tom. \"\n",
      "Test BLEU Score: 46.9432\n"
     ]
    }
   ],
   "source": [
    "# Evaluate on test set\n",
    "test_bleu_score = evaluate(model, dataloaders.test_loader,20)\n",
    "print(f\"Test BLEU Score: {test_bleu_score:.4f}\")"
   ]
  },
  {
   "cell_type": "code",
   "execution_count": null,
   "id": "b1197adb",
   "metadata": {
    "papermill": {
     "duration": 27.266913,
     "end_time": "2024-04-20T22:57:07.471389",
     "exception": false,
     "start_time": "2024-04-20T22:56:40.204476",
     "status": "completed"
    },
    "tags": []
   },
   "outputs": [],
   "source": []
  }
 ],
 "metadata": {
  "kaggle": {
   "accelerator": "nvidiaTeslaT4",
   "dataSources": [
    {
     "datasetId": 4818134,
     "sourceId": 8147406,
     "sourceType": "datasetVersion"
    }
   ],
   "dockerImageVersionId": 30699,
   "isGpuEnabled": true,
   "isInternetEnabled": true,
   "language": "python",
   "sourceType": "notebook"
  },
  "kernelspec": {
   "display_name": "Python 3",
   "language": "python",
   "name": "python3"
  },
  "language_info": {
   "codemirror_mode": {
    "name": "ipython",
    "version": 3
   },
   "file_extension": ".py",
   "mimetype": "text/x-python",
   "name": "python",
   "nbconvert_exporter": "python",
   "pygments_lexer": "ipython3",
   "version": "3.10.13"
  },
  "papermill": {
   "default_parameters": {},
   "duration": 37516.937747,
   "end_time": "2024-04-20T22:57:37.410146",
   "environment_variables": {},
   "exception": null,
   "input_path": "__notebook__.ipynb",
   "output_path": "__notebook__.ipynb",
   "parameters": {},
   "start_time": "2024-04-20T12:32:20.472399",
   "version": "2.5.0"
  }
 },
 "nbformat": 4,
 "nbformat_minor": 5
}
